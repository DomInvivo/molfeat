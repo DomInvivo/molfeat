{
 "cells": [
  {
   "cell_type": "code",
   "execution_count": 1,
   "metadata": {},
   "outputs": [],
   "source": [
    "%load_ext autoreload\n",
    "%autoreload 2"
   ]
  },
  {
   "cell_type": "markdown",
   "metadata": {},
   "source": [
    "## One featurizer to rule them all?\n",
    "Contrary to many other machine learning domains, _molecular_ featurization (i.e. the process of transforming a molecule into a vector) lacks a good default. It remains unclear how we can effectively capture the richness of molecular data in a unified representation and what works best heavily depends on the nature and constraints of the task you are trying to model. It is therefore good practice to try different featurization schemes: From structural fingerprints, to physico-chemical descriptors and pre-trained embeddings.\n",
    "\n",
    "## Don't take our word for it\n",
    "To demonstrate the impact a featurizer can have, we setup two simple benchmarks.\n",
    "1. To demonstrate the impact on modeling, we will use two datasets from [MoleculeNet](https://moleculenet.org/datasets-1).\n",
    "2. To demonstrate the impact on search, we will use the [RDKit Benchmarking Platform](https://github.com/rdkit/benchmarking_platform).\n",
    "\n",
    "We will compare the performance of three different featurizers:\n",
    "- **ECFP6** [1]: Binary, circular fingerprints where each bit indicates the presence of particular substructures of a radius up to 3 bonds away from an atom.\n",
    "- **Mordred** [2]: Continuous descriptors with more than 1800 2D and 3D descriptors.\n",
    "- **ChemBERTa** [3]: Learned representations from a pre-trained SMILES transformer model.\n",
    "\n",
    "### Modeling\n",
    "We will compare the performance on two datasets using scikit-learn [AutoML](https://github.com/automl/auto-sklearn) [4, 5] models."
   ]
  },
  {
   "cell_type": "code",
   "execution_count": 2,
   "metadata": {},
   "outputs": [],
   "source": [
    "import os\n",
    "import numpy as np\n",
    "import pandas as pd\n",
    "import datamol as dm\n",
    "import autosklearn.classification\n",
    "import autosklearn.regression\n",
    "from sklearn.metrics import mean_absolute_error, roc_auc_score\n",
    "from sklearn.model_selection import GroupShuffleSplit\n",
    "from rdkit.Chem import SaltRemover\n",
    "\n",
    "from molfeat.trans.fp import FPVecTransformer\n",
    "from molfeat.trans.pretrained.hf_transformers import PretrainedHFTransformer"
   ]
  },
  {
   "cell_type": "code",
   "execution_count": 22,
   "metadata": {},
   "outputs": [],
   "source": [
    "def load_dataset(uri: str, readout_col: str):\n",
    "    \"\"\"Loads the MoleculeNet dataset\"\"\"\n",
    "    df = pd.read_csv(uri)\n",
    "    smiles = df[\"smiles\"].values\n",
    "    y = df[readout_col].values\n",
    "    return smiles, y\n",
    "\n",
    "\n",
    "def preprocess_smiles(smi):\n",
    "    \"\"\"Preprocesses the SMILES string\"\"\"\n",
    "    with dm.without_rdkit_log():\n",
    "        mol = dm.to_mol(smi, ordered=True, sanitize=False)\n",
    "        mol = dm.sanitize_mol(mol)\n",
    "        if mol is None: \n",
    "            return\n",
    "        \n",
    "        mol = dm.standardize_mol(mol, disconnect_metals=True)\n",
    "        remover = SaltRemover.SaltRemover()\n",
    "        mol = remover.StripMol(mol, dontRemoveEverything=True)\n",
    "\n",
    "    return dm.to_smiles(mol)\n",
    "\n",
    "\n",
    "def scaffold_split(smiles):\n",
    "    \"\"\"In line with common practice, we will use the scaffold split to evaluate our models\"\"\"\n",
    "    scaffolds = [dm.to_smiles(dm.to_scaffold_murcko(dm.to_mol(smi))) for smi in smiles]\n",
    "    splitter = GroupShuffleSplit(n_splits=1, test_size=0.2, random_state=42)\n",
    "    return next(splitter.split(smiles, groups=scaffolds))\n"
   ]
  },
  {
   "cell_type": "code",
   "execution_count": 4,
   "metadata": {},
   "outputs": [
    {
     "name": "stderr",
     "output_type": "stream",
     "text": [
      "/home/cas/local/conda/envs/molfeat-benchmark/lib/python3.9/site-packages/google/auth/_default.py:78: UserWarning: Your application has authenticated using end user credentials from Google Cloud SDK without a quota project. You might receive a \"quota exceeded\" or \"API not enabled\" error. See the following page for troubleshooting: https://cloud.google.com/docs/authentication/adc-troubleshooting/user-creds. \n",
      "  warnings.warn(_CLOUD_SDK_CREDENTIALS_WARNING)\n"
     ]
    }
   ],
   "source": [
    "# Setup the featurizers\n",
    "trans_ecfp = FPVecTransformer(kind=\"ecfp:6\", n_jobs=-1)\n",
    "trans_mordred = FPVecTransformer(kind=\"mordred\", replace_nan=True, n_jobs=-1)\n",
    "trans_chemberta = PretrainedHFTransformer(kind='ChemBERTa-77M-MLM', notation='smiles')"
   ]
  },
  {
   "cell_type": "markdown",
   "metadata": {},
   "source": [
    "#### Lipophilicity\n",
    "Lipophilicity is a regression task with 4200 molecules"
   ]
  },
  {
   "cell_type": "code",
   "execution_count": null,
   "metadata": {},
   "outputs": [],
   "source": [
    "# Prepare the Lipophilicity dataset\n",
    "smiles, y_true = load_dataset(\"https://deepchemdata.s3-us-west-1.amazonaws.com/datasets/Lipophilicity.csv\", \"exp\")\n",
    "smiles = np.array([preprocess_smiles(smi) for smi in smiles])\n",
    "smiles = np.array([smi for smi in smiles if smi != \"\"])\n",
    "\n",
    "X = {\n",
    "    \"ECFP\": trans_ecfp(smiles),\n",
    "    \"Mordred\": trans_mordred(smiles),\n",
    "    \"ChemBERTa\": trans_chemberta(smiles),\n",
    "}"
   ]
  },
  {
   "cell_type": "code",
   "execution_count": null,
   "metadata": {
    "scrolled": false
   },
   "outputs": [],
   "source": [
    "# To make the output less verbose: \n",
    "os.environ[\"TOKENIZERS_PARALLELISM\"] = \"false\"\n",
    "\n",
    "# Train a model\n",
    "train_ind, test_ind = scaffold_split(smiles)\n",
    "\n",
    "scores = {}\n",
    "for name, feats in X.items():\n",
    "    \n",
    "    # Train\n",
    "    automl = autosklearn.regression.AutoSklearnRegressor(\n",
    "        memory_limit=24576, \n",
    "        time_left_for_this_task=3600,\n",
    "        n_jobs=1\n",
    "    )\n",
    "    automl.fit(feats[train_ind], y_true[train_ind])\n",
    "    \n",
    "    # Predict and evaluate\n",
    "    y_hat = automl.predict(feats[test_ind])\n",
    "    \n",
    "    # Evaluate\n",
    "    mae = mean_absolute_error(y_true[test_ind], y_hat)\n",
    "    scores[name] = mae\n",
    "\n",
    "scores"
   ]
  },
  {
   "cell_type": "markdown",
   "metadata": {},
   "source": [
    "#### BBBP\n",
    "BBBP is a binary classification task with 2050 molecules"
   ]
  },
  {
   "cell_type": "code",
   "execution_count": 14,
   "metadata": {},
   "outputs": [
    {
     "name": "stderr",
     "output_type": "stream",
     "text": [
      "[18:08:04] WARNING: not removing hydrogen atom without neighbors\n",
      "[18:08:04] WARNING: not removing hydrogen atom without neighbors\n",
      "/home/cas/local/conda/envs/molfeat-benchmark/lib/python3.9/site-packages/joblib/externals/loky/process_executor.py:700: UserWarning: A worker stopped while some jobs were given to the executor. This can be caused by a too short worker timeout or by a memory leak.\n",
      "  warnings.warn(\n",
      "[18:08:05] WARNING: not removing hydrogen atom without neighbors\n",
      "[18:08:07] WARNING: not removing hydrogen atom without neighbors\n",
      "[18:08:07] WARNING: not removing hydrogen atom without neighbors\n",
      "[18:08:07] WARNING: not removing hydrogen atom without neighbors\n",
      "[18:08:07] WARNING: not removing hydrogen atom without neighbors\n",
      "[18:08:07] WARNING: not removing hydrogen atom without neighbors\n",
      "[18:08:07] WARNING: not removing hydrogen atom without neighbors\n",
      "[18:08:07] WARNING: not removing hydrogen atom without neighbors\n",
      "[18:08:07] WARNING: not removing hydrogen atom without neighbors\n",
      "[18:08:07] WARNING: not removing hydrogen atom without neighbors\n",
      "[18:08:07] WARNING: not removing hydrogen atom without neighbors\n",
      "[18:08:07] WARNING: not removing hydrogen atom without neighbors\n",
      "[18:08:07] WARNING: not removing hydrogen atom without neighbors\n",
      "[18:08:07] WARNING: not removing hydrogen atom without neighbors\n",
      "[18:08:07] WARNING: not removing hydrogen atom without neighbors\n",
      "[18:08:07] WARNING: not removing hydrogen atom without neighbors\n",
      "[18:08:07] WARNING: not removing hydrogen atom without neighbors\n",
      "[18:08:07] WARNING: not removing hydrogen atom without neighbors\n",
      "[18:08:07] WARNING: not removing hydrogen atom without neighbors\n",
      "[18:08:07] WARNING: not removing hydrogen atom without neighbors\n",
      "[18:08:07] WARNING: not removing hydrogen atom without neighbors\n",
      "[18:08:07] WARNING: not removing hydrogen atom without neighbors\n",
      "[18:08:07] WARNING: not removing hydrogen atom without neighbors\n",
      "[18:08:07] WARNING: not removing hydrogen atom without neighbors\n",
      "[18:08:07] WARNING: not removing hydrogen atom without neighbors\n",
      "[18:08:07] WARNING: not removing hydrogen atom without neighbors\n",
      "[18:08:07] WARNING: not removing hydrogen atom without neighbors\n",
      "[18:08:07] WARNING: not removing hydrogen atom without neighbors\n",
      "[18:08:07] WARNING: not removing hydrogen atom without neighbors\n",
      "[18:08:07] WARNING: not removing hydrogen atom without neighbors\n",
      "[18:08:07] WARNING: not removing hydrogen atom without neighbors\n",
      "[18:08:07] WARNING: not removing hydrogen atom without neighbors\n",
      "[18:08:07] WARNING: not removing hydrogen atom without neighbors\n",
      "[18:08:07] WARNING: not removing hydrogen atom without neighbors\n",
      "[18:08:07] WARNING: not removing hydrogen atom without neighbors\n",
      "[18:08:07] WARNING: not removing hydrogen atom without neighbors\n",
      "[18:08:08] WARNING: not removing hydrogen atom without neighbors\n",
      "[18:08:08] WARNING: not removing hydrogen atom without neighbors\n",
      "[18:08:10] WARNING: not removing hydrogen atom without neighbors\n",
      "[18:08:10] WARNING: not removing hydrogen atom without neighbors\n",
      "[18:08:10] WARNING: not removing hydrogen atom without neighbors\n",
      "[18:08:10] WARNING: not removing hydrogen atom without neighbors\n",
      "[18:08:10] WARNING: not removing hydrogen atom without neighbors\n",
      "[18:08:10] WARNING: not removing hydrogen atom without neighbors\n",
      "[18:08:10] WARNING: not removing hydrogen atom without neighbors\n",
      "[18:08:10] WARNING: not removing hydrogen atom without neighbors\n",
      "[18:08:10] WARNING: not removing hydrogen atom without neighbors\n",
      "[18:08:10] WARNING: not removing hydrogen atom without neighbors\n",
      "[18:08:10] WARNING: not removing hydrogen atom without neighbors\n",
      "[18:08:10] WARNING: not removing hydrogen atom without neighbors\n",
      "[18:08:10] WARNING: not removing hydrogen atom without neighbors\n",
      "[18:08:10] WARNING: not removing hydrogen atom without neighbors\n",
      "[18:08:10] WARNING: not removing hydrogen atom without neighbors\n",
      "[18:08:10] WARNING: not removing hydrogen atom without neighbors\n",
      "[18:08:10] WARNING: not removing hydrogen atom without neighbors\n",
      "[18:08:10] WARNING: not removing hydrogen atom without neighbors\n",
      "[18:08:10] WARNING: not removing hydrogen atom without neighbors\n",
      "[18:08:10] WARNING: not removing hydrogen atom without neighbors\n",
      "[18:08:10] WARNING: not removing hydrogen atom without neighbors\n",
      "[18:08:10] WARNING: not removing hydrogen atom without neighbors\n",
      "[18:08:10] WARNING: not removing hydrogen atom without neighbors\n",
      "[18:08:10] WARNING: not removing hydrogen atom without neighbors\n",
      "[18:08:10] WARNING: not removing hydrogen atom without neighbors\n",
      "[18:08:10] WARNING: not removing hydrogen atom without neighbors\n",
      "[18:08:10] WARNING: not removing hydrogen atom without neighbors\n",
      "[18:08:10] WARNING: not removing hydrogen atom without neighbors\n",
      "[18:08:10] WARNING: not removing hydrogen atom without neighbors\n",
      "[18:08:10] WARNING: not removing hydrogen atom without neighbors\n",
      "[18:08:10] WARNING: not removing hydrogen atom without neighbors\n",
      "[18:08:10] WARNING: not removing hydrogen atom without neighbors\n",
      "[18:08:10] WARNING: not removing hydrogen atom without neighbors\n",
      "[18:08:10] WARNING: not removing hydrogen atom without neighbors\n",
      "[18:08:10] WARNING: not removing hydrogen atom without neighbors\n",
      "[18:08:10] WARNING: not removing hydrogen atom without neighbors\n",
      "[18:08:10] WARNING: not removing hydrogen atom without neighbors\n",
      "[18:08:11] WARNING: not removing hydrogen atom without neighbors\n",
      "[18:08:11] WARNING: not removing hydrogen atom without neighbors\n",
      "[18:08:11] WARNING: not removing hydrogen atom without neighbors\n",
      "[18:08:17] WARNING: not removing hydrogen atom without neighbors\n",
      "[18:08:17] WARNING: not removing hydrogen atom without neighbors\n",
      "[18:08:17] WARNING: not removing hydrogen atom without neighbors\n",
      "/home/cas/local/conda/envs/molfeat-benchmark/lib/python3.9/site-packages/numpy/core/fromnumeric.py:86: RuntimeWarning: overflow encountered in reduce\n",
      "  return ufunc.reduce(obj, axis, dtype, out, **passkwargs)\n",
      "[18:08:18] WARNING: not removing hydrogen atom without neighbors\n",
      "[18:08:18] WARNING: not removing hydrogen atom without neighbors\n",
      "[18:08:18] WARNING: not removing hydrogen atom without neighbors\n",
      "[18:08:20] WARNING: not removing hydrogen atom without neighbors\n",
      "[18:08:20] WARNING: not removing hydrogen atom without neighbors\n",
      "[18:08:20] WARNING: not removing hydrogen atom without neighbors\n",
      "/home/cas/local/conda/envs/molfeat-benchmark/lib/python3.9/site-packages/numpy/core/fromnumeric.py:86: RuntimeWarning: overflow encountered in reduce\n",
      "  return ufunc.reduce(obj, axis, dtype, out, **passkwargs)\n",
      "/home/cas/local/conda/envs/molfeat-benchmark/lib/python3.9/site-packages/numpy/core/fromnumeric.py:86: RuntimeWarning: overflow encountered in reduce\n",
      "  return ufunc.reduce(obj, axis, dtype, out, **passkwargs)\n",
      "[18:08:21] WARNING: not removing hydrogen atom without neighbors\n",
      "[18:08:21] WARNING: not removing hydrogen atom without neighbors\n",
      "[18:08:21] WARNING: not removing hydrogen atom without neighbors\n",
      "[18:08:22] WARNING: not removing hydrogen atom without neighbors\n",
      "[18:08:22] WARNING: not removing hydrogen atom without neighbors\n",
      "[18:08:22] WARNING: not removing hydrogen atom without neighbors\n",
      "[18:08:22] WARNING: not removing hydrogen atom without neighbors\n",
      "[18:08:22] WARNING: not removing hydrogen atom without neighbors\n",
      "[18:08:22] WARNING: not removing hydrogen atom without neighbors\n",
      "[18:08:22] WARNING: not removing hydrogen atom without neighbors\n",
      "[18:08:22] WARNING: not removing hydrogen atom without neighbors\n",
      "[18:08:22] WARNING: not removing hydrogen atom without neighbors\n",
      "/home/cas/local/conda/envs/molfeat-benchmark/lib/python3.9/site-packages/numpy/core/fromnumeric.py:86: RuntimeWarning: overflow encountered in reduce\n",
      "  return ufunc.reduce(obj, axis, dtype, out, **passkwargs)\n",
      "[18:08:25] WARNING: not removing hydrogen atom without neighbors\n",
      "[18:08:25] WARNING: not removing hydrogen atom without neighbors\n",
      "[18:08:25] WARNING: not removing hydrogen atom without neighbors\n",
      "/home/cas/local/conda/envs/molfeat-benchmark/lib/python3.9/site-packages/numpy/core/fromnumeric.py:86: RuntimeWarning: overflow encountered in reduce\n",
      "  return ufunc.reduce(obj, axis, dtype, out, **passkwargs)\n",
      "[18:08:25] WARNING: not removing hydrogen atom without neighbors\n",
      "[18:08:25] WARNING: not removing hydrogen atom without neighbors\n",
      "[18:08:25] WARNING: not removing hydrogen atom without neighbors\n"
     ]
    },
    {
     "name": "stderr",
     "output_type": "stream",
     "text": [
      "[18:08:27] WARNING: not removing hydrogen atom without neighbors\n",
      "[18:08:27] WARNING: not removing hydrogen atom without neighbors\n",
      "[18:08:27] WARNING: not removing hydrogen atom without neighbors\n",
      "[18:08:28] WARNING: not removing hydrogen atom without neighbors\n",
      "[18:08:28] WARNING: not removing hydrogen atom without neighbors\n",
      "[18:08:28] WARNING: not removing hydrogen atom without neighbors\n",
      "[18:08:29] WARNING: not removing hydrogen atom without neighbors\n",
      "[18:08:29] WARNING: not removing hydrogen atom without neighbors\n",
      "[18:08:29] WARNING: not removing hydrogen atom without neighbors\n",
      "[18:08:29] WARNING: not removing hydrogen atom without neighbors\n",
      "[18:08:29] WARNING: not removing hydrogen atom without neighbors\n",
      "[18:08:29] WARNING: not removing hydrogen atom without neighbors\n",
      "[18:08:30] WARNING: not removing hydrogen atom without neighbors\n",
      "[18:08:30] WARNING: not removing hydrogen atom without neighbors\n",
      "[18:08:30] WARNING: not removing hydrogen atom without neighbors\n",
      "/home/cas/local/conda/envs/molfeat-benchmark/lib/python3.9/site-packages/numpy/core/fromnumeric.py:86: RuntimeWarning: overflow encountered in reduce\n",
      "  return ufunc.reduce(obj, axis, dtype, out, **passkwargs)\n",
      "/home/cas/local/conda/envs/molfeat-benchmark/lib/python3.9/site-packages/numpy/core/fromnumeric.py:86: RuntimeWarning: overflow encountered in reduce\n",
      "  return ufunc.reduce(obj, axis, dtype, out, **passkwargs)\n",
      "[18:08:33] WARNING: not removing hydrogen atom without neighbors\n",
      "[18:08:33] WARNING: not removing hydrogen atom without neighbors\n",
      "[18:08:33] WARNING: not removing hydrogen atom without neighbors\n",
      "/home/cas/local/conda/envs/molfeat-benchmark/lib/python3.9/site-packages/numpy/core/fromnumeric.py:86: RuntimeWarning: overflow encountered in reduce\n",
      "  return ufunc.reduce(obj, axis, dtype, out, **passkwargs)\n",
      "/home/cas/local/conda/envs/molfeat-benchmark/lib/python3.9/site-packages/numpy/core/fromnumeric.py:86: RuntimeWarning: overflow encountered in reduce\n",
      "  return ufunc.reduce(obj, axis, dtype, out, **passkwargs)\n",
      "[18:08:36] WARNING: not removing hydrogen atom without neighbors\n",
      "[18:08:36] WARNING: not removing hydrogen atom without neighbors\n",
      "[18:08:36] WARNING: not removing hydrogen atom without neighbors\n",
      "[18:08:36] WARNING: not removing hydrogen atom without neighbors\n",
      "[18:08:36] WARNING: not removing hydrogen atom without neighbors\n",
      "[18:08:36] WARNING: not removing hydrogen atom without neighbors\n",
      "/home/cas/local/conda/envs/molfeat-benchmark/lib/python3.9/site-packages/numpy/core/fromnumeric.py:86: RuntimeWarning: overflow encountered in reduce\n",
      "  return ufunc.reduce(obj, axis, dtype, out, **passkwargs)\n",
      "[18:08:36] WARNING: not removing hydrogen atom without neighbors\n",
      "[18:08:36] WARNING: not removing hydrogen atom without neighbors\n",
      "[18:08:36] WARNING: not removing hydrogen atom without neighbors\n",
      "[18:08:38] WARNING: not removing hydrogen atom without neighbors\n",
      "[18:08:38] WARNING: not removing hydrogen atom without neighbors\n",
      "[18:08:38] WARNING: not removing hydrogen atom without neighbors\n",
      "[18:08:40] WARNING: not removing hydrogen atom without neighbors\n",
      "[18:08:40] WARNING: not removing hydrogen atom without neighbors\n",
      "[18:08:40] WARNING: not removing hydrogen atom without neighbors\n",
      "[18:08:41] WARNING: not removing hydrogen atom without neighbors\n",
      "[18:08:41] WARNING: not removing hydrogen atom without neighbors\n",
      "[18:08:41] WARNING: not removing hydrogen atom without neighbors\n",
      "[18:08:41] WARNING: not removing hydrogen atom without neighbors\n",
      "[18:08:41] WARNING: not removing hydrogen atom without neighbors\n",
      "[18:08:41] WARNING: not removing hydrogen atom without neighbors\n",
      "[18:08:43] WARNING: not removing hydrogen atom without neighbors\n",
      "[18:08:43] WARNING: not removing hydrogen atom without neighbors\n",
      "[18:08:43] WARNING: not removing hydrogen atom without neighbors\n",
      "[18:08:44] WARNING: not removing hydrogen atom without neighbors\n",
      "[18:08:44] WARNING: not removing hydrogen atom without neighbors\n",
      "[18:08:44] WARNING: not removing hydrogen atom without neighbors\n",
      "[18:08:44] WARNING: not removing hydrogen atom without neighbors\n",
      "[18:08:44] WARNING: not removing hydrogen atom without neighbors\n",
      "[18:08:44] WARNING: not removing hydrogen atom without neighbors\n",
      "[18:08:44] WARNING: not removing hydrogen atom without neighbors\n",
      "[18:08:44] WARNING: not removing hydrogen atom without neighbors\n",
      "[18:08:44] WARNING: not removing hydrogen atom without neighbors\n",
      "[18:08:45] WARNING: not removing hydrogen atom without neighbors\n",
      "[18:08:45] WARNING: not removing hydrogen atom without neighbors\n",
      "[18:08:45] WARNING: not removing hydrogen atom without neighbors\n",
      "[18:08:46] WARNING: not removing hydrogen atom without neighbors\n",
      "[18:08:46] WARNING: not removing hydrogen atom without neighbors\n",
      "[18:08:46] WARNING: not removing hydrogen atom without neighbors\n",
      "[18:08:47] WARNING: not removing hydrogen atom without neighbors\n",
      "[18:08:47] WARNING: not removing hydrogen atom without neighbors\n",
      "[18:08:47] WARNING: not removing hydrogen atom without neighbors\n",
      "[18:08:47] WARNING: not removing hydrogen atom without neighbors\n",
      "[18:08:47] WARNING: not removing hydrogen atom without neighbors\n",
      "[18:08:47] WARNING: not removing hydrogen atom without neighbors\n",
      "[18:08:50] WARNING: not removing hydrogen atom without neighbors\n",
      "[18:08:50] WARNING: not removing hydrogen atom without neighbors\n",
      "[18:08:50] WARNING: not removing hydrogen atom without neighbors\n",
      "[18:08:50] WARNING: not removing hydrogen atom without neighbors\n",
      "[18:08:50] WARNING: not removing hydrogen atom without neighbors\n",
      "[18:08:50] WARNING: not removing hydrogen atom without neighbors\n",
      "[18:08:50] WARNING: not removing hydrogen atom without neighbors\n",
      "[18:08:50] WARNING: not removing hydrogen atom without neighbors\n",
      "[18:08:50] WARNING: not removing hydrogen atom without neighbors\n",
      "[18:08:52] WARNING: not removing hydrogen atom without neighbors\n",
      "[18:08:52] WARNING: not removing hydrogen atom without neighbors\n",
      "[18:08:52] WARNING: not removing hydrogen atom without neighbors\n",
      "[18:08:52] WARNING: not removing hydrogen atom without neighbors\n",
      "[18:08:52] WARNING: not removing hydrogen atom without neighbors\n",
      "[18:08:52] WARNING: not removing hydrogen atom without neighbors\n",
      "[18:08:52] WARNING: not removing hydrogen atom without neighbors\n",
      "[18:08:52] WARNING: not removing hydrogen atom without neighbors\n",
      "[18:08:52] WARNING: not removing hydrogen atom without neighbors\n",
      "[18:08:53] WARNING: not removing hydrogen atom without neighbors\n",
      "[18:08:53] WARNING: not removing hydrogen atom without neighbors\n",
      "[18:08:53] WARNING: not removing hydrogen atom without neighbors\n",
      "[18:08:54] WARNING: not removing hydrogen atom without neighbors\n",
      "[18:08:54] WARNING: not removing hydrogen atom without neighbors\n",
      "[18:08:54] WARNING: not removing hydrogen atom without neighbors\n",
      "/home/cas/local/conda/envs/molfeat-benchmark/lib/python3.9/site-packages/numpy/core/fromnumeric.py:86: RuntimeWarning: overflow encountered in reduce\n",
      "  return ufunc.reduce(obj, axis, dtype, out, **passkwargs)\n",
      "/home/cas/local/conda/envs/molfeat-benchmark/lib/python3.9/site-packages/numpy/core/fromnumeric.py:86: RuntimeWarning: overflow encountered in reduce\n",
      "  return ufunc.reduce(obj, axis, dtype, out, **passkwargs)\n",
      "[18:08:56] WARNING: not removing hydrogen atom without neighbors\n",
      "[18:08:56] WARNING: not removing hydrogen atom without neighbors\n",
      "[18:08:56] WARNING: not removing hydrogen atom without neighbors\n",
      "[18:08:57] WARNING: not removing hydrogen atom without neighbors\n",
      "[18:08:57] WARNING: not removing hydrogen atom without neighbors\n",
      "[18:08:57] WARNING: not removing hydrogen atom without neighbors\n"
     ]
    },
    {
     "data": {
      "application/vnd.jupyter.widget-view+json": {
       "model_id": "5ffcd60e9b5a4095a4460e211e25196a",
       "version_major": 2,
       "version_minor": 0
      },
      "text/plain": [
       "  0%|          | 0/2039 [00:00<?, ?it/s]"
      ]
     },
     "metadata": {},
     "output_type": "display_data"
    },
    {
     "data": {
      "application/vnd.jupyter.widget-view+json": {
       "model_id": "499ce119b174457abe5fe4594cab23c4",
       "version_major": 2,
       "version_minor": 0
      },
      "text/plain": [
       "  0%|          | 0/2039 [00:00<?, ?it/s]"
      ]
     },
     "metadata": {},
     "output_type": "display_data"
    }
   ],
   "source": [
    "# Prepare the Lipophilicity dataset\n",
    "smiles, y_true = load_dataset(\"https://deepchemdata.s3-us-west-1.amazonaws.com/datasets/BBBP.csv\", \"p_np\")\n",
    "smiles = np.array([preprocess_smiles(smi) for smi in smiles])\n",
    "smiles = np.array([smi for smi in smiles if smi is not None])\n",
    "\n",
    "X = {\n",
    "    \"ECFP\": trans_ecfp(smiles),\n",
    "    \"Mordred\": trans_mordred(smiles),\n",
    "    \"ChemBERTa\": trans_chemberta(smiles),\n",
    "}"
   ]
  },
  {
   "cell_type": "code",
   "execution_count": 21,
   "metadata": {},
   "outputs": [
    {
     "name": "stdout",
     "output_type": "stream",
     "text": [
      "[WARNING] [2023-03-20 18:15:00,380:Client-EnsembleBuilder] No runs were available to build an ensemble from\n",
      "[WARNING] [2023-03-20 18:15:07,462:Client-EnsembleBuilder] No runs were available to build an ensemble from\n"
     ]
    },
    {
     "data": {
      "text/plain": [
       "{'ECFP': 0.6308048803556228,\n",
       " 'Mordred': 0.6454648633311264,\n",
       " 'ChemBERTa': 0.6367161638134872}"
      ]
     },
     "execution_count": 21,
     "metadata": {},
     "output_type": "execute_result"
    }
   ],
   "source": [
    "# To make the output less verbose: \n",
    "os.environ[\"TOKENIZERS_PARALLELISM\"] = \"false\"\n",
    "\n",
    "# Train a model\n",
    "train_ind, test_ind = scaffold_split(smiles)\n",
    "\n",
    "scores = {}\n",
    "for name, feats in X.items():\n",
    "    \n",
    "    # Train\n",
    "    automl = autosklearn.classification.AutoSklearnClassifier(\n",
    "        memory_limit=24576, \n",
    "        time_left_for_this_task=3600,\n",
    "        n_jobs=1\n",
    "    )\n",
    "    automl.fit(feats[train_ind], y_true[train_ind])\n",
    "    \n",
    "    # Predict and evaluate\n",
    "    y_hat = automl.predict_proba(feats[test_ind])\n",
    "    y_hat = np.max(y_hat, axis=-1)\n",
    "    \n",
    "    # Evaluate\n",
    "    auroc = roc_auc_score(y_true[test_ind], y_hat)\n",
    "    scores[name] = auroc\n",
    "\n",
    "scores"
   ]
  },
  {
   "cell_type": "markdown",
   "metadata": {},
   "source": [
    "### Search\n",
    "We will evaluate the performance on the search task using "
   ]
  },
  {
   "cell_type": "code",
   "execution_count": null,
   "metadata": {},
   "outputs": [],
   "source": []
  },
  {
   "cell_type": "markdown",
   "metadata": {},
   "source": [
    "## Citations:\n",
    "1. Rogers, D., & Hahn, M. (2010). Extended-connectivity fingerprints. Journal of chemical information and modeling, 50(5), 742-754.\n",
    "2. Moriwaki, H., Tian, Y. S., Kawashita, N., & Takagi, T. (2018). Mordred: a molecular descriptor calculator. Journal of cheminformatics, 10(1), 1-14.\n",
    "3. Chithrananda, S., Grand, G., & Ramsundar, B. (2020). Chemberta: Large-scale self-supervised pretraining for molecular property prediction. arXiv preprint arXiv:2010.09885.\n",
    "4. Efficient and Robust Automated Machine Learning Matthias Feurer, Aaron Klein, Katharina Eggensperger, Jost Springenberg, Manuel Blum and Frank Hutter Advances in Neural Information Processing Systems 28 (2015)\n",
    "5. Auto-Sklearn 2.0: The Next Generation Matthias Feurer, Katharina Eggensperger, Stefan Falkner, Marius Lindauer and Frank Hutter* arXiv:2007.04074 [cs.LG], 2020\n"
   ]
  }
 ],
 "metadata": {
  "kernelspec": {
   "display_name": "Python 3 (ipykernel)",
   "language": "python",
   "name": "python3"
  },
  "language_info": {
   "codemirror_mode": {
    "name": "ipython",
    "version": 3
   },
   "file_extension": ".py",
   "mimetype": "text/x-python",
   "name": "python",
   "nbconvert_exporter": "python",
   "pygments_lexer": "ipython3",
   "version": "3.9.16"
  },
  "vscode": {
   "interpreter": {
    "hash": "dd64925fe6617865d410306d2b64fa69b44b63a36aad85fd11f7d4e4dc7609f3"
   }
  }
 },
 "nbformat": 4,
 "nbformat_minor": 4
}
