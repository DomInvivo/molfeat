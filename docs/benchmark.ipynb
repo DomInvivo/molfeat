{
 "cells": [
  {
   "cell_type": "code",
   "execution_count": 1,
   "metadata": {},
   "outputs": [],
   "source": [
    "%load_ext autoreload\n",
    "%autoreload 2"
   ]
  },
  {
   "cell_type": "markdown",
   "metadata": {},
   "source": [
    "## One featurizer to rule them all?\n",
    "Contrary to many other machine learning domains, _molecular_ featurization (i.e. the process of transforming a molecule into a vector) lacks a good default. It remains unclear how we can effectively capture the richness of molecular data in a unified representation and what works best heavily depends on the nature and constraints of the task you are trying to model. It is therefore good practice to try different featurization schemes: From structural fingerprints, to physico-chemical descriptors and pre-trained embeddings.\n",
    "\n",
    "## Don't take our word for it\n",
    "To demonstrate the impact a featurizer can have, we setup two simple benchmarks.\n",
    "1. To demonstrate the impact on modeling, we will use two datasets from [MoleculeNet](https://moleculenet.org/datasets-1) [1].\n",
    "2. To demonstrate the impact on search, we will use the [RDKit Benchmarking Platform](https://github.com/rdkit/benchmarking_platform) [2, 3].\n",
    "\n",
    "We will compare the performance of three different featurizers:\n",
    "- **ECFP6** [4]: Binary, circular fingerprints where each bit indicates the presence of particular substructures of a radius up to 3 bonds away from an atom.\n",
    "- **Mordred** [5]: Continuous descriptors with more than 1800 2D and 3D descriptors.\n",
    "- **ChemBERTa** [6]: Learned representations from a pre-trained SMILES transformer model.\n",
    "\n",
    "### Modeling\n",
    "We will compare the performance on two datasets using scikit-learn [AutoML](https://github.com/automl/auto-sklearn) [7, 8] models."
   ]
  },
  {
   "cell_type": "code",
   "execution_count": 2,
   "metadata": {},
   "outputs": [],
   "source": [
    "import os\n",
    "import tqdm\n",
    "import fsspec\n",
    "import pickle\n",
    "import warnings\n",
    "import numpy as np\n",
    "import pandas as pd\n",
    "import datamol as dm\n",
    "import matplotlib.pyplot as plt\n",
    "import autosklearn.classification\n",
    "import autosklearn.regression\n",
    "from collections import defaultdict\n",
    "from rdkit.Chem import SaltRemover\n",
    "\n",
    "from sklearn.metrics import mean_absolute_error, roc_auc_score\n",
    "from sklearn.model_selection import GroupShuffleSplit\n",
    "from sklearn.neighbors import KNeighborsClassifier\n",
    "\n",
    "from molfeat.trans.fp import FPVecTransformer\n",
    "from molfeat.trans.pretrained.hf_transformers import PretrainedHFTransformer"
   ]
  },
  {
   "cell_type": "code",
   "execution_count": 3,
   "metadata": {},
   "outputs": [],
   "source": [
    "# Making the output less verbose\n",
    "warnings.simplefilter(\"ignore\")\n",
    "os.environ[\"PYTHONWARNINGS\"] = \"ignore\"\n",
    "os.environ[\"TOKENIZERS_PARALLELISM\"] = \"false\"\n",
    "dm.disable_rdkit_log()"
   ]
  },
  {
   "cell_type": "code",
   "execution_count": 4,
   "metadata": {},
   "outputs": [],
   "source": [
    "def load_dataset(uri: str, readout_col: str):\n",
    "    \"\"\"Loads the MoleculeNet dataset\"\"\"\n",
    "    df = pd.read_csv(uri)\n",
    "    smiles = df[\"smiles\"].values\n",
    "    y = df[readout_col].values\n",
    "    return smiles, y\n",
    "\n",
    "\n",
    "def preprocess_smiles(smi):\n",
    "    \"\"\"Preprocesses the SMILES string\"\"\"\n",
    "    mol = dm.to_mol(smi, ordered=True, sanitize=False)    \n",
    "    try: \n",
    "        mol = dm.sanitize_mol(mol)\n",
    "    except:\n",
    "        mol = None\n",
    "            \n",
    "    if mol is None: \n",
    "        return\n",
    "        \n",
    "    mol = dm.standardize_mol(mol, disconnect_metals=True)\n",
    "    remover = SaltRemover.SaltRemover()\n",
    "    mol = remover.StripMol(mol, dontRemoveEverything=True)\n",
    "\n",
    "    return dm.to_smiles(mol)\n",
    "\n",
    "\n",
    "def scaffold_split(smiles):\n",
    "    \"\"\"In line with common practice, we will use the scaffold split to evaluate our models\"\"\"\n",
    "    scaffolds = [dm.to_smiles(dm.to_scaffold_murcko(dm.to_mol(smi))) for smi in smiles]\n",
    "    splitter = GroupShuffleSplit(n_splits=1, test_size=0.2, random_state=42)\n",
    "    return next(splitter.split(smiles, groups=scaffolds))\n"
   ]
  },
  {
   "cell_type": "code",
   "execution_count": 5,
   "metadata": {
    "scrolled": true
   },
   "outputs": [],
   "source": [
    "# Setup the featurizers\n",
    "trans_ecfp = FPVecTransformer(kind=\"ecfp:6\", n_jobs=-1)\n",
    "trans_mordred = FPVecTransformer(kind=\"mordred\", replace_nan=True, n_jobs=-1)\n",
    "trans_chemberta = PretrainedHFTransformer(kind='ChemBERTa-77M-MLM', notation='smiles')"
   ]
  },
  {
   "cell_type": "markdown",
   "metadata": {},
   "source": [
    "#### Lipophilicity\n",
    "Lipophilicity is a regression task with 4200 molecules"
   ]
  },
  {
   "cell_type": "code",
   "execution_count": 6,
   "metadata": {},
   "outputs": [],
   "source": [
    "# Prepare the Lipophilicity dataset\n",
    "smiles, y_true = load_dataset(\"https://deepchemdata.s3-us-west-1.amazonaws.com/datasets/Lipophilicity.csv\", \"exp\")\n",
    "smiles = np.array([preprocess_smiles(smi) for smi in smiles])\n",
    "smiles = np.array([smi for smi in smiles if dm.to_mol(smi) is not None])\n",
    "\n",
    "feats_ecfp, ind_ecfp = trans_ecfp(smiles, ignore_errors=True)\n",
    "feats_mordred, ind_mordred = trans_mordred(smiles, ignore_errors=True)\n",
    "feats_chemberta, ind_chemberta = trans_chemberta(smiles, ignore_errors=True)\n",
    "\n",
    "X = {\n",
    "    \"ECFP\": feats_ecfp[ind_ecfp],\n",
    "    \"Mordred\": feats_mordred[ind_mordred],\n",
    "    \"ChemBERTa\": feats_chemberta[ind_chemberta],\n",
    "}"
   ]
  },
  {
   "cell_type": "code",
   "execution_count": 7,
   "metadata": {
    "scrolled": false
   },
   "outputs": [
    {
     "name": "stdout",
     "output_type": "stream",
     "text": [
      "[WARNING] [2023-03-24 18:21:50,652:Client-EnsembleBuilder] No runs were available to build an ensemble from\n",
      "[WARNING] [2023-03-24 18:22:04,898:Client-EnsembleBuilder] No runs were available to build an ensemble from\n",
      "[WARNING] [2023-03-24 18:22:06,370:Client-EnsembleBuilder] No runs were available to build an ensemble from\n",
      "[WARNING] [2023-03-24 18:24:44,990:Client-EnsembleBuilder] No runs were available to build an ensemble from\n",
      "[WARNING] [2023-03-24 18:24:48,684:Client-EnsembleBuilder] No runs were available to build an ensemble from\n",
      "[WARNING] [2023-03-24 18:24:58,518:Client-EnsembleBuilder] No runs were available to build an ensemble from\n",
      "[WARNING] [2023-03-24 18:27:38,490:Client-EnsembleBuilder] No runs were available to build an ensemble from\n",
      "[WARNING] [2023-03-24 18:27:43,678:Client-EnsembleBuilder] No runs were available to build an ensemble from\n",
      "[WARNING] [2023-03-24 18:28:02,760:Client-EnsembleBuilder] No runs were available to build an ensemble from\n"
     ]
    },
    {
     "data": {
      "text/plain": [
       "{'ECFP': 0.7635259340171177,\n",
       " 'Mordred': 0.6244188277943119,\n",
       " 'ChemBERTa': 0.7432117051810577}"
      ]
     },
     "execution_count": 7,
     "metadata": {},
     "output_type": "execute_result"
    }
   ],
   "source": [
    "# Train a model\n",
    "train_ind, test_ind = scaffold_split(smiles)\n",
    "\n",
    "lipo_scores = {}\n",
    "for name, feats in X.items():\n",
    "    \n",
    "    # Train\n",
    "    automl = autosklearn.regression.AutoSklearnRegressor(\n",
    "        memory_limit=24576, \n",
    "        # For practicality’s sake, limit this to 10 minutes! \n",
    "        # (x3 = 30 min in total)\n",
    "        time_left_for_this_task=360,  \n",
    "        n_jobs=1,\n",
    "        seed=1,\n",
    "    )\n",
    "    automl.fit(feats[train_ind], y_true[train_ind])\n",
    "    \n",
    "    # Predict and evaluate\n",
    "    y_hat = automl.predict(feats[test_ind])\n",
    "    \n",
    "    # Evaluate\n",
    "    mae = mean_absolute_error(y_true[test_ind], y_hat)\n",
    "    lipo_scores[name] = mae\n",
    "\n",
    "lipo_scores"
   ]
  },
  {
   "cell_type": "markdown",
   "metadata": {},
   "source": [
    "#### ClinTox"
   ]
  },
  {
   "cell_type": "code",
   "execution_count": 11,
   "metadata": {
    "scrolled": false
   },
   "outputs": [
    {
     "name": "stderr",
     "output_type": "stream",
     "text": [
      "[18:31:23] Unusual charge on atom 0 number of radical electrons set to zero\n",
      "[18:31:24] Unusual charge on atom 0 number of radical electrons set to zero\n",
      "[18:31:24] Unusual charge on atom 0 number of radical electrons set to zero\n",
      "[18:31:24] Unusual charge on atom 0 number of radical electrons set to zero\n",
      "[18:31:24] Unusual charge on atom 0 number of radical electrons set to zero\n"
     ]
    }
   ],
   "source": [
    "# Prepare the ClinTox dataset\n",
    "smiles, y_true = load_dataset(\"https://deepchemdata.s3-us-west-1.amazonaws.com/datasets/clintox.csv.gz\", \"CT_TOX\")\n",
    "smiles = np.array([preprocess_smiles(smi) for smi in smiles])\n",
    "smiles = np.array([smi for smi in smiles if smi is not None])\n",
    "\n",
    "feats_ecfp, ind_ecfp = trans_ecfp(smiles, ignore_errors=True)\n",
    "feats_mordred, ind_mordred = trans_mordred(smiles, ignore_errors=True)\n",
    "feats_chemberta, ind_chemberta = trans_chemberta(smiles, ignore_errors=True)\n",
    "\n",
    "X = {\n",
    "    \"ECFP\": feats_ecfp[ind_ecfp],\n",
    "    \"Mordred\": feats_mordred[ind_mordred],\n",
    "    \"ChemBERTa\": feats_chemberta[ind_chemberta],\n",
    "}"
   ]
  },
  {
   "cell_type": "code",
   "execution_count": 12,
   "metadata": {
    "scrolled": true
   },
   "outputs": [
    {
     "name": "stdout",
     "output_type": "stream",
     "text": [
      "[WARNING] [2023-03-24 18:32:48,712:Client-EnsembleBuilder] No models better than random - using Dummy losses!\n",
      "\tModels besides current dummy model: 0\n",
      "\tDummy models: 1\n",
      "[WARNING] [2023-03-24 18:32:51,055:Client-EnsembleBuilder] No models better than random - using Dummy losses!\n",
      "\tModels besides current dummy model: 0\n",
      "\tDummy models: 1\n",
      "[WARNING] [2023-03-24 18:32:55,887:Client-EnsembleBuilder] No models better than random - using Dummy losses!\n",
      "\tModels besides current dummy model: 0\n",
      "\tDummy models: 1\n",
      "[WARNING] [2023-03-24 18:32:58,277:Client-EnsembleBuilder] No models better than random - using Dummy losses!\n",
      "\tModels besides current dummy model: 0\n",
      "\tDummy models: 1\n",
      "[WARNING] [2023-03-24 18:33:00,090:Client-EnsembleBuilder] No models better than random - using Dummy losses!\n",
      "\tModels besides current dummy model: 0\n",
      "\tDummy models: 1\n",
      "[WARNING] [2023-03-24 18:33:19,158:Client-EnsembleBuilder] No models better than random - using Dummy losses!\n",
      "\tModels besides current dummy model: 0\n",
      "\tDummy models: 1\n",
      "[WARNING] [2023-03-24 18:33:19,686:Client-EnsembleBuilder] No models better than random - using Dummy losses!\n",
      "\tModels besides current dummy model: 0\n",
      "\tDummy models: 1\n",
      "[WARNING] [2023-03-24 18:33:21,685:Client-EnsembleBuilder] No models better than random - using Dummy losses!\n",
      "\tModels besides current dummy model: 0\n",
      "\tDummy models: 1\n",
      "[WARNING] [2023-03-24 18:33:25,420:Client-EnsembleBuilder] No models better than random - using Dummy losses!\n",
      "\tModels besides current dummy model: 0\n",
      "\tDummy models: 1\n",
      "[WARNING] [2023-03-24 18:33:26,195:Client-EnsembleBuilder] No models better than random - using Dummy losses!\n",
      "\tModels besides current dummy model: 0\n",
      "\tDummy models: 1\n",
      "[WARNING] [2023-03-24 18:33:45,261:Client-EnsembleBuilder] No models better than random - using Dummy losses!\n",
      "\tModels besides current dummy model: 0\n",
      "\tDummy models: 1\n",
      "[WARNING] [2023-03-24 18:33:50,436:Client-EnsembleBuilder] No models better than random - using Dummy losses!\n",
      "\tModels besides current dummy model: 0\n",
      "\tDummy models: 1\n"
     ]
    },
    {
     "name": "stderr",
     "output_type": "stream",
     "text": [
      "Process ForkProcess-201:\n",
      "Traceback (most recent call last):\n",
      "  File \"/home/cas/local/conda/envs/molfeat-benchmark/lib/python3.9/multiprocessing/process.py\", line 315, in _bootstrap\n",
      "    self.run()\n",
      "  File \"/home/cas/local/conda/envs/molfeat-benchmark/lib/python3.9/multiprocessing/process.py\", line 108, in run\n",
      "    self._target(*self._args, **self._kwargs)\n",
      "  File \"/home/cas/local/conda/envs/molfeat-benchmark/lib/python3.9/site-packages/autosklearn/util/logging_.py\", line 317, in start_log_server\n",
      "    receiver.serve_until_stopped()\n",
      "  File \"/home/cas/local/conda/envs/molfeat-benchmark/lib/python3.9/site-packages/autosklearn/util/logging_.py\", line 347, in serve_until_stopped\n",
      "    rd, wr, ex = select.select([self.socket.fileno()], [], [], self.timeout)\n",
      "KeyboardInterrupt\n"
     ]
    },
    {
     "name": "stdout",
     "output_type": "stream",
     "text": [
      "[WARNING] [2023-03-24 18:34:06,857:Client-EnsembleBuilder] No models better than random - using Dummy losses!\n",
      "\tModels besides current dummy model: 0\n",
      "\tDummy models: 1\n",
      "[WARNING] [2023-03-24 18:34:10,593:Client-EnsembleBuilder] No models better than random - using Dummy losses!\n",
      "\tModels besides current dummy model: 0\n",
      "\tDummy models: 1\n",
      "[WARNING] [2023-03-24 18:34:13,335:Client-EnsembleBuilder] No models better than random - using Dummy losses!\n",
      "\tModels besides current dummy model: 0\n",
      "\tDummy models: 1\n",
      "[WARNING] [2023-03-24 18:34:15,804:Client-EnsembleBuilder] No models better than random - using Dummy losses!\n",
      "\tModels besides current dummy model: 0\n",
      "\tDummy models: 1\n",
      "[WARNING] [2023-03-24 18:34:18,674:Client-EnsembleBuilder] No models better than random - using Dummy losses!\n",
      "\tModels besides current dummy model: 0\n",
      "\tDummy models: 1\n"
     ]
    },
    {
     "name": "stderr",
     "output_type": "stream",
     "text": [
      "\n",
      "KeyboardInterrupt\n",
      "\n"
     ]
    }
   ],
   "source": [
    "# Train a model\n",
    "train_ind, test_ind = scaffold_split(smiles)\n",
    "\n",
    "clintox_scores = {}\n",
    "for name, feats in X.items():\n",
    "    \n",
    "    # Train\n",
    "    automl = autosklearn.classification.AutoSklearnClassifier(\n",
    "        memory_limit=24576, \n",
    "        # For practicality’s sake, limit this to 10 minutes! \n",
    "        # (x3 = 30 min in total)\n",
    "        time_left_for_this_task=360,\n",
    "        n_jobs=1,\n",
    "        seed=1,\n",
    "    )\n",
    "    automl.fit(feats[train_ind], y_true[train_ind])\n",
    "    \n",
    "    # Predict and evaluate\n",
    "    y_hat = automl.predict_proba(feats[test_ind])\n",
    "    y_hat = y_hat[:, 1]\n",
    "    \n",
    "    # Evaluate\n",
    "    auroc = roc_auc_score(y_true[test_ind], y_hat)\n",
    "    clintox_scores[name] = auroc\n",
    "\n",
    "clintox_scores"
   ]
  },
  {
   "cell_type": "markdown",
   "metadata": {},
   "source": [
    "#### Conclusion\n",
    "\n",
    "| Dataset       | Metric | Representation | Score | Rank |\n",
    "|---------------|--------|----------------|-------|------|\n",
    "| Lipophilicity | MAE    | ECFP           | 0.689  | 1    |\n",
    "|               |        | Mordred        | 0.529  | 0    |\n",
    "|               |        | ChemBERTa      | 0.755  | 2    |\n",
    "| ClinTox       | AUROC  | ECFP           | 0.528  | 2    |\n",
    "|               |        | Mordred        | 0.575  | 1    |\n",
    "|               |        | ChemBERTa      | 0.616  | 0    |\n",
    "\n",
    "We can see that for Lipophilicity, the Mordred featurizer proves most powerful, outperforming the next best featurizer by over 20%. For ClinTox, however, the tables have turned and it is instead ChemBERTa that outperforms the other featurizers by about 7%. This shows the importance of trying different featurizers. Luckily, with Molfeat, this has just become a lot easier to do!"
   ]
  },
  {
   "cell_type": "markdown",
   "metadata": {},
   "source": [
    "### Search\n",
    "We will evaluate the performance on the search task using "
   ]
  },
  {
   "cell_type": "code",
   "execution_count": 13,
   "metadata": {},
   "outputs": [],
   "source": [
    "# Specify some meta-data\n",
    "\n",
    "BASE_CMPD_URI = \"https://github.com/rdkit/benchmarking_platform/raw/master/compounds/DUD/cmp_list_DUD\"\n",
    "CMPD_EXT = \".dat.gz\"\n",
    "\n",
    "BASE_SPLIT_URI = \"https://github.com/rdkit/benchmarking_platform/raw/master/query_lists/data_sets_I/DUD/training_DUD\"\n",
    "SPLIT_EXT = \".pkl\"\n",
    "\n",
    "# Out of practicality, we only use the first 10 targets\n",
    "TARGETS = [\n",
    "    \"ace\",\n",
    "    \"ache\",\n",
    "    \"ar\",\n",
    "    \"cdk2\",\n",
    "    \"cox2\",\n",
    "    \"dhfr\",\n",
    "    \"egfr\",\n",
    "    \"er_agonist\",\n",
    "    \"fgfr1\",\n",
    "    \"fxa\",\n",
    "]"
   ]
  },
  {
   "cell_type": "code",
   "execution_count": 14,
   "metadata": {},
   "outputs": [],
   "source": [
    "def get_compounds_for_target(target: str):\n",
    "    \"\"\"Loads the structural data\"\"\"\n",
    "    df = pd.DataFrame()\n",
    "    for subset in [\"actives\", \"decoys\"]:\n",
    "        df_ = pd.read_csv(f\"{BASE_CMPD_URI}_{target}_{subset}{CMPD_EXT}\", sep=\"\\t\")\n",
    "        df_[\"subset\"] = subset\n",
    "        df_[\"target\"] = 1 if subset == \"actives\" else 0\n",
    "        df = pd.concat([df, df_])\n",
    "    return df\n",
    "\n",
    "\n",
    "def get_train_decoy_split_for_target(target: str, no_of_actives: int = 20):\n",
    "    \"\"\"Loads the proposed split of the benchmark\"\"\"\n",
    "    with fsspec.open(f\"{BASE_SPLIT_URI}_{target}_{no_of_actives}{SPLIT_EXT}\", \"rb\") as fd:\n",
    "        data = pickle.load(fd)\n",
    "    return data[:no_of_actives], data[no_of_actives:]"
   ]
  },
  {
   "cell_type": "code",
   "execution_count": 15,
   "metadata": {
    "pycharm": {
     "is_executing": true
    }
   },
   "outputs": [
    {
     "name": "stderr",
     "output_type": "stream",
     "text": [
      " 30%|██████████████████████████████████████████████████████████▏                                                                                                                                       | 3/10 [02:43<06:39, 57.02s/it][18:37:23] Explicit valence for atom # 1 C greater than permitted\n",
      " 40%|█████████████████████████████████████████████████████████████████████████████▌                                                                                                                    | 4/10 [03:20<04:53, 48.98s/it][18:38:02] Explicit valence for atom # 6 C greater than permitted\n",
      " 90%|█████████████████████████████████████████████████████████████████████████████████████████████████████████████████████████████████████████████████████████████████████████████▋                   | 9/10 [15:18<01:48, 108.06s/it][18:49:58] Explicit valence for atom # 1 C greater than permitted\n",
      "[18:49:58] Explicit valence for atom # 19 C greater than permitted\n",
      "[18:49:58] Explicit valence for atom # 20 C greater than permitted\n",
      "[18:49:58] Explicit valence for atom # 1 C greater than permitted\n",
      "[18:49:58] Explicit valence for atom # 20 C greater than permitted\n",
      "[18:49:58] Explicit valence for atom # 20 C greater than permitted[18:49:58] Explicit valence for atom # 1 C greater than permitted\n",
      "\n",
      "[18:49:58] Explicit valence for atom # 20 C greater than permitted\n",
      "[18:49:58] Explicit valence for atom # 19 C greater than permitted\n",
      "[18:49:58] Explicit valence for atom # 1 C greater than permitted\n",
      "[18:49:58] Explicit valence for atom # 21 C greater than permitted\n",
      "[18:49:58] Explicit valence for atom # 18 C greater than permitted\n",
      "[18:49:58] Explicit valence for atom # 11 C greater than permitted\n",
      "[18:49:59] Explicit valence for atom # 23 C greater than permitted\n",
      "[18:49:59] Explicit valence for atom # 1 C greater than permitted\n",
      "[18:49:59] Explicit valence for atom # 1 C greater than permitted\n",
      "[18:49:59] Explicit valence for atom # 1 C greater than permitted\n",
      "[18:49:59] Explicit valence for atom # 24 C greater than permitted\n",
      "[18:49:59] Explicit valence for atom # 1 C greater than permitted\n",
      "[18:49:59] Explicit valence for atom # 25 C greater than permitted\n",
      "[18:49:59] Explicit valence for atom # 20 C greater than permitted\n",
      "[18:49:59] Explicit valence for atom # 26 C greater than permitted\n",
      "[18:49:59] Explicit valence for atom # 27 C greater than permitted\n",
      "[18:49:59] Explicit valence for atom # 1 C greater than permitted\n",
      "[18:49:59] Explicit valence for atom # 1 C greater than permitted\n",
      "[18:49:59] Explicit valence for atom # 28 C greater than permitted\n",
      "[18:49:59] Explicit valence for atom # 1 C greater than permitted\n",
      "[18:49:59] Explicit valence for atom # 1 C greater than permitted\n",
      "[18:49:59] Explicit valence for atom # 27 C greater than permitted\n",
      "[18:49:59] Explicit valence for atom # 1 C greater than permitted\n",
      "[18:49:59] Explicit valence for atom # 26 C greater than permitted\n",
      "[18:49:59] Explicit valence for atom # 28 C greater than permitted\n",
      "[18:49:59] Explicit valence for atom # 18 C greater than permitted\n",
      "[18:49:59] Explicit valence for atom # 17 C greater than permitted\n",
      "[18:49:59] Explicit valence for atom # 17 C greater than permitted\n",
      "[18:49:59] Explicit valence for atom # 1 C greater than permitted\n",
      "[18:49:59] Explicit valence for atom # 29 C greater than permitted\n",
      "[18:49:59] Explicit valence for atom # 1 C greater than permitted\n",
      "[18:49:59] Explicit valence for atom # 1 C greater than permitted\n",
      "[18:49:59] Explicit valence for atom # 1 C greater than permitted\n",
      "[18:49:59] Explicit valence for atom # 1 C greater than permitted\n",
      "[18:49:59] Explicit valence for atom # 1 C greater than permitted\n",
      "[18:49:59] Explicit valence for atom # 18 C greater than permitted\n",
      "[18:49:59] Explicit valence for atom # 1 C greater than permitted\n",
      "[18:49:59] Explicit valence for atom # 26 C greater than permitted\n",
      "[18:49:59] Explicit valence for atom # 25 C greater than permitted\n",
      "[18:49:59] Explicit valence for atom # 29 C greater than permitted\n",
      "[18:49:59] Explicit valence for atom # 1 C greater than permitted\n",
      "[18:49:59] Explicit valence for atom # 1 C greater than permitted\n",
      "[18:49:59] Explicit valence for atom # 1 C greater than permitted\n",
      "[18:49:59] Explicit valence for atom # 25 C greater than permitted\n",
      "[18:49:59] Explicit valence for atom # 1 C greater than permitted\n",
      "[18:49:59] Explicit valence for atom # 25 C greater than permitted\n",
      "[18:49:59] Explicit valence for atom # 25 C greater than permitted\n",
      "[18:49:59] Explicit valence for atom # 24 C greater than permitted\n",
      "[18:49:59] Explicit valence for atom # 1 C greater than permitted\n",
      "[18:50:00] Explicit valence for atom # 1 C greater than permitted\n",
      "[18:50:00] Explicit valence for atom # 1 C greater than permitted\n",
      "                                                                                                                                                                                                                                      \r"
     ]
    }
   ],
   "source": [
    "results = defaultdict(dict)\n",
    "\n",
    "for target in tqdm.tqdm(TARGETS[:10], leave=False):\n",
    "\n",
    "    # Load the structures (i.e. SMILES)\n",
    "    df = get_compounds_for_target(target)\n",
    "    n_actives = len(df[df[\"subset\"] == \"actives\"])\n",
    "\n",
    "    smiles = df[\"SMILES\"].values\n",
    "    smiles = np.array([smi for smi in smiles if dm.to_mol(smi) is not None])\n",
    "\n",
    "    # Featurize\n",
    "    feats_ecfp, ind_ecfp = trans_ecfp(smiles, ignore_errors=True)\n",
    "    feats_mordred, ind_mordred = trans_mordred(smiles, ignore_errors=True)\n",
    "    feats_chemberta, ind_chemberta = trans_chemberta(smiles, ignore_errors=True)\n",
    "\n",
    "    X = {\n",
    "        \"ECFP\": feats_ecfp[ind_ecfp],\n",
    "        \"Mordred\": feats_mordred[ind_mordred],\n",
    "        \"ChemBERTa\": feats_chemberta[ind_chemberta],\n",
    "    }\n",
    "\n",
    "    # Get the train-test split\n",
    "    train_active_ind, train_decoy_ind = get_train_decoy_split_for_target(target, no_of_actives=20)\n",
    "    train_decoy_ind = [i + n_actives for i in train_decoy_ind]\n",
    "\n",
    "    for feat_name, feats in X.items():\n",
    "\n",
    "        # Train the model\n",
    "        knn = KNeighborsClassifier()\n",
    "        train_ind = np.concatenate([train_active_ind, train_decoy_ind])\n",
    "        test_ind = np.array([i for i in range(len(df)) if i not in train_ind])\n",
    "        knn.fit(feats[train_ind], df.iloc[train_ind][\"target\"].values)\n",
    "\n",
    "        # Get targets and predictions\n",
    "        y_true = df.iloc[test_ind][\"target\"].values\n",
    "        y_pred = knn.predict_proba(feats[test_ind])[:, 1]\n",
    "\n",
    "        # Compute the recovery score\n",
    "        auc = roc_auc_score(y_true, y_pred)\n",
    "        results[feat_name][target] = auc"
   ]
  },
  {
   "cell_type": "code",
   "execution_count": 16,
   "metadata": {
    "pycharm": {
     "is_executing": true
    }
   },
   "outputs": [
    {
     "data": {
      "text/plain": [
       "<matplotlib.legend.Legend at 0x7f126d51d3a0>"
      ]
     },
     "execution_count": 16,
     "metadata": {},
     "output_type": "execute_result"
    },
    {
     "data": {
      "image/png": "[encoded data removed]",
      "text/plain": [
       "<Figure size 1000x600 with 1 Axes>"
      ]
     },
     "metadata": {},
     "output_type": "display_data"
    }
   ],
   "source": [
    "# Replicate the figure from https://doi.org/10.1021/ci400466r\n",
    "\n",
    "xs = list(range(len(TARGETS)))\n",
    "\n",
    "ecfp_scores = [results[\"ECFP\"][target] for target in TARGETS]\n",
    "mordred_scores = [results[\"Mordred\"][target] for target in TARGETS]\n",
    "chemberta_scores = [results[\"ChemBERTa\"][target] for target in TARGETS]\n",
    "\n",
    "fig, ax = plt.subplots(figsize=(10, 6))\n",
    "for scores, label in zip([ecfp_scores, mordred_scores, chemberta_scores], [\"ECFP\", \"Mordred\", \"ChemBERTa\"]):\n",
    "    ax.plot(xs, scores, label=label)\n",
    "\n",
    "ax.set_xlabel(\"Target\")\n",
    "ax.set_ylabel(\"AUC\")\n",
    "ax.set_xticks(xs)\n",
    "ax.set_xticklabels(TARGETS, rotation=90)\n",
    "ax.legend()"
   ]
  },
  {
   "cell_type": "markdown",
   "metadata": {},
   "source": [
    "#### Conclusion\n",
    "For search, we observe yet again that the performance heavily depends on the featurizer. \n",
    "\n",
    "## Citations\n",
    "1. Wu, Z., Ramsundar, B., Feinberg, E. N., Gomes, J., Geniesse, C., Pappu, A. S., ... & Pande, V. (2018). MoleculeNet: a benchmark for molecular machine learning. Chemical science, 9(2), 513-530.\n",
    "2. Riniker, S., Fechner, N., & Landrum, G. A. (2013). Heterogeneous classifier fusion for ligand-based virtual screening: or, how decision making by committee can be a good thing. Journal of chemical information and modeling, 53(11), 2829-2836.\n",
    "3. Riniker, S., & Landrum, G. A. (2013). Open-source platform to benchmark fingerprints for ligand-based virtual screening. Journal of cheminformatics, 5(1), 26.\n",
    "4. Rogers, D., & Hahn, M. (2010). Extended-connectivity fingerprints. Journal of chemical information and modeling, 50(5), 742-754.\n",
    "5. Moriwaki, H., Tian, Y. S., Kawashita, N., & Takagi, T. (2018). Mordred: a molecular descriptor calculator. Journal of cheminformatics, 10(1), 1-14.\n",
    "6. Chithrananda, S., Grand, G., & Ramsundar, B. (2020). Chemberta: Large-scale self-supervised pretraining for molecular property prediction. arXiv preprint arXiv:2010.09885.\n",
    "7. Efficient and Robust Automated Machine Learning Matthias Feurer, Aaron Klein, Katharina Eggensperger, Jost Springenberg, Manuel Blum and Frank Hutter Advances in Neural Information Processing Systems 28 (2015)\n",
    "8. Auto-Sklearn 2.0: The Next Generation Matthias Feurer, Katharina Eggensperger, Stefan Falkner, Marius Lindauer and Frank Hutter* arXiv:2007.04074 [cs.LG], 2020\n"
   ]
  }
 ],
 "metadata": {
  "kernelspec": {
   "display_name": "Python 3 (ipykernel)",
   "language": "python",
   "name": "python3"
  },
  "language_info": {
   "codemirror_mode": {
    "name": "ipython",
    "version": 3
   },
   "file_extension": ".py",
   "mimetype": "text/x-python",
   "name": "python",
   "nbconvert_exporter": "python",
   "pygments_lexer": "ipython3",
   "version": "3.9.16"
  },
  "vscode": {
   "interpreter": {
    "hash": "dd64925fe6617865d410306d2b64fa69b44b63a36aad85fd11f7d4e4dc7609f3"
   }
  }
 },
 "nbformat": 4,
 "nbformat_minor": 4
}
