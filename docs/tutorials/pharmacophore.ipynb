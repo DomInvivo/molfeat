{
 "cells": [
  {
   "cell_type": "markdown",
   "id": "3d773e18-4905-4577-9800-80a2e22fb98b",
   "metadata": {},
   "source": [
    "This notebook will highlight the features of the pharmacophore featurizers 2D and 3D."
   ]
  },
  {
   "cell_type": "code",
   "execution_count": 1,
   "id": "b5df2ac6-2ded-4597-a445-f2b5fb106330",
   "metadata": {},
   "outputs": [
    {
     "name": "stderr",
     "output_type": "stream",
     "text": [
      "[11:16:01] /opt/dgl/src/runtime/tensordispatch.cc:Using backend: pytorch\n",
      "43: TensorDispatcher: dlopen failed: /home/hadim/local/conda/envs/molfeat/lib/python3.8/site-packages/dgl/tensoradapter/pytorch/libtensoradapter_pytorch_1.8.0.post3.so: cannot open shared object file: No such file or directory\n"
     ]
    }
   ],
   "source": [
    "%load_ext autoreload\n",
    "%autoreload 2\n",
    "\n",
    "import numpy as np\n",
    "import datamol as dm\n",
    "import pandas as pd\n",
    "\n",
    "from molfeat.calc import Pharmacophore2D\n",
    "from molfeat.calc import Pharmacophore3D"
   ]
  },
  {
   "cell_type": "markdown",
   "id": "e9c3d09f-a2a9-4324-994a-267ca30eb214",
   "metadata": {},
   "source": [
    "## Pharmacophore 2D\n",
    "\n",
    "The pharmacophore 2D featurizer is similar to any other molfeat featurizers.\n",
    "\n",
    "- The `factory` argument decides how the features are detected. You can choose from `\"default\", \"cats\", \"gobbi\" , \"pmapper\"` but you can also directly pass and RDKit `MolChemicalFeatureFactory` object or a path to a feature definition file.\n",
    "- `length` allows you to set the length of the fingerprint. It's 2048 by default. If set to None, the default depends on the `factory` used. We strongly recommend using a fixed length. But you should also check for collision and adapt the length for it. Usually, 2048 is a good tradeoff.\n",
    "- Finally, you can set any parameters for the signature factory. Check the docstring for more details.\n",
    "  - `useCounts`\n",
    "  - `minPointCount`\n",
    "  - `maxPointCount`\n",
    "  - `shortestPathsOnly`\n",
    "  - `includeBondOrder`\n",
    "  - `skipFeats`\n",
    "  - `trianglePruneBins`\n",
    "  - `bins`"
   ]
  },
  {
   "cell_type": "code",
   "execution_count": 3,
   "id": "55d0b0f2-571e-484c-b22f-bbfce8182c34",
   "metadata": {},
   "outputs": [
    {
     "data": {
      "image/png": "[encoded data removed]",
      "text/plain": [
       "<rdkit.Chem.rdchem.Mol at 0x7fa8a0704a00>"
      ]
     },
     "execution_count": 3,
     "metadata": {},
     "output_type": "execute_result"
    }
   ],
   "source": [
    "# Get a molecule\n",
    "mol = dm.to_mol(\"Nc1cnn(-c2ccccc2)c(=O)c1Cl\")\n",
    "\n",
    "mol"
   ]
  },
  {
   "cell_type": "code",
   "execution_count": 5,
   "id": "175d77f6-11e4-47cd-8641-776bf6f9ff2a",
   "metadata": {},
   "outputs": [
    {
     "name": "stdout",
     "output_type": "stream",
     "text": [
      "2048\n",
      "(2048,)\n"
     ]
    },
    {
     "data": {
      "text/plain": [
       "array([0., 1., 0., ..., 0., 0., 0.])"
      ]
     },
     "execution_count": 5,
     "metadata": {},
     "output_type": "execute_result"
    }
   ],
   "source": [
    "# Create the featurizer\n",
    "featurizer = Pharmacophore2D(factory=\"pmapper\", length=2048)\n",
    "\n",
    "print(len(featurizer))\n",
    "\n",
    "# Computing a fingerprint\n",
    "fp = featurizer(mol)\n",
    "\n",
    "print(fp.shape)\n",
    "fp"
   ]
  },
  {
   "cell_type": "markdown",
   "id": "0ec7d2c2-2462-4181-9929-76ffc3c1363b",
   "metadata": {},
   "source": [
    "## Pharmacophore 3D\n",
    "\n",
    "The pharmacophore 3D featurizer is different from the 2D featurizer:\n",
    "\n",
    "- It requires the molecules to have conformer.\n",
    "- It allows extracting pharmacophoric features as dataframe.\n",
    "- It ships a couple of 3D viz features.\n",
    "- It supports building a consensus features list and fingerprint."
   ]
  },
  {
   "cell_type": "markdown",
   "id": "7cc3cdf2-37e1-42ad-9936-cdd471b775ca",
   "metadata": {},
   "source": [
    "### Regular one-molecule featurizer\n",
    "\n",
    "In this section we are going to extract the feature for one molecule, compute the associated fingerprint and finally visualize the features in 3D."
   ]
  },
  {
   "cell_type": "code",
   "execution_count": 6,
   "id": "24e15c59-f189-4221-976f-3866877bd2e8",
   "metadata": {},
   "outputs": [
    {
     "data": {
      "image/png": "[encoded data removed]",
      "text/plain": [
       "<rdkit.Chem.rdchem.Mol at 0x7fa8533b3760>"
      ]
     },
     "execution_count": 6,
     "metadata": {},
     "output_type": "execute_result"
    }
   ],
   "source": [
    "# Get a molecule\n",
    "mol = dm.to_mol(\"Nc1cnn(-c2ccccc2)c(=O)c1Cl\")\n",
    "mol = dm.conformers.generate(mol, n_confs=1)\n",
    "\n",
    "# Build a conformer\n",
    "\n",
    "mol"
   ]
  },
  {
   "cell_type": "markdown",
   "id": "6eed63ca-e750-44e8-8f9b-118d0228c5b6",
   "metadata": {},
   "source": [
    "Note that `bin_step` is an important parameter that influence the \"bluriness\" of your pharmacophoric features. It will also impact the true size of the fingerprint and so also influences fingerprint collision when `length` is provided."
   ]
  },
  {
   "cell_type": "code",
   "execution_count": 7,
   "id": "a84a262a-e0c4-46b1-96b4-4680f539d1b2",
   "metadata": {},
   "outputs": [
    {
     "data": {
      "text/html": [
       "<div>\n",
       "<style scoped>\n",
       "    .dataframe tbody tr th:only-of-type {\n",
       "        vertical-align: middle;\n",
       "    }\n",
       "\n",
       "    .dataframe tbody tr th {\n",
       "        vertical-align: top;\n",
       "    }\n",
       "\n",
       "    .dataframe thead th {\n",
       "        text-align: right;\n",
       "    }\n",
       "</style>\n",
       "<table border=\"1\" class=\"dataframe\">\n",
       "  <thead>\n",
       "    <tr style=\"text-align: right;\">\n",
       "      <th></th>\n",
       "      <th>feature_id</th>\n",
       "      <th>feature_name</th>\n",
       "      <th>feature_type</th>\n",
       "      <th>atom_indices</th>\n",
       "      <th>coords</th>\n",
       "    </tr>\n",
       "  </thead>\n",
       "  <tbody>\n",
       "    <tr>\n",
       "      <th>0</th>\n",
       "      <td>1</td>\n",
       "      <td>a</td>\n",
       "      <td>ar6</td>\n",
       "      <td>(1, 2, 3, 4, 11, 13)</td>\n",
       "      <td>[1.6073308945212306, -0.36478682508765736, 0.1...</td>\n",
       "    </tr>\n",
       "    <tr>\n",
       "      <th>1</th>\n",
       "      <td>2</td>\n",
       "      <td>a</td>\n",
       "      <td>ar6</td>\n",
       "      <td>(5, 6, 7, 8, 9, 10)</td>\n",
       "      <td>[-2.5373606040975885, 0.26569516099436263, -0....</td>\n",
       "    </tr>\n",
       "    <tr>\n",
       "      <th>2</th>\n",
       "      <td>3</td>\n",
       "      <td>D</td>\n",
       "      <td>N_HBD</td>\n",
       "      <td>(0,)</td>\n",
       "      <td>[4.374047166053936, -0.7628191630259037, 0.243...</td>\n",
       "    </tr>\n",
       "    <tr>\n",
       "      <th>3</th>\n",
       "      <td>4</td>\n",
       "      <td>A</td>\n",
       "      <td>N_HBA</td>\n",
       "      <td>(3,)</td>\n",
       "      <td>[0.7699593756605752, -1.3098389937058816, 0.56...</td>\n",
       "    </tr>\n",
       "    <tr>\n",
       "      <th>4</th>\n",
       "      <td>5</td>\n",
       "      <td>A</td>\n",
       "      <td>O_HBA</td>\n",
       "      <td>(12,)</td>\n",
       "      <td>[0.6258053493478449, 1.8317635297679282, -0.79...</td>\n",
       "    </tr>\n",
       "    <tr>\n",
       "      <th>5</th>\n",
       "      <td>6</td>\n",
       "      <td>H</td>\n",
       "      <td>ar6_hyd</td>\n",
       "      <td>(1, 2, 3, 4, 11, 13)</td>\n",
       "      <td>[1.6073308945212306, -0.36478682508765736, 0.1...</td>\n",
       "    </tr>\n",
       "    <tr>\n",
       "      <th>6</th>\n",
       "      <td>7</td>\n",
       "      <td>H</td>\n",
       "      <td>ar6_hyd</td>\n",
       "      <td>(5, 6, 7, 8, 9, 10)</td>\n",
       "      <td>[-2.5373606040975885, 0.26569516099436263, -0....</td>\n",
       "    </tr>\n",
       "    <tr>\n",
       "      <th>7</th>\n",
       "      <td>8</td>\n",
       "      <td>H</td>\n",
       "      <td>hyd_1</td>\n",
       "      <td>(14,)</td>\n",
       "      <td>[3.501330026469845, 1.8924330558014002, -0.888...</td>\n",
       "    </tr>\n",
       "  </tbody>\n",
       "</table>\n",
       "</div>"
      ],
      "text/plain": [
       "   feature_id feature_name feature_type          atom_indices  \\\n",
       "0           1            a          ar6  (1, 2, 3, 4, 11, 13)   \n",
       "1           2            a          ar6   (5, 6, 7, 8, 9, 10)   \n",
       "2           3            D        N_HBD                  (0,)   \n",
       "3           4            A        N_HBA                  (3,)   \n",
       "4           5            A        O_HBA                 (12,)   \n",
       "5           6            H      ar6_hyd  (1, 2, 3, 4, 11, 13)   \n",
       "6           7            H      ar6_hyd   (5, 6, 7, 8, 9, 10)   \n",
       "7           8            H        hyd_1                 (14,)   \n",
       "\n",
       "                                              coords  \n",
       "0  [1.6073308945212306, -0.36478682508765736, 0.1...  \n",
       "1  [-2.5373606040975885, 0.26569516099436263, -0....  \n",
       "2  [4.374047166053936, -0.7628191630259037, 0.243...  \n",
       "3  [0.7699593756605752, -1.3098389937058816, 0.56...  \n",
       "4  [0.6258053493478449, 1.8317635297679282, -0.79...  \n",
       "5  [1.6073308945212306, -0.36478682508765736, 0.1...  \n",
       "6  [-2.5373606040975885, 0.26569516099436263, -0....  \n",
       "7  [3.501330026469845, 1.8924330558014002, -0.888...  "
      ]
     },
     "execution_count": 7,
     "metadata": {},
     "output_type": "execute_result"
    }
   ],
   "source": [
    "# Create the featurizer\n",
    "featurizer = Pharmacophore3D(factory=\"pmapper\", length=2048, bin_step=1)\n",
    "\n",
    "# Extract the features\n",
    "features = featurizer.get_features(mol)\n",
    "\n",
    "features"
   ]
  },
  {
   "cell_type": "markdown",
   "id": "12c6169a-83ef-485c-a9c0-110a82238915",
   "metadata": {},
   "source": [
    "The extracted features are returned as a dataframe.\n",
    "\n",
    "Next is to compute the associated fingerprint."
   ]
  },
  {
   "cell_type": "code",
   "execution_count": 8,
   "id": "a7b796e8-764d-4b6e-b44c-9f639038cd4c",
   "metadata": {},
   "outputs": [
    {
     "name": "stdout",
     "output_type": "stream",
     "text": [
      "(2048,)\n",
      "76\n"
     ]
    },
    {
     "data": {
      "text/plain": [
       "array([1, 0, 0, ..., 0, 0, 0])"
      ]
     },
     "execution_count": 8,
     "metadata": {},
     "output_type": "execute_result"
    }
   ],
   "source": [
    "# Compute a fingerprint for a molecule\n",
    "fp = featurizer(mol)\n",
    "\n",
    "print(fp.shape)\n",
    "print(fp.sum())\n",
    "fp"
   ]
  },
  {
   "cell_type": "markdown",
   "id": "e9ce3bbd-49bf-49b5-bbc0-029dbb5519d9",
   "metadata": {},
   "source": [
    "It's also possible to visualize the features."
   ]
  },
  {
   "cell_type": "code",
   "execution_count": 9,
   "id": "b3cee314-4ba8-4607-9cd1-8fa3b5bd596e",
   "metadata": {},
   "outputs": [
    {
     "data": {
      "application/vnd.jupyter.widget-view+json": {
       "model_id": "647fea6ecf1d4216875381b2bf1863d0",
       "version_major": 2,
       "version_minor": 0
      },
      "text/plain": []
     },
     "metadata": {},
     "output_type": "display_data"
    },
    {
     "data": {
      "application/vnd.jupyter.widget-view+json": {
       "model_id": "ca1ec1c2b6e8425bad8f5c8bd78c624f",
       "version_major": 2,
       "version_minor": 0
      },
      "text/plain": [
       "HBox(children=(NGLWidget(), Box(children=(Button(description='a', style=ButtonStyle(button_color='#e41a1c')), …"
      ]
     },
     "metadata": {},
     "output_type": "display_data"
    }
   ],
   "source": [
    "# Show the conformer with the pharmacophoric features\n",
    "featurizer.show(mol, show_legend=True)"
   ]
  },
  {
   "cell_type": "markdown",
   "id": "3f9dd0e5-2aea-4a1b-9584-344002126a78",
   "metadata": {},
   "source": [
    "The 3D viz is not available in the documentation. Here is a screenshot.\n",
    "\n",
    "![pharm_3d_one_mol.png.png](./images/pharm_3d_one_mol.png)"
   ]
  },
  {
   "cell_type": "markdown",
   "id": "9b35c39c-6225-4652-a9df-67f1722ccea3",
   "metadata": {},
   "source": [
    "### Consensus pharmacophore\n",
    "\n",
    "A consensus pharamacophore combine multiple molecules together and build a list of features using a clustering approach.\n",
    "\n",
    "First we start with a list of similar molecules."
   ]
  },
  {
   "cell_type": "code",
   "execution_count": 10,
   "id": "94f6f2b2-ebe0-4262-9aa2-9fbf06e04b4c",
   "metadata": {},
   "outputs": [
    {
     "data": {
      "image/svg+xml": [
       "<svg xmlns=\"http://www.w3.org/2000/svg\" xmlns:rdkit=\"http://www.rdkit.org/xml\" xmlns:xlink=\"http://www.w3.org/1999/xlink\" version=\"1.1\" baseProfile=\"full\" xml:space=\"preserve\" width=\"1200px\" height=\"300px\" viewBox=\"0 0 1200 300\">\n",
       "<!-- END OF HEADER -->\n",
       "<rect style=\"opacity:1.0;fill:#FFFFFF;stroke:none\" width=\"1200.0\" height=\"300.0\" x=\"0.0\" y=\"0.0\"> </rect>\n",
       "<rect style=\"opacity:1.0;fill:#FFFFFF;stroke:none\" width=\"1200.0\" height=\"300.0\" x=\"0.0\" y=\"0.0\"> </rect>\n",
       "<rect style=\"opacity:1.0;fill:#FFFFFF;stroke:none\" width=\"1200.0\" height=\"300.0\" x=\"0.0\" y=\"0.0\"> </rect>\n",
       "<rect style=\"opacity:1.0;fill:#FFFFFF;stroke:none\" width=\"1200.0\" height=\"300.0\" x=\"0.0\" y=\"0.0\"> </rect>\n",
       "<rect style=\"opacity:1.0;fill:#FFFFFF;stroke:none\" width=\"1200.0\" height=\"300.0\" x=\"0.0\" y=\"0.0\"> </rect>\n",
       "<path class=\"bond-0 atom-0 atom-1\" d=\"M 259.4,161.9 L 242.1,159.3\" style=\"fill:none;fill-rule:evenodd;stroke:#0000FF;stroke-width:2.0px;stroke-linecap:butt;stroke-linejoin:miter;stroke-opacity:1\"/>\n",
       "<path class=\"bond-0 atom-0 atom-1\" d=\"M 242.1,159.3 L 224.8,156.7\" style=\"fill:none;fill-rule:evenodd;stroke:#000000;stroke-width:2.0px;stroke-linecap:butt;stroke-linejoin:miter;stroke-opacity:1\"/>\n",
       "<path class=\"bond-1 atom-1 atom-2\" d=\"M 224.8,156.7 L 199.4,184.4\" style=\"fill:none;fill-rule:evenodd;stroke:#000000;stroke-width:2.0px;stroke-linecap:butt;stroke-linejoin:miter;stroke-opacity:1\"/>\n",
       "<path class=\"bond-14 atom-13 atom-1\" d=\"M 209.6,122.7 L 224.8,156.7\" style=\"fill:none;fill-rule:evenodd;stroke:#000000;stroke-width:2.0px;stroke-linecap:butt;stroke-linejoin:miter;stroke-opacity:1\"/>\n",
       "<path class=\"bond-14 atom-13 atom-1\" d=\"M 203.9,131.4 L 214.6,155.2\" style=\"fill:none;fill-rule:evenodd;stroke:#000000;stroke-width:2.0px;stroke-linecap:butt;stroke-linejoin:miter;stroke-opacity:1\"/>\n",
       "<path class=\"bond-2 atom-2 atom-3\" d=\"M 199.4,184.4 L 182.9,181.9\" style=\"fill:none;fill-rule:evenodd;stroke:#000000;stroke-width:2.0px;stroke-linecap:butt;stroke-linejoin:miter;stroke-opacity:1\"/>\n",
       "<path class=\"bond-2 atom-2 atom-3\" d=\"M 182.9,181.9 L 166.4,179.4\" style=\"fill:none;fill-rule:evenodd;stroke:#0000FF;stroke-width:2.0px;stroke-linecap:butt;stroke-linejoin:miter;stroke-opacity:1\"/>\n",
       "<path class=\"bond-2 atom-2 atom-3\" d=\"M 195.7,175.1 L 184.2,173.3\" style=\"fill:none;fill-rule:evenodd;stroke:#000000;stroke-width:2.0px;stroke-linecap:butt;stroke-linejoin:miter;stroke-opacity:1\"/>\n",
       "<path class=\"bond-2 atom-2 atom-3\" d=\"M 184.2,173.3 L 172.6,171.6\" style=\"fill:none;fill-rule:evenodd;stroke:#0000FF;stroke-width:2.0px;stroke-linecap:butt;stroke-linejoin:miter;stroke-opacity:1\"/>\n",
       "<path class=\"bond-3 atom-3 atom-4\" d=\"M 157.4,171.5 L 148.6,152.8\" style=\"fill:none;fill-rule:evenodd;stroke:#0000FF;stroke-width:2.0px;stroke-linecap:butt;stroke-linejoin:miter;stroke-opacity:1\"/>\n",
       "<path class=\"bond-4 atom-4 atom-5\" d=\"M 139.7,145.1 L 122.4,142.4\" style=\"fill:none;fill-rule:evenodd;stroke:#0000FF;stroke-width:2.0px;stroke-linecap:butt;stroke-linejoin:miter;stroke-opacity:1\"/>\n",
       "<path class=\"bond-4 atom-4 atom-5\" d=\"M 122.4,142.4 L 105.0,139.6\" style=\"fill:none;fill-rule:evenodd;stroke:#000000;stroke-width:2.0px;stroke-linecap:butt;stroke-linejoin:miter;stroke-opacity:1\"/>\n",
       "<path class=\"bond-10 atom-4 atom-11\" d=\"M 151.0,139.8 L 160.5,129.3\" style=\"fill:none;fill-rule:evenodd;stroke:#0000FF;stroke-width:2.0px;stroke-linecap:butt;stroke-linejoin:miter;stroke-opacity:1\"/>\n",
       "<path class=\"bond-10 atom-4 atom-11\" d=\"M 160.5,129.3 L 169.9,118.8\" style=\"fill:none;fill-rule:evenodd;stroke:#000000;stroke-width:2.0px;stroke-linecap:butt;stroke-linejoin:miter;stroke-opacity:1\"/>\n",
       "<path class=\"bond-5 atom-5 atom-6\" d=\"M 105.0,139.6 L 79.9,167.4\" style=\"fill:none;fill-rule:evenodd;stroke:#000000;stroke-width:2.0px;stroke-linecap:butt;stroke-linejoin:miter;stroke-opacity:1\"/>\n",
       "<path class=\"bond-5 atom-5 atom-6\" d=\"M 94.8,138.0 L 77.2,157.4\" style=\"fill:none;fill-rule:evenodd;stroke:#000000;stroke-width:2.0px;stroke-linecap:butt;stroke-linejoin:miter;stroke-opacity:1\"/>\n",
       "<path class=\"bond-15 atom-10 atom-5\" d=\"M 89.3,105.2 L 105.0,139.6\" style=\"fill:none;fill-rule:evenodd;stroke:#000000;stroke-width:2.0px;stroke-linecap:butt;stroke-linejoin:miter;stroke-opacity:1\"/>\n",
       "<path class=\"bond-6 atom-6 atom-7\" d=\"M 79.9,167.4 L 40.2,161.0\" style=\"fill:none;fill-rule:evenodd;stroke:#000000;stroke-width:2.0px;stroke-linecap:butt;stroke-linejoin:miter;stroke-opacity:1\"/>\n",
       "<path class=\"bond-7 atom-7 atom-8\" d=\"M 40.2,161.0 L 25.3,126.0\" style=\"fill:none;fill-rule:evenodd;stroke:#000000;stroke-width:2.0px;stroke-linecap:butt;stroke-linejoin:miter;stroke-opacity:1\"/>\n",
       "<path class=\"bond-7 atom-7 atom-8\" d=\"M 46.0,152.3 L 35.5,127.8\" style=\"fill:none;fill-rule:evenodd;stroke:#000000;stroke-width:2.0px;stroke-linecap:butt;stroke-linejoin:miter;stroke-opacity:1\"/>\n",
       "<path class=\"bond-8 atom-8 atom-9\" d=\"M 25.3,126.0 L 49.8,98.3\" style=\"fill:none;fill-rule:evenodd;stroke:#000000;stroke-width:2.0px;stroke-linecap:butt;stroke-linejoin:miter;stroke-opacity:1\"/>\n",
       "<path class=\"bond-9 atom-9 atom-10\" d=\"M 49.8,98.3 L 89.3,105.2\" style=\"fill:none;fill-rule:evenodd;stroke:#000000;stroke-width:2.0px;stroke-linecap:butt;stroke-linejoin:miter;stroke-opacity:1\"/>\n",
       "<path class=\"bond-9 atom-9 atom-10\" d=\"M 54.3,107.9 L 81.9,112.7\" style=\"fill:none;fill-rule:evenodd;stroke:#000000;stroke-width:2.0px;stroke-linecap:butt;stroke-linejoin:miter;stroke-opacity:1\"/>\n",
       "<path class=\"bond-11 atom-11 atom-12\" d=\"M 172.3,117.7 L 167.2,105.8\" style=\"fill:none;fill-rule:evenodd;stroke:#000000;stroke-width:2.0px;stroke-linecap:butt;stroke-linejoin:miter;stroke-opacity:1\"/>\n",
       "<path class=\"bond-11 atom-11 atom-12\" d=\"M 167.2,105.8 L 162.1,93.8\" style=\"fill:none;fill-rule:evenodd;stroke:#FF0000;stroke-width:2.0px;stroke-linecap:butt;stroke-linejoin:miter;stroke-opacity:1\"/>\n",
       "<path class=\"bond-11 atom-11 atom-12\" d=\"M 167.5,119.8 L 162.4,107.8\" style=\"fill:none;fill-rule:evenodd;stroke:#000000;stroke-width:2.0px;stroke-linecap:butt;stroke-linejoin:miter;stroke-opacity:1\"/>\n",
       "<path class=\"bond-11 atom-11 atom-12\" d=\"M 162.4,107.8 L 157.3,95.9\" style=\"fill:none;fill-rule:evenodd;stroke:#FF0000;stroke-width:2.0px;stroke-linecap:butt;stroke-linejoin:miter;stroke-opacity:1\"/>\n",
       "<path class=\"bond-12 atom-11 atom-13\" d=\"M 169.9,118.8 L 209.6,122.7\" style=\"fill:none;fill-rule:evenodd;stroke:#000000;stroke-width:2.0px;stroke-linecap:butt;stroke-linejoin:miter;stroke-opacity:1\"/>\n",
       "<path class=\"bond-13 atom-13 atom-14\" d=\"M 209.6,122.7 L 221.7,107.9\" style=\"fill:none;fill-rule:evenodd;stroke:#000000;stroke-width:2.0px;stroke-linecap:butt;stroke-linejoin:miter;stroke-opacity:1\"/>\n",
       "<path class=\"bond-13 atom-13 atom-14\" d=\"M 221.7,107.9 L 233.9,93.1\" style=\"fill:none;fill-rule:evenodd;stroke:#00CC00;stroke-width:2.0px;stroke-linecap:butt;stroke-linejoin:miter;stroke-opacity:1\"/>\n",
       "<path class=\"atom-0\" d=\"M 262.4 156.6 L 266.4 163.1 Q 266.8 163.7, 267.5 164.9 Q 268.1 166.1, 268.1 166.1 L 268.1 156.6 L 269.8 156.6 L 269.8 168.9 L 268.1 168.9 L 263.8 161.7 Q 263.3 160.9, 262.7 160.0 Q 262.2 159.0, 262.0 158.7 L 262.0 168.9 L 260.4 168.9 L 260.4 156.6 L 262.4 156.6 \" fill=\"#0000FF\"/>\n",
       "<path class=\"atom-0\" d=\"M 271.2 156.6 L 272.9 156.6 L 272.9 161.8 L 279.2 161.8 L 279.2 156.6 L 280.9 156.6 L 280.9 168.9 L 279.2 168.9 L 279.2 163.2 L 272.9 163.2 L 272.9 168.9 L 271.2 168.9 L 271.2 156.6 \" fill=\"#0000FF\"/>\n",
       "<path class=\"atom-0\" d=\"M 281.5 168.4 Q 281.8 167.7, 282.5 167.2 Q 283.2 166.8, 284.2 166.8 Q 285.4 166.8, 286.1 167.5 Q 286.8 168.1, 286.8 169.3 Q 286.8 170.5, 285.9 171.6 Q 285.0 172.8, 283.2 174.1 L 286.9 174.1 L 286.9 175.0 L 281.4 175.0 L 281.4 174.2 Q 283.0 173.2, 283.9 172.4 Q 284.8 171.6, 285.2 170.8 Q 285.6 170.1, 285.6 169.4 Q 285.6 168.6, 285.2 168.2 Q 284.9 167.7, 284.2 167.7 Q 283.5 167.7, 283.1 168.0 Q 282.7 168.3, 282.3 168.8 L 281.5 168.4 \" fill=\"#0000FF\"/>\n",
       "<path class=\"atom-3\" d=\"M 158.0 172.4 L 162.0 178.9 Q 162.4 179.6, 163.1 180.7 Q 163.7 181.9, 163.8 182.0 L 163.8 172.4 L 165.4 172.4 L 165.4 184.7 L 163.7 184.7 L 159.4 177.6 Q 158.9 176.8, 158.3 175.8 Q 157.8 174.8, 157.7 174.5 L 157.7 184.7 L 156.1 184.7 L 156.1 172.4 L 158.0 172.4 \" fill=\"#0000FF\"/>\n",
       "<path class=\"atom-4\" d=\"M 142.7 139.8 L 146.7 146.3 Q 147.1 147.0, 147.7 148.1 Q 148.4 149.3, 148.4 149.4 L 148.4 139.8 L 150.1 139.8 L 150.1 152.1 L 148.4 152.1 L 144.0 145.0 Q 143.5 144.1, 143.0 143.2 Q 142.5 142.2, 142.3 141.9 L 142.3 152.1 L 140.7 152.1 L 140.7 139.8 L 142.7 139.8 \" fill=\"#0000FF\"/>\n",
       "<path class=\"atom-12\" d=\"M 150.9 87.6 Q 150.9 84.6, 152.4 83.0 Q 153.8 81.3, 156.5 81.3 Q 159.3 81.3, 160.7 83.0 Q 162.2 84.6, 162.2 87.6 Q 162.2 90.6, 160.7 92.3 Q 159.2 94.0, 156.5 94.0 Q 153.8 94.0, 152.4 92.3 Q 150.9 90.6, 150.9 87.6 M 156.5 92.6 Q 158.4 92.6, 159.4 91.3 Q 160.5 90.1, 160.5 87.6 Q 160.5 85.2, 159.4 84.0 Q 158.4 82.7, 156.5 82.7 Q 154.7 82.7, 153.6 84.0 Q 152.6 85.2, 152.6 87.6 Q 152.6 90.1, 153.6 91.3 Q 154.7 92.6, 156.5 92.6 \" fill=\"#FF0000\"/>\n",
       "<path class=\"atom-14\" d=\"M 235.1 86.2 Q 235.1 83.2, 236.5 81.6 Q 237.9 80.0, 240.7 80.0 Q 243.2 80.0, 244.6 81.8 L 243.4 82.7 Q 242.4 81.4, 240.7 81.4 Q 238.8 81.4, 237.8 82.6 Q 236.9 83.9, 236.9 86.2 Q 236.9 88.7, 237.9 89.9 Q 238.9 91.2, 240.9 91.2 Q 242.2 91.2, 243.8 90.4 L 244.3 91.7 Q 243.6 92.1, 242.7 92.3 Q 241.7 92.6, 240.6 92.6 Q 237.9 92.6, 236.5 90.9 Q 235.1 89.3, 235.1 86.2 \" fill=\"#00CC00\"/>\n",
       "<path class=\"atom-14\" d=\"M 246.1 79.2 L 247.7 79.2 L 247.7 92.4 L 246.1 92.4 L 246.1 79.2 \" fill=\"#00CC00\"/>\n",
       "<path class=\"bond-0 atom-0 atom-1\" d=\"M 313.1,150.2 L 355.4,145.8\" style=\"fill:none;fill-rule:evenodd;stroke:#000000;stroke-width:2.0px;stroke-linecap:butt;stroke-linejoin:miter;stroke-opacity:1\"/>\n",
       "<path class=\"bond-1 atom-1 atom-2\" d=\"M 355.4,145.8 L 373.7,110.4\" style=\"fill:none;fill-rule:evenodd;stroke:#000000;stroke-width:2.0px;stroke-linecap:butt;stroke-linejoin:miter;stroke-opacity:1\"/>\n",
       "<path class=\"bond-14 atom-13 atom-1\" d=\"M 378.8,178.1 L 355.4,145.8\" style=\"fill:none;fill-rule:evenodd;stroke:#000000;stroke-width:2.0px;stroke-linecap:butt;stroke-linejoin:miter;stroke-opacity:1\"/>\n",
       "<path class=\"bond-14 atom-13 atom-1\" d=\"M 382.3,168.2 L 366.0,145.6\" style=\"fill:none;fill-rule:evenodd;stroke:#000000;stroke-width:2.0px;stroke-linecap:butt;stroke-linejoin:miter;stroke-opacity:1\"/>\n",
       "<path class=\"bond-2 atom-2 atom-3\" d=\"M 373.7,110.4 L 413.5,108.1\" style=\"fill:none;fill-rule:evenodd;stroke:#000000;stroke-width:2.0px;stroke-linecap:butt;stroke-linejoin:miter;stroke-opacity:1\"/>\n",
       "<path class=\"bond-2 atom-2 atom-3\" d=\"M 380.2,118.7 L 408.1,117.1\" style=\"fill:none;fill-rule:evenodd;stroke:#000000;stroke-width:2.0px;stroke-linecap:butt;stroke-linejoin:miter;stroke-opacity:1\"/>\n",
       "<path class=\"bond-3 atom-3 atom-4\" d=\"M 413.5,108.1 L 422.4,120.3\" style=\"fill:none;fill-rule:evenodd;stroke:#000000;stroke-width:2.0px;stroke-linecap:butt;stroke-linejoin:miter;stroke-opacity:1\"/>\n",
       "<path class=\"bond-3 atom-3 atom-4\" d=\"M 422.4,120.3 L 431.2,132.6\" style=\"fill:none;fill-rule:evenodd;stroke:#0000FF;stroke-width:2.0px;stroke-linecap:butt;stroke-linejoin:miter;stroke-opacity:1\"/>\n",
       "<path class=\"bond-4 atom-4 atom-5\" d=\"M 442.0,139.4 L 459.8,138.4\" style=\"fill:none;fill-rule:evenodd;stroke:#0000FF;stroke-width:2.0px;stroke-linecap:butt;stroke-linejoin:miter;stroke-opacity:1\"/>\n",
       "<path class=\"bond-4 atom-4 atom-5\" d=\"M 459.8,138.4 L 477.5,137.3\" style=\"fill:none;fill-rule:evenodd;stroke:#000000;stroke-width:2.0px;stroke-linecap:butt;stroke-linejoin:miter;stroke-opacity:1\"/>\n",
       "<path class=\"bond-10 atom-4 atom-11\" d=\"M 432.6,146.8 L 425.5,160.6\" style=\"fill:none;fill-rule:evenodd;stroke:#0000FF;stroke-width:2.0px;stroke-linecap:butt;stroke-linejoin:miter;stroke-opacity:1\"/>\n",
       "<path class=\"bond-10 atom-4 atom-11\" d=\"M 425.5,160.6 L 418.4,174.3\" style=\"fill:none;fill-rule:evenodd;stroke:#000000;stroke-width:2.0px;stroke-linecap:butt;stroke-linejoin:miter;stroke-opacity:1\"/>\n",
       "<path class=\"bond-5 atom-5 atom-6\" d=\"M 477.5,137.3 L 501.7,159.9\" style=\"fill:none;fill-rule:evenodd;stroke:#000000;stroke-width:2.0px;stroke-linecap:butt;stroke-linejoin:miter;stroke-opacity:1\"/>\n",
       "<path class=\"bond-5 atom-5 atom-6\" d=\"M 484.7,136.9 L 501.6,152.7\" style=\"fill:none;fill-rule:evenodd;stroke:#000000;stroke-width:2.0px;stroke-linecap:butt;stroke-linejoin:miter;stroke-opacity:1\"/>\n",
       "<path class=\"bond-15 atom-10 atom-5\" d=\"M 494.7,111.5 L 477.5,137.3\" style=\"fill:none;fill-rule:evenodd;stroke:#000000;stroke-width:2.0px;stroke-linecap:butt;stroke-linejoin:miter;stroke-opacity:1\"/>\n",
       "<path class=\"bond-6 atom-6 atom-7\" d=\"M 501.7,159.9 L 541.5,157.1\" style=\"fill:none;fill-rule:evenodd;stroke:#000000;stroke-width:2.0px;stroke-linecap:butt;stroke-linejoin:miter;stroke-opacity:1\"/>\n",
       "<path class=\"bond-7 atom-7 atom-8\" d=\"M 541.5,157.1 L 558.8,131.3\" style=\"fill:none;fill-rule:evenodd;stroke:#000000;stroke-width:2.0px;stroke-linecap:butt;stroke-linejoin:miter;stroke-opacity:1\"/>\n",
       "<path class=\"bond-7 atom-7 atom-8\" d=\"M 539.8,150.3 L 551.8,132.2\" style=\"fill:none;fill-rule:evenodd;stroke:#000000;stroke-width:2.0px;stroke-linecap:butt;stroke-linejoin:miter;stroke-opacity:1\"/>\n",
       "<path class=\"bond-8 atom-8 atom-9\" d=\"M 558.8,131.3 L 534.7,108.7\" style=\"fill:none;fill-rule:evenodd;stroke:#000000;stroke-width:2.0px;stroke-linecap:butt;stroke-linejoin:miter;stroke-opacity:1\"/>\n",
       "<path class=\"bond-9 atom-9 atom-10\" d=\"M 534.7,108.7 L 494.7,111.5\" style=\"fill:none;fill-rule:evenodd;stroke:#000000;stroke-width:2.0px;stroke-linecap:butt;stroke-linejoin:miter;stroke-opacity:1\"/>\n",
       "<path class=\"bond-9 atom-9 atom-10\" d=\"M 529.3,117.7 L 501.3,119.8\" style=\"fill:none;fill-rule:evenodd;stroke:#000000;stroke-width:2.0px;stroke-linecap:butt;stroke-linejoin:miter;stroke-opacity:1\"/>\n",
       "<path class=\"bond-11 atom-11 atom-12\" d=\"M 414.9,176.9 L 423.2,188.2\" style=\"fill:none;fill-rule:evenodd;stroke:#000000;stroke-width:2.0px;stroke-linecap:butt;stroke-linejoin:miter;stroke-opacity:1\"/>\n",
       "<path class=\"bond-11 atom-11 atom-12\" d=\"M 423.2,188.2 L 431.5,199.6\" style=\"fill:none;fill-rule:evenodd;stroke:#FF0000;stroke-width:2.0px;stroke-linecap:butt;stroke-linejoin:miter;stroke-opacity:1\"/>\n",
       "<path class=\"bond-11 atom-11 atom-12\" d=\"M 422.0,171.7 L 430.2,183.1\" style=\"fill:none;fill-rule:evenodd;stroke:#000000;stroke-width:2.0px;stroke-linecap:butt;stroke-linejoin:miter;stroke-opacity:1\"/>\n",
       "<path class=\"bond-11 atom-11 atom-12\" d=\"M 430.2,183.1 L 438.5,194.5\" style=\"fill:none;fill-rule:evenodd;stroke:#FF0000;stroke-width:2.0px;stroke-linecap:butt;stroke-linejoin:miter;stroke-opacity:1\"/>\n",
       "<path class=\"bond-12 atom-11 atom-13\" d=\"M 418.4,174.3 L 378.8,178.1\" style=\"fill:none;fill-rule:evenodd;stroke:#000000;stroke-width:2.0px;stroke-linecap:butt;stroke-linejoin:miter;stroke-opacity:1\"/>\n",
       "<path class=\"bond-13 atom-13 atom-14\" d=\"M 378.8,178.1 L 372.5,192.6\" style=\"fill:none;fill-rule:evenodd;stroke:#000000;stroke-width:2.0px;stroke-linecap:butt;stroke-linejoin:miter;stroke-opacity:1\"/>\n",
       "<path class=\"bond-13 atom-13 atom-14\" d=\"M 372.5,192.6 L 366.2,207.2\" style=\"fill:none;fill-rule:evenodd;stroke:#33CCCC;stroke-width:2.0px;stroke-linecap:butt;stroke-linejoin:miter;stroke-opacity:1\"/>\n",
       "<path class=\"atom-4\" d=\"M 433.6 133.6 L 437.6 140.1 Q 438.0 140.7, 438.7 141.9 Q 439.3 143.0, 439.4 143.1 L 439.4 133.6 L 441.0 133.6 L 441.0 145.9 L 439.3 145.9 L 435.0 138.7 Q 434.5 137.9, 433.9 136.9 Q 433.4 136.0, 433.3 135.7 L 433.3 145.9 L 431.7 145.9 L 431.7 133.6 L 433.6 133.6 \" fill=\"#0000FF\"/>\n",
       "<path class=\"atom-12\" d=\"M 434.6 204.2 Q 434.6 201.3, 436.1 199.6 Q 437.5 198.0, 440.2 198.0 Q 443.0 198.0, 444.4 199.6 Q 445.9 201.3, 445.9 204.2 Q 445.9 207.2, 444.4 208.9 Q 442.9 210.6, 440.2 210.6 Q 437.5 210.6, 436.1 208.9 Q 434.6 207.2, 434.6 204.2 M 440.2 209.2 Q 442.1 209.2, 443.1 208.0 Q 444.2 206.7, 444.2 204.2 Q 444.2 201.8, 443.1 200.6 Q 442.1 199.4, 440.2 199.4 Q 438.4 199.4, 437.3 200.6 Q 436.3 201.8, 436.3 204.2 Q 436.3 206.7, 437.3 208.0 Q 438.4 209.2, 440.2 209.2 \" fill=\"#FF0000\"/>\n",
       "<path class=\"atom-14\" d=\"M 359.5 208.1 L 366.8 208.1 L 366.8 209.5 L 361.2 209.5 L 361.2 213.3 L 366.2 213.3 L 366.2 214.7 L 361.2 214.7 L 361.2 220.4 L 359.5 220.4 L 359.5 208.1 \" fill=\"#33CCCC\"/>\n",
       "<path class=\"bond-0 atom-0 atom-1\" d=\"M 614.3,140.7 L 656.8,139.1\" style=\"fill:none;fill-rule:evenodd;stroke:#000000;stroke-width:2.0px;stroke-linecap:butt;stroke-linejoin:miter;stroke-opacity:1\"/>\n",
       "<path class=\"bond-1 atom-1 atom-2\" d=\"M 656.8,139.1 L 675.8,107.6\" style=\"fill:none;fill-rule:evenodd;stroke:#000000;stroke-width:2.0px;stroke-linecap:butt;stroke-linejoin:miter;stroke-opacity:1\"/>\n",
       "<path class=\"bond-14 atom-13 atom-1\" d=\"M 679.0,171.1 L 656.8,139.1\" style=\"fill:none;fill-rule:evenodd;stroke:#000000;stroke-width:2.0px;stroke-linecap:butt;stroke-linejoin:miter;stroke-opacity:1\"/>\n",
       "<path class=\"bond-14 atom-13 atom-1\" d=\"M 682.9,161.4 L 667.3,138.9\" style=\"fill:none;fill-rule:evenodd;stroke:#000000;stroke-width:2.0px;stroke-linecap:butt;stroke-linejoin:miter;stroke-opacity:1\"/>\n",
       "<path class=\"bond-2 atom-2 atom-3\" d=\"M 675.8,107.6 L 692.6,107.6\" style=\"fill:none;fill-rule:evenodd;stroke:#000000;stroke-width:2.0px;stroke-linecap:butt;stroke-linejoin:miter;stroke-opacity:1\"/>\n",
       "<path class=\"bond-2 atom-2 atom-3\" d=\"M 692.6,107.6 L 709.4,107.6\" style=\"fill:none;fill-rule:evenodd;stroke:#0000FF;stroke-width:2.0px;stroke-linecap:butt;stroke-linejoin:miter;stroke-opacity:1\"/>\n",
       "<path class=\"bond-2 atom-2 atom-3\" d=\"M 680.8,116.3 L 692.6,116.3\" style=\"fill:none;fill-rule:evenodd;stroke:#000000;stroke-width:2.0px;stroke-linecap:butt;stroke-linejoin:miter;stroke-opacity:1\"/>\n",
       "<path class=\"bond-2 atom-2 atom-3\" d=\"M 692.6,116.3 L 704.3,116.3\" style=\"fill:none;fill-rule:evenodd;stroke:#0000FF;stroke-width:2.0px;stroke-linecap:butt;stroke-linejoin:miter;stroke-opacity:1\"/>\n",
       "<path class=\"bond-3 atom-3 atom-4\" d=\"M 720.0,114.7 L 731.6,131.2\" style=\"fill:none;fill-rule:evenodd;stroke:#0000FF;stroke-width:2.0px;stroke-linecap:butt;stroke-linejoin:miter;stroke-opacity:1\"/>\n",
       "<path class=\"bond-4 atom-4 atom-5\" d=\"M 742.1,137.8 L 759.7,137.2\" style=\"fill:none;fill-rule:evenodd;stroke:#0000FF;stroke-width:2.0px;stroke-linecap:butt;stroke-linejoin:miter;stroke-opacity:1\"/>\n",
       "<path class=\"bond-4 atom-4 atom-5\" d=\"M 759.7,137.2 L 777.2,136.6\" style=\"fill:none;fill-rule:evenodd;stroke:#000000;stroke-width:2.0px;stroke-linecap:butt;stroke-linejoin:miter;stroke-opacity:1\"/>\n",
       "<path class=\"bond-10 atom-4 atom-11\" d=\"M 732.4,145.1 L 725.5,157.3\" style=\"fill:none;fill-rule:evenodd;stroke:#0000FF;stroke-width:2.0px;stroke-linecap:butt;stroke-linejoin:miter;stroke-opacity:1\"/>\n",
       "<path class=\"bond-10 atom-4 atom-11\" d=\"M 725.5,157.3 L 718.6,169.5\" style=\"fill:none;fill-rule:evenodd;stroke:#000000;stroke-width:2.0px;stroke-linecap:butt;stroke-linejoin:miter;stroke-opacity:1\"/>\n",
       "<path class=\"bond-5 atom-5 atom-6\" d=\"M 777.2,136.6 L 801.8,150.5\" style=\"fill:none;fill-rule:evenodd;stroke:#000000;stroke-width:2.0px;stroke-linecap:butt;stroke-linejoin:miter;stroke-opacity:1\"/>\n",
       "<path class=\"bond-5 atom-5 atom-6\" d=\"M 783.5,134.1 L 800.7,143.9\" style=\"fill:none;fill-rule:evenodd;stroke:#000000;stroke-width:2.0px;stroke-linecap:butt;stroke-linejoin:miter;stroke-opacity:1\"/>\n",
       "<path class=\"bond-15 atom-10 atom-5\" d=\"M 793.1,121.3 L 777.2,136.6\" style=\"fill:none;fill-rule:evenodd;stroke:#000000;stroke-width:2.0px;stroke-linecap:butt;stroke-linejoin:miter;stroke-opacity:1\"/>\n",
       "<path class=\"bond-6 atom-6 atom-7\" d=\"M 801.8,150.5 L 841.1,148.7\" style=\"fill:none;fill-rule:evenodd;stroke:#000000;stroke-width:2.0px;stroke-linecap:butt;stroke-linejoin:miter;stroke-opacity:1\"/>\n",
       "<path class=\"bond-7 atom-7 atom-8\" d=\"M 841.1,148.7 L 856.7,133.5\" style=\"fill:none;fill-rule:evenodd;stroke:#000000;stroke-width:2.0px;stroke-linecap:butt;stroke-linejoin:miter;stroke-opacity:1\"/>\n",
       "<path class=\"bond-7 atom-7 atom-8\" d=\"M 839.8,142.7 L 850.8,132.1\" style=\"fill:none;fill-rule:evenodd;stroke:#000000;stroke-width:2.0px;stroke-linecap:butt;stroke-linejoin:miter;stroke-opacity:1\"/>\n",
       "<path class=\"bond-8 atom-8 atom-9\" d=\"M 856.7,133.5 L 832.5,119.5\" style=\"fill:none;fill-rule:evenodd;stroke:#000000;stroke-width:2.0px;stroke-linecap:butt;stroke-linejoin:miter;stroke-opacity:1\"/>\n",
       "<path class=\"bond-9 atom-9 atom-10\" d=\"M 832.5,119.5 L 793.1,121.3\" style=\"fill:none;fill-rule:evenodd;stroke:#000000;stroke-width:2.0px;stroke-linecap:butt;stroke-linejoin:miter;stroke-opacity:1\"/>\n",
       "<path class=\"bond-9 atom-9 atom-10\" d=\"M 827.0,128.5 L 799.4,129.7\" style=\"fill:none;fill-rule:evenodd;stroke:#000000;stroke-width:2.0px;stroke-linecap:butt;stroke-linejoin:miter;stroke-opacity:1\"/>\n",
       "<path class=\"bond-11 atom-11 atom-12\" d=\"M 714.9,171.9 L 722.4,183.4\" style=\"fill:none;fill-rule:evenodd;stroke:#000000;stroke-width:2.0px;stroke-linecap:butt;stroke-linejoin:miter;stroke-opacity:1\"/>\n",
       "<path class=\"bond-11 atom-11 atom-12\" d=\"M 722.4,183.4 L 729.9,194.8\" style=\"fill:none;fill-rule:evenodd;stroke:#FF0000;stroke-width:2.0px;stroke-linecap:butt;stroke-linejoin:miter;stroke-opacity:1\"/>\n",
       "<path class=\"bond-11 atom-11 atom-12\" d=\"M 722.2,167.1 L 729.7,178.6\" style=\"fill:none;fill-rule:evenodd;stroke:#000000;stroke-width:2.0px;stroke-linecap:butt;stroke-linejoin:miter;stroke-opacity:1\"/>\n",
       "<path class=\"bond-11 atom-11 atom-12\" d=\"M 729.7,178.6 L 737.2,190.1\" style=\"fill:none;fill-rule:evenodd;stroke:#FF0000;stroke-width:2.0px;stroke-linecap:butt;stroke-linejoin:miter;stroke-opacity:1\"/>\n",
       "<path class=\"bond-12 atom-11 atom-13\" d=\"M 718.6,169.5 L 679.0,171.1\" style=\"fill:none;fill-rule:evenodd;stroke:#000000;stroke-width:2.0px;stroke-linecap:butt;stroke-linejoin:miter;stroke-opacity:1\"/>\n",
       "<path class=\"bond-13 atom-13 atom-14\" d=\"M 679.0,171.1 L 669.1,190.0\" style=\"fill:none;fill-rule:evenodd;stroke:#000000;stroke-width:2.0px;stroke-linecap:butt;stroke-linejoin:miter;stroke-opacity:1\"/>\n",
       "<path class=\"bond-13 atom-13 atom-14\" d=\"M 669.1,190.0 L 659.2,208.9\" style=\"fill:none;fill-rule:evenodd;stroke:#00CC00;stroke-width:2.0px;stroke-linecap:butt;stroke-linejoin:miter;stroke-opacity:1\"/>\n",
       "<path class=\"atom-3\" d=\"M 712.3 101.5 L 716.3 108.0 Q 716.7 108.6, 717.4 109.8 Q 718.0 111.0, 718.0 111.0 L 718.0 101.5 L 719.7 101.5 L 719.7 113.8 L 718.0 113.8 L 713.7 106.7 Q 713.2 105.8, 712.6 104.9 Q 712.1 103.9, 712.0 103.6 L 712.0 113.8 L 710.4 113.8 L 710.4 101.5 L 712.3 101.5 \" fill=\"#0000FF\"/>\n",
       "<path class=\"atom-4\" d=\"M 733.7 131.9 L 737.7 138.4 Q 738.1 139.1, 738.8 140.2 Q 739.4 141.4, 739.4 141.5 L 739.4 131.9 L 741.1 131.9 L 741.1 144.2 L 739.4 144.2 L 735.1 137.1 Q 734.6 136.2, 734.0 135.3 Q 733.5 134.3, 733.3 134.0 L 733.3 144.2 L 731.7 144.2 L 731.7 131.9 L 733.7 131.9 \" fill=\"#0000FF\"/>\n",
       "<path class=\"atom-12\" d=\"M 732.5 199.6 Q 732.5 196.6, 734.0 195.0 Q 735.4 193.3, 738.2 193.3 Q 740.9 193.3, 742.4 195.0 Q 743.8 196.6, 743.8 199.6 Q 743.8 202.6, 742.3 204.3 Q 740.9 206.0, 738.2 206.0 Q 735.5 206.0, 734.0 204.3 Q 732.5 202.6, 732.5 199.6 M 738.2 204.6 Q 740.0 204.6, 741.0 203.3 Q 742.1 202.1, 742.1 199.6 Q 742.1 197.2, 741.0 196.0 Q 740.0 194.7, 738.2 194.7 Q 736.3 194.7, 735.3 196.0 Q 734.3 197.2, 734.3 199.6 Q 734.3 202.1, 735.3 203.3 Q 736.3 204.6, 738.2 204.6 \" fill=\"#FF0000\"/>\n",
       "<path class=\"atom-14\" d=\"M 645.5 213.1 Q 645.5 210.1, 646.9 208.5 Q 648.3 206.8, 651.1 206.8 Q 653.6 206.8, 655.0 208.6 L 653.8 209.6 Q 652.8 208.3, 651.1 208.3 Q 649.2 208.3, 648.2 209.5 Q 647.2 210.8, 647.2 213.1 Q 647.2 215.5, 648.2 216.8 Q 649.3 218.1, 651.2 218.1 Q 652.6 218.1, 654.2 217.2 L 654.7 218.5 Q 654.0 219.0, 653.1 219.2 Q 652.1 219.4, 651.0 219.4 Q 648.3 219.4, 646.9 217.8 Q 645.5 216.2, 645.5 213.1 \" fill=\"#00CC00\"/>\n",
       "<path class=\"atom-14\" d=\"M 656.4 206.1 L 658.0 206.1 L 658.0 219.3 L 656.4 219.3 L 656.4 206.1 \" fill=\"#00CC00\"/>\n",
       "<path class=\"bond-0 atom-0 atom-1\" d=\"M 912.3,142.1 L 955.5,141.5\" style=\"fill:none;fill-rule:evenodd;stroke:#000000;stroke-width:2.0px;stroke-linecap:butt;stroke-linejoin:miter;stroke-opacity:1\"/>\n",
       "<path class=\"bond-1 atom-1 atom-2\" d=\"M 955.5,141.5 L 978.1,118.3\" style=\"fill:none;fill-rule:evenodd;stroke:#000000;stroke-width:2.0px;stroke-linecap:butt;stroke-linejoin:miter;stroke-opacity:1\"/>\n",
       "<path class=\"bond-13 atom-13 atom-1\" d=\"M 975.4,164.2 L 955.5,141.5\" style=\"fill:none;fill-rule:evenodd;stroke:#000000;stroke-width:2.0px;stroke-linecap:butt;stroke-linejoin:miter;stroke-opacity:1\"/>\n",
       "<path class=\"bond-13 atom-13 atom-1\" d=\"M 976.3,157.4 L 962.4,141.5\" style=\"fill:none;fill-rule:evenodd;stroke:#000000;stroke-width:2.0px;stroke-linecap:butt;stroke-linejoin:miter;stroke-opacity:1\"/>\n",
       "<path class=\"bond-2 atom-2 atom-3\" d=\"M 978.1,118.3 L 994.7,118.2\" style=\"fill:none;fill-rule:evenodd;stroke:#000000;stroke-width:2.0px;stroke-linecap:butt;stroke-linejoin:miter;stroke-opacity:1\"/>\n",
       "<path class=\"bond-2 atom-2 atom-3\" d=\"M 994.7,118.2 L 1011.4,118.1\" style=\"fill:none;fill-rule:evenodd;stroke:#0000FF;stroke-width:2.0px;stroke-linecap:butt;stroke-linejoin:miter;stroke-opacity:1\"/>\n",
       "<path class=\"bond-2 atom-2 atom-3\" d=\"M 983.1,127.0 L 994.8,126.9\" style=\"fill:none;fill-rule:evenodd;stroke:#000000;stroke-width:2.0px;stroke-linecap:butt;stroke-linejoin:miter;stroke-opacity:1\"/>\n",
       "<path class=\"bond-2 atom-2 atom-3\" d=\"M 994.8,126.9 L 1006.4,126.9\" style=\"fill:none;fill-rule:evenodd;stroke:#0000FF;stroke-width:2.0px;stroke-linecap:butt;stroke-linejoin:miter;stroke-opacity:1\"/>\n",
       "<path class=\"bond-3 atom-3 atom-4\" d=\"M 1022.4,124.0 L 1031.4,134.0\" style=\"fill:none;fill-rule:evenodd;stroke:#0000FF;stroke-width:2.0px;stroke-linecap:butt;stroke-linejoin:miter;stroke-opacity:1\"/>\n",
       "<path class=\"bond-4 atom-4 atom-5\" d=\"M 1042.3,139.5 L 1060.2,139.1\" style=\"fill:none;fill-rule:evenodd;stroke:#0000FF;stroke-width:2.0px;stroke-linecap:butt;stroke-linejoin:miter;stroke-opacity:1\"/>\n",
       "<path class=\"bond-4 atom-4 atom-5\" d=\"M 1060.2,139.1 L 1078.1,138.6\" style=\"fill:none;fill-rule:evenodd;stroke:#000000;stroke-width:2.0px;stroke-linecap:butt;stroke-linejoin:miter;stroke-opacity:1\"/>\n",
       "<path class=\"bond-10 atom-4 atom-11\" d=\"M 1031.2,145.5 L 1023.3,154.1\" style=\"fill:none;fill-rule:evenodd;stroke:#0000FF;stroke-width:2.0px;stroke-linecap:butt;stroke-linejoin:miter;stroke-opacity:1\"/>\n",
       "<path class=\"bond-10 atom-4 atom-11\" d=\"M 1023.3,154.1 L 1015.3,162.6\" style=\"fill:none;fill-rule:evenodd;stroke:#000000;stroke-width:2.0px;stroke-linecap:butt;stroke-linejoin:miter;stroke-opacity:1\"/>\n",
       "<path class=\"bond-5 atom-5 atom-6\" d=\"M 1078.1,138.6 L 1101.5,155.7\" style=\"fill:none;fill-rule:evenodd;stroke:#000000;stroke-width:2.0px;stroke-linecap:butt;stroke-linejoin:miter;stroke-opacity:1\"/>\n",
       "<path class=\"bond-5 atom-5 atom-6\" d=\"M 1084.7,136.9 L 1101.1,148.9\" style=\"fill:none;fill-rule:evenodd;stroke:#000000;stroke-width:2.0px;stroke-linecap:butt;stroke-linejoin:miter;stroke-opacity:1\"/>\n",
       "<path class=\"bond-14 atom-10 atom-5\" d=\"M 1095.9,119.8 L 1078.1,138.6\" style=\"fill:none;fill-rule:evenodd;stroke:#000000;stroke-width:2.0px;stroke-linecap:butt;stroke-linejoin:miter;stroke-opacity:1\"/>\n",
       "<path class=\"bond-6 atom-6 atom-7\" d=\"M 1101.5,155.7 L 1141.8,153.4\" style=\"fill:none;fill-rule:evenodd;stroke:#000000;stroke-width:2.0px;stroke-linecap:butt;stroke-linejoin:miter;stroke-opacity:1\"/>\n",
       "<path class=\"bond-7 atom-7 atom-8\" d=\"M 1141.8,153.4 L 1158.8,134.4\" style=\"fill:none;fill-rule:evenodd;stroke:#000000;stroke-width:2.0px;stroke-linecap:butt;stroke-linejoin:miter;stroke-opacity:1\"/>\n",
       "<path class=\"bond-7 atom-7 atom-8\" d=\"M 1140.5,147.1 L 1152.3,133.8\" style=\"fill:none;fill-rule:evenodd;stroke:#000000;stroke-width:2.0px;stroke-linecap:butt;stroke-linejoin:miter;stroke-opacity:1\"/>\n",
       "<path class=\"bond-8 atom-8 atom-9\" d=\"M 1158.8,134.4 L 1135.2,117.3\" style=\"fill:none;fill-rule:evenodd;stroke:#000000;stroke-width:2.0px;stroke-linecap:butt;stroke-linejoin:miter;stroke-opacity:1\"/>\n",
       "<path class=\"bond-9 atom-9 atom-10\" d=\"M 1135.2,117.3 L 1095.9,119.8\" style=\"fill:none;fill-rule:evenodd;stroke:#000000;stroke-width:2.0px;stroke-linecap:butt;stroke-linejoin:miter;stroke-opacity:1\"/>\n",
       "<path class=\"bond-9 atom-9 atom-10\" d=\"M 1129.9,126.3 L 1102.4,128.1\" style=\"fill:none;fill-rule:evenodd;stroke:#000000;stroke-width:2.0px;stroke-linecap:butt;stroke-linejoin:miter;stroke-opacity:1\"/>\n",
       "<path class=\"bond-11 atom-11 atom-12\" d=\"M 1013.4,164.3 L 1019.5,171.2\" style=\"fill:none;fill-rule:evenodd;stroke:#000000;stroke-width:2.0px;stroke-linecap:butt;stroke-linejoin:miter;stroke-opacity:1\"/>\n",
       "<path class=\"bond-11 atom-11 atom-12\" d=\"M 1019.5,171.2 L 1025.7,178.1\" style=\"fill:none;fill-rule:evenodd;stroke:#FF0000;stroke-width:2.0px;stroke-linecap:butt;stroke-linejoin:miter;stroke-opacity:1\"/>\n",
       "<path class=\"bond-11 atom-11 atom-12\" d=\"M 1017.3,160.9 L 1023.4,167.8\" style=\"fill:none;fill-rule:evenodd;stroke:#000000;stroke-width:2.0px;stroke-linecap:butt;stroke-linejoin:miter;stroke-opacity:1\"/>\n",
       "<path class=\"bond-11 atom-11 atom-12\" d=\"M 1023.4,167.8 L 1029.6,174.7\" style=\"fill:none;fill-rule:evenodd;stroke:#FF0000;stroke-width:2.0px;stroke-linecap:butt;stroke-linejoin:miter;stroke-opacity:1\"/>\n",
       "<path class=\"bond-12 atom-11 atom-13\" d=\"M 1015.3,162.6 L 975.4,164.2\" style=\"fill:none;fill-rule:evenodd;stroke:#000000;stroke-width:2.0px;stroke-linecap:butt;stroke-linejoin:miter;stroke-opacity:1\"/>\n",
       "<path class=\"atom-3\" d=\"M 1014.3 112.0 L 1018.3 118.5 Q 1018.7 119.1, 1019.4 120.3 Q 1020.0 121.4, 1020.1 121.5 L 1020.1 112.0 L 1021.7 112.0 L 1021.7 124.3 L 1020.0 124.3 L 1015.7 117.1 Q 1015.2 116.3, 1014.6 115.3 Q 1014.1 114.4, 1014.0 114.1 L 1014.0 124.3 L 1012.4 124.3 L 1012.4 112.0 L 1014.3 112.0 \" fill=\"#0000FF\"/>\n",
       "<path class=\"atom-4\" d=\"M 1033.9 133.5 L 1038.0 140.1 Q 1038.4 140.7, 1039.0 141.9 Q 1039.6 143.0, 1039.7 143.1 L 1039.7 133.5 L 1041.3 133.5 L 1041.3 145.8 L 1039.6 145.8 L 1035.3 138.7 Q 1034.8 137.9, 1034.3 136.9 Q 1033.7 136.0, 1033.6 135.7 L 1033.6 145.8 L 1032.0 145.8 L 1032.0 133.5 L 1033.9 133.5 \" fill=\"#0000FF\"/>\n",
       "<path class=\"atom-12\" d=\"M 1028.1 183.4 Q 1028.1 180.4, 1029.6 178.8 Q 1031.0 177.1, 1033.8 177.1 Q 1036.5 177.1, 1038.0 178.8 Q 1039.4 180.4, 1039.4 183.4 Q 1039.4 186.4, 1037.9 188.1 Q 1036.5 189.7, 1033.8 189.7 Q 1031.1 189.7, 1029.6 188.1 Q 1028.1 186.4, 1028.1 183.4 M 1033.8 188.4 Q 1035.6 188.4, 1036.7 187.1 Q 1037.7 185.8, 1037.7 183.4 Q 1037.7 181.0, 1036.7 179.7 Q 1035.6 178.5, 1033.8 178.5 Q 1031.9 178.5, 1030.9 179.7 Q 1029.9 180.9, 1029.9 183.4 Q 1029.9 185.9, 1030.9 187.1 Q 1031.9 188.4, 1033.8 188.4 \" fill=\"#FF0000\"/>\n",
       "</svg>"
      ],
      "text/plain": [
       "<IPython.core.display.SVG object>"
      ]
     },
     "execution_count": 10,
     "metadata": {},
     "output_type": "execute_result"
    }
   ],
   "source": [
    "# First generate conformers for our list of molecules\n",
    "smiles_list = [\n",
    "    \"Nc1cnn(-c2ccccc2)c(=O)c1Cl\",\n",
    "    \"Cc1ccn(-c2ccccc2)c(=O)c1F\",\n",
    "    \"Cc1cnn(-c2ccccc2)c(=O)c1Cl\",\n",
    "    \"Cc1cnn(-c2ccccc2)c(=O)c1\",\n",
    "]\n",
    "mols = [dm.to_mol(smiles) for smiles in smiles_list]\n",
    "mols = [dm.conformers.generate(mol, n_confs=1) for mol in mols]\n",
    "\n",
    "dm.to_image(mols)"
   ]
  },
  {
   "cell_type": "markdown",
   "id": "112bec2a-a367-4a47-94bd-2dc640d137b6",
   "metadata": {},
   "source": [
    "You will notice that while similar the conformers are not aligned with respect to each other.\n",
    "\n",
    "In that specific example, since the conformers are not aligned, the features extraction will run an alignment step first. You can (and should) disable that step if your molecules already contains conformer of interest (such as poses for examples)."
   ]
  },
  {
   "cell_type": "code",
   "execution_count": 11,
   "id": "67b473e9-f5d6-4c32-88e4-0eecb8a33554",
   "metadata": {},
   "outputs": [],
   "source": [
    "# Initialize the featurizer\n",
    "featurizer = Pharmacophore3D(factory=\"pmapper\", bin_step=1, length=2048)"
   ]
  },
  {
   "cell_type": "code",
   "execution_count": 12,
   "id": "770eff0c-1d37-486b-8a02-434fdfa68276",
   "metadata": {},
   "outputs": [
    {
     "data": {
      "image/svg+xml": [
       "<svg xmlns=\"http://www.w3.org/2000/svg\" xmlns:rdkit=\"http://www.rdkit.org/xml\" xmlns:xlink=\"http://www.w3.org/1999/xlink\" version=\"1.1\" baseProfile=\"full\" xml:space=\"preserve\" width=\"1200px\" height=\"300px\" viewBox=\"0 0 1200 300\">\n",
       "<!-- END OF HEADER -->\n",
       "<rect style=\"opacity:1.0;fill:#FFFFFF;stroke:none\" width=\"1200.0\" height=\"300.0\" x=\"0.0\" y=\"0.0\"> </rect>\n",
       "<rect style=\"opacity:1.0;fill:#FFFFFF;stroke:none\" width=\"1200.0\" height=\"300.0\" x=\"0.0\" y=\"0.0\"> </rect>\n",
       "<rect style=\"opacity:1.0;fill:#FFFFFF;stroke:none\" width=\"1200.0\" height=\"300.0\" x=\"0.0\" y=\"0.0\"> </rect>\n",
       "<rect style=\"opacity:1.0;fill:#FFFFFF;stroke:none\" width=\"1200.0\" height=\"300.0\" x=\"0.0\" y=\"0.0\"> </rect>\n",
       "<rect style=\"opacity:1.0;fill:#FFFFFF;stroke:none\" width=\"1200.0\" height=\"300.0\" x=\"0.0\" y=\"0.0\"> </rect>\n",
       "<path class=\"bond-0 atom-0 atom-1\" d=\"M 257.8,181.1 L 239.7,178.4\" style=\"fill:none;fill-rule:evenodd;stroke:#0000FF;stroke-width:2.0px;stroke-linecap:butt;stroke-linejoin:miter;stroke-opacity:1\"/>\n",
       "<path class=\"bond-0 atom-0 atom-1\" d=\"M 239.7,178.4 L 221.7,175.8\" style=\"fill:none;fill-rule:evenodd;stroke:#000000;stroke-width:2.0px;stroke-linecap:butt;stroke-linejoin:miter;stroke-opacity:1\"/>\n",
       "<path class=\"bond-1 atom-1 atom-2\" d=\"M 221.7,175.8 L 195.2,204.6\" style=\"fill:none;fill-rule:evenodd;stroke:#000000;stroke-width:2.0px;stroke-linecap:butt;stroke-linejoin:miter;stroke-opacity:1\"/>\n",
       "<path class=\"bond-14 atom-13 atom-1\" d=\"M 205.9,140.4 L 221.7,175.8\" style=\"fill:none;fill-rule:evenodd;stroke:#000000;stroke-width:2.0px;stroke-linecap:butt;stroke-linejoin:miter;stroke-opacity:1\"/>\n",
       "<path class=\"bond-14 atom-13 atom-1\" d=\"M 200.0,149.4 L 211.1,174.2\" style=\"fill:none;fill-rule:evenodd;stroke:#000000;stroke-width:2.0px;stroke-linecap:butt;stroke-linejoin:miter;stroke-opacity:1\"/>\n",
       "<path class=\"bond-2 atom-2 atom-3\" d=\"M 195.2,204.6 L 178.1,202.0\" style=\"fill:none;fill-rule:evenodd;stroke:#000000;stroke-width:2.0px;stroke-linecap:butt;stroke-linejoin:miter;stroke-opacity:1\"/>\n",
       "<path class=\"bond-2 atom-2 atom-3\" d=\"M 178.1,202.0 L 160.9,199.4\" style=\"fill:none;fill-rule:evenodd;stroke:#0000FF;stroke-width:2.0px;stroke-linecap:butt;stroke-linejoin:miter;stroke-opacity:1\"/>\n",
       "<path class=\"bond-2 atom-2 atom-3\" d=\"M 191.4,194.9 L 179.4,193.1\" style=\"fill:none;fill-rule:evenodd;stroke:#000000;stroke-width:2.0px;stroke-linecap:butt;stroke-linejoin:miter;stroke-opacity:1\"/>\n",
       "<path class=\"bond-2 atom-2 atom-3\" d=\"M 179.4,193.1 L 167.4,191.2\" style=\"fill:none;fill-rule:evenodd;stroke:#0000FF;stroke-width:2.0px;stroke-linecap:butt;stroke-linejoin:miter;stroke-opacity:1\"/>\n",
       "<path class=\"bond-3 atom-3 atom-4\" d=\"M 151.5,191.2 L 142.4,171.7\" style=\"fill:none;fill-rule:evenodd;stroke:#0000FF;stroke-width:2.0px;stroke-linecap:butt;stroke-linejoin:miter;stroke-opacity:1\"/>\n",
       "<path class=\"bond-4 atom-4 atom-5\" d=\"M 133.1,163.6 L 115.1,160.8\" style=\"fill:none;fill-rule:evenodd;stroke:#0000FF;stroke-width:2.0px;stroke-linecap:butt;stroke-linejoin:miter;stroke-opacity:1\"/>\n",
       "<path class=\"bond-4 atom-4 atom-5\" d=\"M 115.1,160.8 L 97.0,158.0\" style=\"fill:none;fill-rule:evenodd;stroke:#000000;stroke-width:2.0px;stroke-linecap:butt;stroke-linejoin:miter;stroke-opacity:1\"/>\n",
       "<path class=\"bond-10 atom-4 atom-11\" d=\"M 144.9,158.1 L 154.7,147.2\" style=\"fill:none;fill-rule:evenodd;stroke:#0000FF;stroke-width:2.0px;stroke-linecap:butt;stroke-linejoin:miter;stroke-opacity:1\"/>\n",
       "<path class=\"bond-10 atom-4 atom-11\" d=\"M 154.7,147.2 L 164.6,136.3\" style=\"fill:none;fill-rule:evenodd;stroke:#000000;stroke-width:2.0px;stroke-linecap:butt;stroke-linejoin:miter;stroke-opacity:1\"/>\n",
       "<path class=\"bond-5 atom-5 atom-6\" d=\"M 97.0,158.0 L 70.9,186.9\" style=\"fill:none;fill-rule:evenodd;stroke:#000000;stroke-width:2.0px;stroke-linecap:butt;stroke-linejoin:miter;stroke-opacity:1\"/>\n",
       "<path class=\"bond-5 atom-5 atom-6\" d=\"M 86.4,156.3 L 68.1,176.5\" style=\"fill:none;fill-rule:evenodd;stroke:#000000;stroke-width:2.0px;stroke-linecap:butt;stroke-linejoin:miter;stroke-opacity:1\"/>\n",
       "<path class=\"bond-15 atom-10 atom-5\" d=\"M 80.6,122.1 L 97.0,158.0\" style=\"fill:none;fill-rule:evenodd;stroke:#000000;stroke-width:2.0px;stroke-linecap:butt;stroke-linejoin:miter;stroke-opacity:1\"/>\n",
       "<path class=\"bond-6 atom-6 atom-7\" d=\"M 70.9,186.9 L 29.6,180.2\" style=\"fill:none;fill-rule:evenodd;stroke:#000000;stroke-width:2.0px;stroke-linecap:butt;stroke-linejoin:miter;stroke-opacity:1\"/>\n",
       "<path class=\"bond-7 atom-7 atom-8\" d=\"M 29.6,180.2 L 14.0,143.8\" style=\"fill:none;fill-rule:evenodd;stroke:#000000;stroke-width:2.0px;stroke-linecap:butt;stroke-linejoin:miter;stroke-opacity:1\"/>\n",
       "<path class=\"bond-7 atom-7 atom-8\" d=\"M 35.5,171.2 L 24.6,145.7\" style=\"fill:none;fill-rule:evenodd;stroke:#000000;stroke-width:2.0px;stroke-linecap:butt;stroke-linejoin:miter;stroke-opacity:1\"/>\n",
       "<path class=\"bond-8 atom-8 atom-9\" d=\"M 14.0,143.8 L 39.6,115.0\" style=\"fill:none;fill-rule:evenodd;stroke:#000000;stroke-width:2.0px;stroke-linecap:butt;stroke-linejoin:miter;stroke-opacity:1\"/>\n",
       "<path class=\"bond-9 atom-9 atom-10\" d=\"M 39.6,115.0 L 80.6,122.1\" style=\"fill:none;fill-rule:evenodd;stroke:#000000;stroke-width:2.0px;stroke-linecap:butt;stroke-linejoin:miter;stroke-opacity:1\"/>\n",
       "<path class=\"bond-9 atom-9 atom-10\" d=\"M 44.2,125.0 L 72.9,130.0\" style=\"fill:none;fill-rule:evenodd;stroke:#000000;stroke-width:2.0px;stroke-linecap:butt;stroke-linejoin:miter;stroke-opacity:1\"/>\n",
       "<path class=\"bond-11 atom-11 atom-12\" d=\"M 167.1,135.2 L 161.7,122.7\" style=\"fill:none;fill-rule:evenodd;stroke:#000000;stroke-width:2.0px;stroke-linecap:butt;stroke-linejoin:miter;stroke-opacity:1\"/>\n",
       "<path class=\"bond-11 atom-11 atom-12\" d=\"M 161.7,122.7 L 156.4,110.3\" style=\"fill:none;fill-rule:evenodd;stroke:#FF0000;stroke-width:2.0px;stroke-linecap:butt;stroke-linejoin:miter;stroke-opacity:1\"/>\n",
       "<path class=\"bond-11 atom-11 atom-12\" d=\"M 162.1,137.3 L 156.8,124.9\" style=\"fill:none;fill-rule:evenodd;stroke:#000000;stroke-width:2.0px;stroke-linecap:butt;stroke-linejoin:miter;stroke-opacity:1\"/>\n",
       "<path class=\"bond-11 atom-11 atom-12\" d=\"M 156.8,124.9 L 151.4,112.4\" style=\"fill:none;fill-rule:evenodd;stroke:#FF0000;stroke-width:2.0px;stroke-linecap:butt;stroke-linejoin:miter;stroke-opacity:1\"/>\n",
       "<path class=\"bond-12 atom-11 atom-13\" d=\"M 164.6,136.3 L 205.9,140.4\" style=\"fill:none;fill-rule:evenodd;stroke:#000000;stroke-width:2.0px;stroke-linecap:butt;stroke-linejoin:miter;stroke-opacity:1\"/>\n",
       "<path class=\"bond-13 atom-13 atom-14\" d=\"M 205.9,140.4 L 218.5,124.9\" style=\"fill:none;fill-rule:evenodd;stroke:#000000;stroke-width:2.0px;stroke-linecap:butt;stroke-linejoin:miter;stroke-opacity:1\"/>\n",
       "<path class=\"bond-13 atom-13 atom-14\" d=\"M 218.5,124.9 L 231.2,109.5\" style=\"fill:none;fill-rule:evenodd;stroke:#00CC00;stroke-width:2.0px;stroke-linecap:butt;stroke-linejoin:miter;stroke-opacity:1\"/>\n",
       "<path class=\"atom-0\" d=\"M 260.8 175.6 L 265.0 182.4 Q 265.5 183.1, 266.1 184.3 Q 266.8 185.5, 266.8 185.6 L 266.8 175.6 L 268.5 175.6 L 268.5 188.4 L 266.8 188.4 L 262.3 181.0 Q 261.7 180.1, 261.2 179.1 Q 260.6 178.1, 260.5 177.8 L 260.5 188.4 L 258.8 188.4 L 258.8 175.6 L 260.8 175.6 \" fill=\"#0000FF\"/>\n",
       "<path class=\"atom-0\" d=\"M 270.1 175.6 L 271.8 175.6 L 271.8 181.1 L 278.4 181.1 L 278.4 175.6 L 280.1 175.6 L 280.1 188.4 L 278.4 188.4 L 278.4 182.5 L 271.8 182.5 L 271.8 188.4 L 270.1 188.4 L 270.1 175.6 \" fill=\"#0000FF\"/>\n",
       "<path class=\"atom-0\" d=\"M 280.7 188.0 Q 281.0 187.2, 281.8 186.7 Q 282.5 186.3, 283.5 186.3 Q 284.8 186.3, 285.5 187.0 Q 286.2 187.7, 286.2 188.9 Q 286.2 190.1, 285.3 191.3 Q 284.4 192.5, 282.5 193.9 L 286.4 193.9 L 286.4 194.8 L 280.7 194.8 L 280.7 194.0 Q 282.3 192.9, 283.2 192.1 Q 284.1 191.2, 284.6 190.5 Q 285.0 189.7, 285.0 188.9 Q 285.0 188.1, 284.6 187.7 Q 284.2 187.2, 283.5 187.2 Q 282.8 187.2, 282.4 187.5 Q 281.9 187.8, 281.6 188.4 L 280.7 188.0 \" fill=\"#0000FF\"/>\n",
       "<path class=\"atom-3\" d=\"M 152.2 192.1 L 156.4 198.9 Q 156.8 199.6, 157.4 200.8 Q 158.1 202.0, 158.2 202.1 L 158.2 192.1 L 159.9 192.1 L 159.9 204.9 L 158.1 204.9 L 153.6 197.5 Q 153.1 196.6, 152.5 195.6 Q 152.0 194.6, 151.8 194.3 L 151.8 204.9 L 150.1 204.9 L 150.1 192.1 L 152.2 192.1 \" fill=\"#0000FF\"/>\n",
       "<path class=\"atom-4\" d=\"M 136.2 158.2 L 140.4 164.9 Q 140.8 165.6, 141.5 166.8 Q 142.2 168.0, 142.2 168.1 L 142.2 158.2 L 143.9 158.2 L 143.9 171.0 L 142.1 171.0 L 137.6 163.5 Q 137.1 162.7, 136.6 161.7 Q 136.0 160.7, 135.8 160.4 L 135.8 171.0 L 134.2 171.0 L 134.2 158.2 L 136.2 158.2 \" fill=\"#0000FF\"/>\n",
       "<path class=\"atom-12\" d=\"M 144.8 103.8 Q 144.8 100.7, 146.3 99.0 Q 147.8 97.3, 150.7 97.3 Q 153.5 97.3, 155.0 99.0 Q 156.5 100.7, 156.5 103.8 Q 156.5 106.9, 155.0 108.7 Q 153.5 110.5, 150.7 110.5 Q 147.8 110.5, 146.3 108.7 Q 144.8 106.9, 144.8 103.8 M 150.7 109.0 Q 152.6 109.0, 153.7 107.7 Q 154.7 106.4, 154.7 103.8 Q 154.7 101.3, 153.7 100.0 Q 152.6 98.8, 150.7 98.8 Q 148.7 98.8, 147.6 100.0 Q 146.6 101.3, 146.6 103.8 Q 146.6 106.4, 147.6 107.7 Q 148.7 109.0, 150.7 109.0 \" fill=\"#FF0000\"/>\n",
       "<path class=\"atom-14\" d=\"M 232.4 102.4 Q 232.4 99.2, 233.9 97.5 Q 235.4 95.9, 238.2 95.9 Q 240.9 95.9, 242.3 97.7 L 241.1 98.7 Q 240.1 97.3, 238.2 97.3 Q 236.3 97.3, 235.3 98.7 Q 234.3 99.9, 234.3 102.4 Q 234.3 104.9, 235.3 106.2 Q 236.4 107.5, 238.4 107.5 Q 239.9 107.5, 241.5 106.7 L 242.0 108.0 Q 241.3 108.5, 240.3 108.7 Q 239.3 109.0, 238.2 109.0 Q 235.4 109.0, 233.9 107.3 Q 232.4 105.6, 232.4 102.4 \" fill=\"#00CC00\"/>\n",
       "<path class=\"atom-14\" d=\"M 243.8 95.1 L 245.5 95.1 L 245.5 108.8 L 243.8 108.8 L 243.8 95.1 \" fill=\"#00CC00\"/>\n",
       "<path class=\"bond-0 atom-0 atom-1\" d=\"M 567.5,180.1 L 523.5,175.0\" style=\"fill:none;fill-rule:evenodd;stroke:#000000;stroke-width:2.0px;stroke-linecap:butt;stroke-linejoin:miter;stroke-opacity:1\"/>\n",
       "<path class=\"bond-1 atom-1 atom-2\" d=\"M 523.5,175.0 L 496.9,204.1\" style=\"fill:none;fill-rule:evenodd;stroke:#000000;stroke-width:2.0px;stroke-linecap:butt;stroke-linejoin:miter;stroke-opacity:1\"/>\n",
       "<path class=\"bond-14 atom-13 atom-1\" d=\"M 506.9,139.8 L 523.5,175.0\" style=\"fill:none;fill-rule:evenodd;stroke:#000000;stroke-width:2.0px;stroke-linecap:butt;stroke-linejoin:miter;stroke-opacity:1\"/>\n",
       "<path class=\"bond-14 atom-13 atom-1\" d=\"M 501.2,148.9 L 512.8,173.6\" style=\"fill:none;fill-rule:evenodd;stroke:#000000;stroke-width:2.0px;stroke-linecap:butt;stroke-linejoin:miter;stroke-opacity:1\"/>\n",
       "<path class=\"bond-2 atom-2 atom-3\" d=\"M 496.9,204.1 L 455.9,197.6\" style=\"fill:none;fill-rule:evenodd;stroke:#000000;stroke-width:2.0px;stroke-linecap:butt;stroke-linejoin:miter;stroke-opacity:1\"/>\n",
       "<path class=\"bond-2 atom-2 atom-3\" d=\"M 492.2,194.2 L 463.5,189.7\" style=\"fill:none;fill-rule:evenodd;stroke:#000000;stroke-width:2.0px;stroke-linecap:butt;stroke-linejoin:miter;stroke-opacity:1\"/>\n",
       "<path class=\"bond-3 atom-3 atom-4\" d=\"M 455.9,197.6 L 449.6,184.1\" style=\"fill:none;fill-rule:evenodd;stroke:#000000;stroke-width:2.0px;stroke-linecap:butt;stroke-linejoin:miter;stroke-opacity:1\"/>\n",
       "<path class=\"bond-3 atom-3 atom-4\" d=\"M 449.6,184.1 L 443.2,170.5\" style=\"fill:none;fill-rule:evenodd;stroke:#0000FF;stroke-width:2.0px;stroke-linecap:butt;stroke-linejoin:miter;stroke-opacity:1\"/>\n",
       "<path class=\"bond-4 atom-4 atom-5\" d=\"M 433.9,162.2 L 415.6,159.3\" style=\"fill:none;fill-rule:evenodd;stroke:#0000FF;stroke-width:2.0px;stroke-linecap:butt;stroke-linejoin:miter;stroke-opacity:1\"/>\n",
       "<path class=\"bond-4 atom-4 atom-5\" d=\"M 415.6,159.3 L 397.4,156.4\" style=\"fill:none;fill-rule:evenodd;stroke:#000000;stroke-width:2.0px;stroke-linecap:butt;stroke-linejoin:miter;stroke-opacity:1\"/>\n",
       "<path class=\"bond-10 atom-4 atom-11\" d=\"M 445.6,156.8 L 455.7,145.7\" style=\"fill:none;fill-rule:evenodd;stroke:#0000FF;stroke-width:2.0px;stroke-linecap:butt;stroke-linejoin:miter;stroke-opacity:1\"/>\n",
       "<path class=\"bond-10 atom-4 atom-11\" d=\"M 455.7,145.7 L 465.7,134.7\" style=\"fill:none;fill-rule:evenodd;stroke:#000000;stroke-width:2.0px;stroke-linecap:butt;stroke-linejoin:miter;stroke-opacity:1\"/>\n",
       "<path class=\"bond-5 atom-5 atom-6\" d=\"M 397.4,156.4 L 379.6,120.6\" style=\"fill:none;fill-rule:evenodd;stroke:#000000;stroke-width:2.0px;stroke-linecap:butt;stroke-linejoin:miter;stroke-opacity:1\"/>\n",
       "<path class=\"bond-5 atom-5 atom-6\" d=\"M 386.6,155.1 L 374.2,130.0\" style=\"fill:none;fill-rule:evenodd;stroke:#000000;stroke-width:2.0px;stroke-linecap:butt;stroke-linejoin:miter;stroke-opacity:1\"/>\n",
       "<path class=\"bond-15 atom-10 atom-5\" d=\"M 372.2,186.7 L 397.4,156.4\" style=\"fill:none;fill-rule:evenodd;stroke:#000000;stroke-width:2.0px;stroke-linecap:butt;stroke-linejoin:miter;stroke-opacity:1\"/>\n",
       "<path class=\"bond-6 atom-6 atom-7\" d=\"M 379.6,120.6 L 338.4,114.8\" style=\"fill:none;fill-rule:evenodd;stroke:#000000;stroke-width:2.0px;stroke-linecap:butt;stroke-linejoin:miter;stroke-opacity:1\"/>\n",
       "<path class=\"bond-7 atom-7 atom-8\" d=\"M 338.4,114.8 L 313.2,145.0\" style=\"fill:none;fill-rule:evenodd;stroke:#000000;stroke-width:2.0px;stroke-linecap:butt;stroke-linejoin:miter;stroke-opacity:1\"/>\n",
       "<path class=\"bond-7 atom-7 atom-8\" d=\"M 341.6,125.1 L 323.9,146.2\" style=\"fill:none;fill-rule:evenodd;stroke:#000000;stroke-width:2.0px;stroke-linecap:butt;stroke-linejoin:miter;stroke-opacity:1\"/>\n",
       "<path class=\"bond-8 atom-8 atom-9\" d=\"M 313.2,145.0 L 330.8,180.9\" style=\"fill:none;fill-rule:evenodd;stroke:#000000;stroke-width:2.0px;stroke-linecap:butt;stroke-linejoin:miter;stroke-opacity:1\"/>\n",
       "<path class=\"bond-9 atom-9 atom-10\" d=\"M 330.8,180.9 L 372.2,186.7\" style=\"fill:none;fill-rule:evenodd;stroke:#000000;stroke-width:2.0px;stroke-linecap:butt;stroke-linejoin:miter;stroke-opacity:1\"/>\n",
       "<path class=\"bond-9 atom-9 atom-10\" d=\"M 338.3,172.8 L 367.3,176.8\" style=\"fill:none;fill-rule:evenodd;stroke:#000000;stroke-width:2.0px;stroke-linecap:butt;stroke-linejoin:miter;stroke-opacity:1\"/>\n",
       "<path class=\"bond-11 atom-11 atom-12\" d=\"M 469.8,132.8 L 463.9,120.3\" style=\"fill:none;fill-rule:evenodd;stroke:#000000;stroke-width:2.0px;stroke-linecap:butt;stroke-linejoin:miter;stroke-opacity:1\"/>\n",
       "<path class=\"bond-11 atom-11 atom-12\" d=\"M 463.9,120.3 L 457.9,107.7\" style=\"fill:none;fill-rule:evenodd;stroke:#FF0000;stroke-width:2.0px;stroke-linecap:butt;stroke-linejoin:miter;stroke-opacity:1\"/>\n",
       "<path class=\"bond-11 atom-11 atom-12\" d=\"M 461.6,136.7 L 455.7,124.1\" style=\"fill:none;fill-rule:evenodd;stroke:#000000;stroke-width:2.0px;stroke-linecap:butt;stroke-linejoin:miter;stroke-opacity:1\"/>\n",
       "<path class=\"bond-11 atom-11 atom-12\" d=\"M 455.7,124.1 L 449.7,111.6\" style=\"fill:none;fill-rule:evenodd;stroke:#FF0000;stroke-width:2.0px;stroke-linecap:butt;stroke-linejoin:miter;stroke-opacity:1\"/>\n",
       "<path class=\"bond-12 atom-11 atom-13\" d=\"M 465.7,134.7 L 506.9,139.8\" style=\"fill:none;fill-rule:evenodd;stroke:#000000;stroke-width:2.0px;stroke-linecap:butt;stroke-linejoin:miter;stroke-opacity:1\"/>\n",
       "<path class=\"bond-13 atom-13 atom-14\" d=\"M 506.9,139.8 L 516.5,127.6\" style=\"fill:none;fill-rule:evenodd;stroke:#000000;stroke-width:2.0px;stroke-linecap:butt;stroke-linejoin:miter;stroke-opacity:1\"/>\n",
       "<path class=\"bond-13 atom-13 atom-14\" d=\"M 516.5,127.6 L 526.1,115.5\" style=\"fill:none;fill-rule:evenodd;stroke:#33CCCC;stroke-width:2.0px;stroke-linecap:butt;stroke-linejoin:miter;stroke-opacity:1\"/>\n",
       "<path class=\"atom-4\" d=\"M 437.0 156.7 L 441.2 163.5 Q 441.6 164.2, 442.2 165.4 Q 442.9 166.6, 443.0 166.7 L 443.0 156.7 L 444.7 156.7 L 444.7 169.5 L 442.9 169.5 L 438.4 162.1 Q 437.9 161.3, 437.3 160.3 Q 436.8 159.3, 436.6 159.0 L 436.6 169.5 L 434.9 169.5 L 434.9 156.7 L 437.0 156.7 \" fill=\"#0000FF\"/>\n",
       "<path class=\"atom-12\" d=\"M 444.3 102.1 Q 444.3 99.1, 445.9 97.3 Q 447.4 95.6, 450.2 95.6 Q 453.1 95.6, 454.6 97.3 Q 456.1 99.1, 456.1 102.1 Q 456.1 105.2, 454.6 107.0 Q 453.0 108.8, 450.2 108.8 Q 447.4 108.8, 445.9 107.0 Q 444.3 105.3, 444.3 102.1 M 450.2 107.3 Q 452.2 107.3, 453.2 106.0 Q 454.3 104.7, 454.3 102.1 Q 454.3 99.6, 453.2 98.4 Q 452.2 97.1, 450.2 97.1 Q 448.3 97.1, 447.2 98.3 Q 446.2 99.6, 446.2 102.1 Q 446.2 104.7, 447.2 106.0 Q 448.3 107.3, 450.2 107.3 \" fill=\"#FF0000\"/>\n",
       "<path class=\"atom-14\" d=\"M 527.1 103.0 L 534.7 103.0 L 534.7 104.5 L 528.8 104.5 L 528.8 108.4 L 534.1 108.4 L 534.1 109.8 L 528.8 109.8 L 528.8 115.8 L 527.1 115.8 L 527.1 103.0 \" fill=\"#33CCCC\"/>\n",
       "<path class=\"bond-0 atom-0 atom-1\" d=\"M 865.5,182.4 L 821.2,176.5\" style=\"fill:none;fill-rule:evenodd;stroke:#000000;stroke-width:2.0px;stroke-linecap:butt;stroke-linejoin:miter;stroke-opacity:1\"/>\n",
       "<path class=\"bond-1 atom-1 atom-2\" d=\"M 821.2,176.5 L 793.9,204.6\" style=\"fill:none;fill-rule:evenodd;stroke:#000000;stroke-width:2.0px;stroke-linecap:butt;stroke-linejoin:miter;stroke-opacity:1\"/>\n",
       "<path class=\"bond-14 atom-13 atom-1\" d=\"M 806.0,140.5 L 821.2,176.5\" style=\"fill:none;fill-rule:evenodd;stroke:#000000;stroke-width:2.0px;stroke-linecap:butt;stroke-linejoin:miter;stroke-opacity:1\"/>\n",
       "<path class=\"bond-14 atom-13 atom-1\" d=\"M 800.0,149.4 L 810.6,174.6\" style=\"fill:none;fill-rule:evenodd;stroke:#000000;stroke-width:2.0px;stroke-linecap:butt;stroke-linejoin:miter;stroke-opacity:1\"/>\n",
       "<path class=\"bond-2 atom-2 atom-3\" d=\"M 793.9,204.6 L 776.6,201.6\" style=\"fill:none;fill-rule:evenodd;stroke:#000000;stroke-width:2.0px;stroke-linecap:butt;stroke-linejoin:miter;stroke-opacity:1\"/>\n",
       "<path class=\"bond-2 atom-2 atom-3\" d=\"M 776.6,201.6 L 759.3,198.6\" style=\"fill:none;fill-rule:evenodd;stroke:#0000FF;stroke-width:2.0px;stroke-linecap:butt;stroke-linejoin:miter;stroke-opacity:1\"/>\n",
       "<path class=\"bond-2 atom-2 atom-3\" d=\"M 790.3,194.8 L 778.2,192.7\" style=\"fill:none;fill-rule:evenodd;stroke:#000000;stroke-width:2.0px;stroke-linecap:butt;stroke-linejoin:miter;stroke-opacity:1\"/>\n",
       "<path class=\"bond-2 atom-2 atom-3\" d=\"M 778.2,192.7 L 766.0,190.6\" style=\"fill:none;fill-rule:evenodd;stroke:#0000FF;stroke-width:2.0px;stroke-linecap:butt;stroke-linejoin:miter;stroke-opacity:1\"/>\n",
       "<path class=\"bond-3 atom-3 atom-4\" d=\"M 750.3,190.2 L 741.8,170.5\" style=\"fill:none;fill-rule:evenodd;stroke:#0000FF;stroke-width:2.0px;stroke-linecap:butt;stroke-linejoin:miter;stroke-opacity:1\"/>\n",
       "<path class=\"bond-4 atom-4 atom-5\" d=\"M 732.8,162.6 L 714.5,160.1\" style=\"fill:none;fill-rule:evenodd;stroke:#0000FF;stroke-width:2.0px;stroke-linecap:butt;stroke-linejoin:miter;stroke-opacity:1\"/>\n",
       "<path class=\"bond-4 atom-4 atom-5\" d=\"M 714.5,160.1 L 696.2,157.6\" style=\"fill:none;fill-rule:evenodd;stroke:#000000;stroke-width:2.0px;stroke-linecap:butt;stroke-linejoin:miter;stroke-opacity:1\"/>\n",
       "<path class=\"bond-10 atom-4 atom-11\" d=\"M 744.5,157.1 L 754.7,146.1\" style=\"fill:none;fill-rule:evenodd;stroke:#0000FF;stroke-width:2.0px;stroke-linecap:butt;stroke-linejoin:miter;stroke-opacity:1\"/>\n",
       "<path class=\"bond-10 atom-4 atom-11\" d=\"M 754.7,146.1 L 764.8,135.1\" style=\"fill:none;fill-rule:evenodd;stroke:#000000;stroke-width:2.0px;stroke-linecap:butt;stroke-linejoin:miter;stroke-opacity:1\"/>\n",
       "<path class=\"bond-5 atom-5 atom-6\" d=\"M 696.2,157.6 L 679.8,121.3\" style=\"fill:none;fill-rule:evenodd;stroke:#000000;stroke-width:2.0px;stroke-linecap:butt;stroke-linejoin:miter;stroke-opacity:1\"/>\n",
       "<path class=\"bond-5 atom-5 atom-6\" d=\"M 685.5,155.9 L 674.0,130.5\" style=\"fill:none;fill-rule:evenodd;stroke:#000000;stroke-width:2.0px;stroke-linecap:butt;stroke-linejoin:miter;stroke-opacity:1\"/>\n",
       "<path class=\"bond-15 atom-10 atom-5\" d=\"M 670.4,187.9 L 696.2,157.6\" style=\"fill:none;fill-rule:evenodd;stroke:#000000;stroke-width:2.0px;stroke-linecap:butt;stroke-linejoin:miter;stroke-opacity:1\"/>\n",
       "<path class=\"bond-6 atom-6 atom-7\" d=\"M 679.8,121.3 L 638.7,116.6\" style=\"fill:none;fill-rule:evenodd;stroke:#000000;stroke-width:2.0px;stroke-linecap:butt;stroke-linejoin:miter;stroke-opacity:1\"/>\n",
       "<path class=\"bond-7 atom-7 atom-8\" d=\"M 638.7,116.6 L 613.2,146.7\" style=\"fill:none;fill-rule:evenodd;stroke:#000000;stroke-width:2.0px;stroke-linecap:butt;stroke-linejoin:miter;stroke-opacity:1\"/>\n",
       "<path class=\"bond-7 atom-7 atom-8\" d=\"M 641.8,126.9 L 624.0,148.0\" style=\"fill:none;fill-rule:evenodd;stroke:#000000;stroke-width:2.0px;stroke-linecap:butt;stroke-linejoin:miter;stroke-opacity:1\"/>\n",
       "<path class=\"bond-8 atom-8 atom-9\" d=\"M 613.2,146.7 L 629.2,183.0\" style=\"fill:none;fill-rule:evenodd;stroke:#000000;stroke-width:2.0px;stroke-linecap:butt;stroke-linejoin:miter;stroke-opacity:1\"/>\n",
       "<path class=\"bond-9 atom-9 atom-10\" d=\"M 629.2,183.0 L 670.4,187.9\" style=\"fill:none;fill-rule:evenodd;stroke:#000000;stroke-width:2.0px;stroke-linecap:butt;stroke-linejoin:miter;stroke-opacity:1\"/>\n",
       "<path class=\"bond-9 atom-9 atom-10\" d=\"M 636.4,174.8 L 665.3,178.2\" style=\"fill:none;fill-rule:evenodd;stroke:#000000;stroke-width:2.0px;stroke-linecap:butt;stroke-linejoin:miter;stroke-opacity:1\"/>\n",
       "<path class=\"bond-11 atom-11 atom-12\" d=\"M 769.0,133.5 L 764.0,120.5\" style=\"fill:none;fill-rule:evenodd;stroke:#000000;stroke-width:2.0px;stroke-linecap:butt;stroke-linejoin:miter;stroke-opacity:1\"/>\n",
       "<path class=\"bond-11 atom-11 atom-12\" d=\"M 764.0,120.5 L 759.0,107.6\" style=\"fill:none;fill-rule:evenodd;stroke:#FF0000;stroke-width:2.0px;stroke-linecap:butt;stroke-linejoin:miter;stroke-opacity:1\"/>\n",
       "<path class=\"bond-11 atom-11 atom-12\" d=\"M 760.6,136.7 L 755.6,123.8\" style=\"fill:none;fill-rule:evenodd;stroke:#000000;stroke-width:2.0px;stroke-linecap:butt;stroke-linejoin:miter;stroke-opacity:1\"/>\n",
       "<path class=\"bond-11 atom-11 atom-12\" d=\"M 755.6,123.8 L 750.6,110.8\" style=\"fill:none;fill-rule:evenodd;stroke:#FF0000;stroke-width:2.0px;stroke-linecap:butt;stroke-linejoin:miter;stroke-opacity:1\"/>\n",
       "<path class=\"bond-12 atom-11 atom-13\" d=\"M 764.8,135.1 L 806.0,140.5\" style=\"fill:none;fill-rule:evenodd;stroke:#000000;stroke-width:2.0px;stroke-linecap:butt;stroke-linejoin:miter;stroke-opacity:1\"/>\n",
       "<path class=\"bond-13 atom-13 atom-14\" d=\"M 806.0,140.5 L 819.2,125.3\" style=\"fill:none;fill-rule:evenodd;stroke:#000000;stroke-width:2.0px;stroke-linecap:butt;stroke-linejoin:miter;stroke-opacity:1\"/>\n",
       "<path class=\"bond-13 atom-13 atom-14\" d=\"M 819.2,125.3 L 832.5,110.0\" style=\"fill:none;fill-rule:evenodd;stroke:#00CC00;stroke-width:2.0px;stroke-linecap:butt;stroke-linejoin:miter;stroke-opacity:1\"/>\n",
       "<path class=\"atom-3\" d=\"M 750.6 191.2 L 754.8 198.0 Q 755.2 198.6, 755.9 199.8 Q 756.5 201.0, 756.6 201.1 L 756.6 191.2 L 758.3 191.2 L 758.3 204.0 L 756.5 204.0 L 752.0 196.6 Q 751.5 195.7, 750.9 194.7 Q 750.4 193.7, 750.2 193.4 L 750.2 204.0 L 748.6 204.0 L 748.6 191.2 L 750.6 191.2 \" fill=\"#0000FF\"/>\n",
       "<path class=\"atom-4\" d=\"M 735.9 157.0 L 740.1 163.8 Q 740.5 164.4, 741.2 165.6 Q 741.8 166.9, 741.9 166.9 L 741.9 157.0 L 743.6 157.0 L 743.6 169.8 L 741.8 169.8 L 737.3 162.4 Q 736.8 161.5, 736.2 160.5 Q 735.7 159.5, 735.5 159.2 L 735.5 169.8 L 733.9 169.8 L 733.9 157.0 L 735.9 157.0 \" fill=\"#0000FF\"/>\n",
       "<path class=\"atom-12\" d=\"M 746.0 101.6 Q 746.0 98.6, 747.5 96.8 Q 749.0 95.1, 751.8 95.1 Q 754.7 95.1, 756.2 96.8 Q 757.7 98.6, 757.7 101.6 Q 757.7 104.8, 756.2 106.5 Q 754.7 108.3, 751.8 108.3 Q 749.0 108.3, 747.5 106.5 Q 746.0 104.8, 746.0 101.6 M 751.8 106.8 Q 753.8 106.8, 754.9 105.5 Q 755.9 104.2, 755.9 101.6 Q 755.9 99.1, 754.9 97.9 Q 753.8 96.6, 751.8 96.6 Q 749.9 96.6, 748.8 97.8 Q 747.8 99.1, 747.8 101.6 Q 747.8 104.2, 748.8 105.5 Q 749.9 106.8, 751.8 106.8 \" fill=\"#FF0000\"/>\n",
       "<path class=\"atom-14\" d=\"M 833.7 103.3 Q 833.7 100.1, 835.2 98.4 Q 836.7 96.8, 839.5 96.8 Q 842.2 96.8, 843.6 98.6 L 842.4 99.6 Q 841.4 98.3, 839.5 98.3 Q 837.6 98.3, 836.6 99.6 Q 835.6 100.8, 835.6 103.3 Q 835.6 105.8, 836.6 107.1 Q 837.7 108.4, 839.7 108.4 Q 841.1 108.4, 842.8 107.6 L 843.3 108.9 Q 842.6 109.4, 841.6 109.6 Q 840.6 109.9, 839.5 109.9 Q 836.7 109.9, 835.2 108.2 Q 833.7 106.5, 833.7 103.3 \" fill=\"#00CC00\"/>\n",
       "<path class=\"atom-14\" d=\"M 845.1 96.0 L 846.8 96.0 L 846.8 109.7 L 845.1 109.7 L 845.1 96.0 \" fill=\"#00CC00\"/>\n",
       "<path class=\"bond-0 atom-0 atom-1\" d=\"M 1166.9,182.8 L 1122.5,175.5\" style=\"fill:none;fill-rule:evenodd;stroke:#000000;stroke-width:2.0px;stroke-linecap:butt;stroke-linejoin:miter;stroke-opacity:1\"/>\n",
       "<path class=\"bond-1 atom-1 atom-2\" d=\"M 1122.5,175.5 L 1095.1,199.0\" style=\"fill:none;fill-rule:evenodd;stroke:#000000;stroke-width:2.0px;stroke-linecap:butt;stroke-linejoin:miter;stroke-opacity:1\"/>\n",
       "<path class=\"bond-13 atom-13 atom-1\" d=\"M 1106.2,144.6 L 1122.5,175.5\" style=\"fill:none;fill-rule:evenodd;stroke:#000000;stroke-width:2.0px;stroke-linecap:butt;stroke-linejoin:miter;stroke-opacity:1\"/>\n",
       "<path class=\"bond-13 atom-13 atom-1\" d=\"M 1103.8,151.8 L 1115.2,173.4\" style=\"fill:none;fill-rule:evenodd;stroke:#000000;stroke-width:2.0px;stroke-linecap:butt;stroke-linejoin:miter;stroke-opacity:1\"/>\n",
       "<path class=\"bond-2 atom-2 atom-3\" d=\"M 1095.1,199.0 L 1078.1,195.9\" style=\"fill:none;fill-rule:evenodd;stroke:#000000;stroke-width:2.0px;stroke-linecap:butt;stroke-linejoin:miter;stroke-opacity:1\"/>\n",
       "<path class=\"bond-2 atom-2 atom-3\" d=\"M 1078.1,195.9 L 1061.0,192.9\" style=\"fill:none;fill-rule:evenodd;stroke:#0000FF;stroke-width:2.0px;stroke-linecap:butt;stroke-linejoin:miter;stroke-opacity:1\"/>\n",
       "<path class=\"bond-2 atom-2 atom-3\" d=\"M 1091.6,189.1 L 1079.6,187.0\" style=\"fill:none;fill-rule:evenodd;stroke:#000000;stroke-width:2.0px;stroke-linecap:butt;stroke-linejoin:miter;stroke-opacity:1\"/>\n",
       "<path class=\"bond-2 atom-2 atom-3\" d=\"M 1079.6,187.0 L 1067.7,184.9\" style=\"fill:none;fill-rule:evenodd;stroke:#0000FF;stroke-width:2.0px;stroke-linecap:butt;stroke-linejoin:miter;stroke-opacity:1\"/>\n",
       "<path class=\"bond-3 atom-3 atom-4\" d=\"M 1051.2,184.7 L 1042.8,169.5\" style=\"fill:none;fill-rule:evenodd;stroke:#0000FF;stroke-width:2.0px;stroke-linecap:butt;stroke-linejoin:miter;stroke-opacity:1\"/>\n",
       "<path class=\"bond-4 atom-4 atom-5\" d=\"M 1033.0,161.6 L 1014.6,158.8\" style=\"fill:none;fill-rule:evenodd;stroke:#0000FF;stroke-width:2.0px;stroke-linecap:butt;stroke-linejoin:miter;stroke-opacity:1\"/>\n",
       "<path class=\"bond-4 atom-4 atom-5\" d=\"M 1014.6,158.8 L 996.2,156.0\" style=\"fill:none;fill-rule:evenodd;stroke:#000000;stroke-width:2.0px;stroke-linecap:butt;stroke-linejoin:miter;stroke-opacity:1\"/>\n",
       "<path class=\"bond-10 atom-4 atom-11\" d=\"M 1044.6,157.3 L 1054.8,148.2\" style=\"fill:none;fill-rule:evenodd;stroke:#0000FF;stroke-width:2.0px;stroke-linecap:butt;stroke-linejoin:miter;stroke-opacity:1\"/>\n",
       "<path class=\"bond-10 atom-4 atom-11\" d=\"M 1054.8,148.2 L 1064.9,139.1\" style=\"fill:none;fill-rule:evenodd;stroke:#000000;stroke-width:2.0px;stroke-linecap:butt;stroke-linejoin:miter;stroke-opacity:1\"/>\n",
       "<path class=\"bond-5 atom-5 atom-6\" d=\"M 996.2,156.0 L 975.0,139.3\" style=\"fill:none;fill-rule:evenodd;stroke:#000000;stroke-width:2.0px;stroke-linecap:butt;stroke-linejoin:miter;stroke-opacity:1\"/>\n",
       "<path class=\"bond-5 atom-5 atom-6\" d=\"M 989.7,157.8 L 974.8,146.0\" style=\"fill:none;fill-rule:evenodd;stroke:#000000;stroke-width:2.0px;stroke-linecap:butt;stroke-linejoin:miter;stroke-opacity:1\"/>\n",
       "<path class=\"bond-14 atom-10 atom-5\" d=\"M 974.7,166.8 L 996.2,156.0\" style=\"fill:none;fill-rule:evenodd;stroke:#000000;stroke-width:2.0px;stroke-linecap:butt;stroke-linejoin:miter;stroke-opacity:1\"/>\n",
       "<path class=\"bond-6 atom-6 atom-7\" d=\"M 975.0,139.3 L 933.3,133.9\" style=\"fill:none;fill-rule:evenodd;stroke:#000000;stroke-width:2.0px;stroke-linecap:butt;stroke-linejoin:miter;stroke-opacity:1\"/>\n",
       "<path class=\"bond-7 atom-7 atom-8\" d=\"M 933.3,133.9 L 912.7,145.0\" style=\"fill:none;fill-rule:evenodd;stroke:#000000;stroke-width:2.0px;stroke-linecap:butt;stroke-linejoin:miter;stroke-opacity:1\"/>\n",
       "<path class=\"bond-7 atom-7 atom-8\" d=\"M 932.8,140.3 L 918.4,148.1\" style=\"fill:none;fill-rule:evenodd;stroke:#000000;stroke-width:2.0px;stroke-linecap:butt;stroke-linejoin:miter;stroke-opacity:1\"/>\n",
       "<path class=\"bond-8 atom-8 atom-9\" d=\"M 912.7,145.0 L 934.0,161.8\" style=\"fill:none;fill-rule:evenodd;stroke:#000000;stroke-width:2.0px;stroke-linecap:butt;stroke-linejoin:miter;stroke-opacity:1\"/>\n",
       "<path class=\"bond-9 atom-9 atom-10\" d=\"M 934.0,161.8 L 974.7,166.8\" style=\"fill:none;fill-rule:evenodd;stroke:#000000;stroke-width:2.0px;stroke-linecap:butt;stroke-linejoin:miter;stroke-opacity:1\"/>\n",
       "<path class=\"bond-9 atom-9 atom-10\" d=\"M 941.2,153.6 L 969.7,157.1\" style=\"fill:none;fill-rule:evenodd;stroke:#000000;stroke-width:2.0px;stroke-linecap:butt;stroke-linejoin:miter;stroke-opacity:1\"/>\n",
       "<path class=\"bond-11 atom-11 atom-12\" d=\"M 1067.3,137.8 L 1061.7,127.4\" style=\"fill:none;fill-rule:evenodd;stroke:#000000;stroke-width:2.0px;stroke-linecap:butt;stroke-linejoin:miter;stroke-opacity:1\"/>\n",
       "<path class=\"bond-11 atom-11 atom-12\" d=\"M 1061.7,127.4 L 1056.1,117.1\" style=\"fill:none;fill-rule:evenodd;stroke:#FF0000;stroke-width:2.0px;stroke-linecap:butt;stroke-linejoin:miter;stroke-opacity:1\"/>\n",
       "<path class=\"bond-11 atom-11 atom-12\" d=\"M 1062.5,140.4 L 1056.9,130.0\" style=\"fill:none;fill-rule:evenodd;stroke:#000000;stroke-width:2.0px;stroke-linecap:butt;stroke-linejoin:miter;stroke-opacity:1\"/>\n",
       "<path class=\"bond-11 atom-11 atom-12\" d=\"M 1056.9,130.0 L 1051.3,119.6\" style=\"fill:none;fill-rule:evenodd;stroke:#FF0000;stroke-width:2.0px;stroke-linecap:butt;stroke-linejoin:miter;stroke-opacity:1\"/>\n",
       "<path class=\"bond-12 atom-11 atom-13\" d=\"M 1064.9,139.1 L 1106.2,144.6\" style=\"fill:none;fill-rule:evenodd;stroke:#000000;stroke-width:2.0px;stroke-linecap:butt;stroke-linejoin:miter;stroke-opacity:1\"/>\n",
       "<path class=\"atom-3\" d=\"M 1052.3 185.5 L 1056.5 192.3 Q 1056.9 193.0, 1057.6 194.2 Q 1058.3 195.4, 1058.3 195.5 L 1058.3 185.5 L 1060.0 185.5 L 1060.0 198.3 L 1058.3 198.3 L 1053.7 190.9 Q 1053.2 190.0, 1052.7 189.0 Q 1052.1 188.0, 1052.0 187.7 L 1052.0 198.3 L 1050.3 198.3 L 1050.3 185.5 L 1052.3 185.5 \" fill=\"#0000FF\"/>\n",
       "<path class=\"atom-4\" d=\"M 1036.1 156.1 L 1040.3 162.9 Q 1040.7 163.5, 1041.4 164.7 Q 1042.0 165.9, 1042.1 166.0 L 1042.1 156.1 L 1043.8 156.1 L 1043.8 168.9 L 1042.0 168.9 L 1037.5 161.5 Q 1037.0 160.6, 1036.4 159.6 Q 1035.9 158.6, 1035.7 158.3 L 1035.7 168.9 L 1034.1 168.9 L 1034.1 156.1 L 1036.1 156.1 \" fill=\"#0000FF\"/>\n",
       "<path class=\"atom-12\" d=\"M 1043.8 110.9 Q 1043.8 107.8, 1045.4 106.1 Q 1046.9 104.4, 1049.7 104.4 Q 1052.6 104.4, 1054.1 106.1 Q 1055.6 107.8, 1055.6 110.9 Q 1055.6 114.0, 1054.1 115.8 Q 1052.5 117.6, 1049.7 117.6 Q 1046.9 117.6, 1045.4 115.8 Q 1043.8 114.0, 1043.8 110.9 M 1049.7 116.1 Q 1051.7 116.1, 1052.7 114.8 Q 1053.8 113.5, 1053.8 110.9 Q 1053.8 108.4, 1052.7 107.1 Q 1051.7 105.9, 1049.7 105.9 Q 1047.8 105.9, 1046.7 107.1 Q 1045.6 108.4, 1045.6 110.9 Q 1045.6 113.5, 1046.7 114.8 Q 1047.8 116.1, 1049.7 116.1 \" fill=\"#FF0000\"/>\n",
       "</svg>"
      ],
      "text/plain": [
       "<IPython.core.display.SVG object>"
      ]
     },
     "execution_count": 12,
     "metadata": {},
     "output_type": "execute_result"
    }
   ],
   "source": [
    "# Extract all the features from a list of molecules\n",
    "features = featurizer.get_features_from_many(mols, align=True, keep_mols=True)\n",
    "\n",
    "# Extract the aligned molecules (optional)\n",
    "mols = features.groupby(\"mol_index\").first()[\"mol\"].tolist()\n",
    "\n",
    "# Visualize the aligned mols\n",
    "dm.to_image(mols)"
   ]
  },
  {
   "cell_type": "markdown",
   "id": "1222d48f-046d-438a-9cc2-ad61c88b210f",
   "metadata": {},
   "source": [
    "Notice the returned molecules are aligned. This is those conformers that are actually used for the features clustering.\n",
    "\n",
    "Now let's have a look at the extracted features. Note that those features **are not clustered yet.**"
   ]
  },
  {
   "cell_type": "code",
   "execution_count": 13,
   "id": "a9915706-d42e-4612-acb0-f96fdfe79c8a",
   "metadata": {},
   "outputs": [
    {
     "data": {
      "text/html": [
       "<div>\n",
       "<style scoped>\n",
       "    .dataframe tbody tr th:only-of-type {\n",
       "        vertical-align: middle;\n",
       "    }\n",
       "\n",
       "    .dataframe tbody tr th {\n",
       "        vertical-align: top;\n",
       "    }\n",
       "\n",
       "    .dataframe thead th {\n",
       "        text-align: right;\n",
       "    }\n",
       "</style>\n",
       "<table border=\"1\" class=\"dataframe\">\n",
       "  <thead>\n",
       "    <tr style=\"text-align: right;\">\n",
       "      <th></th>\n",
       "      <th>feature_id</th>\n",
       "      <th>feature_name</th>\n",
       "      <th>feature_type</th>\n",
       "      <th>atom_indices</th>\n",
       "      <th>coords</th>\n",
       "      <th>mol_index</th>\n",
       "      <th>mol</th>\n",
       "    </tr>\n",
       "  </thead>\n",
       "  <tbody>\n",
       "    <tr>\n",
       "      <th>0</th>\n",
       "      <td>1</td>\n",
       "      <td>a</td>\n",
       "      <td>ar6</td>\n",
       "      <td>(1, 2, 3, 4, 11, 13)</td>\n",
       "      <td>[1.6073308945212306, -0.36478682508765736, 0.1...</td>\n",
       "      <td>0</td>\n",
       "      <td>&lt;img data-content=\"rdkit/molecule\" src=\"data:i...</td>\n",
       "    </tr>\n",
       "    <tr>\n",
       "      <th>1</th>\n",
       "      <td>2</td>\n",
       "      <td>a</td>\n",
       "      <td>ar6</td>\n",
       "      <td>(5, 6, 7, 8, 9, 10)</td>\n",
       "      <td>[-2.5373606040975885, 0.2656951609943626, -0.0...</td>\n",
       "      <td>0</td>\n",
       "      <td>&lt;img data-content=\"rdkit/molecule\" src=\"data:i...</td>\n",
       "    </tr>\n",
       "    <tr>\n",
       "      <th>2</th>\n",
       "      <td>3</td>\n",
       "      <td>D</td>\n",
       "      <td>N_HBD</td>\n",
       "      <td>(0,)</td>\n",
       "      <td>[4.374047166053936, -0.7628191630259036, 0.243...</td>\n",
       "      <td>0</td>\n",
       "      <td>&lt;img data-content=\"rdkit/molecule\" src=\"data:i...</td>\n",
       "    </tr>\n",
       "    <tr>\n",
       "      <th>3</th>\n",
       "      <td>4</td>\n",
       "      <td>A</td>\n",
       "      <td>N_HBA</td>\n",
       "      <td>(3,)</td>\n",
       "      <td>[0.7699593756605752, -1.3098389937058816, 0.56...</td>\n",
       "      <td>0</td>\n",
       "      <td>&lt;img data-content=\"rdkit/molecule\" src=\"data:i...</td>\n",
       "    </tr>\n",
       "    <tr>\n",
       "      <th>4</th>\n",
       "      <td>5</td>\n",
       "      <td>A</td>\n",
       "      <td>O_HBA</td>\n",
       "      <td>(12,)</td>\n",
       "      <td>[0.6258053493478449, 1.8317635297679282, -0.79...</td>\n",
       "      <td>0</td>\n",
       "      <td>&lt;img data-content=\"rdkit/molecule\" src=\"data:i...</td>\n",
       "    </tr>\n",
       "    <tr>\n",
       "      <th>5</th>\n",
       "      <td>6</td>\n",
       "      <td>H</td>\n",
       "      <td>ar6_hyd</td>\n",
       "      <td>(1, 2, 3, 4, 11, 13)</td>\n",
       "      <td>[1.6073308945212306, -0.36478682508765736, 0.1...</td>\n",
       "      <td>0</td>\n",
       "      <td>&lt;img data-content=\"rdkit/molecule\" src=\"data:i...</td>\n",
       "    </tr>\n",
       "    <tr>\n",
       "      <th>6</th>\n",
       "      <td>7</td>\n",
       "      <td>H</td>\n",
       "      <td>ar6_hyd</td>\n",
       "      <td>(5, 6, 7, 8, 9, 10)</td>\n",
       "      <td>[-2.5373606040975885, 0.2656951609943626, -0.0...</td>\n",
       "      <td>0</td>\n",
       "      <td>&lt;img data-content=\"rdkit/molecule\" src=\"data:i...</td>\n",
       "    </tr>\n",
       "    <tr>\n",
       "      <th>7</th>\n",
       "      <td>8</td>\n",
       "      <td>H</td>\n",
       "      <td>hyd_1</td>\n",
       "      <td>(14,)</td>\n",
       "      <td>[3.501330026469845, 1.8924330558014002, -0.888...</td>\n",
       "      <td>0</td>\n",
       "      <td>&lt;img data-content=\"rdkit/molecule\" src=\"data:i...</td>\n",
       "    </tr>\n",
       "    <tr>\n",
       "      <th>8</th>\n",
       "      <td>1</td>\n",
       "      <td>a</td>\n",
       "      <td>ar6</td>\n",
       "      <td>(1, 2, 3, 4, 11, 13)</td>\n",
       "      <td>[1.6472469847044522, -0.33346691994497213, 0.1...</td>\n",
       "      <td>1</td>\n",
       "      <td>&lt;img data-content=\"rdkit/molecule\" src=\"data:i...</td>\n",
       "    </tr>\n",
       "    <tr>\n",
       "      <th>9</th>\n",
       "      <td>2</td>\n",
       "      <td>a</td>\n",
       "      <td>ar6</td>\n",
       "      <td>(5, 6, 7, 8, 9, 10)</td>\n",
       "      <td>[-2.537205754107394, 0.27521012778383225, -0.0...</td>\n",
       "      <td>1</td>\n",
       "      <td>&lt;img data-content=\"rdkit/molecule\" src=\"data:i...</td>\n",
       "    </tr>\n",
       "    <tr>\n",
       "      <th>10</th>\n",
       "      <td>3</td>\n",
       "      <td>A</td>\n",
       "      <td>O_HBA</td>\n",
       "      <td>(12,)</td>\n",
       "      <td>[0.6115432042399305, 1.8876712335275594, -0.79...</td>\n",
       "      <td>1</td>\n",
       "      <td>&lt;img data-content=\"rdkit/molecule\" src=\"data:i...</td>\n",
       "    </tr>\n",
       "    <tr>\n",
       "      <th>11</th>\n",
       "      <td>4</td>\n",
       "      <td>H</td>\n",
       "      <td>ar6_hyd</td>\n",
       "      <td>(1, 2, 3, 4, 11, 13)</td>\n",
       "      <td>[1.6472469847044522, -0.33346691994497213, 0.1...</td>\n",
       "      <td>1</td>\n",
       "      <td>&lt;img data-content=\"rdkit/molecule\" src=\"data:i...</td>\n",
       "    </tr>\n",
       "    <tr>\n",
       "      <th>12</th>\n",
       "      <td>5</td>\n",
       "      <td>H</td>\n",
       "      <td>ar6_hyd</td>\n",
       "      <td>(5, 6, 7, 8, 9, 10)</td>\n",
       "      <td>[-2.537205754107394, 0.27521012778383225, -0.0...</td>\n",
       "      <td>1</td>\n",
       "      <td>&lt;img data-content=\"rdkit/molecule\" src=\"data:i...</td>\n",
       "    </tr>\n",
       "    <tr>\n",
       "      <th>13</th>\n",
       "      <td>6</td>\n",
       "      <td>H</td>\n",
       "      <td>hyd_1</td>\n",
       "      <td>(0,)</td>\n",
       "      <td>[4.502675021580601, -0.7001012151657882, 0.179...</td>\n",
       "      <td>1</td>\n",
       "      <td>&lt;img data-content=\"rdkit/molecule\" src=\"data:i...</td>\n",
       "    </tr>\n",
       "    <tr>\n",
       "      <th>14</th>\n",
       "      <td>7</td>\n",
       "      <td>H</td>\n",
       "      <td>hyd_1</td>\n",
       "      <td>(14,)</td>\n",
       "      <td>[3.2873072603371845, 1.645104915272015, -0.775...</td>\n",
       "      <td>1</td>\n",
       "      <td>&lt;img data-content=\"rdkit/molecule\" src=\"data:i...</td>\n",
       "    </tr>\n",
       "    <tr>\n",
       "      <th>15</th>\n",
       "      <td>1</td>\n",
       "      <td>a</td>\n",
       "      <td>ar6</td>\n",
       "      <td>(1, 2, 3, 4, 11, 13)</td>\n",
       "      <td>[1.5885348415634917, -0.3513699161774697, 0.12...</td>\n",
       "      <td>2</td>\n",
       "      <td>&lt;img data-content=\"rdkit/molecule\" src=\"data:i...</td>\n",
       "    </tr>\n",
       "    <tr>\n",
       "      <th>16</th>\n",
       "      <td>2</td>\n",
       "      <td>a</td>\n",
       "      <td>ar6</td>\n",
       "      <td>(5, 6, 7, 8, 9, 10)</td>\n",
       "      <td>[-2.5603671398687795, 0.225961309976679, -0.00...</td>\n",
       "      <td>2</td>\n",
       "      <td>&lt;img data-content=\"rdkit/molecule\" src=\"data:i...</td>\n",
       "    </tr>\n",
       "    <tr>\n",
       "      <th>17</th>\n",
       "      <td>3</td>\n",
       "      <td>A</td>\n",
       "      <td>N_HBA</td>\n",
       "      <td>(3,)</td>\n",
       "      <td>[0.7179018976211062, -1.278721491357971, 0.548...</td>\n",
       "      <td>2</td>\n",
       "      <td>&lt;img data-content=\"rdkit/molecule\" src=\"data:i...</td>\n",
       "    </tr>\n",
       "    <tr>\n",
       "      <th>18</th>\n",
       "      <td>4</td>\n",
       "      <td>A</td>\n",
       "      <td>O_HBA</td>\n",
       "      <td>(12,)</td>\n",
       "      <td>[0.6654966654607128, 1.9038869926122095, -0.81...</td>\n",
       "      <td>2</td>\n",
       "      <td>&lt;img data-content=\"rdkit/molecule\" src=\"data:i...</td>\n",
       "    </tr>\n",
       "    <tr>\n",
       "      <th>19</th>\n",
       "      <td>5</td>\n",
       "      <td>H</td>\n",
       "      <td>ar6_hyd</td>\n",
       "      <td>(1, 2, 3, 4, 11, 13)</td>\n",
       "      <td>[1.5885348415634917, -0.3513699161774697, 0.12...</td>\n",
       "      <td>2</td>\n",
       "      <td>&lt;img data-content=\"rdkit/molecule\" src=\"data:i...</td>\n",
       "    </tr>\n",
       "    <tr>\n",
       "      <th>20</th>\n",
       "      <td>6</td>\n",
       "      <td>H</td>\n",
       "      <td>ar6_hyd</td>\n",
       "      <td>(5, 6, 7, 8, 9, 10)</td>\n",
       "      <td>[-2.5603671398687795, 0.225961309976679, -0.00...</td>\n",
       "      <td>2</td>\n",
       "      <td>&lt;img data-content=\"rdkit/molecule\" src=\"data:i...</td>\n",
       "    </tr>\n",
       "    <tr>\n",
       "      <th>21</th>\n",
       "      <td>7</td>\n",
       "      <td>H</td>\n",
       "      <td>hyd_1</td>\n",
       "      <td>(0,)</td>\n",
       "      <td>[4.435874930017584, -0.7756874994731081, 0.229...</td>\n",
       "      <td>2</td>\n",
       "      <td>&lt;img data-content=\"rdkit/molecule\" src=\"data:i...</td>\n",
       "    </tr>\n",
       "    <tr>\n",
       "      <th>22</th>\n",
       "      <td>8</td>\n",
       "      <td>H</td>\n",
       "      <td>hyd_1</td>\n",
       "      <td>(14,)</td>\n",
       "      <td>[3.5442184878036715, 1.8625048142864429, -0.87...</td>\n",
       "      <td>2</td>\n",
       "      <td>&lt;img data-content=\"rdkit/molecule\" src=\"data:i...</td>\n",
       "    </tr>\n",
       "    <tr>\n",
       "      <th>23</th>\n",
       "      <td>1</td>\n",
       "      <td>a</td>\n",
       "      <td>ar6</td>\n",
       "      <td>(1, 2, 3, 4, 11, 13)</td>\n",
       "      <td>[1.6142175055366563, -0.32275141388056483, 0.1...</td>\n",
       "      <td>3</td>\n",
       "      <td>&lt;img data-content=\"rdkit/molecule\" src=\"data:i...</td>\n",
       "    </tr>\n",
       "    <tr>\n",
       "      <th>24</th>\n",
       "      <td>2</td>\n",
       "      <td>a</td>\n",
       "      <td>ar6</td>\n",
       "      <td>(5, 6, 7, 8, 9, 10)</td>\n",
       "      <td>[-2.56875904039992, 0.2837035722401502, 0.0238...</td>\n",
       "      <td>3</td>\n",
       "      <td>&lt;img data-content=\"rdkit/molecule\" src=\"data:i...</td>\n",
       "    </tr>\n",
       "    <tr>\n",
       "      <th>25</th>\n",
       "      <td>3</td>\n",
       "      <td>A</td>\n",
       "      <td>N_HBA</td>\n",
       "      <td>(3,)</td>\n",
       "      <td>[0.774950525389591, -1.091122302896764, 0.8765...</td>\n",
       "      <td>3</td>\n",
       "      <td>&lt;img data-content=\"rdkit/molecule\" src=\"data:i...</td>\n",
       "    </tr>\n",
       "    <tr>\n",
       "      <th>26</th>\n",
       "      <td>4</td>\n",
       "      <td>A</td>\n",
       "      <td>O_HBA</td>\n",
       "      <td>(12,)</td>\n",
       "      <td>[0.5947875917532608, 1.5963470277227887, -1.20...</td>\n",
       "      <td>3</td>\n",
       "      <td>&lt;img data-content=\"rdkit/molecule\" src=\"data:i...</td>\n",
       "    </tr>\n",
       "    <tr>\n",
       "      <th>27</th>\n",
       "      <td>5</td>\n",
       "      <td>H</td>\n",
       "      <td>ar6_hyd</td>\n",
       "      <td>(1, 2, 3, 4, 11, 13)</td>\n",
       "      <td>[1.6142175055366563, -0.32275141388056483, 0.1...</td>\n",
       "      <td>3</td>\n",
       "      <td>&lt;img data-content=\"rdkit/molecule\" src=\"data:i...</td>\n",
       "    </tr>\n",
       "    <tr>\n",
       "      <th>28</th>\n",
       "      <td>6</td>\n",
       "      <td>H</td>\n",
       "      <td>ar6_hyd</td>\n",
       "      <td>(5, 6, 7, 8, 9, 10)</td>\n",
       "      <td>[-2.56875904039992, 0.2837035722401502, 0.0238...</td>\n",
       "      <td>3</td>\n",
       "      <td>&lt;img data-content=\"rdkit/molecule\" src=\"data:i...</td>\n",
       "    </tr>\n",
       "    <tr>\n",
       "      <th>29</th>\n",
       "      <td>7</td>\n",
       "      <td>H</td>\n",
       "      <td>hyd_1</td>\n",
       "      <td>(0,)</td>\n",
       "      <td>[4.480532136001403, -0.788713951935018, 0.3040...</td>\n",
       "      <td>3</td>\n",
       "      <td>&lt;img data-content=\"rdkit/molecule\" src=\"data:i...</td>\n",
       "    </tr>\n",
       "  </tbody>\n",
       "</table>\n",
       "</div>"
      ],
      "text/plain": [
       "    feature_id feature_name feature_type          atom_indices  \\\n",
       "0            1            a          ar6  (1, 2, 3, 4, 11, 13)   \n",
       "1            2            a          ar6   (5, 6, 7, 8, 9, 10)   \n",
       "2            3            D        N_HBD                  (0,)   \n",
       "3            4            A        N_HBA                  (3,)   \n",
       "4            5            A        O_HBA                 (12,)   \n",
       "5            6            H      ar6_hyd  (1, 2, 3, 4, 11, 13)   \n",
       "6            7            H      ar6_hyd   (5, 6, 7, 8, 9, 10)   \n",
       "7            8            H        hyd_1                 (14,)   \n",
       "8            1            a          ar6  (1, 2, 3, 4, 11, 13)   \n",
       "9            2            a          ar6   (5, 6, 7, 8, 9, 10)   \n",
       "10           3            A        O_HBA                 (12,)   \n",
       "11           4            H      ar6_hyd  (1, 2, 3, 4, 11, 13)   \n",
       "12           5            H      ar6_hyd   (5, 6, 7, 8, 9, 10)   \n",
       "13           6            H        hyd_1                  (0,)   \n",
       "14           7            H        hyd_1                 (14,)   \n",
       "15           1            a          ar6  (1, 2, 3, 4, 11, 13)   \n",
       "16           2            a          ar6   (5, 6, 7, 8, 9, 10)   \n",
       "17           3            A        N_HBA                  (3,)   \n",
       "18           4            A        O_HBA                 (12,)   \n",
       "19           5            H      ar6_hyd  (1, 2, 3, 4, 11, 13)   \n",
       "20           6            H      ar6_hyd   (5, 6, 7, 8, 9, 10)   \n",
       "21           7            H        hyd_1                  (0,)   \n",
       "22           8            H        hyd_1                 (14,)   \n",
       "23           1            a          ar6  (1, 2, 3, 4, 11, 13)   \n",
       "24           2            a          ar6   (5, 6, 7, 8, 9, 10)   \n",
       "25           3            A        N_HBA                  (3,)   \n",
       "26           4            A        O_HBA                 (12,)   \n",
       "27           5            H      ar6_hyd  (1, 2, 3, 4, 11, 13)   \n",
       "28           6            H      ar6_hyd   (5, 6, 7, 8, 9, 10)   \n",
       "29           7            H        hyd_1                  (0,)   \n",
       "\n",
       "                                               coords  mol_index  \\\n",
       "0   [1.6073308945212306, -0.36478682508765736, 0.1...          0   \n",
       "1   [-2.5373606040975885, 0.2656951609943626, -0.0...          0   \n",
       "2   [4.374047166053936, -0.7628191630259036, 0.243...          0   \n",
       "3   [0.7699593756605752, -1.3098389937058816, 0.56...          0   \n",
       "4   [0.6258053493478449, 1.8317635297679282, -0.79...          0   \n",
       "5   [1.6073308945212306, -0.36478682508765736, 0.1...          0   \n",
       "6   [-2.5373606040975885, 0.2656951609943626, -0.0...          0   \n",
       "7   [3.501330026469845, 1.8924330558014002, -0.888...          0   \n",
       "8   [1.6472469847044522, -0.33346691994497213, 0.1...          1   \n",
       "9   [-2.537205754107394, 0.27521012778383225, -0.0...          1   \n",
       "10  [0.6115432042399305, 1.8876712335275594, -0.79...          1   \n",
       "11  [1.6472469847044522, -0.33346691994497213, 0.1...          1   \n",
       "12  [-2.537205754107394, 0.27521012778383225, -0.0...          1   \n",
       "13  [4.502675021580601, -0.7001012151657882, 0.179...          1   \n",
       "14  [3.2873072603371845, 1.645104915272015, -0.775...          1   \n",
       "15  [1.5885348415634917, -0.3513699161774697, 0.12...          2   \n",
       "16  [-2.5603671398687795, 0.225961309976679, -0.00...          2   \n",
       "17  [0.7179018976211062, -1.278721491357971, 0.548...          2   \n",
       "18  [0.6654966654607128, 1.9038869926122095, -0.81...          2   \n",
       "19  [1.5885348415634917, -0.3513699161774697, 0.12...          2   \n",
       "20  [-2.5603671398687795, 0.225961309976679, -0.00...          2   \n",
       "21  [4.435874930017584, -0.7756874994731081, 0.229...          2   \n",
       "22  [3.5442184878036715, 1.8625048142864429, -0.87...          2   \n",
       "23  [1.6142175055366563, -0.32275141388056483, 0.1...          3   \n",
       "24  [-2.56875904039992, 0.2837035722401502, 0.0238...          3   \n",
       "25  [0.774950525389591, -1.091122302896764, 0.8765...          3   \n",
       "26  [0.5947875917532608, 1.5963470277227887, -1.20...          3   \n",
       "27  [1.6142175055366563, -0.32275141388056483, 0.1...          3   \n",
       "28  [-2.56875904039992, 0.2837035722401502, 0.0238...          3   \n",
       "29  [4.480532136001403, -0.788713951935018, 0.3040...          3   \n",
       "\n",
       "                                                  mol  \n",
       "0   <img data-content=\"rdkit/molecule\" src=\"data:i...  \n",
       "1   <img data-content=\"rdkit/molecule\" src=\"data:i...  \n",
       "2   <img data-content=\"rdkit/molecule\" src=\"data:i...  \n",
       "3   <img data-content=\"rdkit/molecule\" src=\"data:i...  \n",
       "4   <img data-content=\"rdkit/molecule\" src=\"data:i...  \n",
       "5   <img data-content=\"rdkit/molecule\" src=\"data:i...  \n",
       "6   <img data-content=\"rdkit/molecule\" src=\"data:i...  \n",
       "7   <img data-content=\"rdkit/molecule\" src=\"data:i...  \n",
       "8   <img data-content=\"rdkit/molecule\" src=\"data:i...  \n",
       "9   <img data-content=\"rdkit/molecule\" src=\"data:i...  \n",
       "10  <img data-content=\"rdkit/molecule\" src=\"data:i...  \n",
       "11  <img data-content=\"rdkit/molecule\" src=\"data:i...  \n",
       "12  <img data-content=\"rdkit/molecule\" src=\"data:i...  \n",
       "13  <img data-content=\"rdkit/molecule\" src=\"data:i...  \n",
       "14  <img data-content=\"rdkit/molecule\" src=\"data:i...  \n",
       "15  <img data-content=\"rdkit/molecule\" src=\"data:i...  \n",
       "16  <img data-content=\"rdkit/molecule\" src=\"data:i...  \n",
       "17  <img data-content=\"rdkit/molecule\" src=\"data:i...  \n",
       "18  <img data-content=\"rdkit/molecule\" src=\"data:i...  \n",
       "19  <img data-content=\"rdkit/molecule\" src=\"data:i...  \n",
       "20  <img data-content=\"rdkit/molecule\" src=\"data:i...  \n",
       "21  <img data-content=\"rdkit/molecule\" src=\"data:i...  \n",
       "22  <img data-content=\"rdkit/molecule\" src=\"data:i...  \n",
       "23  <img data-content=\"rdkit/molecule\" src=\"data:i...  \n",
       "24  <img data-content=\"rdkit/molecule\" src=\"data:i...  \n",
       "25  <img data-content=\"rdkit/molecule\" src=\"data:i...  \n",
       "26  <img data-content=\"rdkit/molecule\" src=\"data:i...  \n",
       "27  <img data-content=\"rdkit/molecule\" src=\"data:i...  \n",
       "28  <img data-content=\"rdkit/molecule\" src=\"data:i...  \n",
       "29  <img data-content=\"rdkit/molecule\" src=\"data:i...  "
      ]
     },
     "execution_count": 13,
     "metadata": {},
     "output_type": "execute_result"
    }
   ],
   "source": [
    "features"
   ]
  },
  {
   "cell_type": "markdown",
   "id": "46e75de1-7036-4abb-947e-34582332893a",
   "metadata": {},
   "source": [
    "Now we can cluster those features. Here we do it manually but all those steps are performed automatically when you are computing the fingerprint.\n",
    "\n",
    "Two parameteres are important here:\n",
    "\n",
    "- `min_samples_ratio` decides the minimum percentage of points in a cluster to consider it as valid.\n",
    "- `eps` set the maximum distance between two feature points for one to be considered as in the neighborhood of the other.\n",
    "\n",
    "Those parameters will **drastically** influence the returned consensus features and so the computed fingerprint."
   ]
  },
  {
   "cell_type": "code",
   "execution_count": 14,
   "id": "16ca7121-0263-46a9-bf4b-da23495b7f71",
   "metadata": {},
   "outputs": [
    {
     "data": {
      "text/html": [
       "<div>\n",
       "<style scoped>\n",
       "    .dataframe tbody tr th:only-of-type {\n",
       "        vertical-align: middle;\n",
       "    }\n",
       "\n",
       "    .dataframe tbody tr th {\n",
       "        vertical-align: top;\n",
       "    }\n",
       "\n",
       "    .dataframe thead th {\n",
       "        text-align: right;\n",
       "    }\n",
       "</style>\n",
       "<table border=\"1\" class=\"dataframe\">\n",
       "  <thead>\n",
       "    <tr style=\"text-align: right;\">\n",
       "      <th></th>\n",
       "      <th>feature_id</th>\n",
       "      <th>feature_name</th>\n",
       "      <th>coords</th>\n",
       "      <th>cluster_size</th>\n",
       "    </tr>\n",
       "  </thead>\n",
       "  <tbody>\n",
       "    <tr>\n",
       "      <th>0</th>\n",
       "      <td>0</td>\n",
       "      <td>A</td>\n",
       "      <td>[0.7542705995570907, -1.2265609293202056, 0.66...</td>\n",
       "      <td>3</td>\n",
       "    </tr>\n",
       "    <tr>\n",
       "      <th>1</th>\n",
       "      <td>1</td>\n",
       "      <td>A</td>\n",
       "      <td>[0.6244082027004373, 1.8049171959076213, -0.90...</td>\n",
       "      <td>4</td>\n",
       "    </tr>\n",
       "    <tr>\n",
       "      <th>2</th>\n",
       "      <td>2</td>\n",
       "      <td>H</td>\n",
       "      <td>[1.6143325565814577, -0.34309376877266595, 0.1...</td>\n",
       "      <td>4</td>\n",
       "    </tr>\n",
       "    <tr>\n",
       "      <th>3</th>\n",
       "      <td>3</td>\n",
       "      <td>H</td>\n",
       "      <td>[-2.5509231346184205, 0.262642542748756, -0.01...</td>\n",
       "      <td>4</td>\n",
       "    </tr>\n",
       "    <tr>\n",
       "      <th>4</th>\n",
       "      <td>4</td>\n",
       "      <td>H</td>\n",
       "      <td>[3.4442852582035672, 1.8000142617866193, -0.84...</td>\n",
       "      <td>3</td>\n",
       "    </tr>\n",
       "    <tr>\n",
       "      <th>5</th>\n",
       "      <td>5</td>\n",
       "      <td>H</td>\n",
       "      <td>[4.4730273625331956, -0.7548342221913047, 0.23...</td>\n",
       "      <td>3</td>\n",
       "    </tr>\n",
       "    <tr>\n",
       "      <th>6</th>\n",
       "      <td>6</td>\n",
       "      <td>a</td>\n",
       "      <td>[1.6143325565814577, -0.34309376877266595, 0.1...</td>\n",
       "      <td>4</td>\n",
       "    </tr>\n",
       "    <tr>\n",
       "      <th>7</th>\n",
       "      <td>7</td>\n",
       "      <td>a</td>\n",
       "      <td>[-2.5509231346184205, 0.262642542748756, -0.01...</td>\n",
       "      <td>4</td>\n",
       "    </tr>\n",
       "  </tbody>\n",
       "</table>\n",
       "</div>"
      ],
      "text/plain": [
       "   feature_id feature_name                                             coords  \\\n",
       "0           0            A  [0.7542705995570907, -1.2265609293202056, 0.66...   \n",
       "1           1            A  [0.6244082027004373, 1.8049171959076213, -0.90...   \n",
       "2           2            H  [1.6143325565814577, -0.34309376877266595, 0.1...   \n",
       "3           3            H  [-2.5509231346184205, 0.262642542748756, -0.01...   \n",
       "4           4            H  [3.4442852582035672, 1.8000142617866193, -0.84...   \n",
       "5           5            H  [4.4730273625331956, -0.7548342221913047, 0.23...   \n",
       "6           6            a  [1.6143325565814577, -0.34309376877266595, 0.1...   \n",
       "7           7            a  [-2.5509231346184205, 0.262642542748756, -0.01...   \n",
       "\n",
       "   cluster_size  \n",
       "0             3  \n",
       "1             4  \n",
       "2             4  \n",
       "3             4  \n",
       "4             3  \n",
       "5             3  \n",
       "6             4  \n",
       "7             4  "
      ]
     },
     "execution_count": 14,
     "metadata": {},
     "output_type": "execute_result"
    }
   ],
   "source": [
    "# Cluster the features\n",
    "clustered_features = featurizer.cluster_features(\n",
    "    features,\n",
    "    min_samples_ratio=0.75,\n",
    "    eps=1,\n",
    ")\n",
    "\n",
    "clustered_features"
   ]
  },
  {
   "cell_type": "markdown",
   "id": "c0b3890a-3fb7-4c7b-b167-96a740bbe004",
   "metadata": {},
   "source": [
    "Much less features are now returned. Not that `cluster_size` tell you how many feature points have participated to the associated consensus feature point. You can eventually use it as a \"weight\" in downstream application."
   ]
  },
  {
   "cell_type": "markdown",
   "id": "b7a3d677-089a-4376-b247-c831f3c8c038",
   "metadata": {},
   "source": [
    "Now, let's compute the consensus fingerprint."
   ]
  },
  {
   "cell_type": "code",
   "execution_count": 15,
   "id": "f2a000ea-3312-46f3-a9c0-ddafcb629c48",
   "metadata": {},
   "outputs": [
    {
     "name": "stdout",
     "output_type": "stream",
     "text": [
      "(2048,)\n",
      "69\n"
     ]
    },
    {
     "data": {
      "text/plain": [
       "array([1, 0, 0, ..., 0, 0, 0])"
      ]
     },
     "execution_count": 15,
     "metadata": {},
     "output_type": "execute_result"
    }
   ],
   "source": [
    "consensus_fp = featurizer.consensus_fp(mols, align=True, eps=1, min_samples_ratio=0.5)\n",
    "\n",
    "print(consensus_fp.shape)\n",
    "print(consensus_fp.sum())\n",
    "consensus_fp"
   ]
  },
  {
   "cell_type": "markdown",
   "id": "8471e5d9-1ed0-473b-b81f-c1329fbbea39",
   "metadata": {},
   "source": [
    "You can also visualize the clustered features as well as the list of molecules used for the consensus."
   ]
  },
  {
   "cell_type": "code",
   "execution_count": 16,
   "id": "177cdae4-c11e-471e-8023-0b99e9e2df17",
   "metadata": {},
   "outputs": [
    {
     "data": {
      "application/vnd.jupyter.widget-view+json": {
       "model_id": "b3bd4951eecd4849897348895029f20e",
       "version_major": 2,
       "version_minor": 0
      },
      "text/plain": [
       "HBox(children=(NGLWidget(), Box(children=(Button(description='a', style=ButtonStyle(button_color='#e41a1c')), …"
      ]
     },
     "metadata": {},
     "output_type": "display_data"
    }
   ],
   "source": [
    "featurizer.show_many(mols, align=True, eps=1, min_samples_ratio=0.5, show_legend=True)"
   ]
  },
  {
   "cell_type": "markdown",
   "id": "ab60fbb3-cb67-4c3f-8049-1d078cfc1456",
   "metadata": {},
   "source": [
    "The 3D viz is not available in the documentation. Here is a screenshot.\n",
    "\n",
    "![pharm_3d_consensus.png](./images/pharm_3d_consensus.png)"
   ]
  },
  {
   "cell_type": "markdown",
   "id": "4dcde2d6-c0b0-403a-9501-5341830d3e69",
   "metadata": {},
   "source": [
    "### Distance from the consensus fingerprint\n",
    "\n",
    "Here we compute the Jaccard distances from the computed consensus fingerprint."
   ]
  },
  {
   "cell_type": "code",
   "execution_count": 18,
   "id": "19b163db-a581-4a53-a81b-b8d128e17743",
   "metadata": {},
   "outputs": [
    {
     "data": {
      "image/svg+xml": [
       "<svg xmlns=\"http://www.w3.org/2000/svg\" xmlns:rdkit=\"http://www.rdkit.org/xml\" xmlns:xlink=\"http://www.w3.org/1999/xlink\" version=\"1.1\" baseProfile=\"full\" xml:space=\"preserve\" width=\"1200px\" height=\"600px\" viewBox=\"0 0 1200 600\">\n",
       "<!-- END OF HEADER -->\n",
       "<rect style=\"opacity:1.0;fill:#FFFFFF;stroke:none\" width=\"1200.0\" height=\"600.0\" x=\"0.0\" y=\"0.0\"> </rect>\n",
       "<rect style=\"opacity:1.0;fill:#FFFFFF;stroke:none\" width=\"1200.0\" height=\"600.0\" x=\"0.0\" y=\"0.0\"> </rect>\n",
       "<rect style=\"opacity:1.0;fill:#FFFFFF;stroke:none\" width=\"1200.0\" height=\"600.0\" x=\"0.0\" y=\"0.0\"> </rect>\n",
       "<rect style=\"opacity:1.0;fill:#FFFFFF;stroke:none\" width=\"1200.0\" height=\"600.0\" x=\"0.0\" y=\"0.0\"> </rect>\n",
       "<rect style=\"opacity:1.0;fill:#FFFFFF;stroke:none\" width=\"1200.0\" height=\"600.0\" x=\"0.0\" y=\"0.0\"> </rect>\n",
       "<rect style=\"opacity:1.0;fill:#FFFFFF;stroke:none\" width=\"1200.0\" height=\"600.0\" x=\"0.0\" y=\"0.0\"> </rect>\n",
       "<rect style=\"opacity:1.0;fill:#FFFFFF;stroke:none\" width=\"1200.0\" height=\"600.0\" x=\"0.0\" y=\"0.0\"> </rect>\n",
       "<path class=\"bond-0 atom-0 atom-1\" d=\"M 259.4,155.5 L 242.1,152.9\" style=\"fill:none;fill-rule:evenodd;stroke:#0000FF;stroke-width:2.0px;stroke-linecap:butt;stroke-linejoin:miter;stroke-opacity:1\"/>\n",
       "<path class=\"bond-0 atom-0 atom-1\" d=\"M 242.1,152.9 L 224.8,150.3\" style=\"fill:none;fill-rule:evenodd;stroke:#000000;stroke-width:2.0px;stroke-linecap:butt;stroke-linejoin:miter;stroke-opacity:1\"/>\n",
       "<path class=\"bond-1 atom-1 atom-2\" d=\"M 224.8,150.3 L 199.4,178.0\" style=\"fill:none;fill-rule:evenodd;stroke:#000000;stroke-width:2.0px;stroke-linecap:butt;stroke-linejoin:miter;stroke-opacity:1\"/>\n",
       "<path class=\"bond-14 atom-13 atom-1\" d=\"M 209.6,116.3 L 224.8,150.3\" style=\"fill:none;fill-rule:evenodd;stroke:#000000;stroke-width:2.0px;stroke-linecap:butt;stroke-linejoin:miter;stroke-opacity:1\"/>\n",
       "<path class=\"bond-14 atom-13 atom-1\" d=\"M 203.9,125.0 L 214.6,148.8\" style=\"fill:none;fill-rule:evenodd;stroke:#000000;stroke-width:2.0px;stroke-linecap:butt;stroke-linejoin:miter;stroke-opacity:1\"/>\n",
       "<path class=\"bond-2 atom-2 atom-3\" d=\"M 199.4,178.0 L 182.9,175.5\" style=\"fill:none;fill-rule:evenodd;stroke:#000000;stroke-width:2.0px;stroke-linecap:butt;stroke-linejoin:miter;stroke-opacity:1\"/>\n",
       "<path class=\"bond-2 atom-2 atom-3\" d=\"M 182.9,175.5 L 166.4,173.0\" style=\"fill:none;fill-rule:evenodd;stroke:#0000FF;stroke-width:2.0px;stroke-linecap:butt;stroke-linejoin:miter;stroke-opacity:1\"/>\n",
       "<path class=\"bond-2 atom-2 atom-3\" d=\"M 195.7,168.7 L 184.2,166.9\" style=\"fill:none;fill-rule:evenodd;stroke:#000000;stroke-width:2.0px;stroke-linecap:butt;stroke-linejoin:miter;stroke-opacity:1\"/>\n",
       "<path class=\"bond-2 atom-2 atom-3\" d=\"M 184.2,166.9 L 172.6,165.2\" style=\"fill:none;fill-rule:evenodd;stroke:#0000FF;stroke-width:2.0px;stroke-linecap:butt;stroke-linejoin:miter;stroke-opacity:1\"/>\n",
       "<path class=\"bond-3 atom-3 atom-4\" d=\"M 157.4,165.1 L 148.6,146.4\" style=\"fill:none;fill-rule:evenodd;stroke:#0000FF;stroke-width:2.0px;stroke-linecap:butt;stroke-linejoin:miter;stroke-opacity:1\"/>\n",
       "<path class=\"bond-4 atom-4 atom-5\" d=\"M 139.7,138.7 L 122.4,136.0\" style=\"fill:none;fill-rule:evenodd;stroke:#0000FF;stroke-width:2.0px;stroke-linecap:butt;stroke-linejoin:miter;stroke-opacity:1\"/>\n",
       "<path class=\"bond-4 atom-4 atom-5\" d=\"M 122.4,136.0 L 105.0,133.3\" style=\"fill:none;fill-rule:evenodd;stroke:#000000;stroke-width:2.0px;stroke-linecap:butt;stroke-linejoin:miter;stroke-opacity:1\"/>\n",
       "<path class=\"bond-10 atom-4 atom-11\" d=\"M 151.0,133.4 L 160.5,122.9\" style=\"fill:none;fill-rule:evenodd;stroke:#0000FF;stroke-width:2.0px;stroke-linecap:butt;stroke-linejoin:miter;stroke-opacity:1\"/>\n",
       "<path class=\"bond-10 atom-4 atom-11\" d=\"M 160.5,122.9 L 169.9,112.4\" style=\"fill:none;fill-rule:evenodd;stroke:#000000;stroke-width:2.0px;stroke-linecap:butt;stroke-linejoin:miter;stroke-opacity:1\"/>\n",
       "<path class=\"bond-5 atom-5 atom-6\" d=\"M 105.0,133.3 L 79.9,161.0\" style=\"fill:none;fill-rule:evenodd;stroke:#000000;stroke-width:2.0px;stroke-linecap:butt;stroke-linejoin:miter;stroke-opacity:1\"/>\n",
       "<path class=\"bond-5 atom-5 atom-6\" d=\"M 94.8,131.6 L 77.2,151.1\" style=\"fill:none;fill-rule:evenodd;stroke:#000000;stroke-width:2.0px;stroke-linecap:butt;stroke-linejoin:miter;stroke-opacity:1\"/>\n",
       "<path class=\"bond-15 atom-10 atom-5\" d=\"M 89.3,98.8 L 105.0,133.3\" style=\"fill:none;fill-rule:evenodd;stroke:#000000;stroke-width:2.0px;stroke-linecap:butt;stroke-linejoin:miter;stroke-opacity:1\"/>\n",
       "<path class=\"bond-6 atom-6 atom-7\" d=\"M 79.9,161.0 L 40.2,154.6\" style=\"fill:none;fill-rule:evenodd;stroke:#000000;stroke-width:2.0px;stroke-linecap:butt;stroke-linejoin:miter;stroke-opacity:1\"/>\n",
       "<path class=\"bond-7 atom-7 atom-8\" d=\"M 40.2,154.6 L 25.3,119.6\" style=\"fill:none;fill-rule:evenodd;stroke:#000000;stroke-width:2.0px;stroke-linecap:butt;stroke-linejoin:miter;stroke-opacity:1\"/>\n",
       "<path class=\"bond-7 atom-7 atom-8\" d=\"M 46.0,145.9 L 35.5,121.4\" style=\"fill:none;fill-rule:evenodd;stroke:#000000;stroke-width:2.0px;stroke-linecap:butt;stroke-linejoin:miter;stroke-opacity:1\"/>\n",
       "<path class=\"bond-8 atom-8 atom-9\" d=\"M 25.3,119.6 L 49.8,91.9\" style=\"fill:none;fill-rule:evenodd;stroke:#000000;stroke-width:2.0px;stroke-linecap:butt;stroke-linejoin:miter;stroke-opacity:1\"/>\n",
       "<path class=\"bond-9 atom-9 atom-10\" d=\"M 49.8,91.9 L 89.3,98.8\" style=\"fill:none;fill-rule:evenodd;stroke:#000000;stroke-width:2.0px;stroke-linecap:butt;stroke-linejoin:miter;stroke-opacity:1\"/>\n",
       "<path class=\"bond-9 atom-9 atom-10\" d=\"M 54.3,101.5 L 81.9,106.3\" style=\"fill:none;fill-rule:evenodd;stroke:#000000;stroke-width:2.0px;stroke-linecap:butt;stroke-linejoin:miter;stroke-opacity:1\"/>\n",
       "<path class=\"bond-11 atom-11 atom-12\" d=\"M 172.3,111.3 L 167.2,99.4\" style=\"fill:none;fill-rule:evenodd;stroke:#000000;stroke-width:2.0px;stroke-linecap:butt;stroke-linejoin:miter;stroke-opacity:1\"/>\n",
       "<path class=\"bond-11 atom-11 atom-12\" d=\"M 167.2,99.4 L 162.1,87.4\" style=\"fill:none;fill-rule:evenodd;stroke:#FF0000;stroke-width:2.0px;stroke-linecap:butt;stroke-linejoin:miter;stroke-opacity:1\"/>\n",
       "<path class=\"bond-11 atom-11 atom-12\" d=\"M 167.5,113.4 L 162.4,101.4\" style=\"fill:none;fill-rule:evenodd;stroke:#000000;stroke-width:2.0px;stroke-linecap:butt;stroke-linejoin:miter;stroke-opacity:1\"/>\n",
       "<path class=\"bond-11 atom-11 atom-12\" d=\"M 162.4,101.4 L 157.3,89.5\" style=\"fill:none;fill-rule:evenodd;stroke:#FF0000;stroke-width:2.0px;stroke-linecap:butt;stroke-linejoin:miter;stroke-opacity:1\"/>\n",
       "<path class=\"bond-12 atom-11 atom-13\" d=\"M 169.9,112.4 L 209.6,116.3\" style=\"fill:none;fill-rule:evenodd;stroke:#000000;stroke-width:2.0px;stroke-linecap:butt;stroke-linejoin:miter;stroke-opacity:1\"/>\n",
       "<path class=\"bond-13 atom-13 atom-14\" d=\"M 209.6,116.3 L 221.7,101.5\" style=\"fill:none;fill-rule:evenodd;stroke:#000000;stroke-width:2.0px;stroke-linecap:butt;stroke-linejoin:miter;stroke-opacity:1\"/>\n",
       "<path class=\"bond-13 atom-13 atom-14\" d=\"M 221.7,101.5 L 233.9,86.7\" style=\"fill:none;fill-rule:evenodd;stroke:#00CC00;stroke-width:2.0px;stroke-linecap:butt;stroke-linejoin:miter;stroke-opacity:1\"/>\n",
       "<path class=\"atom-0\" d=\"M 262.4 150.2 L 266.4 156.7 Q 266.8 157.3, 267.5 158.5 Q 268.1 159.7, 268.1 159.7 L 268.1 150.2 L 269.8 150.2 L 269.8 162.5 L 268.1 162.5 L 263.8 155.3 Q 263.3 154.5, 262.7 153.6 Q 262.2 152.6, 262.0 152.3 L 262.0 162.5 L 260.4 162.5 L 260.4 150.2 L 262.4 150.2 \" fill=\"#0000FF\"/>\n",
       "<path class=\"atom-0\" d=\"M 271.2 150.2 L 272.9 150.2 L 272.9 155.4 L 279.2 155.4 L 279.2 150.2 L 280.9 150.2 L 280.9 162.5 L 279.2 162.5 L 279.2 156.8 L 272.9 156.8 L 272.9 162.5 L 271.2 162.5 L 271.2 150.2 \" fill=\"#0000FF\"/>\n",
       "<path class=\"atom-0\" d=\"M 281.5 162.0 Q 281.8 161.3, 282.5 160.8 Q 283.2 160.4, 284.2 160.4 Q 285.4 160.4, 286.1 161.1 Q 286.8 161.7, 286.8 162.9 Q 286.8 164.1, 285.9 165.2 Q 285.0 166.4, 283.2 167.7 L 286.9 167.7 L 286.9 168.6 L 281.4 168.6 L 281.4 167.9 Q 283.0 166.8, 283.9 166.0 Q 284.8 165.2, 285.2 164.4 Q 285.6 163.7, 285.6 163.0 Q 285.6 162.2, 285.2 161.8 Q 284.9 161.3, 284.2 161.3 Q 283.5 161.3, 283.1 161.6 Q 282.7 161.9, 282.3 162.4 L 281.5 162.0 \" fill=\"#0000FF\"/>\n",
       "<path class=\"atom-3\" d=\"M 158.0 166.0 L 162.0 172.5 Q 162.4 173.2, 163.1 174.3 Q 163.7 175.5, 163.8 175.6 L 163.8 166.0 L 165.4 166.0 L 165.4 178.3 L 163.7 178.3 L 159.4 171.2 Q 158.9 170.4, 158.3 169.4 Q 157.8 168.4, 157.7 168.1 L 157.7 178.3 L 156.1 178.3 L 156.1 166.0 L 158.0 166.0 \" fill=\"#0000FF\"/>\n",
       "<path class=\"atom-4\" d=\"M 142.7 133.4 L 146.7 139.9 Q 147.1 140.6, 147.7 141.7 Q 148.4 142.9, 148.4 143.0 L 148.4 133.4 L 150.1 133.4 L 150.1 145.7 L 148.4 145.7 L 144.0 138.6 Q 143.5 137.7, 143.0 136.8 Q 142.5 135.8, 142.3 135.5 L 142.3 145.7 L 140.7 145.7 L 140.7 133.4 L 142.7 133.4 \" fill=\"#0000FF\"/>\n",
       "<path class=\"atom-12\" d=\"M 150.9 81.2 Q 150.9 78.3, 152.4 76.6 Q 153.8 74.9, 156.5 74.9 Q 159.3 74.9, 160.7 76.6 Q 162.2 78.3, 162.2 81.2 Q 162.2 84.2, 160.7 85.9 Q 159.2 87.6, 156.5 87.6 Q 153.8 87.6, 152.4 85.9 Q 150.9 84.2, 150.9 81.2 M 156.5 86.2 Q 158.4 86.2, 159.4 84.9 Q 160.5 83.7, 160.5 81.2 Q 160.5 78.8, 159.4 77.6 Q 158.4 76.3, 156.5 76.3 Q 154.7 76.3, 153.6 77.6 Q 152.6 78.8, 152.6 81.2 Q 152.6 83.7, 153.6 84.9 Q 154.7 86.2, 156.5 86.2 \" fill=\"#FF0000\"/>\n",
       "<path class=\"atom-14\" d=\"M 235.1 79.8 Q 235.1 76.8, 236.5 75.2 Q 237.9 73.6, 240.7 73.6 Q 243.2 73.6, 244.6 75.4 L 243.4 76.3 Q 242.4 75.0, 240.7 75.0 Q 238.8 75.0, 237.8 76.2 Q 236.9 77.5, 236.9 79.8 Q 236.9 82.3, 237.9 83.5 Q 238.9 84.8, 240.9 84.8 Q 242.2 84.8, 243.8 84.0 L 244.3 85.3 Q 243.6 85.7, 242.7 85.9 Q 241.7 86.2, 240.6 86.2 Q 237.9 86.2, 236.5 84.5 Q 235.1 82.9, 235.1 79.8 \" fill=\"#00CC00\"/>\n",
       "<path class=\"atom-14\" d=\"M 246.1 72.8 L 247.7 72.8 L 247.7 86.0 L 246.1 86.0 L 246.1 72.8 \" fill=\"#00CC00\"/>\n",
       "<path d=\"M 136.4 294.3 Q 134.3 294.3, 133.3 292.7 Q 132.3 291.2, 132.3 288.5 Q 132.3 285.7, 133.3 284.2 Q 134.3 282.7, 136.4 282.7 Q 138.5 282.7, 139.5 284.2 Q 140.6 285.7, 140.6 288.5 Q 140.6 291.2, 139.5 292.7 Q 138.5 294.3, 136.4 294.3 M 136.4 293.0 Q 137.6 293.0, 138.3 291.9 Q 139.0 290.7, 139.0 288.5 Q 139.0 286.2, 138.3 285.1 Q 137.6 284.0, 136.4 284.0 Q 135.2 284.0, 134.5 285.1 Q 133.9 286.2, 133.9 288.5 Q 133.9 290.7, 134.5 291.9 Q 135.2 293.0, 136.4 293.0 \" fill=\"#000000\"/>\n",
       "<path d=\"M 141.6 292.5 L 143.2 292.5 L 143.2 294.1 L 141.6 294.1 L 141.6 292.5 \" fill=\"#000000\"/>\n",
       "<path d=\"M 148.7 287.1 Q 149.7 287.1, 150.5 287.5 Q 151.3 287.9, 151.7 288.7 Q 152.1 289.5, 152.1 290.5 Q 152.1 291.6, 151.6 292.5 Q 151.2 293.3, 150.3 293.8 Q 149.4 294.3, 148.3 294.3 Q 146.3 294.3, 145.3 292.9 Q 144.3 291.5, 144.3 288.8 Q 144.3 285.8, 145.5 284.3 Q 146.8 282.7, 149.2 282.7 Q 149.9 282.7, 150.5 282.8 Q 151.1 283.0, 151.7 283.3 L 151.1 284.4 Q 150.2 284.0, 149.2 284.0 Q 147.6 284.0, 146.8 285.0 Q 146.0 286.0, 145.9 288.2 Q 146.5 287.6, 147.2 287.4 Q 147.9 287.1, 148.7 287.1 M 148.3 293.0 Q 149.0 293.0, 149.5 292.6 Q 150.0 292.3, 150.3 291.8 Q 150.5 291.2, 150.5 290.5 Q 150.5 289.5, 150.0 288.9 Q 149.4 288.4, 148.4 288.4 Q 147.7 288.4, 147.1 288.6 Q 146.4 288.9, 145.9 289.4 Q 146.0 291.3, 146.6 292.1 Q 147.1 293.0, 148.3 293.0 \" fill=\"#000000\"/>\n",
       "<path d=\"M 157.7 287.1 Q 158.7 287.1, 159.4 287.5 Q 160.2 287.9, 160.7 288.7 Q 161.1 289.5, 161.1 290.5 Q 161.1 291.6, 160.6 292.5 Q 160.1 293.3, 159.2 293.8 Q 158.4 294.3, 157.3 294.3 Q 155.3 294.3, 154.2 292.9 Q 153.2 291.5, 153.2 288.8 Q 153.2 285.8, 154.5 284.3 Q 155.7 282.7, 158.2 282.7 Q 158.9 282.7, 159.5 282.8 Q 160.1 283.0, 160.6 283.3 L 160.0 284.4 Q 159.2 284.0, 158.2 284.0 Q 156.6 284.0, 155.8 285.0 Q 154.9 286.0, 154.8 288.2 Q 155.4 287.6, 156.1 287.4 Q 156.9 287.1, 157.7 287.1 M 157.3 293.0 Q 157.9 293.0, 158.4 292.6 Q 158.9 292.3, 159.2 291.8 Q 159.5 291.2, 159.5 290.5 Q 159.5 289.5, 158.9 288.9 Q 158.4 288.4, 157.4 288.4 Q 156.7 288.4, 156.0 288.6 Q 155.3 288.9, 154.8 289.4 Q 154.9 291.3, 155.5 292.1 Q 156.1 293.0, 157.3 293.0 \" fill=\"#000000\"/>\n",
       "<path class=\"bond-0 atom-0 atom-1\" d=\"M 313.1,143.8 L 355.4,139.4\" style=\"fill:none;fill-rule:evenodd;stroke:#000000;stroke-width:2.0px;stroke-linecap:butt;stroke-linejoin:miter;stroke-opacity:1\"/>\n",
       "<path class=\"bond-1 atom-1 atom-2\" d=\"M 355.4,139.4 L 373.7,104.0\" style=\"fill:none;fill-rule:evenodd;stroke:#000000;stroke-width:2.0px;stroke-linecap:butt;stroke-linejoin:miter;stroke-opacity:1\"/>\n",
       "<path class=\"bond-14 atom-13 atom-1\" d=\"M 378.8,171.7 L 355.4,139.4\" style=\"fill:none;fill-rule:evenodd;stroke:#000000;stroke-width:2.0px;stroke-linecap:butt;stroke-linejoin:miter;stroke-opacity:1\"/>\n",
       "<path class=\"bond-14 atom-13 atom-1\" d=\"M 382.3,161.8 L 366.0,139.2\" style=\"fill:none;fill-rule:evenodd;stroke:#000000;stroke-width:2.0px;stroke-linecap:butt;stroke-linejoin:miter;stroke-opacity:1\"/>\n",
       "<path class=\"bond-2 atom-2 atom-3\" d=\"M 373.7,104.0 L 413.5,101.7\" style=\"fill:none;fill-rule:evenodd;stroke:#000000;stroke-width:2.0px;stroke-linecap:butt;stroke-linejoin:miter;stroke-opacity:1\"/>\n",
       "<path class=\"bond-2 atom-2 atom-3\" d=\"M 380.2,112.3 L 408.1,110.7\" style=\"fill:none;fill-rule:evenodd;stroke:#000000;stroke-width:2.0px;stroke-linecap:butt;stroke-linejoin:miter;stroke-opacity:1\"/>\n",
       "<path class=\"bond-3 atom-3 atom-4\" d=\"M 413.5,101.7 L 422.4,113.9\" style=\"fill:none;fill-rule:evenodd;stroke:#000000;stroke-width:2.0px;stroke-linecap:butt;stroke-linejoin:miter;stroke-opacity:1\"/>\n",
       "<path class=\"bond-3 atom-3 atom-4\" d=\"M 422.4,113.9 L 431.2,126.2\" style=\"fill:none;fill-rule:evenodd;stroke:#0000FF;stroke-width:2.0px;stroke-linecap:butt;stroke-linejoin:miter;stroke-opacity:1\"/>\n",
       "<path class=\"bond-4 atom-4 atom-5\" d=\"M 442.0,133.0 L 459.8,132.0\" style=\"fill:none;fill-rule:evenodd;stroke:#0000FF;stroke-width:2.0px;stroke-linecap:butt;stroke-linejoin:miter;stroke-opacity:1\"/>\n",
       "<path class=\"bond-4 atom-4 atom-5\" d=\"M 459.8,132.0 L 477.5,130.9\" style=\"fill:none;fill-rule:evenodd;stroke:#000000;stroke-width:2.0px;stroke-linecap:butt;stroke-linejoin:miter;stroke-opacity:1\"/>\n",
       "<path class=\"bond-10 atom-4 atom-11\" d=\"M 432.6,140.4 L 425.5,154.2\" style=\"fill:none;fill-rule:evenodd;stroke:#0000FF;stroke-width:2.0px;stroke-linecap:butt;stroke-linejoin:miter;stroke-opacity:1\"/>\n",
       "<path class=\"bond-10 atom-4 atom-11\" d=\"M 425.5,154.2 L 418.4,167.9\" style=\"fill:none;fill-rule:evenodd;stroke:#000000;stroke-width:2.0px;stroke-linecap:butt;stroke-linejoin:miter;stroke-opacity:1\"/>\n",
       "<path class=\"bond-5 atom-5 atom-6\" d=\"M 477.5,130.9 L 501.7,153.5\" style=\"fill:none;fill-rule:evenodd;stroke:#000000;stroke-width:2.0px;stroke-linecap:butt;stroke-linejoin:miter;stroke-opacity:1\"/>\n",
       "<path class=\"bond-5 atom-5 atom-6\" d=\"M 484.7,130.5 L 501.6,146.3\" style=\"fill:none;fill-rule:evenodd;stroke:#000000;stroke-width:2.0px;stroke-linecap:butt;stroke-linejoin:miter;stroke-opacity:1\"/>\n",
       "<path class=\"bond-15 atom-10 atom-5\" d=\"M 494.7,105.1 L 477.5,130.9\" style=\"fill:none;fill-rule:evenodd;stroke:#000000;stroke-width:2.0px;stroke-linecap:butt;stroke-linejoin:miter;stroke-opacity:1\"/>\n",
       "<path class=\"bond-6 atom-6 atom-7\" d=\"M 501.7,153.5 L 541.5,150.7\" style=\"fill:none;fill-rule:evenodd;stroke:#000000;stroke-width:2.0px;stroke-linecap:butt;stroke-linejoin:miter;stroke-opacity:1\"/>\n",
       "<path class=\"bond-7 atom-7 atom-8\" d=\"M 541.5,150.7 L 558.8,124.9\" style=\"fill:none;fill-rule:evenodd;stroke:#000000;stroke-width:2.0px;stroke-linecap:butt;stroke-linejoin:miter;stroke-opacity:1\"/>\n",
       "<path class=\"bond-7 atom-7 atom-8\" d=\"M 539.8,143.9 L 551.8,125.8\" style=\"fill:none;fill-rule:evenodd;stroke:#000000;stroke-width:2.0px;stroke-linecap:butt;stroke-linejoin:miter;stroke-opacity:1\"/>\n",
       "<path class=\"bond-8 atom-8 atom-9\" d=\"M 558.8,124.9 L 534.7,102.3\" style=\"fill:none;fill-rule:evenodd;stroke:#000000;stroke-width:2.0px;stroke-linecap:butt;stroke-linejoin:miter;stroke-opacity:1\"/>\n",
       "<path class=\"bond-9 atom-9 atom-10\" d=\"M 534.7,102.3 L 494.7,105.1\" style=\"fill:none;fill-rule:evenodd;stroke:#000000;stroke-width:2.0px;stroke-linecap:butt;stroke-linejoin:miter;stroke-opacity:1\"/>\n",
       "<path class=\"bond-9 atom-9 atom-10\" d=\"M 529.3,111.4 L 501.3,113.4\" style=\"fill:none;fill-rule:evenodd;stroke:#000000;stroke-width:2.0px;stroke-linecap:butt;stroke-linejoin:miter;stroke-opacity:1\"/>\n",
       "<path class=\"bond-11 atom-11 atom-12\" d=\"M 414.9,170.5 L 423.2,181.8\" style=\"fill:none;fill-rule:evenodd;stroke:#000000;stroke-width:2.0px;stroke-linecap:butt;stroke-linejoin:miter;stroke-opacity:1\"/>\n",
       "<path class=\"bond-11 atom-11 atom-12\" d=\"M 423.2,181.8 L 431.5,193.2\" style=\"fill:none;fill-rule:evenodd;stroke:#FF0000;stroke-width:2.0px;stroke-linecap:butt;stroke-linejoin:miter;stroke-opacity:1\"/>\n",
       "<path class=\"bond-11 atom-11 atom-12\" d=\"M 422.0,165.3 L 430.2,176.7\" style=\"fill:none;fill-rule:evenodd;stroke:#000000;stroke-width:2.0px;stroke-linecap:butt;stroke-linejoin:miter;stroke-opacity:1\"/>\n",
       "<path class=\"bond-11 atom-11 atom-12\" d=\"M 430.2,176.7 L 438.5,188.1\" style=\"fill:none;fill-rule:evenodd;stroke:#FF0000;stroke-width:2.0px;stroke-linecap:butt;stroke-linejoin:miter;stroke-opacity:1\"/>\n",
       "<path class=\"bond-12 atom-11 atom-13\" d=\"M 418.4,167.9 L 378.8,171.7\" style=\"fill:none;fill-rule:evenodd;stroke:#000000;stroke-width:2.0px;stroke-linecap:butt;stroke-linejoin:miter;stroke-opacity:1\"/>\n",
       "<path class=\"bond-13 atom-13 atom-14\" d=\"M 378.8,171.7 L 372.5,186.2\" style=\"fill:none;fill-rule:evenodd;stroke:#000000;stroke-width:2.0px;stroke-linecap:butt;stroke-linejoin:miter;stroke-opacity:1\"/>\n",
       "<path class=\"bond-13 atom-13 atom-14\" d=\"M 372.5,186.2 L 366.2,200.8\" style=\"fill:none;fill-rule:evenodd;stroke:#33CCCC;stroke-width:2.0px;stroke-linecap:butt;stroke-linejoin:miter;stroke-opacity:1\"/>\n",
       "<path class=\"atom-4\" d=\"M 433.6 127.2 L 437.6 133.7 Q 438.0 134.3, 438.7 135.5 Q 439.3 136.6, 439.4 136.7 L 439.4 127.2 L 441.0 127.2 L 441.0 139.5 L 439.3 139.5 L 435.0 132.3 Q 434.5 131.5, 433.9 130.6 Q 433.4 129.6, 433.3 129.3 L 433.3 139.5 L 431.7 139.5 L 431.7 127.2 L 433.6 127.2 \" fill=\"#0000FF\"/>\n",
       "<path class=\"atom-12\" d=\"M 434.6 197.8 Q 434.6 194.9, 436.1 193.2 Q 437.5 191.6, 440.2 191.6 Q 443.0 191.6, 444.4 193.2 Q 445.9 194.9, 445.9 197.8 Q 445.9 200.8, 444.4 202.5 Q 442.9 204.2, 440.2 204.2 Q 437.5 204.2, 436.1 202.5 Q 434.6 200.8, 434.6 197.8 M 440.2 202.8 Q 442.1 202.8, 443.1 201.6 Q 444.2 200.3, 444.2 197.8 Q 444.2 195.4, 443.1 194.2 Q 442.1 193.0, 440.2 193.0 Q 438.4 193.0, 437.3 194.2 Q 436.3 195.4, 436.3 197.8 Q 436.3 200.3, 437.3 201.6 Q 438.4 202.8, 440.2 202.8 \" fill=\"#FF0000\"/>\n",
       "<path class=\"atom-14\" d=\"M 359.5 201.7 L 366.8 201.7 L 366.8 203.1 L 361.2 203.1 L 361.2 206.9 L 366.2 206.9 L 366.2 208.3 L 361.2 208.3 L 361.2 214.0 L 359.5 214.0 L 359.5 201.7 \" fill=\"#33CCCC\"/>\n",
       "<path d=\"M 437.1 294.2 Q 435.0 294.2, 433.9 292.7 Q 432.9 291.2, 432.9 288.4 Q 432.9 285.7, 433.9 284.2 Q 435.0 282.7, 437.1 282.7 Q 439.2 282.7, 440.2 284.2 Q 441.2 285.7, 441.2 288.4 Q 441.2 291.2, 440.2 292.7 Q 439.1 294.2, 437.1 294.2 M 437.1 293.0 Q 438.3 293.0, 439.0 291.8 Q 439.6 290.7, 439.6 288.4 Q 439.6 286.2, 439.0 285.1 Q 438.3 283.9, 437.1 283.9 Q 435.9 283.9, 435.2 285.1 Q 434.5 286.2, 434.5 288.4 Q 434.5 290.7, 435.2 291.8 Q 435.9 293.0, 437.1 293.0 \" fill=\"#000000\"/>\n",
       "<path d=\"M 442.3 292.5 L 443.9 292.5 L 443.9 294.1 L 442.3 294.1 L 442.3 292.5 \" fill=\"#000000\"/>\n",
       "<path d=\"M 450.0 288.1 Q 451.1 288.5, 451.6 289.2 Q 452.1 289.9, 452.1 291.0 Q 452.1 292.0, 451.7 292.7 Q 451.2 293.5, 450.3 293.9 Q 449.4 294.3, 448.3 294.3 Q 447.1 294.3, 446.1 293.9 Q 445.2 293.4, 444.5 292.6 L 445.4 291.6 Q 446.1 292.4, 446.7 292.7 Q 447.3 293.0, 448.3 293.0 Q 449.3 293.0, 449.9 292.4 Q 450.5 291.9, 450.5 291.0 Q 450.5 289.8, 449.9 289.3 Q 449.2 288.8, 447.9 288.8 L 447.0 288.8 L 447.0 287.6 L 447.8 287.6 Q 449.0 287.6, 449.6 287.1 Q 450.3 286.6, 450.3 285.6 Q 450.3 284.8, 449.8 284.4 Q 449.2 283.9, 448.3 283.9 Q 447.3 283.9, 446.7 284.3 Q 446.2 284.6, 445.7 285.5 L 444.6 284.9 Q 445.0 283.9, 446.0 283.3 Q 446.9 282.7, 448.3 282.7 Q 449.9 282.7, 450.9 283.4 Q 451.9 284.2, 451.9 285.6 Q 451.9 286.5, 451.4 287.1 Q 450.9 287.8, 450.0 288.1 \" fill=\"#000000\"/>\n",
       "<path d=\"M 458.3 288.1 Q 459.4 288.5, 459.9 289.2 Q 460.4 289.9, 460.4 291.0 Q 460.4 292.0, 459.9 292.7 Q 459.5 293.5, 458.6 293.9 Q 457.7 294.3, 456.6 294.3 Q 455.3 294.3, 454.4 293.9 Q 453.5 293.4, 452.8 292.6 L 453.7 291.6 Q 454.4 292.4, 455.0 292.7 Q 455.6 293.0, 456.6 293.0 Q 457.6 293.0, 458.2 292.4 Q 458.8 291.9, 458.8 291.0 Q 458.8 289.8, 458.2 289.3 Q 457.5 288.8, 456.1 288.8 L 455.3 288.8 L 455.3 287.6 L 456.0 287.6 Q 457.3 287.6, 457.9 287.1 Q 458.6 286.6, 458.6 285.6 Q 458.6 284.8, 458.0 284.4 Q 457.5 283.9, 456.6 283.9 Q 455.6 283.9, 455.0 284.3 Q 454.5 284.6, 454.0 285.5 L 452.9 284.9 Q 453.3 283.9, 454.3 283.3 Q 455.2 282.7, 456.6 282.7 Q 458.2 282.7, 459.2 283.4 Q 460.2 284.2, 460.2 285.6 Q 460.2 286.5, 459.7 287.1 Q 459.2 287.8, 458.3 288.1 \" fill=\"#000000\"/>\n",
       "<path class=\"bond-0 atom-0 atom-1\" d=\"M 614.3,134.3 L 656.8,132.7\" style=\"fill:none;fill-rule:evenodd;stroke:#000000;stroke-width:2.0px;stroke-linecap:butt;stroke-linejoin:miter;stroke-opacity:1\"/>\n",
       "<path class=\"bond-1 atom-1 atom-2\" d=\"M 656.8,132.7 L 675.8,101.2\" style=\"fill:none;fill-rule:evenodd;stroke:#000000;stroke-width:2.0px;stroke-linecap:butt;stroke-linejoin:miter;stroke-opacity:1\"/>\n",
       "<path class=\"bond-14 atom-13 atom-1\" d=\"M 679.0,164.7 L 656.8,132.7\" style=\"fill:none;fill-rule:evenodd;stroke:#000000;stroke-width:2.0px;stroke-linecap:butt;stroke-linejoin:miter;stroke-opacity:1\"/>\n",
       "<path class=\"bond-14 atom-13 atom-1\" d=\"M 682.9,155.0 L 667.3,132.5\" style=\"fill:none;fill-rule:evenodd;stroke:#000000;stroke-width:2.0px;stroke-linecap:butt;stroke-linejoin:miter;stroke-opacity:1\"/>\n",
       "<path class=\"bond-2 atom-2 atom-3\" d=\"M 675.8,101.2 L 692.6,101.2\" style=\"fill:none;fill-rule:evenodd;stroke:#000000;stroke-width:2.0px;stroke-linecap:butt;stroke-linejoin:miter;stroke-opacity:1\"/>\n",
       "<path class=\"bond-2 atom-2 atom-3\" d=\"M 692.6,101.2 L 709.4,101.2\" style=\"fill:none;fill-rule:evenodd;stroke:#0000FF;stroke-width:2.0px;stroke-linecap:butt;stroke-linejoin:miter;stroke-opacity:1\"/>\n",
       "<path class=\"bond-2 atom-2 atom-3\" d=\"M 680.8,109.9 L 692.6,109.9\" style=\"fill:none;fill-rule:evenodd;stroke:#000000;stroke-width:2.0px;stroke-linecap:butt;stroke-linejoin:miter;stroke-opacity:1\"/>\n",
       "<path class=\"bond-2 atom-2 atom-3\" d=\"M 692.6,109.9 L 704.3,109.9\" style=\"fill:none;fill-rule:evenodd;stroke:#0000FF;stroke-width:2.0px;stroke-linecap:butt;stroke-linejoin:miter;stroke-opacity:1\"/>\n",
       "<path class=\"bond-3 atom-3 atom-4\" d=\"M 720.0,108.3 L 731.6,124.8\" style=\"fill:none;fill-rule:evenodd;stroke:#0000FF;stroke-width:2.0px;stroke-linecap:butt;stroke-linejoin:miter;stroke-opacity:1\"/>\n",
       "<path class=\"bond-4 atom-4 atom-5\" d=\"M 742.1,131.4 L 759.7,130.8\" style=\"fill:none;fill-rule:evenodd;stroke:#0000FF;stroke-width:2.0px;stroke-linecap:butt;stroke-linejoin:miter;stroke-opacity:1\"/>\n",
       "<path class=\"bond-4 atom-4 atom-5\" d=\"M 759.7,130.8 L 777.2,130.2\" style=\"fill:none;fill-rule:evenodd;stroke:#000000;stroke-width:2.0px;stroke-linecap:butt;stroke-linejoin:miter;stroke-opacity:1\"/>\n",
       "<path class=\"bond-10 atom-4 atom-11\" d=\"M 732.4,138.7 L 725.5,150.9\" style=\"fill:none;fill-rule:evenodd;stroke:#0000FF;stroke-width:2.0px;stroke-linecap:butt;stroke-linejoin:miter;stroke-opacity:1\"/>\n",
       "<path class=\"bond-10 atom-4 atom-11\" d=\"M 725.5,150.9 L 718.6,163.1\" style=\"fill:none;fill-rule:evenodd;stroke:#000000;stroke-width:2.0px;stroke-linecap:butt;stroke-linejoin:miter;stroke-opacity:1\"/>\n",
       "<path class=\"bond-5 atom-5 atom-6\" d=\"M 777.2,130.2 L 801.8,144.1\" style=\"fill:none;fill-rule:evenodd;stroke:#000000;stroke-width:2.0px;stroke-linecap:butt;stroke-linejoin:miter;stroke-opacity:1\"/>\n",
       "<path class=\"bond-5 atom-5 atom-6\" d=\"M 783.5,127.7 L 800.7,137.5\" style=\"fill:none;fill-rule:evenodd;stroke:#000000;stroke-width:2.0px;stroke-linecap:butt;stroke-linejoin:miter;stroke-opacity:1\"/>\n",
       "<path class=\"bond-15 atom-10 atom-5\" d=\"M 793.1,114.9 L 777.2,130.2\" style=\"fill:none;fill-rule:evenodd;stroke:#000000;stroke-width:2.0px;stroke-linecap:butt;stroke-linejoin:miter;stroke-opacity:1\"/>\n",
       "<path class=\"bond-6 atom-6 atom-7\" d=\"M 801.8,144.1 L 841.1,142.3\" style=\"fill:none;fill-rule:evenodd;stroke:#000000;stroke-width:2.0px;stroke-linecap:butt;stroke-linejoin:miter;stroke-opacity:1\"/>\n",
       "<path class=\"bond-7 atom-7 atom-8\" d=\"M 841.1,142.3 L 856.7,127.1\" style=\"fill:none;fill-rule:evenodd;stroke:#000000;stroke-width:2.0px;stroke-linecap:butt;stroke-linejoin:miter;stroke-opacity:1\"/>\n",
       "<path class=\"bond-7 atom-7 atom-8\" d=\"M 839.8,136.3 L 850.8,125.7\" style=\"fill:none;fill-rule:evenodd;stroke:#000000;stroke-width:2.0px;stroke-linecap:butt;stroke-linejoin:miter;stroke-opacity:1\"/>\n",
       "<path class=\"bond-8 atom-8 atom-9\" d=\"M 856.7,127.1 L 832.5,113.2\" style=\"fill:none;fill-rule:evenodd;stroke:#000000;stroke-width:2.0px;stroke-linecap:butt;stroke-linejoin:miter;stroke-opacity:1\"/>\n",
       "<path class=\"bond-9 atom-9 atom-10\" d=\"M 832.5,113.2 L 793.1,114.9\" style=\"fill:none;fill-rule:evenodd;stroke:#000000;stroke-width:2.0px;stroke-linecap:butt;stroke-linejoin:miter;stroke-opacity:1\"/>\n",
       "<path class=\"bond-9 atom-9 atom-10\" d=\"M 827.0,122.1 L 799.4,123.3\" style=\"fill:none;fill-rule:evenodd;stroke:#000000;stroke-width:2.0px;stroke-linecap:butt;stroke-linejoin:miter;stroke-opacity:1\"/>\n",
       "<path class=\"bond-11 atom-11 atom-12\" d=\"M 714.9,165.5 L 722.4,177.0\" style=\"fill:none;fill-rule:evenodd;stroke:#000000;stroke-width:2.0px;stroke-linecap:butt;stroke-linejoin:miter;stroke-opacity:1\"/>\n",
       "<path class=\"bond-11 atom-11 atom-12\" d=\"M 722.4,177.0 L 729.9,188.4\" style=\"fill:none;fill-rule:evenodd;stroke:#FF0000;stroke-width:2.0px;stroke-linecap:butt;stroke-linejoin:miter;stroke-opacity:1\"/>\n",
       "<path class=\"bond-11 atom-11 atom-12\" d=\"M 722.2,160.7 L 729.7,172.2\" style=\"fill:none;fill-rule:evenodd;stroke:#000000;stroke-width:2.0px;stroke-linecap:butt;stroke-linejoin:miter;stroke-opacity:1\"/>\n",
       "<path class=\"bond-11 atom-11 atom-12\" d=\"M 729.7,172.2 L 737.2,183.7\" style=\"fill:none;fill-rule:evenodd;stroke:#FF0000;stroke-width:2.0px;stroke-linecap:butt;stroke-linejoin:miter;stroke-opacity:1\"/>\n",
       "<path class=\"bond-12 atom-11 atom-13\" d=\"M 718.6,163.1 L 679.0,164.7\" style=\"fill:none;fill-rule:evenodd;stroke:#000000;stroke-width:2.0px;stroke-linecap:butt;stroke-linejoin:miter;stroke-opacity:1\"/>\n",
       "<path class=\"bond-13 atom-13 atom-14\" d=\"M 679.0,164.7 L 669.1,183.6\" style=\"fill:none;fill-rule:evenodd;stroke:#000000;stroke-width:2.0px;stroke-linecap:butt;stroke-linejoin:miter;stroke-opacity:1\"/>\n",
       "<path class=\"bond-13 atom-13 atom-14\" d=\"M 669.1,183.6 L 659.2,202.5\" style=\"fill:none;fill-rule:evenodd;stroke:#00CC00;stroke-width:2.0px;stroke-linecap:butt;stroke-linejoin:miter;stroke-opacity:1\"/>\n",
       "<path class=\"atom-3\" d=\"M 712.3 95.1 L 716.3 101.6 Q 716.7 102.2, 717.4 103.4 Q 718.0 104.6, 718.0 104.6 L 718.0 95.1 L 719.7 95.1 L 719.7 107.4 L 718.0 107.4 L 713.7 100.3 Q 713.2 99.4, 712.6 98.5 Q 712.1 97.5, 712.0 97.2 L 712.0 107.4 L 710.4 107.4 L 710.4 95.1 L 712.3 95.1 \" fill=\"#0000FF\"/>\n",
       "<path class=\"atom-4\" d=\"M 733.7 125.5 L 737.7 132.0 Q 738.1 132.7, 738.8 133.8 Q 739.4 135.0, 739.4 135.1 L 739.4 125.5 L 741.1 125.5 L 741.1 137.8 L 739.4 137.8 L 735.1 130.7 Q 734.6 129.8, 734.0 128.9 Q 733.5 127.9, 733.3 127.6 L 733.3 137.8 L 731.7 137.8 L 731.7 125.5 L 733.7 125.5 \" fill=\"#0000FF\"/>\n",
       "<path class=\"atom-12\" d=\"M 732.5 193.2 Q 732.5 190.3, 734.0 188.6 Q 735.4 186.9, 738.2 186.9 Q 740.9 186.9, 742.4 188.6 Q 743.8 190.3, 743.8 193.2 Q 743.8 196.2, 742.3 197.9 Q 740.9 199.6, 738.2 199.6 Q 735.5 199.6, 734.0 197.9 Q 732.5 196.2, 732.5 193.2 M 738.2 198.2 Q 740.0 198.2, 741.0 196.9 Q 742.1 195.7, 742.1 193.2 Q 742.1 190.8, 741.0 189.6 Q 740.0 188.3, 738.2 188.3 Q 736.3 188.3, 735.3 189.6 Q 734.3 190.8, 734.3 193.2 Q 734.3 195.7, 735.3 196.9 Q 736.3 198.2, 738.2 198.2 \" fill=\"#FF0000\"/>\n",
       "<path class=\"atom-14\" d=\"M 645.5 206.7 Q 645.5 203.7, 646.9 202.1 Q 648.3 200.4, 651.1 200.4 Q 653.6 200.4, 655.0 202.2 L 653.8 203.2 Q 652.8 201.9, 651.1 201.9 Q 649.2 201.9, 648.2 203.1 Q 647.2 204.4, 647.2 206.7 Q 647.2 209.2, 648.2 210.4 Q 649.3 211.7, 651.2 211.7 Q 652.6 211.7, 654.2 210.8 L 654.7 212.1 Q 654.0 212.6, 653.1 212.8 Q 652.1 213.0, 651.0 213.0 Q 648.3 213.0, 646.9 211.4 Q 645.5 209.8, 645.5 206.7 \" fill=\"#00CC00\"/>\n",
       "<path class=\"atom-14\" d=\"M 656.4 199.7 L 658.0 199.7 L 658.0 212.9 L 656.4 212.9 L 656.4 199.7 \" fill=\"#00CC00\"/>\n",
       "<path d=\"M 736.7 294.2 Q 734.7 294.2, 733.6 292.7 Q 732.6 291.2, 732.6 288.4 Q 732.6 285.7, 733.6 284.2 Q 734.6 282.7, 736.7 282.7 Q 738.8 282.7, 739.9 284.2 Q 740.9 285.7, 740.9 288.4 Q 740.9 291.2, 739.8 292.7 Q 738.8 294.2, 736.7 294.2 M 736.7 293.0 Q 738.0 293.0, 738.6 291.8 Q 739.3 290.7, 739.3 288.4 Q 739.3 286.2, 738.6 285.1 Q 738.0 283.9, 736.7 283.9 Q 735.5 283.9, 734.8 285.1 Q 734.2 286.2, 734.2 288.4 Q 734.2 290.7, 734.8 291.8 Q 735.5 293.0, 736.7 293.0 \" fill=\"#000000\"/>\n",
       "<path d=\"M 741.9 292.5 L 743.5 292.5 L 743.5 294.1 L 741.9 294.1 L 741.9 292.5 \" fill=\"#000000\"/>\n",
       "<path d=\"M 744.4 284.9 Q 744.8 283.9, 745.8 283.3 Q 746.8 282.7, 748.1 282.7 Q 749.8 282.7, 750.8 283.6 Q 751.8 284.5, 751.8 286.2 Q 751.8 287.8, 750.5 289.4 Q 749.3 291.0, 746.7 292.8 L 752.0 292.8 L 752.0 294.1 L 744.3 294.1 L 744.3 293.0 Q 746.4 291.5, 747.7 290.4 Q 748.9 289.3, 749.6 288.3 Q 750.2 287.3, 750.2 286.2 Q 750.2 285.2, 749.6 284.5 Q 749.1 283.9, 748.1 283.9 Q 747.2 283.9, 746.6 284.3 Q 746.0 284.7, 745.6 285.5 L 744.4 284.9 \" fill=\"#000000\"/>\n",
       "<path d=\"M 758.7 288.1 Q 759.8 288.6, 760.4 289.2 Q 760.9 289.9, 760.9 291.0 Q 760.9 292.0, 760.4 292.7 Q 760.0 293.5, 759.1 293.9 Q 758.2 294.3, 757.0 294.3 Q 755.1 294.3, 754.0 293.4 Q 752.9 292.5, 752.9 291.0 Q 752.9 290.1, 753.4 289.4 Q 753.9 288.7, 754.9 288.2 Q 754.2 287.7, 753.8 287.1 Q 753.4 286.5, 753.4 285.6 Q 753.4 284.2, 754.3 283.4 Q 755.3 282.7, 756.9 282.7 Q 758.6 282.7, 759.6 283.4 Q 760.5 284.2, 760.5 285.6 Q 760.5 286.4, 760.1 287.0 Q 759.6 287.6, 758.7 288.1 M 756.9 283.9 Q 756.0 283.9, 755.5 284.3 Q 755.0 284.8, 755.0 285.6 Q 755.0 286.1, 755.3 286.5 Q 755.7 286.9, 756.2 287.2 Q 756.7 287.4, 757.6 287.7 Q 758.3 287.2, 758.6 286.7 Q 758.9 286.2, 758.9 285.6 Q 758.9 284.8, 758.4 284.3 Q 757.9 283.9, 756.9 283.9 M 757.0 293.1 Q 758.1 293.1, 758.7 292.5 Q 759.3 291.9, 759.3 291.0 Q 759.3 290.4, 759.0 290.0 Q 758.7 289.6, 758.2 289.4 Q 757.7 289.2, 756.8 288.9 L 756.0 288.6 Q 755.2 289.1, 754.9 289.7 Q 754.5 290.3, 754.5 291.0 Q 754.5 291.9, 755.2 292.5 Q 755.9 293.1, 757.0 293.1 \" fill=\"#000000\"/>\n",
       "<path class=\"bond-0 atom-0 atom-1\" d=\"M 912.3,135.7 L 955.5,135.1\" style=\"fill:none;fill-rule:evenodd;stroke:#000000;stroke-width:2.0px;stroke-linecap:butt;stroke-linejoin:miter;stroke-opacity:1\"/>\n",
       "<path class=\"bond-1 atom-1 atom-2\" d=\"M 955.5,135.1 L 978.1,111.9\" style=\"fill:none;fill-rule:evenodd;stroke:#000000;stroke-width:2.0px;stroke-linecap:butt;stroke-linejoin:miter;stroke-opacity:1\"/>\n",
       "<path class=\"bond-13 atom-13 atom-1\" d=\"M 975.4,157.9 L 955.5,135.1\" style=\"fill:none;fill-rule:evenodd;stroke:#000000;stroke-width:2.0px;stroke-linecap:butt;stroke-linejoin:miter;stroke-opacity:1\"/>\n",
       "<path class=\"bond-13 atom-13 atom-1\" d=\"M 976.3,151.0 L 962.4,135.1\" style=\"fill:none;fill-rule:evenodd;stroke:#000000;stroke-width:2.0px;stroke-linecap:butt;stroke-linejoin:miter;stroke-opacity:1\"/>\n",
       "<path class=\"bond-2 atom-2 atom-3\" d=\"M 978.1,111.9 L 994.7,111.8\" style=\"fill:none;fill-rule:evenodd;stroke:#000000;stroke-width:2.0px;stroke-linecap:butt;stroke-linejoin:miter;stroke-opacity:1\"/>\n",
       "<path class=\"bond-2 atom-2 atom-3\" d=\"M 994.7,111.8 L 1011.4,111.7\" style=\"fill:none;fill-rule:evenodd;stroke:#0000FF;stroke-width:2.0px;stroke-linecap:butt;stroke-linejoin:miter;stroke-opacity:1\"/>\n",
       "<path class=\"bond-2 atom-2 atom-3\" d=\"M 983.1,120.6 L 994.8,120.5\" style=\"fill:none;fill-rule:evenodd;stroke:#000000;stroke-width:2.0px;stroke-linecap:butt;stroke-linejoin:miter;stroke-opacity:1\"/>\n",
       "<path class=\"bond-2 atom-2 atom-3\" d=\"M 994.8,120.5 L 1006.4,120.5\" style=\"fill:none;fill-rule:evenodd;stroke:#0000FF;stroke-width:2.0px;stroke-linecap:butt;stroke-linejoin:miter;stroke-opacity:1\"/>\n",
       "<path class=\"bond-3 atom-3 atom-4\" d=\"M 1022.4,117.6 L 1031.4,127.6\" style=\"fill:none;fill-rule:evenodd;stroke:#0000FF;stroke-width:2.0px;stroke-linecap:butt;stroke-linejoin:miter;stroke-opacity:1\"/>\n",
       "<path class=\"bond-4 atom-4 atom-5\" d=\"M 1042.3,133.1 L 1060.2,132.7\" style=\"fill:none;fill-rule:evenodd;stroke:#0000FF;stroke-width:2.0px;stroke-linecap:butt;stroke-linejoin:miter;stroke-opacity:1\"/>\n",
       "<path class=\"bond-4 atom-4 atom-5\" d=\"M 1060.2,132.7 L 1078.1,132.2\" style=\"fill:none;fill-rule:evenodd;stroke:#000000;stroke-width:2.0px;stroke-linecap:butt;stroke-linejoin:miter;stroke-opacity:1\"/>\n",
       "<path class=\"bond-10 atom-4 atom-11\" d=\"M 1031.2,139.2 L 1023.3,147.7\" style=\"fill:none;fill-rule:evenodd;stroke:#0000FF;stroke-width:2.0px;stroke-linecap:butt;stroke-linejoin:miter;stroke-opacity:1\"/>\n",
       "<path class=\"bond-10 atom-4 atom-11\" d=\"M 1023.3,147.7 L 1015.3,156.2\" style=\"fill:none;fill-rule:evenodd;stroke:#000000;stroke-width:2.0px;stroke-linecap:butt;stroke-linejoin:miter;stroke-opacity:1\"/>\n",
       "<path class=\"bond-5 atom-5 atom-6\" d=\"M 1078.1,132.2 L 1101.5,149.3\" style=\"fill:none;fill-rule:evenodd;stroke:#000000;stroke-width:2.0px;stroke-linecap:butt;stroke-linejoin:miter;stroke-opacity:1\"/>\n",
       "<path class=\"bond-5 atom-5 atom-6\" d=\"M 1084.7,130.5 L 1101.1,142.5\" style=\"fill:none;fill-rule:evenodd;stroke:#000000;stroke-width:2.0px;stroke-linecap:butt;stroke-linejoin:miter;stroke-opacity:1\"/>\n",
       "<path class=\"bond-14 atom-10 atom-5\" d=\"M 1095.9,113.4 L 1078.1,132.2\" style=\"fill:none;fill-rule:evenodd;stroke:#000000;stroke-width:2.0px;stroke-linecap:butt;stroke-linejoin:miter;stroke-opacity:1\"/>\n",
       "<path class=\"bond-6 atom-6 atom-7\" d=\"M 1101.5,149.3 L 1141.8,147.0\" style=\"fill:none;fill-rule:evenodd;stroke:#000000;stroke-width:2.0px;stroke-linecap:butt;stroke-linejoin:miter;stroke-opacity:1\"/>\n",
       "<path class=\"bond-7 atom-7 atom-8\" d=\"M 1141.8,147.0 L 1158.8,128.0\" style=\"fill:none;fill-rule:evenodd;stroke:#000000;stroke-width:2.0px;stroke-linecap:butt;stroke-linejoin:miter;stroke-opacity:1\"/>\n",
       "<path class=\"bond-7 atom-7 atom-8\" d=\"M 1140.5,140.7 L 1152.3,127.4\" style=\"fill:none;fill-rule:evenodd;stroke:#000000;stroke-width:2.0px;stroke-linecap:butt;stroke-linejoin:miter;stroke-opacity:1\"/>\n",
       "<path class=\"bond-8 atom-8 atom-9\" d=\"M 1158.8,128.0 L 1135.2,110.9\" style=\"fill:none;fill-rule:evenodd;stroke:#000000;stroke-width:2.0px;stroke-linecap:butt;stroke-linejoin:miter;stroke-opacity:1\"/>\n",
       "<path class=\"bond-9 atom-9 atom-10\" d=\"M 1135.2,110.9 L 1095.9,113.4\" style=\"fill:none;fill-rule:evenodd;stroke:#000000;stroke-width:2.0px;stroke-linecap:butt;stroke-linejoin:miter;stroke-opacity:1\"/>\n",
       "<path class=\"bond-9 atom-9 atom-10\" d=\"M 1129.9,119.9 L 1102.4,121.7\" style=\"fill:none;fill-rule:evenodd;stroke:#000000;stroke-width:2.0px;stroke-linecap:butt;stroke-linejoin:miter;stroke-opacity:1\"/>\n",
       "<path class=\"bond-11 atom-11 atom-12\" d=\"M 1013.4,157.9 L 1019.5,164.8\" style=\"fill:none;fill-rule:evenodd;stroke:#000000;stroke-width:2.0px;stroke-linecap:butt;stroke-linejoin:miter;stroke-opacity:1\"/>\n",
       "<path class=\"bond-11 atom-11 atom-12\" d=\"M 1019.5,164.8 L 1025.7,171.8\" style=\"fill:none;fill-rule:evenodd;stroke:#FF0000;stroke-width:2.0px;stroke-linecap:butt;stroke-linejoin:miter;stroke-opacity:1\"/>\n",
       "<path class=\"bond-11 atom-11 atom-12\" d=\"M 1017.3,154.5 L 1023.4,161.4\" style=\"fill:none;fill-rule:evenodd;stroke:#000000;stroke-width:2.0px;stroke-linecap:butt;stroke-linejoin:miter;stroke-opacity:1\"/>\n",
       "<path class=\"bond-11 atom-11 atom-12\" d=\"M 1023.4,161.4 L 1029.6,168.3\" style=\"fill:none;fill-rule:evenodd;stroke:#FF0000;stroke-width:2.0px;stroke-linecap:butt;stroke-linejoin:miter;stroke-opacity:1\"/>\n",
       "<path class=\"bond-12 atom-11 atom-13\" d=\"M 1015.3,156.2 L 975.4,157.9\" style=\"fill:none;fill-rule:evenodd;stroke:#000000;stroke-width:2.0px;stroke-linecap:butt;stroke-linejoin:miter;stroke-opacity:1\"/>\n",
       "<path class=\"atom-3\" d=\"M 1014.3 105.6 L 1018.3 112.1 Q 1018.7 112.7, 1019.4 113.9 Q 1020.0 115.1, 1020.1 115.1 L 1020.1 105.6 L 1021.7 105.6 L 1021.7 117.9 L 1020.0 117.9 L 1015.7 110.7 Q 1015.2 109.9, 1014.6 109.0 Q 1014.1 108.0, 1014.0 107.7 L 1014.0 117.9 L 1012.4 117.9 L 1012.4 105.6 L 1014.3 105.6 \" fill=\"#0000FF\"/>\n",
       "<path class=\"atom-4\" d=\"M 1033.9 127.1 L 1038.0 133.7 Q 1038.4 134.3, 1039.0 135.5 Q 1039.6 136.6, 1039.7 136.7 L 1039.7 127.1 L 1041.3 127.1 L 1041.3 139.4 L 1039.6 139.4 L 1035.3 132.3 Q 1034.8 131.5, 1034.3 130.5 Q 1033.7 129.6, 1033.6 129.3 L 1033.6 139.4 L 1032.0 139.4 L 1032.0 127.1 L 1033.9 127.1 \" fill=\"#0000FF\"/>\n",
       "<path class=\"atom-12\" d=\"M 1028.1 177.0 Q 1028.1 174.0, 1029.6 172.4 Q 1031.0 170.7, 1033.8 170.7 Q 1036.5 170.7, 1038.0 172.4 Q 1039.4 174.0, 1039.4 177.0 Q 1039.4 180.0, 1037.9 181.7 Q 1036.5 183.3, 1033.8 183.3 Q 1031.1 183.3, 1029.6 181.7 Q 1028.1 180.0, 1028.1 177.0 M 1033.8 182.0 Q 1035.6 182.0, 1036.7 180.7 Q 1037.7 179.4, 1037.7 177.0 Q 1037.7 174.6, 1036.7 173.3 Q 1035.6 172.1, 1033.8 172.1 Q 1031.9 172.1, 1030.9 173.3 Q 1029.9 174.5, 1029.9 177.0 Q 1029.9 179.5, 1030.9 180.7 Q 1031.9 182.0, 1033.8 182.0 \" fill=\"#FF0000\"/>\n",
       "<path d=\"M 1036.7 294.2 Q 1034.7 294.2, 1033.6 292.7 Q 1032.6 291.2, 1032.6 288.4 Q 1032.6 285.7, 1033.6 284.2 Q 1034.6 282.7, 1036.7 282.7 Q 1038.8 282.7, 1039.9 284.2 Q 1040.9 285.7, 1040.9 288.4 Q 1040.9 291.2, 1039.8 292.7 Q 1038.8 294.2, 1036.7 294.2 M 1036.7 293.0 Q 1038.0 293.0, 1038.6 291.8 Q 1039.3 290.7, 1039.3 288.4 Q 1039.3 286.2, 1038.6 285.1 Q 1038.0 283.9, 1036.7 283.9 Q 1035.5 283.9, 1034.9 285.1 Q 1034.2 286.2, 1034.2 288.4 Q 1034.2 290.7, 1034.9 291.8 Q 1035.5 293.0, 1036.7 293.0 \" fill=\"#000000\"/>\n",
       "<path d=\"M 1041.9 292.5 L 1043.5 292.5 L 1043.5 294.1 L 1041.9 294.1 L 1041.9 292.5 \" fill=\"#000000\"/>\n",
       "<path d=\"M 1049.6 288.1 Q 1050.7 288.5, 1051.3 289.2 Q 1051.8 289.9, 1051.8 291.0 Q 1051.8 292.0, 1051.3 292.7 Q 1050.9 293.5, 1050.0 293.9 Q 1049.1 294.3, 1047.9 294.3 Q 1046.7 294.3, 1045.8 293.9 Q 1044.9 293.4, 1044.2 292.6 L 1045.1 291.6 Q 1045.8 292.4, 1046.4 292.7 Q 1047.0 293.0, 1047.9 293.0 Q 1049.0 293.0, 1049.6 292.4 Q 1050.2 291.9, 1050.2 291.0 Q 1050.2 289.8, 1049.6 289.3 Q 1048.9 288.8, 1047.5 288.8 L 1046.7 288.8 L 1046.7 287.6 L 1047.4 287.6 Q 1048.7 287.6, 1049.3 287.1 Q 1050.0 286.6, 1050.0 285.6 Q 1050.0 284.8, 1049.4 284.4 Q 1048.9 283.9, 1048.0 283.9 Q 1047.0 283.9, 1046.4 284.3 Q 1045.8 284.6, 1045.4 285.5 L 1044.3 284.9 Q 1044.7 283.9, 1045.7 283.3 Q 1046.6 282.7, 1048.0 282.7 Q 1049.6 282.7, 1050.6 283.4 Q 1051.6 284.2, 1051.6 285.6 Q 1051.6 286.5, 1051.1 287.1 Q 1050.6 287.8, 1049.6 288.1 \" fill=\"#000000\"/>\n",
       "<path d=\"M 1056.9 294.2 Q 1054.9 294.2, 1053.8 292.7 Q 1052.8 291.2, 1052.8 288.4 Q 1052.8 285.7, 1053.8 284.2 Q 1054.8 282.7, 1056.9 282.7 Q 1059.0 282.7, 1060.1 284.2 Q 1061.1 285.7, 1061.1 288.4 Q 1061.1 291.2, 1060.0 292.7 Q 1059.0 294.2, 1056.9 294.2 M 1056.9 293.0 Q 1058.2 293.0, 1058.8 291.8 Q 1059.5 290.7, 1059.5 288.4 Q 1059.5 286.2, 1058.8 285.1 Q 1058.2 283.9, 1056.9 283.9 Q 1055.7 283.9, 1055.0 285.1 Q 1054.4 286.2, 1054.4 288.4 Q 1054.4 290.7, 1055.0 291.8 Q 1055.7 293.0, 1056.9 293.0 \" fill=\"#000000\"/>\n",
       "<path class=\"bond-0 atom-0 atom-1\" d=\"M 77.8,443.2 L 93.5,406.5\" style=\"fill:none;fill-rule:evenodd;stroke:#000000;stroke-width:2.0px;stroke-linecap:butt;stroke-linejoin:miter;stroke-opacity:1\"/>\n",
       "<path class=\"bond-0 atom-0 atom-1\" d=\"M 88.2,441.1 L 99.1,415.5\" style=\"fill:none;fill-rule:evenodd;stroke:#000000;stroke-width:2.0px;stroke-linecap:butt;stroke-linejoin:miter;stroke-opacity:1\"/>\n",
       "<path class=\"bond-9 atom-5 atom-0\" d=\"M 103.2,474.0 L 77.8,443.2\" style=\"fill:none;fill-rule:evenodd;stroke:#000000;stroke-width:2.0px;stroke-linecap:butt;stroke-linejoin:miter;stroke-opacity:1\"/>\n",
       "<path class=\"bond-1 atom-1 atom-2\" d=\"M 93.5,406.5 L 133.0,399.8\" style=\"fill:none;fill-rule:evenodd;stroke:#000000;stroke-width:2.0px;stroke-linecap:butt;stroke-linejoin:miter;stroke-opacity:1\"/>\n",
       "<path class=\"bond-2 atom-2 atom-3\" d=\"M 133.0,399.8 L 158.3,430.5\" style=\"fill:none;fill-rule:evenodd;stroke:#000000;stroke-width:2.0px;stroke-linecap:butt;stroke-linejoin:miter;stroke-opacity:1\"/>\n",
       "<path class=\"bond-2 atom-2 atom-3\" d=\"M 130.1,409.9 L 147.7,431.4\" style=\"fill:none;fill-rule:evenodd;stroke:#000000;stroke-width:2.0px;stroke-linecap:butt;stroke-linejoin:miter;stroke-opacity:1\"/>\n",
       "<path class=\"bond-3 atom-3 atom-4\" d=\"M 158.3,430.5 L 143.2,467.5\" style=\"fill:none;fill-rule:evenodd;stroke:#000000;stroke-width:2.0px;stroke-linecap:butt;stroke-linejoin:miter;stroke-opacity:1\"/>\n",
       "<path class=\"bond-5 atom-3 atom-6\" d=\"M 158.3,430.5 L 200.9,424.2\" style=\"fill:none;fill-rule:evenodd;stroke:#000000;stroke-width:2.0px;stroke-linecap:butt;stroke-linejoin:miter;stroke-opacity:1\"/>\n",
       "<path class=\"bond-4 atom-4 atom-5\" d=\"M 143.2,467.5 L 103.2,474.0\" style=\"fill:none;fill-rule:evenodd;stroke:#000000;stroke-width:2.0px;stroke-linecap:butt;stroke-linejoin:miter;stroke-opacity:1\"/>\n",
       "<path class=\"bond-4 atom-4 atom-5\" d=\"M 135.8,459.9 L 107.8,464.5\" style=\"fill:none;fill-rule:evenodd;stroke:#000000;stroke-width:2.0px;stroke-linecap:butt;stroke-linejoin:miter;stroke-opacity:1\"/>\n",
       "<path class=\"bond-6 atom-6 atom-7\" d=\"M 200.9,424.2 L 204.9,418.4\" style=\"fill:none;fill-rule:evenodd;stroke:#000000;stroke-width:2.0px;stroke-linecap:butt;stroke-linejoin:miter;stroke-opacity:1\"/>\n",
       "<path class=\"bond-6 atom-6 atom-7\" d=\"M 204.9,418.4 L 208.9,412.7\" style=\"fill:none;fill-rule:evenodd;stroke:#33CCCC;stroke-width:2.0px;stroke-linecap:butt;stroke-linejoin:miter;stroke-opacity:1\"/>\n",
       "<path class=\"bond-7 atom-6 atom-8\" d=\"M 200.9,424.2 L 204.8,416.9\" style=\"fill:none;fill-rule:evenodd;stroke:#000000;stroke-width:2.0px;stroke-linecap:butt;stroke-linejoin:miter;stroke-opacity:1\"/>\n",
       "<path class=\"bond-7 atom-6 atom-8\" d=\"M 204.8,416.9 L 208.8,409.7\" style=\"fill:none;fill-rule:evenodd;stroke:#33CCCC;stroke-width:2.0px;stroke-linecap:butt;stroke-linejoin:miter;stroke-opacity:1\"/>\n",
       "<path class=\"bond-8 atom-6 atom-9\" d=\"M 200.9,424.2 L 208.3,438.3\" style=\"fill:none;fill-rule:evenodd;stroke:#000000;stroke-width:2.0px;stroke-linecap:butt;stroke-linejoin:miter;stroke-opacity:1\"/>\n",
       "<path class=\"bond-8 atom-6 atom-9\" d=\"M 208.3,438.3 L 215.8,452.4\" style=\"fill:none;fill-rule:evenodd;stroke:#33CCCC;stroke-width:2.0px;stroke-linecap:butt;stroke-linejoin:miter;stroke-opacity:1\"/>\n",
       "<path class=\"atom-7\" d=\"M 209.4 400.5 L 216.7 400.5 L 216.7 401.9 L 211.0 401.9 L 211.0 405.6 L 216.1 405.6 L 216.1 407.1 L 211.0 407.1 L 211.0 412.8 L 209.4 412.8 L 209.4 400.5 \" fill=\"#33CCCC\"/>\n",
       "<path class=\"atom-8\" d=\"M 208.8 396.8 L 216.1 396.8 L 216.1 398.2 L 210.5 398.2 L 210.5 402.0 L 215.5 402.0 L 215.5 403.4 L 210.5 403.4 L 210.5 409.1 L 208.8 409.1 L 208.8 396.8 \" fill=\"#33CCCC\"/>\n",
       "<path class=\"atom-9\" d=\"M 215.9 453.4 L 223.2 453.4 L 223.2 454.8 L 217.5 454.8 L 217.5 458.5 L 222.6 458.5 L 222.6 459.9 L 217.5 459.9 L 217.5 465.7 L 215.9 465.7 L 215.9 453.4 \" fill=\"#33CCCC\"/>\n",
       "<path d=\"M 136.6 594.3 Q 134.5 594.3, 133.5 592.7 Q 132.5 591.2, 132.5 588.5 Q 132.5 585.7, 133.5 584.2 Q 134.5 582.7, 136.6 582.7 Q 138.7 582.7, 139.7 584.2 Q 140.8 585.7, 140.8 588.5 Q 140.8 591.2, 139.7 592.7 Q 138.7 594.3, 136.6 594.3 M 136.6 593.0 Q 137.9 593.0, 138.5 591.9 Q 139.2 590.7, 139.2 588.5 Q 139.2 586.2, 138.5 585.1 Q 137.9 584.0, 136.6 584.0 Q 135.4 584.0, 134.7 585.1 Q 134.1 586.2, 134.1 588.5 Q 134.1 590.7, 134.7 591.9 Q 135.4 593.0, 136.6 593.0 \" fill=\"#000000\"/>\n",
       "<path d=\"M 141.8 592.5 L 143.4 592.5 L 143.4 594.1 L 141.8 594.1 L 141.8 592.5 \" fill=\"#000000\"/>\n",
       "<path d=\"M 148.1 582.7 Q 150.1 582.7, 151.1 584.1 Q 152.1 585.4, 152.1 588.1 Q 152.1 591.2, 150.9 592.7 Q 149.6 594.3, 147.2 594.3 Q 146.5 594.3, 145.9 594.1 Q 145.3 594.0, 144.7 593.6 L 145.4 592.5 Q 146.2 593.0, 147.2 593.0 Q 148.8 593.0, 149.6 592.0 Q 150.4 590.9, 150.5 588.8 Q 149.9 589.3, 149.2 589.6 Q 148.5 589.9, 147.7 589.9 Q 146.7 589.9, 145.9 589.5 Q 145.1 589.0, 144.7 588.2 Q 144.3 587.5, 144.3 586.5 Q 144.3 585.4, 144.8 584.5 Q 145.3 583.6, 146.1 583.2 Q 147.0 582.7, 148.1 582.7 M 145.9 586.4 Q 145.9 587.5, 146.4 588.0 Q 147.0 588.6, 148.0 588.6 Q 148.7 588.6, 149.4 588.3 Q 150.0 588.0, 150.5 587.6 Q 150.5 585.7, 149.9 584.8 Q 149.3 584.0, 148.1 584.0 Q 147.5 584.0, 147.0 584.3 Q 146.5 584.6, 146.2 585.2 Q 145.9 585.8, 145.9 586.4 \" fill=\"#000000\"/>\n",
       "<path d=\"M 156.8 582.7 Q 158.8 582.7, 159.9 584.1 Q 160.9 585.4, 160.9 588.1 Q 160.9 591.2, 159.6 592.7 Q 158.4 594.3, 155.9 594.3 Q 155.2 594.3, 154.6 594.1 Q 154.0 594.0, 153.5 593.6 L 154.1 592.5 Q 154.9 593.0, 155.9 593.0 Q 157.5 593.0, 158.3 592.0 Q 159.2 590.9, 159.3 588.8 Q 158.7 589.3, 157.9 589.6 Q 157.2 589.9, 156.4 589.9 Q 155.5 589.9, 154.7 589.5 Q 153.9 589.0, 153.5 588.2 Q 153.0 587.5, 153.0 586.5 Q 153.0 585.4, 153.5 584.5 Q 154.0 583.6, 154.9 583.2 Q 155.7 582.7, 156.8 582.7 M 154.6 586.4 Q 154.6 587.5, 155.2 588.0 Q 155.7 588.6, 156.7 588.6 Q 157.4 588.6, 158.1 588.3 Q 158.8 588.0, 159.3 587.6 Q 159.2 585.7, 158.6 584.8 Q 158.0 584.0, 156.8 584.0 Q 156.2 584.0, 155.7 584.3 Q 155.2 584.6, 154.9 585.2 Q 154.6 585.8, 154.6 586.4 \" fill=\"#000000\"/>\n",
       "<path class=\"bond-0 atom-0 atom-1\" d=\"M 537.6,437.9 L 495.7,445.1\" style=\"fill:none;fill-rule:evenodd;stroke:#000000;stroke-width:2.0px;stroke-linecap:butt;stroke-linejoin:miter;stroke-opacity:1\"/>\n",
       "<path class=\"bond-1 atom-1 atom-2\" d=\"M 493.6,443.6 L 490.1,448.2\" style=\"fill:none;fill-rule:evenodd;stroke:#000000;stroke-width:2.0px;stroke-linecap:butt;stroke-linejoin:miter;stroke-opacity:1\"/>\n",
       "<path class=\"bond-1 atom-1 atom-2\" d=\"M 490.1,448.2 L 486.7,452.8\" style=\"fill:none;fill-rule:evenodd;stroke:#FF0000;stroke-width:2.0px;stroke-linecap:butt;stroke-linejoin:miter;stroke-opacity:1\"/>\n",
       "<path class=\"bond-1 atom-1 atom-2\" d=\"M 497.8,446.7 L 494.3,451.3\" style=\"fill:none;fill-rule:evenodd;stroke:#000000;stroke-width:2.0px;stroke-linecap:butt;stroke-linejoin:miter;stroke-opacity:1\"/>\n",
       "<path class=\"bond-1 atom-1 atom-2\" d=\"M 494.3,451.3 L 490.8,455.9\" style=\"fill:none;fill-rule:evenodd;stroke:#FF0000;stroke-width:2.0px;stroke-linecap:butt;stroke-linejoin:miter;stroke-opacity:1\"/>\n",
       "<path class=\"bond-2 atom-1 atom-3\" d=\"M 495.7,445.1 L 485.2,441.4\" style=\"fill:none;fill-rule:evenodd;stroke:#000000;stroke-width:2.0px;stroke-linecap:butt;stroke-linejoin:miter;stroke-opacity:1\"/>\n",
       "<path class=\"bond-2 atom-1 atom-3\" d=\"M 485.2,441.4 L 474.7,437.7\" style=\"fill:none;fill-rule:evenodd;stroke:#FF0000;stroke-width:2.0px;stroke-linecap:butt;stroke-linejoin:miter;stroke-opacity:1\"/>\n",
       "<path class=\"bond-3 atom-3 atom-4\" d=\"M 461.7,436.7 L 445.4,439.7\" style=\"fill:none;fill-rule:evenodd;stroke:#FF0000;stroke-width:2.0px;stroke-linecap:butt;stroke-linejoin:miter;stroke-opacity:1\"/>\n",
       "<path class=\"bond-3 atom-3 atom-4\" d=\"M 445.4,439.7 L 429.2,442.8\" style=\"fill:none;fill-rule:evenodd;stroke:#000000;stroke-width:2.0px;stroke-linecap:butt;stroke-linejoin:miter;stroke-opacity:1\"/>\n",
       "<path class=\"bond-4 atom-4 atom-5\" d=\"M 429.2,442.8 L 414.8,477.7\" style=\"fill:none;fill-rule:evenodd;stroke:#000000;stroke-width:2.0px;stroke-linecap:butt;stroke-linejoin:miter;stroke-opacity:1\"/>\n",
       "<path class=\"bond-4 atom-4 atom-5\" d=\"M 419.0,444.7 L 408.9,469.2\" style=\"fill:none;fill-rule:evenodd;stroke:#000000;stroke-width:2.0px;stroke-linecap:butt;stroke-linejoin:miter;stroke-opacity:1\"/>\n",
       "<path class=\"bond-12 atom-9 atom-4\" d=\"M 405.6,414.9 L 429.2,442.8\" style=\"fill:none;fill-rule:evenodd;stroke:#000000;stroke-width:2.0px;stroke-linecap:butt;stroke-linejoin:miter;stroke-opacity:1\"/>\n",
       "<path class=\"bond-5 atom-5 atom-6\" d=\"M 414.8,477.7 L 375.6,484.6\" style=\"fill:none;fill-rule:evenodd;stroke:#000000;stroke-width:2.0px;stroke-linecap:butt;stroke-linejoin:miter;stroke-opacity:1\"/>\n",
       "<path class=\"bond-6 atom-6 atom-7\" d=\"M 375.6,484.6 L 352.1,457.3\" style=\"fill:none;fill-rule:evenodd;stroke:#000000;stroke-width:2.0px;stroke-linecap:butt;stroke-linejoin:miter;stroke-opacity:1\"/>\n",
       "<path class=\"bond-6 atom-6 atom-7\" d=\"M 378.7,474.9 L 362.2,455.7\" style=\"fill:none;fill-rule:evenodd;stroke:#000000;stroke-width:2.0px;stroke-linecap:butt;stroke-linejoin:miter;stroke-opacity:1\"/>\n",
       "<path class=\"bond-7 atom-7 atom-8\" d=\"M 352.1,457.3 L 366.3,422.2\" style=\"fill:none;fill-rule:evenodd;stroke:#000000;stroke-width:2.0px;stroke-linecap:butt;stroke-linejoin:miter;stroke-opacity:1\"/>\n",
       "<path class=\"bond-8 atom-8 atom-9\" d=\"M 366.3,422.2 L 405.6,414.9\" style=\"fill:none;fill-rule:evenodd;stroke:#000000;stroke-width:2.0px;stroke-linecap:butt;stroke-linejoin:miter;stroke-opacity:1\"/>\n",
       "<path class=\"bond-8 atom-8 atom-9\" d=\"M 373.8,429.6 L 401.3,424.5\" style=\"fill:none;fill-rule:evenodd;stroke:#000000;stroke-width:2.0px;stroke-linecap:butt;stroke-linejoin:miter;stroke-opacity:1\"/>\n",
       "<path class=\"bond-9 atom-9 atom-10\" d=\"M 405.6,414.9 L 423.8,379.4\" style=\"fill:none;fill-rule:evenodd;stroke:#000000;stroke-width:2.0px;stroke-linecap:butt;stroke-linejoin:miter;stroke-opacity:1\"/>\n",
       "<path class=\"bond-10 atom-10 atom-11\" d=\"M 425.9,377.8 L 418.7,368.4\" style=\"fill:none;fill-rule:evenodd;stroke:#000000;stroke-width:2.0px;stroke-linecap:butt;stroke-linejoin:miter;stroke-opacity:1\"/>\n",
       "<path class=\"bond-10 atom-10 atom-11\" d=\"M 418.7,368.4 L 411.6,359.1\" style=\"fill:none;fill-rule:evenodd;stroke:#FF0000;stroke-width:2.0px;stroke-linecap:butt;stroke-linejoin:miter;stroke-opacity:1\"/>\n",
       "<path class=\"bond-10 atom-10 atom-11\" d=\"M 421.7,380.9 L 414.6,371.6\" style=\"fill:none;fill-rule:evenodd;stroke:#000000;stroke-width:2.0px;stroke-linecap:butt;stroke-linejoin:miter;stroke-opacity:1\"/>\n",
       "<path class=\"bond-10 atom-10 atom-11\" d=\"M 414.6,371.6 L 407.4,362.2\" style=\"fill:none;fill-rule:evenodd;stroke:#FF0000;stroke-width:2.0px;stroke-linecap:butt;stroke-linejoin:miter;stroke-opacity:1\"/>\n",
       "<path class=\"bond-11 atom-10 atom-12\" d=\"M 423.8,379.4 L 439.9,376.4\" style=\"fill:none;fill-rule:evenodd;stroke:#000000;stroke-width:2.0px;stroke-linecap:butt;stroke-linejoin:miter;stroke-opacity:1\"/>\n",
       "<path class=\"bond-11 atom-10 atom-12\" d=\"M 439.9,376.4 L 456.1,373.5\" style=\"fill:none;fill-rule:evenodd;stroke:#FF0000;stroke-width:2.0px;stroke-linecap:butt;stroke-linejoin:miter;stroke-opacity:1\"/>\n",
       "<path class=\"atom-2\" d=\"M 478.1 461.1 Q 478.1 458.2, 479.5 456.5 Q 481.0 454.9, 483.7 454.9 Q 486.4 454.9, 487.9 456.5 Q 489.4 458.2, 489.4 461.1 Q 489.4 464.1, 487.9 465.8 Q 486.4 467.5, 483.7 467.5 Q 481.0 467.5, 479.5 465.8 Q 478.1 464.1, 478.1 461.1 M 483.7 466.1 Q 485.6 466.1, 486.6 464.9 Q 487.6 463.6, 487.6 461.1 Q 487.6 458.7, 486.6 457.5 Q 485.6 456.3, 483.7 456.3 Q 481.8 456.3, 480.8 457.5 Q 479.8 458.7, 479.8 461.1 Q 479.8 463.6, 480.8 464.9 Q 481.8 466.1, 483.7 466.1 \" fill=\"#FF0000\"/>\n",
       "<path class=\"atom-3\" d=\"M 462.7 435.5 Q 462.7 432.5, 464.2 430.9 Q 465.6 429.2, 468.4 429.2 Q 471.1 429.2, 472.5 430.9 Q 474.0 432.5, 474.0 435.5 Q 474.0 438.5, 472.5 440.2 Q 471.0 441.9, 468.4 441.9 Q 465.6 441.9, 464.2 440.2 Q 462.7 438.5, 462.7 435.5 M 468.4 440.5 Q 470.2 440.5, 471.2 439.2 Q 472.3 438.0, 472.3 435.5 Q 472.3 433.1, 471.2 431.9 Q 470.2 430.6, 468.4 430.6 Q 466.5 430.6, 465.5 431.8 Q 464.4 433.1, 464.4 435.5 Q 464.4 438.0, 465.5 439.2 Q 466.5 440.5, 468.4 440.5 \" fill=\"#FF0000\"/>\n",
       "<path class=\"atom-11\" d=\"M 398.3 353.5 Q 398.3 350.5, 399.8 348.9 Q 401.2 347.2, 403.9 347.2 Q 406.7 347.2, 408.1 348.9 Q 409.6 350.5, 409.6 353.5 Q 409.6 356.5, 408.1 358.2 Q 406.6 359.8, 403.9 359.8 Q 401.2 359.8, 399.8 358.2 Q 398.3 356.5, 398.3 353.5 M 403.9 358.5 Q 405.8 358.5, 406.8 357.2 Q 407.9 355.9, 407.9 353.5 Q 407.9 351.1, 406.8 349.8 Q 405.8 348.6, 403.9 348.6 Q 402.1 348.6, 401.0 349.8 Q 400.0 351.0, 400.0 353.5 Q 400.0 356.0, 401.0 357.2 Q 402.1 358.5, 403.9 358.5 \" fill=\"#FF0000\"/>\n",
       "<path class=\"atom-12\" d=\"M 457.1 372.3 Q 457.1 369.3, 458.5 367.7 Q 460.0 366.0, 462.7 366.0 Q 465.5 366.0, 466.9 367.7 Q 468.4 369.3, 468.4 372.3 Q 468.4 375.3, 466.9 377.0 Q 465.4 378.7, 462.7 378.7 Q 460.0 378.7, 458.5 377.0 Q 457.1 375.3, 457.1 372.3 M 462.7 377.3 Q 464.6 377.3, 465.6 376.0 Q 466.6 374.7, 466.6 372.3 Q 466.6 369.9, 465.6 368.6 Q 464.6 367.4, 462.7 367.4 Q 460.9 367.4, 459.8 368.6 Q 458.8 369.8, 458.8 372.3 Q 458.8 374.8, 459.8 376.0 Q 460.9 377.3, 462.7 377.3 \" fill=\"#FF0000\"/>\n",
       "<path class=\"atom-12\" d=\"M 469.9 366.2 L 471.5 366.2 L 471.5 371.4 L 477.8 371.4 L 477.8 366.2 L 479.5 366.2 L 479.5 378.5 L 477.8 378.5 L 477.8 372.8 L 471.5 372.8 L 471.5 378.5 L 469.9 378.5 L 469.9 366.2 \" fill=\"#FF0000\"/>\n",
       "<path d=\"M 436.4 594.2 Q 434.4 594.2, 433.3 592.7 Q 432.3 591.2, 432.3 588.4 Q 432.3 585.7, 433.3 584.2 Q 434.4 582.7, 436.4 582.7 Q 438.5 582.7, 439.6 584.2 Q 440.6 585.7, 440.6 588.4 Q 440.6 591.2, 439.6 592.7 Q 438.5 594.2, 436.4 594.2 M 436.4 593.0 Q 437.7 593.0, 438.3 591.8 Q 439.0 590.7, 439.0 588.4 Q 439.0 586.2, 438.3 585.1 Q 437.7 583.9, 436.4 583.9 Q 435.2 583.9, 434.6 585.1 Q 433.9 586.2, 433.9 588.4 Q 433.9 590.7, 434.6 591.8 Q 435.2 593.0, 436.4 593.0 \" fill=\"#000000\"/>\n",
       "<path d=\"M 441.6 592.5 L 443.2 592.5 L 443.2 594.1 L 441.6 594.1 L 441.6 592.5 \" fill=\"#000000\"/>\n",
       "<path d=\"M 450.0 588.1 Q 451.0 588.6, 451.6 589.2 Q 452.2 589.9, 452.2 591.0 Q 452.2 592.0, 451.7 592.7 Q 451.2 593.5, 450.3 593.9 Q 449.5 594.3, 448.3 594.3 Q 446.4 594.3, 445.3 593.4 Q 444.2 592.5, 444.2 591.0 Q 444.2 590.1, 444.7 589.4 Q 445.2 588.7, 446.2 588.2 Q 445.4 587.7, 445.0 587.1 Q 444.6 586.5, 444.6 585.6 Q 444.6 584.2, 445.6 583.4 Q 446.6 582.7, 448.2 582.7 Q 449.9 582.7, 450.8 583.4 Q 451.8 584.2, 451.8 585.6 Q 451.8 586.4, 451.3 587.0 Q 450.9 587.6, 450.0 588.1 M 448.2 583.9 Q 447.3 583.9, 446.8 584.3 Q 446.2 584.8, 446.2 585.6 Q 446.2 586.1, 446.6 586.5 Q 446.9 586.9, 447.4 587.2 Q 448.0 587.4, 448.9 587.7 Q 449.6 587.2, 449.9 586.7 Q 450.2 586.2, 450.2 585.6 Q 450.2 584.8, 449.7 584.3 Q 449.2 583.9, 448.2 583.9 M 448.3 593.1 Q 449.3 593.1, 450.0 592.5 Q 450.6 591.9, 450.6 591.0 Q 450.6 590.4, 450.3 590.0 Q 450.0 589.6, 449.4 589.4 Q 448.9 589.2, 448.0 588.9 L 447.3 588.6 Q 446.5 589.1, 446.2 589.7 Q 445.8 590.3, 445.8 591.0 Q 445.8 591.9, 446.5 592.5 Q 447.2 593.1, 448.3 593.1 \" fill=\"#000000\"/>\n",
       "<path d=\"M 456.9 582.7 Q 458.9 582.7, 459.9 584.0 Q 461.0 585.4, 461.0 588.1 Q 461.0 591.1, 459.7 592.7 Q 458.4 594.2, 456.0 594.2 Q 455.3 594.2, 454.7 594.1 Q 454.1 593.9, 453.5 593.6 L 454.2 592.5 Q 455.0 593.0, 456.0 593.0 Q 457.6 593.0, 458.4 591.9 Q 459.2 590.9, 459.3 588.8 Q 458.8 589.3, 458.0 589.6 Q 457.3 589.9, 456.5 589.9 Q 455.5 589.9, 454.8 589.4 Q 454.0 589.0, 453.5 588.2 Q 453.1 587.4, 453.1 586.4 Q 453.1 585.3, 453.6 584.5 Q 454.1 583.6, 454.9 583.1 Q 455.8 582.7, 456.9 582.7 M 454.7 586.4 Q 454.7 587.4, 455.3 588.0 Q 455.8 588.6, 456.8 588.6 Q 457.5 588.6, 458.2 588.3 Q 458.9 588.0, 459.3 587.5 Q 459.3 585.7, 458.7 584.8 Q 458.1 584.0, 456.9 584.0 Q 456.3 584.0, 455.8 584.3 Q 455.3 584.6, 455.0 585.2 Q 454.7 585.7, 454.7 586.4 \" fill=\"#000000\"/>\n",
       "</svg>"
      ],
      "text/plain": [
       "<IPython.core.display.SVG object>"
      ]
     },
     "execution_count": 18,
     "metadata": {},
     "output_type": "execute_result"
    }
   ],
   "source": [
    "from scipy.spatial.distance import cdist\n",
    "\n",
    "smiles_list = [\n",
    "    \"Nc1cnn(-c2ccccc2)c(=O)c1Cl\",\n",
    "    \"Cc1ccn(-c2ccccc2)c(=O)c1F\",\n",
    "    \"Cc1cnn(-c2ccccc2)c(=O)c1Cl\",\n",
    "    \"Cc1cnn(-c2ccccc2)c(=O)c1\",\n",
    "    \"c1ccc(cc1)C(F)(F)F\",\n",
    "    \"CC(=O)OC1=CC=CC=C1C(=O)O\"\n",
    "]\n",
    "mols = [dm.to_mol(smiles) for smiles in smiles_list]\n",
    "mols = [dm.conformers.generate(mol, n_confs=1) for mol in mols]\n",
    "\n",
    "fps = [featurizer(mol) for mol in mols]\n",
    "\n",
    "distances = cdist([consensus_fp], fps, metric=\"jaccard\")\n",
    "\n",
    "dm.to_image(mols, legends=[f\"{d:.2f}\" for d in distances[0]])"
   ]
  },
  {
   "cell_type": "markdown",
   "id": "00d0c6a3-7686-422c-adbd-6a430ce542bd",
   "metadata": {},
   "source": [
    "Playing with the various consensus parameters will give you different distances."
   ]
  }
 ],
 "metadata": {
  "kernelspec": {
   "display_name": "Python [conda env:molfeat]",
   "language": "python",
   "name": "conda-env-molfeat-py"
  },
  "language_info": {
   "codemirror_mode": {
    "name": "ipython",
    "version": 3
   },
   "file_extension": ".py",
   "mimetype": "text/x-python",
   "name": "python",
   "nbconvert_exporter": "python",
   "pygments_lexer": "ipython3",
   "version": "3.8.12"
  },
  "widgets": {
   "application/vnd.jupyter.widget-state+json": {
    "state": {
     "0124275c842c438ca6872770c3555369": {
      "model_module": "@jupyter-widgets/controls",
      "model_module_version": "1.5.0",
      "model_name": "ButtonModel",
      "state": {
       "description": "P",
       "layout": "IPY_MODEL_b216c97708c64d94ad99a14ba3c435d6",
       "style": "IPY_MODEL_c4e999c873714ea3b6f5c34ba93580db"
      }
     },
     "075879f1476c458b9f744f1acfcd9c56": {
      "model_module": "@jupyter-widgets/controls",
      "model_module_version": "1.5.0",
      "model_name": "ButtonModel",
      "state": {
       "description": "a",
       "layout": "IPY_MODEL_1fc1e1c2493e4ba08097d677b5f28d50",
       "style": "IPY_MODEL_ca0a2c1af2774dcdb37e4448483c5f84"
      }
     },
     "0946ee23fd404522a3a4f091d31eff9e": {
      "model_module": "@jupyter-widgets/base",
      "model_module_version": "1.2.0",
      "model_name": "LayoutModel",
      "state": {}
     },
     "0c90f9977e834b6baa99d6476076c035": {
      "model_module": "@jupyter-widgets/controls",
      "model_module_version": "1.5.0",
      "model_name": "ImageModel",
      "state": {
       "layout": "IPY_MODEL_0946ee23fd404522a3a4f091d31eff9e",
       "width": "900.0"
      }
     },
     "11903b6aeae04f84b9730d92ce8eb4f1": {
      "model_module": "@jupyter-widgets/controls",
      "model_module_version": "1.5.0",
      "model_name": "ButtonModel",
      "state": {
       "icon": "compress",
       "layout": "IPY_MODEL_2091813a4dc44651a535d07b1d227927",
       "style": "IPY_MODEL_957388b6eeda4136b72693412731278e"
      }
     },
     "170038db6918482cbe03b22df3eed0f1": {
      "model_module": "@jupyter-widgets/controls",
      "model_module_version": "1.5.0",
      "model_name": "ButtonModel",
      "state": {
       "description": "H",
       "layout": "IPY_MODEL_4be56dc511ea405a902f15b40c208232",
       "style": "IPY_MODEL_f5b4362b55d14cf4a3f4c668964bb244"
      }
     },
     "17659c2109ce4f44b962ff63d76b0a3e": {
      "model_module": "@jupyter-widgets/controls",
      "model_module_version": "1.5.0",
      "model_name": "ButtonStyleModel",
      "state": {
       "button_color": "#377eb8"
      }
     },
     "1b14656074c3455b92c93ef745eacf7d": {
      "model_module": "@jupyter-widgets/controls",
      "model_module_version": "1.5.0",
      "model_name": "BoxModel",
      "state": {
       "children": [
        "IPY_MODEL_075879f1476c458b9f744f1acfcd9c56",
        "IPY_MODEL_6236dbff0cfd499a87b41df4bd6d1b06",
        "IPY_MODEL_9b73edff64ee4fb0927e578977698757",
        "IPY_MODEL_7b2df4c3217a4bfa86d5cae7b4deee95",
        "IPY_MODEL_7c975db7393a49748570263024d1a3db",
        "IPY_MODEL_170038db6918482cbe03b22df3eed0f1"
       ],
       "layout": "IPY_MODEL_d6c87fcc97204b41847d066b69c41b09"
      }
     },
     "1fc1e1c2493e4ba08097d677b5f28d50": {
      "model_module": "@jupyter-widgets/base",
      "model_module_version": "1.2.0",
      "model_name": "LayoutModel",
      "state": {}
     },
     "1fc300eae28b4871bb695e22b3de970b": {
      "model_module": "@jupyter-widgets/controls",
      "model_module_version": "1.5.0",
      "model_name": "PlayModel",
      "state": {
       "layout": "IPY_MODEL_4f52c6202a6a4d62af7cb02029714aa3",
       "max": 0,
       "style": "IPY_MODEL_f9e3b969c78f495cb58b3553be95d427"
      }
     },
     "2091813a4dc44651a535d07b1d227927": {
      "model_module": "@jupyter-widgets/base",
      "model_module_version": "1.2.0",
      "model_name": "LayoutModel",
      "state": {
       "width": "34px"
      }
     },
     "212025277683439bb6ed12634cd7d26b": {
      "model_module": "@jupyter-widgets/base",
      "model_module_version": "1.2.0",
      "model_name": "LayoutModel",
      "state": {}
     },
     "2721134bc4d34cd193f9c9035865b6bd": {
      "model_module": "@jupyter-widgets/base",
      "model_module_version": "1.2.0",
      "model_name": "LayoutModel",
      "state": {}
     },
     "2917c2677a694922badb7f13033eed38": {
      "model_module": "@jupyter-widgets/base",
      "model_module_version": "1.2.0",
      "model_name": "LayoutModel",
      "state": {}
     },
     "2f9e7dba03474f3b8d617d33f69b961a": {
      "model_module": "@jupyter-widgets/controls",
      "model_module_version": "1.5.0",
      "model_name": "IntSliderModel",
      "state": {
       "layout": "IPY_MODEL_4ff5e47a951f4c0cb4aedb8f30de4186",
       "max": 0,
       "style": "IPY_MODEL_afd68ebf448a41aa8c53ffc7458ce823"
      }
     },
     "34c1849a6a1149a0894b58b1ec7a593c": {
      "model_module": "@jupyter-widgets/controls",
      "model_module_version": "1.5.0",
      "model_name": "ButtonStyleModel",
      "state": {
       "button_color": "#ffff33"
      }
     },
     "3af03d64828946ef9bb483a4700059c7": {
      "model_module": "@jupyter-widgets/controls",
      "model_module_version": "1.5.0",
      "model_name": "LinkModel",
      "state": {
       "source": [
        "IPY_MODEL_fdf0c26584e94018a7fc9296cf2b9b99",
        "value"
       ],
       "target": [
        "IPY_MODEL_d895a40fc9b6441994a10cb5694a80b5",
        "value"
       ]
      }
     },
     "3c06bbd480ee4b9caad26c757fc9a361": {
      "model_module": "@jupyter-widgets/base",
      "model_module_version": "1.2.0",
      "model_name": "LayoutModel",
      "state": {}
     },
     "405d3c20a6b04ca4aaf2ea74bd60e34c": {
      "model_module": "@jupyter-widgets/controls",
      "model_module_version": "1.5.0",
      "model_name": "ButtonModel",
      "state": {
       "description": "a",
       "layout": "IPY_MODEL_86dc06a525e14880a7f9631a049db419",
       "style": "IPY_MODEL_768ea5a9ee1849c98ad8923fdfaf6cff"
      }
     },
     "4be56dc511ea405a902f15b40c208232": {
      "model_module": "@jupyter-widgets/base",
      "model_module_version": "1.2.0",
      "model_name": "LayoutModel",
      "state": {}
     },
     "4f52c6202a6a4d62af7cb02029714aa3": {
      "model_module": "@jupyter-widgets/base",
      "model_module_version": "1.2.0",
      "model_name": "LayoutModel",
      "state": {}
     },
     "4ff5e47a951f4c0cb4aedb8f30de4186": {
      "model_module": "@jupyter-widgets/base",
      "model_module_version": "1.2.0",
      "model_name": "LayoutModel",
      "state": {}
     },
     "581d94a8f5ff44268847037fdd191c1a": {
      "model_module": "@jupyter-widgets/controls",
      "model_module_version": "1.5.0",
      "model_name": "LinkModel",
      "state": {
       "source": [
        "IPY_MODEL_fdf0c26584e94018a7fc9296cf2b9b99",
        "max"
       ],
       "target": [
        "IPY_MODEL_b05e97dddcca44ecb97e9effd5254da1",
        "max_frame"
       ]
      }
     },
     "583372df42474e4d829780372a363bbf": {
      "model_module": "@jupyter-widgets/controls",
      "model_module_version": "1.5.0",
      "model_name": "ButtonModel",
      "state": {
       "description": "A",
       "layout": "IPY_MODEL_2917c2677a694922badb7f13033eed38",
       "style": "IPY_MODEL_982792a1498f420e8eff79804de3aaa9"
      }
     },
     "585249f184024f12b4ee723b0a44daa6": {
      "model_module": "@jupyter-widgets/controls",
      "model_module_version": "1.5.0",
      "model_name": "ImageModel",
      "state": {
       "layout": "IPY_MODEL_a4ffbd100f9a440098ea404974c97f12",
       "width": "900.0"
      }
     },
     "58af783275a64d31bad670876847a4d1": {
      "model_module": "nglview-js-widgets",
      "model_module_version": "3.0.1",
      "model_name": "NGLModel",
      "state": {
       "_camera_orientation": [
        23.904943559838713,
        0,
        0,
        0,
        0,
        23.904943559838713,
        0,
        0,
        0,
        0,
        23.904943559838713,
        0,
        -0.23350000381469727,
        -0.1899999976158142,
        0.13300001621246338,
        1
       ],
       "_camera_str": "orthographic",
       "_gui_theme": null,
       "_ibtn_fullscreen": "IPY_MODEL_8f55e17ff6b542a5894dec954a6edabf",
       "_igui": null,
       "_iplayer": "IPY_MODEL_652152a23f204a35a38f4b91d5618630",
       "_ngl_color_dict": {},
       "_ngl_coordinate_resource": {},
       "_ngl_full_stage_parameters": {
        "ambientColor": 14540253,
        "ambientIntensity": 0.2,
        "backgroundColor": "white",
        "cameraEyeSep": 0.3,
        "cameraFov": 40,
        "cameraType": "perspective",
        "clipDist": 10,
        "clipFar": 100,
        "clipNear": 0,
        "fogFar": 100,
        "fogNear": 50,
        "hoverTimeout": 0,
        "impostor": true,
        "lightColor": 14540253,
        "lightIntensity": 1,
        "mousePreset": "default",
        "panSpeed": 1,
        "quality": "medium",
        "rotateSpeed": 2,
        "sampleLevel": 0,
        "tooltip": true,
        "workerDefault": true,
        "zoomSpeed": 1.2
       },
       "_ngl_msg_archive": [
        {
         "args": [
          {
           "binary": false,
           "data": "HETATM    1  N1  UNL     1       4.374  -0.763   0.243  1.00  0.00           N  \nHETATM    2  C1  UNL     1       2.983  -0.556   0.186  1.00  0.00           C  \nHETATM    3  C2  UNL     1       2.104  -1.512   0.622  1.00  0.00           C  \nHETATM    4  N2  UNL     1       0.770  -1.310   0.566  1.00  0.00           N  \nHETATM    5  N3  UNL     1       0.241  -0.184   0.090  1.00  0.00           N  \nHETATM    6  C3  UNL     1      -1.153   0.034   0.028  1.00  0.00           C  \nHETATM    7  C4  UNL     1      -2.020  -0.926  -0.443  1.00  0.00           C  \nHETATM    8  C5  UNL     1      -3.390  -0.703  -0.500  1.00  0.00           C  \nHETATM    9  C6  UNL     1      -3.907   0.506  -0.076  1.00  0.00           C  \nHETATM   10  C7  UNL     1      -3.058   1.460   0.391  1.00  0.00           C  \nHETATM   11  C8  UNL     1      -1.696   1.224   0.441  1.00  0.00           C  \nHETATM   12  C9  UNL     1       1.088   0.754  -0.338  1.00  0.00           C  \nHETATM   13  O1  UNL     1       0.626   1.832  -0.794  1.00  0.00           O  \nHETATM   14  C10 UNL     1       2.457   0.618  -0.311  1.00  0.00           C  \nHETATM   15 CL1  UNL     1       3.501   1.892  -0.888  1.00  0.00          CL  \nCONECT    1    2\nCONECT    2    3   14   14\nCONECT    3    4    4\nCONECT    4    5\nCONECT    5    6   12\nCONECT    6    7    7   11\nCONECT    7    8\nCONECT    8    9    9\nCONECT    9   10\nCONECT   10   11   11\nCONECT   12   13   13   14\nCONECT   14   15\nEND\n",
           "type": "blob"
          }
         ],
         "kwargs": {
          "defaultRepresentation": true,
          "ext": "pdb"
         },
         "methodName": "loadFile",
         "reconstruc_color_scheme": false,
         "target": "Stage",
         "type": "call_method"
        },
        {
         "args": [],
         "component_index": 0,
         "kwargs": {},
         "methodName": "removeAllRepresentations",
         "reconstruc_color_scheme": false,
         "target": "compList",
         "type": "call_method"
        },
        {
         "args": [
          "ball+stick"
         ],
         "component_index": 0,
         "kwargs": {
          "multipleBond": true,
          "sele": "all"
         },
         "methodName": "addRepresentation",
         "reconstruc_color_scheme": false,
         "target": "compList",
         "type": "call_method"
        },
        {
         "args": [
          "shape",
          [
           [
            "sphere",
            [
             1.6073308945212306,
             -0.36478682508765736,
             0.13583125804535057
            ],
            [
             0.8941176470588236,
             0.10196078431372549,
             0.10980392156862745,
             1
            ],
            0.4,
            "a_1"
           ]
          ]
         ],
         "fire_embed": true,
         "kwargs": {},
         "methodName": "addShape",
         "reconstruc_color_scheme": false,
         "target": "Widget",
         "type": "call_method"
        },
        {
         "args": [
          "shape",
          [
           [
            "sphere",
            [
             -2.5373606040975885,
             0.26569516099436263,
             -0.026500287739238973
            ],
            [
             0.8941176470588236,
             0.10196078431372549,
             0.10980392156862745,
             1
            ],
            0.4,
            "a_2"
           ]
          ]
         ],
         "fire_embed": true,
         "kwargs": {},
         "methodName": "addShape",
         "reconstruc_color_scheme": false,
         "target": "Widget",
         "type": "call_method"
        },
        {
         "args": [
          "shape",
          [
           [
            "sphere",
            [
             4.374047166053936,
             -0.7628191630259037,
             0.24304665728656008
            ],
            [
             0.21568627450980393,
             0.49411764705882355,
             0.7215686274509804,
             1
            ],
            0.4,
            "D_3"
           ]
          ]
         ],
         "fire_embed": true,
         "kwargs": {},
         "methodName": "addShape",
         "reconstruc_color_scheme": false,
         "target": "Widget",
         "type": "call_method"
        },
        {
         "args": [
          "shape",
          [
           [
            "sphere",
            [
             0.7699593756605752,
             -1.3098389937058816,
             0.5657489968732459
            ],
            [
             0.30196078431372547,
             0.6862745098039216,
             0.2901960784313726,
             1
            ],
            0.4,
            "A_4"
           ]
          ]
         ],
         "fire_embed": true,
         "kwargs": {},
         "methodName": "addShape",
         "reconstruc_color_scheme": false,
         "target": "Widget",
         "type": "call_method"
        },
        {
         "args": [
          "shape",
          [
           [
            "sphere",
            [
             0.6258053493478449,
             1.8317635297679282,
             -0.7940998862729475
            ],
            [
             0.30196078431372547,
             0.6862745098039216,
             0.2901960784313726,
             1
            ],
            0.4,
            "A_5"
           ]
          ]
         ],
         "fire_embed": true,
         "kwargs": {},
         "methodName": "addShape",
         "reconstruc_color_scheme": false,
         "target": "Widget",
         "type": "call_method"
        },
        {
         "args": [
          "shape",
          [
           [
            "sphere",
            [
             1.6073308945212306,
             -0.36478682508765736,
             0.13583125804535057
            ],
            [
             1,
             1,
             0.2,
             1
            ],
            0.4,
            "H_6"
           ]
          ]
         ],
         "fire_embed": true,
         "kwargs": {},
         "methodName": "addShape",
         "reconstruc_color_scheme": false,
         "target": "Widget",
         "type": "call_method"
        },
        {
         "args": [
          "shape",
          [
           [
            "sphere",
            [
             -2.5373606040975885,
             0.26569516099436263,
             -0.026500287739238973
            ],
            [
             1,
             1,
             0.2,
             1
            ],
            0.4,
            "H_7"
           ]
          ]
         ],
         "fire_embed": true,
         "kwargs": {},
         "methodName": "addShape",
         "reconstruc_color_scheme": false,
         "target": "Widget",
         "type": "call_method"
        },
        {
         "args": [
          "shape",
          [
           [
            "sphere",
            [
             3.501330026469845,
             1.8924330558014002,
             -0.8884926745267779
            ],
            [
             1,
             1,
             0.2,
             1
            ],
            0.4,
            "H_8"
           ]
          ]
         ],
         "fire_embed": true,
         "kwargs": {},
         "methodName": "addShape",
         "reconstruc_color_scheme": false,
         "target": "Widget",
         "type": "call_method"
        }
       ],
       "_ngl_original_stage_parameters": {
        "ambientColor": 14540253,
        "ambientIntensity": 0.2,
        "backgroundColor": "white",
        "cameraEyeSep": 0.3,
        "cameraFov": 40,
        "cameraType": "perspective",
        "clipDist": 10,
        "clipFar": 100,
        "clipNear": 0,
        "fogFar": 100,
        "fogNear": 50,
        "hoverTimeout": 0,
        "impostor": true,
        "lightColor": 14540253,
        "lightIntensity": 1,
        "mousePreset": "default",
        "panSpeed": 1,
        "quality": "medium",
        "rotateSpeed": 2,
        "sampleLevel": 0,
        "tooltip": true,
        "workerDefault": true,
        "zoomSpeed": 1.2
       },
       "_ngl_repr_dict": {
        "0": {
         "0": {
          "params": {
           "aspectRatio": 2,
           "assembly": "default",
           "bondScale": 0.4,
           "bondSpacing": 1,
           "clipCenter": {
            "x": 0,
            "y": 0,
            "z": 0
           },
           "clipNear": 0,
           "clipRadius": 0,
           "colorMode": "hcl",
           "colorReverse": false,
           "colorScale": "",
           "colorScheme": "element",
           "colorValue": 9474192,
           "cylinderOnly": false,
           "defaultAssembly": "",
           "depthWrite": true,
           "diffuse": 16777215,
           "diffuseInterior": false,
           "disableImpostor": false,
           "disablePicking": false,
           "flatShaded": false,
           "interiorColor": 2236962,
           "interiorDarkening": 0,
           "lazy": false,
           "lineOnly": false,
           "linewidth": 2,
           "matrix": {
            "elements": [
             1,
             0,
             0,
             0,
             0,
             1,
             0,
             0,
             0,
             0,
             1,
             0,
             0,
             0,
             0,
             1
            ]
           },
           "metalness": 0,
           "multipleBond": true,
           "opacity": 1,
           "openEnded": true,
           "quality": "medium",
           "radialSegments": 10,
           "radiusData": {},
           "radiusScale": 1,
           "radiusSize": 0.15,
           "radiusType": "size",
           "roughness": 0.4,
           "sele": "all",
           "side": "double",
           "sphereDetail": 1,
           "useInteriorColor": true,
           "visible": true,
           "wireframe": false
          },
          "type": "ball+stick"
         }
        },
        "1": {
         "0": {
          "params": {
           "clipCenter": {
            "x": 0,
            "y": 0,
            "z": 0
           },
           "clipNear": 0,
           "clipRadius": 0,
           "colorReverse": false,
           "depthWrite": true,
           "diffuse": 16777215,
           "diffuseInterior": false,
           "disablePicking": false,
           "flatShaded": false,
           "interiorColor": 2236962,
           "interiorDarkening": 0,
           "lazy": false,
           "matrix": {
            "elements": [
             1,
             0,
             0,
             0,
             0,
             1,
             0,
             0,
             0,
             0,
             1,
             0,
             0,
             0,
             0,
             1
            ]
           },
           "metalness": 0,
           "opacity": 1,
           "quality": "medium",
           "roughness": 0.4,
           "side": "double",
           "useInteriorColor": false,
           "visible": true,
           "wireframe": false
          },
          "type": "buffer"
         }
        },
        "2": {
         "0": {
          "params": {
           "clipCenter": {
            "x": 0,
            "y": 0,
            "z": 0
           },
           "clipNear": 0,
           "clipRadius": 0,
           "colorReverse": false,
           "depthWrite": true,
           "diffuse": 16777215,
           "diffuseInterior": false,
           "disablePicking": false,
           "flatShaded": false,
           "interiorColor": 2236962,
           "interiorDarkening": 0,
           "lazy": false,
           "matrix": {
            "elements": [
             1,
             0,
             0,
             0,
             0,
             1,
             0,
             0,
             0,
             0,
             1,
             0,
             0,
             0,
             0,
             1
            ]
           },
           "metalness": 0,
           "opacity": 1,
           "quality": "medium",
           "roughness": 0.4,
           "side": "double",
           "useInteriorColor": false,
           "visible": true,
           "wireframe": false
          },
          "type": "buffer"
         }
        },
        "3": {
         "0": {
          "params": {
           "clipCenter": {
            "x": 0,
            "y": 0,
            "z": 0
           },
           "clipNear": 0,
           "clipRadius": 0,
           "colorReverse": false,
           "depthWrite": true,
           "diffuse": 16777215,
           "diffuseInterior": false,
           "disablePicking": false,
           "flatShaded": false,
           "interiorColor": 2236962,
           "interiorDarkening": 0,
           "lazy": false,
           "matrix": {
            "elements": [
             1,
             0,
             0,
             0,
             0,
             1,
             0,
             0,
             0,
             0,
             1,
             0,
             0,
             0,
             0,
             1
            ]
           },
           "metalness": 0,
           "opacity": 1,
           "quality": "medium",
           "roughness": 0.4,
           "side": "double",
           "useInteriorColor": false,
           "visible": true,
           "wireframe": false
          },
          "type": "buffer"
         }
        },
        "4": {
         "0": {
          "params": {
           "clipCenter": {
            "x": 0,
            "y": 0,
            "z": 0
           },
           "clipNear": 0,
           "clipRadius": 0,
           "colorReverse": false,
           "depthWrite": true,
           "diffuse": 16777215,
           "diffuseInterior": false,
           "disablePicking": false,
           "flatShaded": false,
           "interiorColor": 2236962,
           "interiorDarkening": 0,
           "lazy": false,
           "matrix": {
            "elements": [
             1,
             0,
             0,
             0,
             0,
             1,
             0,
             0,
             0,
             0,
             1,
             0,
             0,
             0,
             0,
             1
            ]
           },
           "metalness": 0,
           "opacity": 1,
           "quality": "medium",
           "roughness": 0.4,
           "side": "double",
           "useInteriorColor": false,
           "visible": true,
           "wireframe": false
          },
          "type": "buffer"
         }
        },
        "5": {
         "0": {
          "params": {
           "clipCenter": {
            "x": 0,
            "y": 0,
            "z": 0
           },
           "clipNear": 0,
           "clipRadius": 0,
           "colorReverse": false,
           "depthWrite": true,
           "diffuse": 16777215,
           "diffuseInterior": false,
           "disablePicking": false,
           "flatShaded": false,
           "interiorColor": 2236962,
           "interiorDarkening": 0,
           "lazy": false,
           "matrix": {
            "elements": [
             1,
             0,
             0,
             0,
             0,
             1,
             0,
             0,
             0,
             0,
             1,
             0,
             0,
             0,
             0,
             1
            ]
           },
           "metalness": 0,
           "opacity": 1,
           "quality": "medium",
           "roughness": 0.4,
           "side": "double",
           "useInteriorColor": false,
           "visible": true,
           "wireframe": false
          },
          "type": "buffer"
         }
        },
        "6": {
         "0": {
          "params": {
           "clipCenter": {
            "x": 0,
            "y": 0,
            "z": 0
           },
           "clipNear": 0,
           "clipRadius": 0,
           "colorReverse": false,
           "depthWrite": true,
           "diffuse": 16777215,
           "diffuseInterior": false,
           "disablePicking": false,
           "flatShaded": false,
           "interiorColor": 2236962,
           "interiorDarkening": 0,
           "lazy": false,
           "matrix": {
            "elements": [
             1,
             0,
             0,
             0,
             0,
             1,
             0,
             0,
             0,
             0,
             1,
             0,
             0,
             0,
             0,
             1
            ]
           },
           "metalness": 0,
           "opacity": 1,
           "quality": "medium",
           "roughness": 0.4,
           "side": "double",
           "useInteriorColor": false,
           "visible": true,
           "wireframe": false
          },
          "type": "buffer"
         }
        },
        "7": {
         "0": {
          "params": {
           "clipCenter": {
            "x": 0,
            "y": 0,
            "z": 0
           },
           "clipNear": 0,
           "clipRadius": 0,
           "colorReverse": false,
           "depthWrite": true,
           "diffuse": 16777215,
           "diffuseInterior": false,
           "disablePicking": false,
           "flatShaded": false,
           "interiorColor": 2236962,
           "interiorDarkening": 0,
           "lazy": false,
           "matrix": {
            "elements": [
             1,
             0,
             0,
             0,
             0,
             1,
             0,
             0,
             0,
             0,
             1,
             0,
             0,
             0,
             0,
             1
            ]
           },
           "metalness": 0,
           "opacity": 1,
           "quality": "medium",
           "roughness": 0.4,
           "side": "double",
           "useInteriorColor": false,
           "visible": true,
           "wireframe": false
          },
          "type": "buffer"
         }
        },
        "8": {
         "0": {
          "params": {
           "clipCenter": {
            "x": 0,
            "y": 0,
            "z": 0
           },
           "clipNear": 0,
           "clipRadius": 0,
           "colorReverse": false,
           "depthWrite": true,
           "diffuse": 16777215,
           "diffuseInterior": false,
           "disablePicking": false,
           "flatShaded": false,
           "interiorColor": 2236962,
           "interiorDarkening": 0,
           "lazy": false,
           "matrix": {
            "elements": [
             1,
             0,
             0,
             0,
             0,
             1,
             0,
             0,
             0,
             0,
             1,
             0,
             0,
             0,
             0,
             1
            ]
           },
           "metalness": 0,
           "opacity": 1,
           "quality": "medium",
           "roughness": 0.4,
           "side": "double",
           "useInteriorColor": false,
           "visible": true,
           "wireframe": false
          },
          "type": "buffer"
         }
        }
       },
       "_ngl_serialize": false,
       "_ngl_version": "2.0.0-dev.36",
       "_ngl_view_id": [
        "980B712F-2EDD-4EE0-AFC4-3C8D26719A83"
       ],
       "_player_dict": {},
       "_scene_position": {},
       "_scene_rotation": {},
       "_synced_model_ids": [],
       "_synced_repr_model_ids": [],
       "_view_height": "",
       "_view_width": "",
       "background": "white",
       "frame": 0,
       "gui_style": null,
       "layout": "IPY_MODEL_212025277683439bb6ed12634cd7d26b",
       "max_frame": 0,
       "n_components": 9,
       "picked": {}
      }
     },
     "59063e8cb2b6415bb4c56514d900f477": {
      "model_module": "@jupyter-widgets/base",
      "model_module_version": "1.2.0",
      "model_name": "LayoutModel",
      "state": {}
     },
     "5f4aa620451a46cea4750faa16c38a51": {
      "model_module": "@jupyter-widgets/controls",
      "model_module_version": "1.5.0",
      "model_name": "HBoxModel",
      "state": {
       "children": [
        "IPY_MODEL_fdf0c26584e94018a7fc9296cf2b9b99",
        "IPY_MODEL_d895a40fc9b6441994a10cb5694a80b5"
       ],
       "layout": "IPY_MODEL_66246454099d44b8bdd012c1775e5659"
      }
     },
     "618114ac62c74ae1b4ced32e4793224d": {
      "model_module": "@jupyter-widgets/controls",
      "model_module_version": "1.5.0",
      "model_name": "LinkModel",
      "state": {
       "source": [
        "IPY_MODEL_2f9e7dba03474f3b8d617d33f69b961a",
        "max"
       ],
       "target": [
        "IPY_MODEL_58af783275a64d31bad670876847a4d1",
        "max_frame"
       ]
      }
     },
     "6216d1d1b92641e5a3c772a5504231c3": {
      "model_module": "@jupyter-widgets/base",
      "model_module_version": "1.2.0",
      "model_name": "LayoutModel",
      "state": {
       "align_content": "center",
       "display": "flex",
       "flex_flow": "column"
      }
     },
     "6231a61f7d94480190e41fb80d63c515": {
      "model_module": "@jupyter-widgets/base",
      "model_module_version": "1.2.0",
      "model_name": "LayoutModel",
      "state": {}
     },
     "6236dbff0cfd499a87b41df4bd6d1b06": {
      "model_module": "@jupyter-widgets/controls",
      "model_module_version": "1.5.0",
      "model_name": "ButtonModel",
      "state": {
       "description": "D",
       "layout": "IPY_MODEL_95a8920e07374451a3c55ccadb974f95",
       "style": "IPY_MODEL_91c9f8827291450f85ef4c68de80e534"
      }
     },
     "647fea6ecf1d4216875381b2bf1863d0": {
      "model_module": "nglview-js-widgets",
      "model_module_version": "3.0.1",
      "model_name": "ColormakerRegistryModel",
      "state": {
       "_msg_ar": [],
       "_msg_q": [],
       "_ready": true,
       "layout": "IPY_MODEL_3c06bbd480ee4b9caad26c757fc9a361"
      }
     },
     "652152a23f204a35a38f4b91d5618630": {
      "model_module": "@jupyter-widgets/controls",
      "model_module_version": "1.5.0",
      "model_name": "HBoxModel",
      "state": {
       "children": [
        "IPY_MODEL_1fc300eae28b4871bb695e22b3de970b",
        "IPY_MODEL_2f9e7dba03474f3b8d617d33f69b961a"
       ],
       "layout": "IPY_MODEL_f9573f598b9f4247a764b44c0dc88937"
      }
     },
     "65f8ab0f11d345fbbf0ae98b21404f7d": {
      "model_module": "@jupyter-widgets/controls",
      "model_module_version": "1.5.0",
      "model_name": "ButtonModel",
      "state": {
       "description": "N",
       "layout": "IPY_MODEL_2721134bc4d34cd193f9c9035865b6bd",
       "style": "IPY_MODEL_e8e4e9c62d0f42a09078b757ea337e95"
      }
     },
     "66246454099d44b8bdd012c1775e5659": {
      "model_module": "@jupyter-widgets/base",
      "model_module_version": "1.2.0",
      "model_name": "LayoutModel",
      "state": {}
     },
     "6799649bcb084d95bf64d709632a938c": {
      "model_module": "@jupyter-widgets/base",
      "model_module_version": "1.2.0",
      "model_name": "LayoutModel",
      "state": {}
     },
     "6ca10ca1a15c4e4aadb848050f7e8efa": {
      "model_module": "@jupyter-widgets/controls",
      "model_module_version": "1.5.0",
      "model_name": "ButtonModel",
      "state": {
       "description": "D",
       "layout": "IPY_MODEL_59063e8cb2b6415bb4c56514d900f477",
       "style": "IPY_MODEL_17659c2109ce4f44b962ff63d76b0a3e"
      }
     },
     "6d55f41bed374d93bd9c54dbba2a11df": {
      "model_module": "@jupyter-widgets/controls",
      "model_module_version": "1.5.0",
      "model_name": "ButtonStyleModel",
      "state": {}
     },
     "6e91eaaab8224609acf247a2dbe5785f": {
      "model_module": "@jupyter-widgets/controls",
      "model_module_version": "1.5.0",
      "model_name": "ButtonStyleModel",
      "state": {
       "button_color": "#ff7f00"
      }
     },
     "768ea5a9ee1849c98ad8923fdfaf6cff": {
      "model_module": "@jupyter-widgets/controls",
      "model_module_version": "1.5.0",
      "model_name": "ButtonStyleModel",
      "state": {
       "button_color": "#e41a1c"
      }
     },
     "79780f3ad1db49d88efafd4d62dbcf41": {
      "model_module": "@jupyter-widgets/controls",
      "model_module_version": "1.5.0",
      "model_name": "BoxModel",
      "state": {
       "children": [
        "IPY_MODEL_405d3c20a6b04ca4aaf2ea74bd60e34c",
        "IPY_MODEL_6ca10ca1a15c4e4aadb848050f7e8efa",
        "IPY_MODEL_583372df42474e4d829780372a363bbf",
        "IPY_MODEL_0124275c842c438ca6872770c3555369",
        "IPY_MODEL_65f8ab0f11d345fbbf0ae98b21404f7d",
        "IPY_MODEL_cda61077a89c42aea0cce74f28a5d819"
       ],
       "layout": "IPY_MODEL_9622a5a09292458abde726fe596e6858"
      }
     },
     "7a2a9b5aab4e415e9f3b2cd6482f7838": {
      "model_module": "@jupyter-widgets/base",
      "model_module_version": "1.2.0",
      "model_name": "LayoutModel",
      "state": {
       "align_content": "center",
       "display": "flex",
       "flex_flow": "column"
      }
     },
     "7b2df4c3217a4bfa86d5cae7b4deee95": {
      "model_module": "@jupyter-widgets/controls",
      "model_module_version": "1.5.0",
      "model_name": "ButtonModel",
      "state": {
       "description": "P",
       "layout": "IPY_MODEL_84e77457347845aeab2d31ad6a8de154",
       "style": "IPY_MODEL_e3f3adf33b1e4ec9b85167691c84aabe"
      }
     },
     "7c975db7393a49748570263024d1a3db": {
      "model_module": "@jupyter-widgets/controls",
      "model_module_version": "1.5.0",
      "model_name": "ButtonModel",
      "state": {
       "description": "N",
       "layout": "IPY_MODEL_834e1001861a42e4967e26381ea7ef53",
       "style": "IPY_MODEL_6e91eaaab8224609acf247a2dbe5785f"
      }
     },
     "7e26a581cc474b409416e15e80761b3c": {
      "model_module": "@jupyter-widgets/controls",
      "model_module_version": "1.5.0",
      "model_name": "LinkModel",
      "state": {
       "source": [
        "IPY_MODEL_1fc300eae28b4871bb695e22b3de970b",
        "value"
       ],
       "target": [
        "IPY_MODEL_2f9e7dba03474f3b8d617d33f69b961a",
        "value"
       ]
      }
     },
     "834e1001861a42e4967e26381ea7ef53": {
      "model_module": "@jupyter-widgets/base",
      "model_module_version": "1.2.0",
      "model_name": "LayoutModel",
      "state": {}
     },
     "84e77457347845aeab2d31ad6a8de154": {
      "model_module": "@jupyter-widgets/base",
      "model_module_version": "1.2.0",
      "model_name": "LayoutModel",
      "state": {}
     },
     "860bf462e6d94667ab19c8c15d8d2857": {
      "model_module": "@jupyter-widgets/base",
      "model_module_version": "1.2.0",
      "model_name": "LayoutModel",
      "state": {}
     },
     "86dc06a525e14880a7f9631a049db419": {
      "model_module": "@jupyter-widgets/base",
      "model_module_version": "1.2.0",
      "model_name": "LayoutModel",
      "state": {}
     },
     "8f0410daaccb45a895cea75d6453c70e": {
      "model_module": "@jupyter-widgets/controls",
      "model_module_version": "1.5.0",
      "model_name": "SliderStyleModel",
      "state": {
       "description_width": ""
      }
     },
     "8f55e17ff6b542a5894dec954a6edabf": {
      "model_module": "@jupyter-widgets/controls",
      "model_module_version": "1.5.0",
      "model_name": "ButtonModel",
      "state": {
       "icon": "compress",
       "layout": "IPY_MODEL_cbde3361d119425fa62f3ac40640d279",
       "style": "IPY_MODEL_6d55f41bed374d93bd9c54dbba2a11df"
      }
     },
     "91a41feb313b4588a55e0bafb0a87946": {
      "model_module": "@jupyter-widgets/controls",
      "model_module_version": "1.5.0",
      "model_name": "LinkModel",
      "state": {
       "source": [
        "IPY_MODEL_d895a40fc9b6441994a10cb5694a80b5",
        "max"
       ],
       "target": [
        "IPY_MODEL_b05e97dddcca44ecb97e9effd5254da1",
        "max_frame"
       ]
      }
     },
     "91c9f8827291450f85ef4c68de80e534": {
      "model_module": "@jupyter-widgets/controls",
      "model_module_version": "1.5.0",
      "model_name": "ButtonStyleModel",
      "state": {
       "button_color": "#377eb8"
      }
     },
     "957388b6eeda4136b72693412731278e": {
      "model_module": "@jupyter-widgets/controls",
      "model_module_version": "1.5.0",
      "model_name": "ButtonStyleModel",
      "state": {}
     },
     "95a8920e07374451a3c55ccadb974f95": {
      "model_module": "@jupyter-widgets/base",
      "model_module_version": "1.2.0",
      "model_name": "LayoutModel",
      "state": {}
     },
     "9622a5a09292458abde726fe596e6858": {
      "model_module": "@jupyter-widgets/base",
      "model_module_version": "1.2.0",
      "model_name": "LayoutModel",
      "state": {
       "align_content": "center",
       "border": "solid",
       "display": "flex",
       "flex_flow": "column"
      }
     },
     "982792a1498f420e8eff79804de3aaa9": {
      "model_module": "@jupyter-widgets/controls",
      "model_module_version": "1.5.0",
      "model_name": "ButtonStyleModel",
      "state": {
       "button_color": "#4daf4a"
      }
     },
     "9aca557b13b3439892e8bd2ca888e80a": {
      "model_module": "@jupyter-widgets/controls",
      "model_module_version": "1.5.0",
      "model_name": "LinkModel",
      "state": {
       "source": [
        "IPY_MODEL_1fc300eae28b4871bb695e22b3de970b",
        "max"
       ],
       "target": [
        "IPY_MODEL_58af783275a64d31bad670876847a4d1",
        "max_frame"
       ]
      }
     },
     "9b73edff64ee4fb0927e578977698757": {
      "model_module": "@jupyter-widgets/controls",
      "model_module_version": "1.5.0",
      "model_name": "ButtonModel",
      "state": {
       "description": "A",
       "layout": "IPY_MODEL_860bf462e6d94667ab19c8c15d8d2857",
       "style": "IPY_MODEL_9c966ae1ff1f4d1a8c60a3ec696f9ef9"
      }
     },
     "9c966ae1ff1f4d1a8c60a3ec696f9ef9": {
      "model_module": "@jupyter-widgets/controls",
      "model_module_version": "1.5.0",
      "model_name": "ButtonStyleModel",
      "state": {
       "button_color": "#4daf4a"
      }
     },
     "a4ffbd100f9a440098ea404974c97f12": {
      "model_module": "@jupyter-widgets/base",
      "model_module_version": "1.2.0",
      "model_name": "LayoutModel",
      "state": {}
     },
     "a9e7a3808522423a99703674b5117382": {
      "model_module": "@jupyter-widgets/controls",
      "model_module_version": "1.5.0",
      "model_name": "DescriptionStyleModel",
      "state": {
       "description_width": ""
      }
     },
     "adc7a9cc3f3a4b3ebf5436f613381a2e": {
      "model_module": "@jupyter-widgets/controls",
      "model_module_version": "1.5.0",
      "model_name": "LinkModel",
      "state": {
       "source": [
        "IPY_MODEL_fdf0c26584e94018a7fc9296cf2b9b99",
        "value"
       ],
       "target": [
        "IPY_MODEL_b05e97dddcca44ecb97e9effd5254da1",
        "frame"
       ]
      }
     },
     "afd68ebf448a41aa8c53ffc7458ce823": {
      "model_module": "@jupyter-widgets/controls",
      "model_module_version": "1.5.0",
      "model_name": "SliderStyleModel",
      "state": {
       "description_width": ""
      }
     },
     "b05e97dddcca44ecb97e9effd5254da1": {
      "model_module": "nglview-js-widgets",
      "model_module_version": "3.0.1",
      "model_name": "NGLModel",
      "state": {
       "_camera_orientation": [
        13.774423100017485,
        4.727554602141529,
        0.8733036052522575,
        0,
        -4.655823035850577,
        13.778322834418292,
        -1.15251688528351,
        0,
        -1.19822517166826,
        0.80945092241023,
        14.517444991583854,
        0,
        -0.27699995040893555,
        -0.19600003957748413,
        0.018000006675720215,
        1
       ],
       "_camera_str": "orthographic",
       "_gui_theme": null,
       "_ibtn_fullscreen": "IPY_MODEL_11903b6aeae04f84b9730d92ce8eb4f1",
       "_igui": null,
       "_iplayer": "IPY_MODEL_5f4aa620451a46cea4750faa16c38a51",
       "_ngl_color_dict": {},
       "_ngl_coordinate_resource": {},
       "_ngl_full_stage_parameters": {
        "ambientColor": 14540253,
        "ambientIntensity": 0.2,
        "backgroundColor": "white",
        "cameraEyeSep": 0.3,
        "cameraFov": 40,
        "cameraType": "perspective",
        "clipDist": 10,
        "clipFar": 100,
        "clipNear": 0,
        "fogFar": 100,
        "fogNear": 50,
        "hoverTimeout": 0,
        "impostor": true,
        "lightColor": 14540253,
        "lightIntensity": 1,
        "mousePreset": "default",
        "panSpeed": 1,
        "quality": "medium",
        "rotateSpeed": 2,
        "sampleLevel": 0,
        "tooltip": true,
        "workerDefault": true,
        "zoomSpeed": 1.2
       },
       "_ngl_msg_archive": [
        {
         "args": [
          {
           "binary": false,
           "data": "HETATM    1  N1  UNL     1       4.374  -0.763   0.243  1.00  0.00           N  \nHETATM    2  C1  UNL     1       2.983  -0.556   0.186  1.00  0.00           C  \nHETATM    3  C2  UNL     1       2.104  -1.512   0.622  1.00  0.00           C  \nHETATM    4  N2  UNL     1       0.770  -1.310   0.566  1.00  0.00           N  \nHETATM    5  N3  UNL     1       0.241  -0.184   0.090  1.00  0.00           N  \nHETATM    6  C3  UNL     1      -1.153   0.034   0.028  1.00  0.00           C  \nHETATM    7  C4  UNL     1      -2.020  -0.926  -0.443  1.00  0.00           C  \nHETATM    8  C5  UNL     1      -3.390  -0.703  -0.500  1.00  0.00           C  \nHETATM    9  C6  UNL     1      -3.907   0.506  -0.076  1.00  0.00           C  \nHETATM   10  C7  UNL     1      -3.058   1.460   0.391  1.00  0.00           C  \nHETATM   11  C8  UNL     1      -1.696   1.224   0.441  1.00  0.00           C  \nHETATM   12  C9  UNL     1       1.088   0.754  -0.338  1.00  0.00           C  \nHETATM   13  O1  UNL     1       0.626   1.832  -0.794  1.00  0.00           O  \nHETATM   14  C10 UNL     1       2.457   0.618  -0.311  1.00  0.00           C  \nHETATM   15 CL1  UNL     1       3.501   1.892  -0.888  1.00  0.00          CL  \nCONECT    1    2\nCONECT    2    3   14   14\nCONECT    3    4    4\nCONECT    4    5\nCONECT    5    6   12\nCONECT    6    7    7   11\nCONECT    7    8\nCONECT    8    9    9\nCONECT    9   10\nCONECT   10   11   11\nCONECT   12   13   13   14\nCONECT   14   15\nEND\n",
           "type": "blob"
          }
         ],
         "kwargs": {
          "defaultRepresentation": true,
          "ext": "pdb"
         },
         "methodName": "loadFile",
         "reconstruc_color_scheme": false,
         "target": "Stage",
         "type": "call_method"
        },
        {
         "args": [],
         "component_index": 0,
         "kwargs": {},
         "methodName": "removeAllRepresentations",
         "reconstruc_color_scheme": false,
         "target": "compList",
         "type": "call_method"
        },
        {
         "args": [
          "ball+stick"
         ],
         "component_index": 0,
         "kwargs": {
          "multipleBond": true,
          "sele": "all"
         },
         "methodName": "addRepresentation",
         "reconstruc_color_scheme": false,
         "target": "compList",
         "type": "call_method"
        },
        {
         "args": [
          {
           "binary": false,
           "data": "HETATM    1  C1  UNL     1       4.503  -0.700   0.180  1.00  0.00           C  \nHETATM    2  C2  UNL     1       3.041  -0.531   0.155  1.00  0.00           C  \nHETATM    3  C3  UNL     1       2.160  -1.496   0.593  1.00  0.00           C  \nHETATM    4  C4  UNL     1       0.800  -1.280   0.545  1.00  0.00           C  \nHETATM    5  N1  UNL     1       0.266  -0.137   0.077  1.00  0.00           N  \nHETATM    6  C5  UNL     1      -1.142   0.086   0.028  1.00  0.00           C  \nHETATM    7  C6  UNL     1      -1.730   1.273   0.411  1.00  0.00           C  \nHETATM    8  C7  UNL     1      -3.096   1.468   0.355  1.00  0.00           C  \nHETATM    9  C8  UNL     1      -3.932   0.465  -0.093  1.00  0.00           C  \nHETATM   10  C9  UNL     1      -3.348  -0.725  -0.478  1.00  0.00           C  \nHETATM   11  C10 UNL     1      -1.976  -0.917  -0.420  1.00  0.00           C  \nHETATM   12  C11 UNL     1       1.125   0.805  -0.350  1.00  0.00           C  \nHETATM   13  O1  UNL     1       0.612   1.888  -0.793  1.00  0.00           O  \nHETATM   14  C12 UNL     1       2.492   0.638  -0.323  1.00  0.00           C  \nHETATM   15  F1  UNL     1       3.287   1.645  -0.776  1.00  0.00           F  \nCONECT    1    2\nCONECT    2    3   14   14\nCONECT    3    4    4\nCONECT    4    5\nCONECT    5    6   12\nCONECT    6    7    7   11\nCONECT    7    8\nCONECT    8    9    9\nCONECT    9   10\nCONECT   10   11   11\nCONECT   12   13   13   14\nCONECT   14   15\nEND\n",
           "type": "blob"
          }
         ],
         "kwargs": {
          "defaultRepresentation": true,
          "ext": "pdb"
         },
         "methodName": "loadFile",
         "reconstruc_color_scheme": false,
         "target": "Stage",
         "type": "call_method"
        },
        {
         "args": [],
         "component_index": 1,
         "kwargs": {},
         "methodName": "removeAllRepresentations",
         "reconstruc_color_scheme": false,
         "target": "compList",
         "type": "call_method"
        },
        {
         "args": [
          "ball+stick"
         ],
         "component_index": 1,
         "kwargs": {
          "multipleBond": true,
          "sele": "all"
         },
         "methodName": "addRepresentation",
         "reconstruc_color_scheme": false,
         "target": "compList",
         "type": "call_method"
        },
        {
         "args": [
          {
           "binary": false,
           "data": "HETATM    1  C1  UNL     1       4.436  -0.776   0.230  1.00  0.00           C  \nHETATM    2  C2  UNL     1       2.965  -0.579   0.186  1.00  0.00           C  \nHETATM    3  C3  UNL     1       2.062  -1.511   0.610  1.00  0.00           C  \nHETATM    4  N1  UNL     1       0.718  -1.279   0.548  1.00  0.00           N  \nHETATM    5  N2  UNL     1       0.230  -0.145   0.077  1.00  0.00           N  \nHETATM    6  C4  UNL     1      -1.181   0.046   0.034  1.00  0.00           C  \nHETATM    7  C5  UNL     1      -1.723   1.249   0.441  1.00  0.00           C  \nHETATM    8  C6  UNL     1      -3.088   1.408   0.391  1.00  0.00           C  \nHETATM    9  C7  UNL     1      -3.932   0.408  -0.052  1.00  0.00           C  \nHETATM   10  C8  UNL     1      -3.402  -0.797  -0.461  1.00  0.00           C  \nHETATM   11  C9  UNL     1      -2.036  -0.959  -0.412  1.00  0.00           C  \nHETATM   12  C10 UNL     1       1.095   0.793  -0.348  1.00  0.00           C  \nHETATM   13  O1  UNL     1       0.665   1.904  -0.812  1.00  0.00           O  \nHETATM   14  C11 UNL     1       2.462   0.613  -0.310  1.00  0.00           C  \nHETATM   15 CL1  UNL     1       3.544   1.863  -0.874  1.00  0.00          CL  \nCONECT    1    2\nCONECT    2    3   14   14\nCONECT    3    4    4\nCONECT    4    5\nCONECT    5    6   12\nCONECT    6    7    7   11\nCONECT    7    8\nCONECT    8    9    9\nCONECT    9   10\nCONECT   10   11   11\nCONECT   12   13   13   14\nCONECT   14   15\nEND\n",
           "type": "blob"
          }
         ],
         "kwargs": {
          "defaultRepresentation": true,
          "ext": "pdb"
         },
         "methodName": "loadFile",
         "reconstruc_color_scheme": false,
         "target": "Stage",
         "type": "call_method"
        },
        {
         "args": [],
         "component_index": 2,
         "kwargs": {},
         "methodName": "removeAllRepresentations",
         "reconstruc_color_scheme": false,
         "target": "compList",
         "type": "call_method"
        },
        {
         "args": [
          "ball+stick"
         ],
         "component_index": 2,
         "kwargs": {
          "multipleBond": true,
          "sele": "all"
         },
         "methodName": "addRepresentation",
         "reconstruc_color_scheme": false,
         "target": "compList",
         "type": "call_method"
        },
        {
         "args": [
          {
           "binary": false,
           "data": "HETATM    1  C1  UNL     1       4.481  -0.789   0.304  1.00  0.00           C  \nHETATM    2  C2  UNL     1       3.008  -0.545   0.247  1.00  0.00           C  \nHETATM    3  C3  UNL     1       2.101  -1.325   0.939  1.00  0.00           C  \nHETATM    4  N1  UNL     1       0.775  -1.091   0.877  1.00  0.00           N  \nHETATM    5  N2  UNL     1       0.236  -0.115   0.162  1.00  0.00           N  \nHETATM    6  C4  UNL     1      -1.179   0.099   0.123  1.00  0.00           C  \nHETATM    7  C5  UNL     1      -1.882   0.655   1.173  1.00  0.00           C  \nHETATM    8  C6  UNL     1      -3.266   0.835   1.063  1.00  0.00           C  \nHETATM    9  C7  UNL     1      -3.949   0.465  -0.080  1.00  0.00           C  \nHETATM   10  C8  UNL     1      -3.243  -0.093  -1.133  1.00  0.00           C  \nHETATM   11  C9  UNL     1      -1.893  -0.258  -1.003  1.00  0.00           C  \nHETATM   12  C10 UNL     1       1.098   0.661  -0.523  1.00  0.00           C  \nHETATM   13  O1  UNL     1       0.595   1.596  -1.209  1.00  0.00           O  \nHETATM   14  C11 UNL     1       2.467   0.478  -0.504  1.00  0.00           C  \nCONECT    1    2\nCONECT    2    3   14   14\nCONECT    3    4    4\nCONECT    4    5\nCONECT    5    6   12\nCONECT    6    7    7   11\nCONECT    7    8\nCONECT    8    9    9\nCONECT    9   10\nCONECT   10   11   11\nCONECT   12   13   13   14\nEND\n",
           "type": "blob"
          }
         ],
         "kwargs": {
          "defaultRepresentation": true,
          "ext": "pdb"
         },
         "methodName": "loadFile",
         "reconstruc_color_scheme": false,
         "target": "Stage",
         "type": "call_method"
        },
        {
         "args": [],
         "component_index": 3,
         "kwargs": {},
         "methodName": "removeAllRepresentations",
         "reconstruc_color_scheme": false,
         "target": "compList",
         "type": "call_method"
        },
        {
         "args": [
          "ball+stick"
         ],
         "component_index": 3,
         "kwargs": {
          "multipleBond": true,
          "sele": "all"
         },
         "methodName": "addRepresentation",
         "reconstruc_color_scheme": false,
         "target": "compList",
         "type": "call_method"
        },
        {
         "args": [
          "shape",
          [
           [
            "sphere",
            [
             0.7542705995296594,
             -1.2265609293272837,
             0.6634458749381626
            ],
            [
             0.30196078431372547,
             0.6862745098039216,
             0.2901960784313726,
             1
            ],
            0.4,
            "A_0"
           ]
          ]
         ],
         "fire_embed": true,
         "kwargs": {},
         "methodName": "addShape",
         "reconstruc_color_scheme": false,
         "target": "Widget",
         "type": "call_method"
        },
        {
         "args": [
          "shape",
          [
           [
            "sphere",
            [
             0.6244082027270462,
             1.8049171959038997,
             -0.9018101948745185
            ],
            [
             0.30196078431372547,
             0.6862745098039216,
             0.2901960784313726,
             1
            ],
            0.4,
            "A_1"
           ]
          ]
         ],
         "fire_embed": true,
         "kwargs": {},
         "methodName": "addShape",
         "reconstruc_color_scheme": false,
         "target": "Widget",
         "type": "call_method"
        },
        {
         "args": [
          "shape",
          [
           [
            "sphere",
            [
             1.6143325565748396,
             -0.34309376878920594,
             0.14464354258716008
            ],
            [
             1,
             1,
             0.2,
             1
            ],
            0.4,
            "H_2"
           ]
          ]
         ],
         "fire_embed": true,
         "kwargs": {},
         "methodName": "addShape",
         "reconstruc_color_scheme": false,
         "target": "Widget",
         "type": "call_method"
        },
        {
         "args": [
          "shape",
          [
           [
            "sphere",
            [
             -2.5509231346160903,
             0.2626425427868829,
             -0.011378094261484336
            ],
            [
             1,
             1,
             0.2,
             1
            ],
            0.4,
            "H_3"
           ]
          ]
         ],
         "fire_embed": true,
         "kwargs": {},
         "methodName": "addShape",
         "reconstruc_color_scheme": false,
         "target": "Widget",
         "type": "call_method"
        },
        {
         "args": [
          "shape",
          [
           [
            "sphere",
            [
             3.4442852582035663,
             1.800014261786619,
             -0.8461672669067933
            ],
            [
             1,
             1,
             0.2,
             1
            ],
            0.4,
            "H_4"
           ]
          ]
         ],
         "fire_embed": true,
         "kwargs": {},
         "methodName": "addShape",
         "reconstruc_color_scheme": false,
         "target": "Widget",
         "type": "call_method"
        },
        {
         "args": [
          "shape",
          [
           [
            "sphere",
            [
             4.473027362515441,
             -0.754834222263312,
             0.23772443297327636
            ],
            [
             1,
             1,
             0.2,
             1
            ],
            0.4,
            "H_5"
           ]
          ]
         ],
         "fire_embed": true,
         "kwargs": {},
         "methodName": "addShape",
         "reconstruc_color_scheme": false,
         "target": "Widget",
         "type": "call_method"
        },
        {
         "args": [
          "shape",
          [
           [
            "sphere",
            [
             1.6143325565748396,
             -0.34309376878920594,
             0.14464354258716008
            ],
            [
             0.8941176470588236,
             0.10196078431372549,
             0.10980392156862745,
             1
            ],
            0.4,
            "a_6"
           ]
          ]
         ],
         "fire_embed": true,
         "kwargs": {},
         "methodName": "addShape",
         "reconstruc_color_scheme": false,
         "target": "Widget",
         "type": "call_method"
        },
        {
         "args": [
          "shape",
          [
           [
            "sphere",
            [
             -2.5509231346160903,
             0.2626425427868829,
             -0.011378094261484336
            ],
            [
             0.8941176470588236,
             0.10196078431372549,
             0.10980392156862745,
             1
            ],
            0.4,
            "a_7"
           ]
          ]
         ],
         "fire_embed": true,
         "kwargs": {},
         "methodName": "addShape",
         "reconstruc_color_scheme": false,
         "target": "Widget",
         "type": "call_method"
        }
       ],
       "_ngl_original_stage_parameters": {
        "ambientColor": 14540253,
        "ambientIntensity": 0.2,
        "backgroundColor": "white",
        "cameraEyeSep": 0.3,
        "cameraFov": 40,
        "cameraType": "perspective",
        "clipDist": 10,
        "clipFar": 100,
        "clipNear": 0,
        "fogFar": 100,
        "fogNear": 50,
        "hoverTimeout": 0,
        "impostor": true,
        "lightColor": 14540253,
        "lightIntensity": 1,
        "mousePreset": "default",
        "panSpeed": 1,
        "quality": "medium",
        "rotateSpeed": 2,
        "sampleLevel": 0,
        "tooltip": true,
        "workerDefault": true,
        "zoomSpeed": 1.2
       },
       "_ngl_repr_dict": {
        "0": {
         "0": {
          "params": {
           "aspectRatio": 2,
           "assembly": "default",
           "bondScale": 0.4,
           "bondSpacing": 1,
           "clipCenter": {
            "x": 0,
            "y": 0,
            "z": 0
           },
           "clipNear": 0,
           "clipRadius": 0,
           "colorMode": "hcl",
           "colorReverse": false,
           "colorScale": "",
           "colorScheme": "element",
           "colorValue": 9474192,
           "cylinderOnly": false,
           "defaultAssembly": "",
           "depthWrite": true,
           "diffuse": 16777215,
           "diffuseInterior": false,
           "disableImpostor": false,
           "disablePicking": false,
           "flatShaded": false,
           "interiorColor": 2236962,
           "interiorDarkening": 0,
           "lazy": false,
           "lineOnly": false,
           "linewidth": 2,
           "matrix": {
            "elements": [
             1,
             0,
             0,
             0,
             0,
             1,
             0,
             0,
             0,
             0,
             1,
             0,
             0,
             0,
             0,
             1
            ]
           },
           "metalness": 0,
           "multipleBond": true,
           "opacity": 1,
           "openEnded": true,
           "quality": "medium",
           "radialSegments": 10,
           "radiusData": {},
           "radiusScale": 1,
           "radiusSize": 0.15,
           "radiusType": "size",
           "roughness": 0.4,
           "sele": "all",
           "side": "double",
           "sphereDetail": 1,
           "useInteriorColor": true,
           "visible": true,
           "wireframe": false
          },
          "type": "ball+stick"
         }
        },
        "1": {
         "0": {
          "params": {
           "aspectRatio": 2,
           "assembly": "default",
           "bondScale": 0.4,
           "bondSpacing": 1,
           "clipCenter": {
            "x": 0,
            "y": 0,
            "z": 0
           },
           "clipNear": 0,
           "clipRadius": 0,
           "colorMode": "hcl",
           "colorReverse": false,
           "colorScale": "",
           "colorScheme": "element",
           "colorValue": 9474192,
           "cylinderOnly": false,
           "defaultAssembly": "",
           "depthWrite": true,
           "diffuse": 16777215,
           "diffuseInterior": false,
           "disableImpostor": false,
           "disablePicking": false,
           "flatShaded": false,
           "interiorColor": 2236962,
           "interiorDarkening": 0,
           "lazy": false,
           "lineOnly": false,
           "linewidth": 2,
           "matrix": {
            "elements": [
             1,
             0,
             0,
             0,
             0,
             1,
             0,
             0,
             0,
             0,
             1,
             0,
             0,
             0,
             0,
             1
            ]
           },
           "metalness": 0,
           "multipleBond": true,
           "opacity": 1,
           "openEnded": true,
           "quality": "medium",
           "radialSegments": 10,
           "radiusData": {},
           "radiusScale": 1,
           "radiusSize": 0.15,
           "radiusType": "size",
           "roughness": 0.4,
           "sele": "all",
           "side": "double",
           "sphereDetail": 1,
           "useInteriorColor": true,
           "visible": true,
           "wireframe": false
          },
          "type": "ball+stick"
         }
        },
        "10": {
         "0": {
          "params": {
           "clipCenter": {
            "x": 0,
            "y": 0,
            "z": 0
           },
           "clipNear": 0,
           "clipRadius": 0,
           "colorReverse": false,
           "depthWrite": true,
           "diffuse": 16777215,
           "diffuseInterior": false,
           "disablePicking": false,
           "flatShaded": false,
           "interiorColor": 2236962,
           "interiorDarkening": 0,
           "lazy": false,
           "matrix": {
            "elements": [
             1,
             0,
             0,
             0,
             0,
             1,
             0,
             0,
             0,
             0,
             1,
             0,
             0,
             0,
             0,
             1
            ]
           },
           "metalness": 0,
           "opacity": 1,
           "quality": "medium",
           "roughness": 0.4,
           "side": "double",
           "useInteriorColor": false,
           "visible": true,
           "wireframe": false
          },
          "type": "buffer"
         }
        },
        "11": {
         "0": {
          "params": {
           "clipCenter": {
            "x": 0,
            "y": 0,
            "z": 0
           },
           "clipNear": 0,
           "clipRadius": 0,
           "colorReverse": false,
           "depthWrite": true,
           "diffuse": 16777215,
           "diffuseInterior": false,
           "disablePicking": false,
           "flatShaded": false,
           "interiorColor": 2236962,
           "interiorDarkening": 0,
           "lazy": false,
           "matrix": {
            "elements": [
             1,
             0,
             0,
             0,
             0,
             1,
             0,
             0,
             0,
             0,
             1,
             0,
             0,
             0,
             0,
             1
            ]
           },
           "metalness": 0,
           "opacity": 1,
           "quality": "medium",
           "roughness": 0.4,
           "side": "double",
           "useInteriorColor": false,
           "visible": true,
           "wireframe": false
          },
          "type": "buffer"
         }
        },
        "2": {
         "0": {
          "params": {
           "aspectRatio": 2,
           "assembly": "default",
           "bondScale": 0.4,
           "bondSpacing": 1,
           "clipCenter": {
            "x": 0,
            "y": 0,
            "z": 0
           },
           "clipNear": 0,
           "clipRadius": 0,
           "colorMode": "hcl",
           "colorReverse": false,
           "colorScale": "",
           "colorScheme": "element",
           "colorValue": 9474192,
           "cylinderOnly": false,
           "defaultAssembly": "",
           "depthWrite": true,
           "diffuse": 16777215,
           "diffuseInterior": false,
           "disableImpostor": false,
           "disablePicking": false,
           "flatShaded": false,
           "interiorColor": 2236962,
           "interiorDarkening": 0,
           "lazy": false,
           "lineOnly": false,
           "linewidth": 2,
           "matrix": {
            "elements": [
             1,
             0,
             0,
             0,
             0,
             1,
             0,
             0,
             0,
             0,
             1,
             0,
             0,
             0,
             0,
             1
            ]
           },
           "metalness": 0,
           "multipleBond": true,
           "opacity": 1,
           "openEnded": true,
           "quality": "medium",
           "radialSegments": 10,
           "radiusData": {},
           "radiusScale": 1,
           "radiusSize": 0.15,
           "radiusType": "size",
           "roughness": 0.4,
           "sele": "all",
           "side": "double",
           "sphereDetail": 1,
           "useInteriorColor": true,
           "visible": true,
           "wireframe": false
          },
          "type": "ball+stick"
         }
        },
        "3": {
         "0": {
          "params": {
           "aspectRatio": 2,
           "assembly": "default",
           "bondScale": 0.4,
           "bondSpacing": 1,
           "clipCenter": {
            "x": 0,
            "y": 0,
            "z": 0
           },
           "clipNear": 0,
           "clipRadius": 0,
           "colorMode": "hcl",
           "colorReverse": false,
           "colorScale": "",
           "colorScheme": "element",
           "colorValue": 9474192,
           "cylinderOnly": false,
           "defaultAssembly": "",
           "depthWrite": true,
           "diffuse": 16777215,
           "diffuseInterior": false,
           "disableImpostor": false,
           "disablePicking": false,
           "flatShaded": false,
           "interiorColor": 2236962,
           "interiorDarkening": 0,
           "lazy": false,
           "lineOnly": false,
           "linewidth": 2,
           "matrix": {
            "elements": [
             1,
             0,
             0,
             0,
             0,
             1,
             0,
             0,
             0,
             0,
             1,
             0,
             0,
             0,
             0,
             1
            ]
           },
           "metalness": 0,
           "multipleBond": true,
           "opacity": 1,
           "openEnded": true,
           "quality": "medium",
           "radialSegments": 10,
           "radiusData": {},
           "radiusScale": 1,
           "radiusSize": 0.15,
           "radiusType": "size",
           "roughness": 0.4,
           "sele": "all",
           "side": "double",
           "sphereDetail": 1,
           "useInteriorColor": true,
           "visible": true,
           "wireframe": false
          },
          "type": "ball+stick"
         }
        },
        "4": {
         "0": {
          "params": {
           "clipCenter": {
            "x": 0,
            "y": 0,
            "z": 0
           },
           "clipNear": 0,
           "clipRadius": 0,
           "colorReverse": false,
           "depthWrite": true,
           "diffuse": 16777215,
           "diffuseInterior": false,
           "disablePicking": false,
           "flatShaded": false,
           "interiorColor": 2236962,
           "interiorDarkening": 0,
           "lazy": false,
           "matrix": {
            "elements": [
             1,
             0,
             0,
             0,
             0,
             1,
             0,
             0,
             0,
             0,
             1,
             0,
             0,
             0,
             0,
             1
            ]
           },
           "metalness": 0,
           "opacity": 1,
           "quality": "medium",
           "roughness": 0.4,
           "side": "double",
           "useInteriorColor": false,
           "visible": true,
           "wireframe": false
          },
          "type": "buffer"
         }
        },
        "5": {
         "0": {
          "params": {
           "clipCenter": {
            "x": 0,
            "y": 0,
            "z": 0
           },
           "clipNear": 0,
           "clipRadius": 0,
           "colorReverse": false,
           "depthWrite": true,
           "diffuse": 16777215,
           "diffuseInterior": false,
           "disablePicking": false,
           "flatShaded": false,
           "interiorColor": 2236962,
           "interiorDarkening": 0,
           "lazy": false,
           "matrix": {
            "elements": [
             1,
             0,
             0,
             0,
             0,
             1,
             0,
             0,
             0,
             0,
             1,
             0,
             0,
             0,
             0,
             1
            ]
           },
           "metalness": 0,
           "opacity": 1,
           "quality": "medium",
           "roughness": 0.4,
           "side": "double",
           "useInteriorColor": false,
           "visible": true,
           "wireframe": false
          },
          "type": "buffer"
         }
        },
        "6": {
         "0": {
          "params": {
           "clipCenter": {
            "x": 0,
            "y": 0,
            "z": 0
           },
           "clipNear": 0,
           "clipRadius": 0,
           "colorReverse": false,
           "depthWrite": true,
           "diffuse": 16777215,
           "diffuseInterior": false,
           "disablePicking": false,
           "flatShaded": false,
           "interiorColor": 2236962,
           "interiorDarkening": 0,
           "lazy": false,
           "matrix": {
            "elements": [
             1,
             0,
             0,
             0,
             0,
             1,
             0,
             0,
             0,
             0,
             1,
             0,
             0,
             0,
             0,
             1
            ]
           },
           "metalness": 0,
           "opacity": 1,
           "quality": "medium",
           "roughness": 0.4,
           "side": "double",
           "useInteriorColor": false,
           "visible": true,
           "wireframe": false
          },
          "type": "buffer"
         }
        },
        "7": {
         "0": {
          "params": {
           "clipCenter": {
            "x": 0,
            "y": 0,
            "z": 0
           },
           "clipNear": 0,
           "clipRadius": 0,
           "colorReverse": false,
           "depthWrite": true,
           "diffuse": 16777215,
           "diffuseInterior": false,
           "disablePicking": false,
           "flatShaded": false,
           "interiorColor": 2236962,
           "interiorDarkening": 0,
           "lazy": false,
           "matrix": {
            "elements": [
             1,
             0,
             0,
             0,
             0,
             1,
             0,
             0,
             0,
             0,
             1,
             0,
             0,
             0,
             0,
             1
            ]
           },
           "metalness": 0,
           "opacity": 1,
           "quality": "medium",
           "roughness": 0.4,
           "side": "double",
           "useInteriorColor": false,
           "visible": true,
           "wireframe": false
          },
          "type": "buffer"
         }
        },
        "8": {
         "0": {
          "params": {
           "clipCenter": {
            "x": 0,
            "y": 0,
            "z": 0
           },
           "clipNear": 0,
           "clipRadius": 0,
           "colorReverse": false,
           "depthWrite": true,
           "diffuse": 16777215,
           "diffuseInterior": false,
           "disablePicking": false,
           "flatShaded": false,
           "interiorColor": 2236962,
           "interiorDarkening": 0,
           "lazy": false,
           "matrix": {
            "elements": [
             1,
             0,
             0,
             0,
             0,
             1,
             0,
             0,
             0,
             0,
             1,
             0,
             0,
             0,
             0,
             1
            ]
           },
           "metalness": 0,
           "opacity": 1,
           "quality": "medium",
           "roughness": 0.4,
           "side": "double",
           "useInteriorColor": false,
           "visible": true,
           "wireframe": false
          },
          "type": "buffer"
         }
        },
        "9": {
         "0": {
          "params": {
           "clipCenter": {
            "x": 0,
            "y": 0,
            "z": 0
           },
           "clipNear": 0,
           "clipRadius": 0,
           "colorReverse": false,
           "depthWrite": true,
           "diffuse": 16777215,
           "diffuseInterior": false,
           "disablePicking": false,
           "flatShaded": false,
           "interiorColor": 2236962,
           "interiorDarkening": 0,
           "lazy": false,
           "matrix": {
            "elements": [
             1,
             0,
             0,
             0,
             0,
             1,
             0,
             0,
             0,
             0,
             1,
             0,
             0,
             0,
             0,
             1
            ]
           },
           "metalness": 0,
           "opacity": 1,
           "quality": "medium",
           "roughness": 0.4,
           "side": "double",
           "useInteriorColor": false,
           "visible": true,
           "wireframe": false
          },
          "type": "buffer"
         }
        }
       },
       "_ngl_serialize": false,
       "_ngl_version": "2.0.0-dev.36",
       "_ngl_view_id": [
        "B17E56BD-8AF0-423B-A00D-664EAB77EB3E"
       ],
       "_player_dict": {},
       "_scene_position": {},
       "_scene_rotation": {},
       "_synced_model_ids": [],
       "_synced_repr_model_ids": [],
       "_view_height": "",
       "_view_width": "",
       "background": "white",
       "frame": 0,
       "gui_style": null,
       "layout": "IPY_MODEL_6799649bcb084d95bf64d709632a938c",
       "max_frame": 0,
       "n_components": 12,
       "picked": {}
      }
     },
     "b1291dae410b41f693e2bdf91e8c8bd2": {
      "model_module": "@jupyter-widgets/base",
      "model_module_version": "1.2.0",
      "model_name": "LayoutModel",
      "state": {}
     },
     "b216c97708c64d94ad99a14ba3c435d6": {
      "model_module": "@jupyter-widgets/base",
      "model_module_version": "1.2.0",
      "model_name": "LayoutModel",
      "state": {}
     },
     "b3bd4951eecd4849897348895029f20e": {
      "model_module": "@jupyter-widgets/controls",
      "model_module_version": "1.5.0",
      "model_name": "HBoxModel",
      "state": {
       "children": [
        "IPY_MODEL_b05e97dddcca44ecb97e9effd5254da1",
        "IPY_MODEL_79780f3ad1db49d88efafd4d62dbcf41"
       ],
       "layout": "IPY_MODEL_7a2a9b5aab4e415e9f3b2cd6482f7838"
      }
     },
     "b52c9023eaeb46a7883f76733c3ed1e7": {
      "model_module": "@jupyter-widgets/base",
      "model_module_version": "1.2.0",
      "model_name": "LayoutModel",
      "state": {}
     },
     "c08969bd996841558c407f33e7ea7f07": {
      "model_module": "@jupyter-widgets/controls",
      "model_module_version": "1.5.0",
      "model_name": "LinkModel",
      "state": {
       "source": [
        "IPY_MODEL_1fc300eae28b4871bb695e22b3de970b",
        "value"
       ],
       "target": [
        "IPY_MODEL_58af783275a64d31bad670876847a4d1",
        "frame"
       ]
      }
     },
     "c4e999c873714ea3b6f5c34ba93580db": {
      "model_module": "@jupyter-widgets/controls",
      "model_module_version": "1.5.0",
      "model_name": "ButtonStyleModel",
      "state": {
       "button_color": "#984ea3"
      }
     },
     "ca0a2c1af2774dcdb37e4448483c5f84": {
      "model_module": "@jupyter-widgets/controls",
      "model_module_version": "1.5.0",
      "model_name": "ButtonStyleModel",
      "state": {
       "button_color": "#e41a1c"
      }
     },
     "ca1ec1c2b6e8425bad8f5c8bd78c624f": {
      "model_module": "@jupyter-widgets/controls",
      "model_module_version": "1.5.0",
      "model_name": "HBoxModel",
      "state": {
       "children": [
        "IPY_MODEL_58af783275a64d31bad670876847a4d1",
        "IPY_MODEL_1b14656074c3455b92c93ef745eacf7d"
       ],
       "layout": "IPY_MODEL_6216d1d1b92641e5a3c772a5504231c3"
      }
     },
     "cbde3361d119425fa62f3ac40640d279": {
      "model_module": "@jupyter-widgets/base",
      "model_module_version": "1.2.0",
      "model_name": "LayoutModel",
      "state": {
       "width": "34px"
      }
     },
     "cda61077a89c42aea0cce74f28a5d819": {
      "model_module": "@jupyter-widgets/controls",
      "model_module_version": "1.5.0",
      "model_name": "ButtonModel",
      "state": {
       "description": "H",
       "layout": "IPY_MODEL_6231a61f7d94480190e41fb80d63c515",
       "style": "IPY_MODEL_34c1849a6a1149a0894b58b1ec7a593c"
      }
     },
     "d6c87fcc97204b41847d066b69c41b09": {
      "model_module": "@jupyter-widgets/base",
      "model_module_version": "1.2.0",
      "model_name": "LayoutModel",
      "state": {
       "align_content": "center",
       "border": "solid",
       "display": "flex",
       "flex_flow": "column"
      }
     },
     "d895a40fc9b6441994a10cb5694a80b5": {
      "model_module": "@jupyter-widgets/controls",
      "model_module_version": "1.5.0",
      "model_name": "IntSliderModel",
      "state": {
       "layout": "IPY_MODEL_b52c9023eaeb46a7883f76733c3ed1e7",
       "max": 0,
       "style": "IPY_MODEL_8f0410daaccb45a895cea75d6453c70e"
      }
     },
     "e3f3adf33b1e4ec9b85167691c84aabe": {
      "model_module": "@jupyter-widgets/controls",
      "model_module_version": "1.5.0",
      "model_name": "ButtonStyleModel",
      "state": {
       "button_color": "#984ea3"
      }
     },
     "e8e4e9c62d0f42a09078b757ea337e95": {
      "model_module": "@jupyter-widgets/controls",
      "model_module_version": "1.5.0",
      "model_name": "ButtonStyleModel",
      "state": {
       "button_color": "#ff7f00"
      }
     },
     "f5b4362b55d14cf4a3f4c668964bb244": {
      "model_module": "@jupyter-widgets/controls",
      "model_module_version": "1.5.0",
      "model_name": "ButtonStyleModel",
      "state": {
       "button_color": "#ffff33"
      }
     },
     "f9573f598b9f4247a764b44c0dc88937": {
      "model_module": "@jupyter-widgets/base",
      "model_module_version": "1.2.0",
      "model_name": "LayoutModel",
      "state": {}
     },
     "f9e3b969c78f495cb58b3553be95d427": {
      "model_module": "@jupyter-widgets/controls",
      "model_module_version": "1.5.0",
      "model_name": "DescriptionStyleModel",
      "state": {
       "description_width": ""
      }
     },
     "fdf0c26584e94018a7fc9296cf2b9b99": {
      "model_module": "@jupyter-widgets/controls",
      "model_module_version": "1.5.0",
      "model_name": "PlayModel",
      "state": {
       "layout": "IPY_MODEL_b1291dae410b41f693e2bdf91e8c8bd2",
       "max": 0,
       "style": "IPY_MODEL_a9e7a3808522423a99703674b5117382"
      }
     }
    },
    "version_major": 2,
    "version_minor": 0
   }
  }
 },
 "nbformat": 4,
 "nbformat_minor": 5
}
