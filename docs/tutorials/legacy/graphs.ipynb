{
 "cells": [
  {
   "cell_type": "code",
   "execution_count": 1,
   "metadata": {},
   "outputs": [],
   "source": [
    "%load_ext autoreload\n",
    "%autoreload 2"
   ]
  },
  {
   "cell_type": "markdown",
   "metadata": {},
   "source": [
    "## Graph transformers\n",
    "\n",
    "Graph featurizers in `molfeat` are organized into pure tensor-based featurizers and  `dgl` backed graphs, both inheriting from `molfeat.trans.graph.GraphTransformer`.\n",
    "\n",
    "Similar to molecular descriptors and fingerprints, there is a notion of the **atom and bond featurizers** which you can define to build you own custom graph featurizers. \n",
    "\n",
    "Some of the dgl featurizers are deeply integrated into the `dgl` and `dgllife` API allowing you to directly use your custom featurizers with them."
   ]
  },
  {
   "cell_type": "markdown",
   "metadata": {},
   "source": [
    "----\n",
    "### AtomCalculator\n",
    "\n",
    "Here we give an example of an atom featurizer. We will also build some custom properties to show how you can build you own.\n",
    "\n",
    "Each atom featurizer takes as input an atom (assuming information on its environment are maintained) and returns its properties.\n",
    "\n",
    "By default, two atom calculators are available."
   ]
  },
  {
   "cell_type": "code",
   "execution_count": 2,
   "metadata": {},
   "outputs": [
    {
     "output_type": "stream",
     "name": "stderr",
     "text": [
      "Using backend: pytorch\n"
     ]
    }
   ],
   "source": [
    "import datamol as dm\n",
    "from loguru import logger\n",
    "from molfeat.calc.atom import AtomCalculator\n",
    "from molfeat.calc.atom import AtomMaterialCalculator"
   ]
  },
  {
   "cell_type": "markdown",
   "metadata": {},
   "source": [
    "For each of the featurizer, you have the option to concatenate them or keep them as a collection. More than often you will want to concatenate them, explaining the default behaviour. The major addition is thus from `molfeat.calc._atom_bond_features.atom_extended_properties`."
   ]
  },
  {
   "cell_type": "code",
   "execution_count": 3,
   "metadata": {},
   "outputs": [],
   "source": [
    "# do not concatenate ac\n",
    "ac = AtomCalculator(concat=False)\n",
    "# concatenate amc and set the merged feature name as 'material' instead of the default\n",
    "amc = AtomMaterialCalculator(name=\"material\")"
   ]
  },
  {
   "cell_type": "markdown",
   "metadata": {},
   "source": [
    "`AtomMaterialCalculator` is mainly just a wrapper around the AtomCalculator that defines new atom featurizers, including precomputed atomic properties collected from material science packages.\n"
   ]
  },
  {
   "cell_type": "code",
   "execution_count": 4,
   "metadata": {},
   "outputs": [],
   "source": [
    "data = dm.data.freesolv()"
   ]
  },
  {
   "cell_type": "code",
   "execution_count": 5,
   "metadata": {},
   "outputs": [
    {
     "output_type": "stream",
     "name": "stdout",
     "text": [
      "82\n",
      "169\n"
     ]
    }
   ],
   "source": [
    "# len will always return the sum of all featurization\n",
    "print(len(ac))\n",
    "print(len(amc))"
   ]
  },
  {
   "cell_type": "code",
   "execution_count": 6,
   "metadata": {},
   "outputs": [
    {
     "output_type": "stream",
     "name": "stdout",
     "text": [
      "43\n"
     ]
    }
   ],
   "source": [
    "# you can still access to specific feature length\n",
    "print(ac.feat_size(\"atom_one_hot\"))"
   ]
  },
  {
   "cell_type": "code",
   "execution_count": 7,
   "metadata": {},
   "outputs": [
    {
     "output_type": "execute_result",
     "data": {
      "text/plain": [
       "{'atom_one_hot': array([[1., 0., 0., 0., 0., 0., 0., 0., 0., 0., 0., 0., 0., 0., 0., 0.,\n",
       "         0., 0., 0., 0., 0., 0., 0., 0., 0., 0., 0., 0., 0., 0., 0., 0.,\n",
       "         0., 0., 0., 0., 0., 0., 0., 0., 0., 0., 0.],\n",
       "        [0., 1., 0., 0., 0., 0., 0., 0., 0., 0., 0., 0., 0., 0., 0., 0.,\n",
       "         0., 0., 0., 0., 0., 0., 0., 0., 0., 0., 0., 0., 0., 0., 0., 0.,\n",
       "         0., 0., 0., 0., 0., 0., 0., 0., 0., 0., 0.],\n",
       "        [1., 0., 0., 0., 0., 0., 0., 0., 0., 0., 0., 0., 0., 0., 0., 0.,\n",
       "         0., 0., 0., 0., 0., 0., 0., 0., 0., 0., 0., 0., 0., 0., 0., 0.,\n",
       "         0., 0., 0., 0., 0., 0., 0., 0., 0., 0., 0.],\n",
       "        [1., 0., 0., 0., 0., 0., 0., 0., 0., 0., 0., 0., 0., 0., 0., 0.,\n",
       "         0., 0., 0., 0., 0., 0., 0., 0., 0., 0., 0., 0., 0., 0., 0., 0.,\n",
       "         0., 0., 0., 0., 0., 0., 0., 0., 0., 0., 0.],\n",
       "        [0., 0., 1., 0., 0., 0., 0., 0., 0., 0., 0., 0., 0., 0., 0., 0.,\n",
       "         0., 0., 0., 0., 0., 0., 0., 0., 0., 0., 0., 0., 0., 0., 0., 0.,\n",
       "         0., 0., 0., 0., 0., 0., 0., 0., 0., 0., 0.],\n",
       "        [1., 0., 0., 0., 0., 0., 0., 0., 0., 0., 0., 0., 0., 0., 0., 0.,\n",
       "         0., 0., 0., 0., 0., 0., 0., 0., 0., 0., 0., 0., 0., 0., 0., 0.,\n",
       "         0., 0., 0., 0., 0., 0., 0., 0., 0., 0., 0.],\n",
       "        [1., 0., 0., 0., 0., 0., 0., 0., 0., 0., 0., 0., 0., 0., 0., 0.,\n",
       "         0., 0., 0., 0., 0., 0., 0., 0., 0., 0., 0., 0., 0., 0., 0., 0.,\n",
       "         0., 0., 0., 0., 0., 0., 0., 0., 0., 0., 0.],\n",
       "        [1., 0., 0., 0., 0., 0., 0., 0., 0., 0., 0., 0., 0., 0., 0., 0.,\n",
       "         0., 0., 0., 0., 0., 0., 0., 0., 0., 0., 0., 0., 0., 0., 0., 0.,\n",
       "         0., 0., 0., 0., 0., 0., 0., 0., 0., 0., 0.],\n",
       "        [1., 0., 0., 0., 0., 0., 0., 0., 0., 0., 0., 0., 0., 0., 0., 0.,\n",
       "         0., 0., 0., 0., 0., 0., 0., 0., 0., 0., 0., 0., 0., 0., 0., 0.,\n",
       "         0., 0., 0., 0., 0., 0., 0., 0., 0., 0., 0.],\n",
       "        [1., 0., 0., 0., 0., 0., 0., 0., 0., 0., 0., 0., 0., 0., 0., 0.,\n",
       "         0., 0., 0., 0., 0., 0., 0., 0., 0., 0., 0., 0., 0., 0., 0., 0.,\n",
       "         0., 0., 0., 0., 0., 0., 0., 0., 0., 0., 0.],\n",
       "        [1., 0., 0., 0., 0., 0., 0., 0., 0., 0., 0., 0., 0., 0., 0., 0.,\n",
       "         0., 0., 0., 0., 0., 0., 0., 0., 0., 0., 0., 0., 0., 0., 0., 0.,\n",
       "         0., 0., 0., 0., 0., 0., 0., 0., 0., 0., 0.],\n",
       "        [0., 0., 1., 0., 0., 0., 0., 0., 0., 0., 0., 0., 0., 0., 0., 0.,\n",
       "         0., 0., 0., 0., 0., 0., 0., 0., 0., 0., 0., 0., 0., 0., 0., 0.,\n",
       "         0., 0., 0., 0., 0., 0., 0., 0., 0., 0., 0.],\n",
       "        [1., 0., 0., 0., 0., 0., 0., 0., 0., 0., 0., 0., 0., 0., 0., 0.,\n",
       "         0., 0., 0., 0., 0., 0., 0., 0., 0., 0., 0., 0., 0., 0., 0., 0.,\n",
       "         0., 0., 0., 0., 0., 0., 0., 0., 0., 0., 0.]], dtype=float32),\n",
       " 'atom_degree_one_hot': array([[0., 1., 0., 0., 0., 0., 0., 0., 0., 0., 0.],\n",
       "        [0., 0., 0., 1., 0., 0., 0., 0., 0., 0., 0.],\n",
       "        [0., 1., 0., 0., 0., 0., 0., 0., 0., 0., 0.],\n",
       "        [0., 0., 0., 1., 0., 0., 0., 0., 0., 0., 0.],\n",
       "        [0., 1., 0., 0., 0., 0., 0., 0., 0., 0., 0.],\n",
       "        [0., 0., 0., 1., 0., 0., 0., 0., 0., 0., 0.],\n",
       "        [0., 0., 1., 0., 0., 0., 0., 0., 0., 0., 0.],\n",
       "        [0., 0., 1., 0., 0., 0., 0., 0., 0., 0., 0.],\n",
       "        [0., 0., 0., 1., 0., 0., 0., 0., 0., 0., 0.],\n",
       "        [0., 0., 1., 0., 0., 0., 0., 0., 0., 0., 0.],\n",
       "        [0., 0., 1., 0., 0., 0., 0., 0., 0., 0., 0.],\n",
       "        [0., 0., 1., 0., 0., 0., 0., 0., 0., 0., 0.],\n",
       "        [0., 1., 0., 0., 0., 0., 0., 0., 0., 0., 0.]], dtype=float32),\n",
       " 'atom_implicit_valence_one_hot': array([[0., 0., 0., 1., 0., 0., 0.],\n",
       "        [1., 0., 0., 0., 0., 0., 0.],\n",
       "        [0., 0., 0., 1., 0., 0., 0.],\n",
       "        [1., 0., 0., 0., 0., 0., 0.],\n",
       "        [1., 0., 0., 0., 0., 0., 0.],\n",
       "        [1., 0., 0., 0., 0., 0., 0.],\n",
       "        [0., 1., 0., 0., 0., 0., 0.],\n",
       "        [0., 1., 0., 0., 0., 0., 0.],\n",
       "        [1., 0., 0., 0., 0., 0., 0.],\n",
       "        [0., 1., 0., 0., 0., 0., 0.],\n",
       "        [0., 1., 0., 0., 0., 0., 0.],\n",
       "        [1., 0., 0., 0., 0., 0., 0.],\n",
       "        [0., 0., 0., 1., 0., 0., 0.]], dtype=float32),\n",
       " 'atom_hybridization_one_hot': array([[0., 0., 0., 1., 0., 0., 0.],\n",
       "        [0., 0., 0., 0., 1., 0., 0.],\n",
       "        [0., 0., 0., 1., 0., 0., 0.],\n",
       "        [0., 0., 0., 0., 1., 0., 0.],\n",
       "        [0., 0., 0., 0., 1., 0., 0.],\n",
       "        [0., 0., 0., 0., 1., 0., 0.],\n",
       "        [0., 0., 0., 0., 1., 0., 0.],\n",
       "        [0., 0., 0., 0., 1., 0., 0.],\n",
       "        [0., 0., 0., 0., 1., 0., 0.],\n",
       "        [0., 0., 0., 0., 1., 0., 0.],\n",
       "        [0., 0., 0., 0., 1., 0., 0.],\n",
       "        [0., 0., 0., 0., 1., 0., 0.],\n",
       "        [0., 0., 0., 1., 0., 0., 0.]], dtype=float32),\n",
       " 'atom_is_aromatic': array([[0.],\n",
       "        [0.],\n",
       "        [0.],\n",
       "        [0.],\n",
       "        [0.],\n",
       "        [1.],\n",
       "        [1.],\n",
       "        [1.],\n",
       "        [1.],\n",
       "        [1.],\n",
       "        [1.],\n",
       "        [0.],\n",
       "        [0.]], dtype=float32),\n",
       " 'atom_formal_charge': array([[0.],\n",
       "        [0.],\n",
       "        [0.],\n",
       "        [0.],\n",
       "        [0.],\n",
       "        [0.],\n",
       "        [0.],\n",
       "        [0.],\n",
       "        [0.],\n",
       "        [0.],\n",
       "        [0.],\n",
       "        [0.],\n",
       "        [0.]], dtype=float32),\n",
       " 'atom_num_radical_electrons': array([[0.],\n",
       "        [0.],\n",
       "        [0.],\n",
       "        [0.],\n",
       "        [0.],\n",
       "        [0.],\n",
       "        [0.],\n",
       "        [0.],\n",
       "        [0.],\n",
       "        [0.],\n",
       "        [0.],\n",
       "        [0.],\n",
       "        [0.]], dtype=float32),\n",
       " 'atom_is_in_ring': array([[0.],\n",
       "        [0.],\n",
       "        [0.],\n",
       "        [0.],\n",
       "        [0.],\n",
       "        [1.],\n",
       "        [1.],\n",
       "        [1.],\n",
       "        [1.],\n",
       "        [1.],\n",
       "        [1.],\n",
       "        [0.],\n",
       "        [0.]], dtype=float32),\n",
       " 'atom_total_num_H_one_hot': array([[0., 0., 0., 1., 0.],\n",
       "        [1., 0., 0., 0., 0.],\n",
       "        [0., 0., 0., 1., 0.],\n",
       "        [1., 0., 0., 0., 0.],\n",
       "        [1., 0., 0., 0., 0.],\n",
       "        [1., 0., 0., 0., 0.],\n",
       "        [0., 1., 0., 0., 0.],\n",
       "        [0., 1., 0., 0., 0.],\n",
       "        [1., 0., 0., 0., 0.],\n",
       "        [0., 1., 0., 0., 0.],\n",
       "        [0., 1., 0., 0., 0.],\n",
       "        [1., 0., 0., 0., 0.],\n",
       "        [0., 0., 0., 1., 0.]], dtype=float32),\n",
       " 'atom_chiral_tag_one_hot': array([[1., 0., 0., 0.],\n",
       "        [1., 0., 0., 0.],\n",
       "        [1., 0., 0., 0.],\n",
       "        [1., 0., 0., 0.],\n",
       "        [1., 0., 0., 0.],\n",
       "        [1., 0., 0., 0.],\n",
       "        [1., 0., 0., 0.],\n",
       "        [1., 0., 0., 0.],\n",
       "        [1., 0., 0., 0.],\n",
       "        [1., 0., 0., 0.],\n",
       "        [1., 0., 0., 0.],\n",
       "        [1., 0., 0., 0.],\n",
       "        [1., 0., 0., 0.]], dtype=float32),\n",
       " 'atom_is_chiral_center': array([[0.],\n",
       "        [0.],\n",
       "        [0.],\n",
       "        [0.],\n",
       "        [0.],\n",
       "        [0.],\n",
       "        [0.],\n",
       "        [0.],\n",
       "        [0.],\n",
       "        [0.],\n",
       "        [0.],\n",
       "        [0.],\n",
       "        [0.]], dtype=float32)}"
      ]
     },
     "metadata": {},
     "execution_count": 7
    }
   ],
   "source": [
    "ac(data.smiles[0])"
   ]
  },
  {
   "cell_type": "code",
   "execution_count": 8,
   "metadata": {},
   "outputs": [
    {
     "output_type": "execute_result",
     "data": {
      "text/plain": [
       "{'material': array([[1., 0., 0., ..., 0., 0., 0.],\n",
       "        [1., 0., 0., ..., 0., 0., 0.],\n",
       "        [1., 0., 0., ..., 0., 0., 0.],\n",
       "        ...,\n",
       "        [1., 0., 0., ..., 0., 0., 0.],\n",
       "        [1., 0., 0., ..., 0., 0., 0.],\n",
       "        [1., 0., 0., ..., 0., 0., 0.]], dtype=float32)}"
      ]
     },
     "metadata": {},
     "execution_count": 8
    }
   ],
   "source": [
    "amc(data.smiles[0])"
   ]
  },
  {
   "cell_type": "markdown",
   "metadata": {},
   "source": [
    "**Defining some custom functions**"
   ]
  },
  {
   "cell_type": "code",
   "execution_count": 9,
   "metadata": {},
   "outputs": [
    {
     "output_type": "stream",
     "name": "stdout",
     "text": [
      "My atom feat is 83 , while default is  82\n"
     ]
    }
   ],
   "source": [
    "def is_transition_metal(\n",
    "    atom,\n",
    "):\n",
    "    \"\"\"Check whether an atom is a transition metal\"\"\"\n",
    "    n = atom.GetAtomicNum()\n",
    "    # we need to return an array\n",
    "    return [(n >= 22 and n <= 29) or (n >= 40 and n <= 47) or (n >= 72 and n <= 79)]\n",
    "\n",
    "\n",
    "my_feats = AtomCalculator.DEFAULT_FEATURIZER.copy()\n",
    "my_feats[\"is_transition_metal\"] = is_transition_metal\n",
    "my_ac = AtomCalculator(featurizer_funcs=my_feats, name=\"custom_feat\")\n",
    "print(\"My atom feat is\", len(my_ac), \", while default is \", len(ac))"
   ]
  },
  {
   "cell_type": "code",
   "execution_count": 10,
   "metadata": {},
   "outputs": [
    {
     "output_type": "execute_result",
     "data": {
      "text/plain": [
       "{'custom_feat': array([[1., 0., 0., 0., 0., 0., 1., 0., 0., 0., 0., 0., 0., 0., 0., 0.,\n",
       "         0., 0., 0., 1., 0., 0., 0., 0., 0., 1., 0., 0., 0., 0., 0., 0.,\n",
       "         1., 0., 1., 0., 0., 0., 0., 0., 0., 0., 0., 0., 0., 0., 0., 0.,\n",
       "         0., 0., 0., 0., 0., 0., 0., 0., 0., 0., 0., 0., 0., 0., 0., 0.,\n",
       "         0., 0., 0., 0., 0., 0., 0., 0., 0., 0., 0., 0., 0., 0., 0., 1.,\n",
       "         0., 0., 0.],\n",
       "        [1., 0., 0., 0., 0., 0., 1., 0., 0., 0., 0., 0., 0., 0., 0., 0.,\n",
       "         0., 0., 0., 1., 0., 0., 0., 0., 0., 1., 0., 0., 0., 0., 0., 0.,\n",
       "         1., 0., 1., 0., 0., 0., 0., 0., 0., 0., 0., 0., 0., 0., 0., 0.,\n",
       "         0., 0., 0., 0., 0., 0., 0., 0., 0., 0., 0., 0., 0., 0., 0., 0.,\n",
       "         0., 0., 0., 0., 0., 0., 0., 0., 0., 0., 0., 0., 0., 0., 0., 1.,\n",
       "         0., 0., 0.],\n",
       "        [1., 0., 0., 0., 0., 0., 1., 0., 0., 0., 0., 0., 0., 0., 0., 0.,\n",
       "         0., 0., 0., 1., 0., 0., 0., 1., 0., 0., 0., 0., 0., 0., 0., 0.,\n",
       "         1., 0., 0., 0., 1., 0., 0., 0., 0., 0., 0., 0., 0., 0., 0., 0.,\n",
       "         0., 0., 0., 0., 0., 0., 0., 0., 0., 0., 0., 0., 0., 0., 0., 0.,\n",
       "         0., 0., 0., 0., 0., 0., 0., 0., 0., 0., 0., 0., 0., 1., 0., 0.,\n",
       "         0., 0., 0.],\n",
       "        [1., 0., 0., 0., 0., 0., 1., 0., 0., 0., 0., 0., 0., 0., 0., 0.,\n",
       "         0., 0., 0., 1., 0., 0., 0., 0., 0., 1., 0., 0., 0., 0., 0., 0.,\n",
       "         1., 0., 1., 0., 0., 0., 0., 0., 0., 0., 0., 0., 0., 0., 0., 0.,\n",
       "         0., 0., 0., 0., 0., 0., 0., 0., 0., 0., 0., 0., 0., 0., 0., 0.,\n",
       "         0., 0., 0., 0., 0., 0., 0., 0., 0., 0., 0., 0., 0., 0., 0., 1.,\n",
       "         0., 0., 0.],\n",
       "        [1., 0., 0., 0., 0., 0., 1., 0., 0., 0., 0., 0., 0., 0., 0., 0.,\n",
       "         0., 0., 0., 1., 0., 0., 0., 0., 0., 1., 0., 0., 0., 0., 0., 0.,\n",
       "         1., 0., 1., 0., 0., 0., 0., 0., 0., 0., 0., 0., 0., 0., 0., 0.,\n",
       "         0., 0., 0., 0., 0., 0., 0., 0., 0., 0., 0., 0., 0., 0., 0., 0.,\n",
       "         0., 0., 0., 0., 0., 0., 0., 0., 0., 0., 0., 0., 0., 0., 0., 1.,\n",
       "         0., 0., 0.],\n",
       "        [1., 0., 0., 0., 0., 0., 1., 0., 0., 0., 0., 0., 0., 0., 0., 0.,\n",
       "         0., 0., 0., 1., 0., 0., 0., 1., 0., 0., 0., 0., 0., 0., 0., 0.,\n",
       "         1., 0., 0., 0., 1., 0., 0., 0., 0., 0., 0., 0., 0., 0., 0., 0.,\n",
       "         0., 0., 0., 0., 0., 0., 0., 0., 0., 0., 0., 0., 0., 0., 0., 0.,\n",
       "         0., 0., 0., 0., 0., 0., 0., 0., 0., 0., 0., 0., 0., 1., 0., 0.,\n",
       "         0., 0., 0.]], dtype=float32)}"
      ]
     },
     "metadata": {},
     "execution_count": 10
    }
   ],
   "source": [
    "my_ac(data.smiles.values[-1])"
   ]
  },
  {
   "cell_type": "markdown",
   "metadata": {},
   "source": [
    "By default the input molecule is not ordered in any specific way, so if you want some canonical atom ranking, you would need to take care of that. This is handles by the `GraphTransformer` classes for you."
   ]
  },
  {
   "cell_type": "markdown",
   "metadata": {},
   "source": [
    "-----\n",
    "### BondCalculator\n",
    "\n",
    "Bond featurizer are similar in principle to the atom featurizers. They featurize bonds in a molecule. In `molfeat` we make the distinction between:\n",
    "\n",
    "- `BondCalculator`: a pure bond featurizer that will only featurize bonds in the molecules (we assume a bigraph)\n",
    "- `EdgeMatCalculator`: an edge featurizer that returns features between **all pairs of atoms**. For example you might want to define some distance based properties between pair of atoms."
   ]
  },
  {
   "cell_type": "code",
   "execution_count": 11,
   "metadata": {},
   "outputs": [],
   "source": [
    "from molfeat.calc.bond import BondCalculator"
   ]
  },
  {
   "cell_type": "code",
   "execution_count": 12,
   "metadata": {},
   "outputs": [
    {
     "output_type": "stream",
     "name": "stdout",
     "text": [
      "{'he': array([[1, 0, 0, 0, 0, 1, 0, 0, 0, 0, 0, 1, 0, 0, 0],\n",
      "       [1, 0, 0, 0, 0, 1, 0, 0, 0, 0, 0, 1, 0, 0, 0],\n",
      "       [1, 0, 0, 0, 0, 1, 0, 0, 0, 0, 0, 1, 0, 0, 0],\n",
      "       [1, 0, 0, 0, 0, 1, 0, 0, 0, 0, 0, 1, 0, 0, 0],\n",
      "       [1, 0, 0, 1, 0, 1, 0, 0, 0, 0, 0, 1, 0, 0, 0],\n",
      "       [1, 0, 0, 1, 0, 1, 0, 0, 0, 0, 0, 1, 0, 0, 0],\n",
      "       [1, 0, 0, 1, 0, 1, 0, 0, 0, 0, 0, 0, 1, 0, 0],\n",
      "       [1, 0, 0, 1, 0, 1, 0, 0, 0, 0, 0, 0, 1, 0, 0],\n",
      "       [1, 0, 0, 1, 0, 1, 0, 0, 0, 0, 0, 1, 0, 0, 0],\n",
      "       [1, 0, 0, 1, 0, 1, 0, 0, 0, 0, 0, 1, 0, 0, 0],\n",
      "       [1, 0, 0, 1, 1, 1, 0, 0, 0, 0, 0, 0, 0, 0, 1],\n",
      "       [1, 0, 0, 1, 1, 1, 0, 0, 0, 0, 0, 0, 0, 0, 1],\n",
      "       [1, 0, 0, 1, 1, 1, 0, 0, 0, 0, 0, 0, 0, 0, 1],\n",
      "       [1, 0, 0, 1, 1, 1, 0, 0, 0, 0, 0, 0, 0, 0, 1],\n",
      "       [1, 0, 0, 1, 1, 1, 0, 0, 0, 0, 0, 0, 0, 0, 1],\n",
      "       [1, 0, 0, 1, 1, 1, 0, 0, 0, 0, 0, 0, 0, 0, 1],\n",
      "       [1, 0, 0, 1, 1, 1, 0, 0, 0, 0, 0, 0, 0, 0, 1],\n",
      "       [1, 0, 0, 1, 1, 1, 0, 0, 0, 0, 0, 0, 0, 0, 1],\n",
      "       [1, 0, 0, 1, 1, 1, 0, 0, 0, 0, 0, 0, 0, 0, 1],\n",
      "       [1, 0, 0, 1, 1, 1, 0, 0, 0, 0, 0, 0, 0, 0, 1],\n",
      "       [1, 0, 0, 1, 0, 1, 0, 0, 0, 0, 0, 1, 0, 0, 0],\n",
      "       [1, 0, 0, 1, 0, 1, 0, 0, 0, 0, 0, 1, 0, 0, 0],\n",
      "       [1, 0, 0, 0, 0, 1, 0, 0, 0, 0, 0, 1, 0, 0, 0],\n",
      "       [1, 0, 0, 0, 0, 1, 0, 0, 0, 0, 0, 1, 0, 0, 0],\n",
      "       [1, 0, 0, 1, 1, 1, 0, 0, 0, 0, 0, 0, 0, 0, 1],\n",
      "       [1, 0, 0, 1, 1, 1, 0, 0, 0, 0, 0, 0, 0, 0, 1]])}\n",
      "Length 15 Featurized Mol size (26, 15)\n"
     ]
    }
   ],
   "source": [
    "bc = BondCalculator(self_loop=False)\n",
    "out = bc(data.smiles[0])\n",
    "print(out)\n",
    "print(\"Length\", len(bc), \"Featurized Mol size\", out[\"he\"].shape)"
   ]
  },
  {
   "cell_type": "code",
   "execution_count": 13,
   "metadata": {},
   "outputs": [
    {
     "output_type": "execute_result",
     "data": {
      "text/plain": [
       "<rdkit.Chem.rdchem.Mol at 0x7fd83895b710>"
      ],
      "image/png": "[encoded data removed]"
     },
     "metadata": {},
     "execution_count": 13
    }
   ],
   "source": [
    "from rdkit.Chem.Draw import IPythonConsole\n",
    "\n",
    "IPythonConsole.drawOptions.addBondIndices = True\n",
    "mol = dm.to_mol(data.smiles[0])\n",
    "mol"
   ]
  },
  {
   "cell_type": "markdown",
   "metadata": {},
   "source": [
    "The above molecule has 13 bonds, explaining why we have 26 edges (bi-graph for each bond direction). \n",
    "\n",
    "In the example bellow, we have 39 edges features, because of adding self loops (as many as the 13 atoms). Then the concatenated features have one more columns that labels whether the edge is a self-loop or not."
   ]
  },
  {
   "cell_type": "code",
   "execution_count": 14,
   "metadata": {},
   "outputs": [
    {
     "output_type": "stream",
     "name": "stdout",
     "text": [
      "{'he': array([[1., 0., 0., 0., 0., 1., 0., 0., 0., 0., 0., 1., 0., 0., 0., 0.],\n",
      "       [1., 0., 0., 0., 0., 1., 0., 0., 0., 0., 0., 1., 0., 0., 0., 0.],\n",
      "       [1., 0., 0., 0., 0., 1., 0., 0., 0., 0., 0., 1., 0., 0., 0., 0.],\n",
      "       [1., 0., 0., 0., 0., 1., 0., 0., 0., 0., 0., 1., 0., 0., 0., 0.],\n",
      "       [1., 0., 0., 1., 0., 1., 0., 0., 0., 0., 0., 1., 0., 0., 0., 0.],\n",
      "       [1., 0., 0., 1., 0., 1., 0., 0., 0., 0., 0., 1., 0., 0., 0., 0.],\n",
      "       [1., 0., 0., 1., 0., 1., 0., 0., 0., 0., 0., 0., 1., 0., 0., 0.],\n",
      "       [1., 0., 0., 1., 0., 1., 0., 0., 0., 0., 0., 0., 1., 0., 0., 0.],\n",
      "       [1., 0., 0., 1., 0., 1., 0., 0., 0., 0., 0., 1., 0., 0., 0., 0.],\n",
      "       [1., 0., 0., 1., 0., 1., 0., 0., 0., 0., 0., 1., 0., 0., 0., 0.],\n",
      "       [1., 0., 0., 1., 1., 1., 0., 0., 0., 0., 0., 0., 0., 0., 1., 0.],\n",
      "       [1., 0., 0., 1., 1., 1., 0., 0., 0., 0., 0., 0., 0., 0., 1., 0.],\n",
      "       [1., 0., 0., 1., 1., 1., 0., 0., 0., 0., 0., 0., 0., 0., 1., 0.],\n",
      "       [1., 0., 0., 1., 1., 1., 0., 0., 0., 0., 0., 0., 0., 0., 1., 0.],\n",
      "       [1., 0., 0., 1., 1., 1., 0., 0., 0., 0., 0., 0., 0., 0., 1., 0.],\n",
      "       [1., 0., 0., 1., 1., 1., 0., 0., 0., 0., 0., 0., 0., 0., 1., 0.],\n",
      "       [1., 0., 0., 1., 1., 1., 0., 0., 0., 0., 0., 0., 0., 0., 1., 0.],\n",
      "       [1., 0., 0., 1., 1., 1., 0., 0., 0., 0., 0., 0., 0., 0., 1., 0.],\n",
      "       [1., 0., 0., 1., 1., 1., 0., 0., 0., 0., 0., 0., 0., 0., 1., 0.],\n",
      "       [1., 0., 0., 1., 1., 1., 0., 0., 0., 0., 0., 0., 0., 0., 1., 0.],\n",
      "       [1., 0., 0., 1., 0., 1., 0., 0., 0., 0., 0., 1., 0., 0., 0., 0.],\n",
      "       [1., 0., 0., 1., 0., 1., 0., 0., 0., 0., 0., 1., 0., 0., 0., 0.],\n",
      "       [1., 0., 0., 0., 0., 1., 0., 0., 0., 0., 0., 1., 0., 0., 0., 0.],\n",
      "       [1., 0., 0., 0., 0., 1., 0., 0., 0., 0., 0., 1., 0., 0., 0., 0.],\n",
      "       [1., 0., 0., 1., 1., 1., 0., 0., 0., 0., 0., 0., 0., 0., 1., 0.],\n",
      "       [1., 0., 0., 1., 1., 1., 0., 0., 0., 0., 0., 0., 0., 0., 1., 0.],\n",
      "       [0., 0., 0., 0., 0., 0., 0., 0., 0., 0., 0., 0., 0., 0., 0., 1.],\n",
      "       [0., 0., 0., 0., 0., 0., 0., 0., 0., 0., 0., 0., 0., 0., 0., 1.],\n",
      "       [0., 0., 0., 0., 0., 0., 0., 0., 0., 0., 0., 0., 0., 0., 0., 1.],\n",
      "       [0., 0., 0., 0., 0., 0., 0., 0., 0., 0., 0., 0., 0., 0., 0., 1.],\n",
      "       [0., 0., 0., 0., 0., 0., 0., 0., 0., 0., 0., 0., 0., 0., 0., 1.],\n",
      "       [0., 0., 0., 0., 0., 0., 0., 0., 0., 0., 0., 0., 0., 0., 0., 1.],\n",
      "       [0., 0., 0., 0., 0., 0., 0., 0., 0., 0., 0., 0., 0., 0., 0., 1.],\n",
      "       [0., 0., 0., 0., 0., 0., 0., 0., 0., 0., 0., 0., 0., 0., 0., 1.],\n",
      "       [0., 0., 0., 0., 0., 0., 0., 0., 0., 0., 0., 0., 0., 0., 0., 1.],\n",
      "       [0., 0., 0., 0., 0., 0., 0., 0., 0., 0., 0., 0., 0., 0., 0., 1.],\n",
      "       [0., 0., 0., 0., 0., 0., 0., 0., 0., 0., 0., 0., 0., 0., 0., 1.],\n",
      "       [0., 0., 0., 0., 0., 0., 0., 0., 0., 0., 0., 0., 0., 0., 0., 1.],\n",
      "       [0., 0., 0., 0., 0., 0., 0., 0., 0., 0., 0., 0., 0., 0., 0., 1.]])}\n",
      "Length 16 Featurized Mol size (39, 16)\n"
     ]
    }
   ],
   "source": [
    "bc2 = BondCalculator(self_loop=True)\n",
    "out2 = bc2(data.smiles[0])\n",
    "print(out2)\n",
    "print(\"Length\", len(bc2), \"Featurized Mol size\", out2[\"he\"].shape)"
   ]
  },
  {
   "cell_type": "markdown",
   "metadata": {},
   "source": [
    "----\n",
    "In the following, we will give an overview of the **EdgeMatCalculator**. This edge featurizer defines the same bond featurizer but has an additional pairwise distance function. \n",
    "\n",
    "**Due to its nature, all features need to be concatenated by default with this featurizer !**"
   ]
  },
  {
   "cell_type": "code",
   "execution_count": 15,
   "metadata": {},
   "outputs": [],
   "source": [
    "from molfeat.calc.bond import EdgeMatCalculator"
   ]
  },
  {
   "cell_type": "code",
   "execution_count": 16,
   "metadata": {},
   "outputs": [
    {
     "output_type": "stream",
     "name": "stdout",
     "text": [
      "{'pairwise_2D_dist': <function pairwise_2D_dist at 0x7fd83920a560>, 'pairwise_ring_membership': <function pairwise_ring_membership at 0x7fd83920a710>}\n"
     ]
    }
   ],
   "source": [
    "edge_feat = EdgeMatCalculator()\n",
    "print(edge_feat.pairwise_atom_funcs)"
   ]
  },
  {
   "cell_type": "code",
   "execution_count": 17,
   "metadata": {},
   "outputs": [
    {
     "output_type": "execute_result",
     "data": {
      "text/plain": [
       "(169, 17)"
      ]
     },
     "metadata": {},
     "execution_count": 17
    }
   ],
   "source": [
    "edge_feat(data.smiles[0])[\"he\"].shape"
   ]
  },
  {
   "cell_type": "markdown",
   "metadata": {},
   "source": [
    "Let's replace the pairwise 2D distance by a 3D distance"
   ]
  },
  {
   "cell_type": "code",
   "execution_count": 18,
   "metadata": {},
   "outputs": [
    {
     "output_type": "execute_result",
     "data": {
      "text/plain": [
       "17"
      ]
     },
     "metadata": {},
     "execution_count": 18
    }
   ],
   "source": [
    "from molfeat.calc._atom_bond_features import pairwise_3D_dist\n",
    "\n",
    "my_edge_feat = dict(\n",
    "    pairwise_ring_membership=edge_feat.pairwise_atom_funcs[\"pairwise_ring_membership\"],\n",
    "    pairwise_3D_dist=pairwise_3D_dist,\n",
    ")\n",
    "new_edge_feat = EdgeMatCalculator(pairwise_atom_funcs=my_edge_feat)\n",
    "len(new_edge_feat)"
   ]
  },
  {
   "cell_type": "code",
   "execution_count": 19,
   "metadata": {},
   "outputs": [
    {
     "output_type": "stream",
     "name": "stderr",
     "text": [
      "2021-07-16 17:23:59.835 | ERROR    | __main__:<module>:5 - Expected a molecule with conformers information.\n"
     ]
    }
   ],
   "source": [
    "# Expect this to fail\n",
    "try:\n",
    "    new_edge_feat(dm.to_mol(data.smiles[0]))\n",
    "except ValueError as e:\n",
    "    logger.error(e)"
   ]
  },
  {
   "cell_type": "code",
   "execution_count": 20,
   "metadata": {},
   "outputs": [],
   "source": [
    "mol = dm.to_mol(data.smiles[0])\n",
    "mol = dm.conformers.generate(mol)"
   ]
  },
  {
   "cell_type": "markdown",
   "metadata": {},
   "source": [
    "Let's ask for a tensor and also instead of a $({N_{atoms}}^2, Feats)$ features, let ask for a $(N_{atoms}, N_{atoms}, Feats)$ matrix\n"
   ]
  },
  {
   "cell_type": "code",
   "execution_count": 21,
   "metadata": {},
   "outputs": [
    {
     "output_type": "execute_result",
     "data": {
      "text/plain": [
       "torch.Size([13, 13, 17])"
      ]
     },
     "metadata": {},
     "execution_count": 21
    }
   ],
   "source": [
    "import torch\n",
    "\n",
    "new_edge_feat(mol, dtype=torch.float, flat=False)[\"he\"].shape"
   ]
  },
  {
   "cell_type": "markdown",
   "metadata": {},
   "source": [
    "---\n",
    "### Putting all together with the Graph transformers\n",
    "With the ability to define our own node and edge featurizers, we can defined any graph featurizer of interest. Strong defaults are made available in `molfeat`.\n",
    "\n",
    "\n",
    "- `AdjGraphTransformer`:  adjacency tensor features that returns adjacency matrix as well as atom features and bond features when defined\n",
    "\n",
    "\n",
    "- `CompleteGraphTransformer`:  featurizer that returns a complete graph (with or without self loops) matrix as well as atom features and bond features when defined\n",
    "\n",
    "\n",
    "- `TopoDistGraphTransformer`:  topological distance based features that returns the pairwise path length matrix as graph matrix as well as atom features and bond features when defined.\n",
    "\n",
    "\n",
    "- `DistGraphTransformer3D`:  real 3D distance-based features that returns the pairwise 3D distance matrix as graph matrix as well as atom features and bond features when defined. This featurizer requires molecules with conformers. Either precompute them, or use the appropriate callback function (`ConformerCallback`)\n",
    "\n",
    "\n",
    "- `DGLGraphTransformer`: graph featurizer that returns a dgl graph. It's atom and bond featurizers are all compatible with the internal `dgllife` featurizer, however the class is made generic enough to work without `dgllife` allowing custom extension. "
   ]
  },
  {
   "cell_type": "markdown",
   "metadata": {},
   "source": [
    "**Important**: the tensor-based featurizers only supports the EdgeMatCalculator featurizer an no BondCalculator for quite obvious reasons."
   ]
  },
  {
   "cell_type": "code",
   "execution_count": 22,
   "metadata": {},
   "outputs": [],
   "source": [
    "from molfeat.trans.graph import AdjGraphTransformer\n",
    "from molfeat.trans.graph import DistGraphTransformer3D\n",
    "from molfeat.trans.graph import DGLGraphTransformer"
   ]
  },
  {
   "cell_type": "code",
   "execution_count": 23,
   "metadata": {},
   "outputs": [],
   "source": [
    "# atom featurizer when not provided will fallback to the default\n",
    "adj_trans = AdjGraphTransformer(\n",
    "    atom_featurizer=AtomMaterialCalculator(),\n",
    "    bond_featurizer=EdgeMatCalculator(),\n",
    "    explicit_hydrogens=True,\n",
    "    self_loop=True,\n",
    "    canonical_atom_order=True,\n",
    "    dtype=torch.float,\n",
    ")"
   ]
  },
  {
   "cell_type": "code",
   "execution_count": 24,
   "metadata": {},
   "outputs": [
    {
     "output_type": "stream",
     "name": "stdout",
     "text": [
      "Atom dim: 169 \n",
      "Bond dim: 17\n"
     ]
    }
   ],
   "source": [
    "print(\"Atom dim:\", adj_trans.atom_dim, \"\\nBond dim:\", adj_trans.bond_dim)"
   ]
  },
  {
   "cell_type": "code",
   "execution_count": 25,
   "metadata": {},
   "outputs": [
    {
     "output_type": "stream",
     "name": "stderr",
     "text": [
      "/Users/manu/.miniconda/envs/molfeat/lib/python3.7/site-packages/numpy/core/_asarray.py:102: FutureWarning: The input object of type 'Tensor' is an array-like implementing one of the corresponding protocols (`__array__`, `__array_interface__` or `__array_struct__`); but not a sequence (or 0-D). In the future, this object will be coerced as if it was first converted using `np.array(obj)`. To retain the old behaviour, you have to either modify the type 'Tensor', or assign to an empty array created with `np.empty(correct_shape, dtype=object)`.\n",
      "  return array(a, dtype, copy=False, order=order)\n",
      "/Users/manu/.miniconda/envs/molfeat/lib/python3.7/site-packages/numpy/core/_asarray.py:102: VisibleDeprecationWarning: Creating an ndarray from ragged nested sequences (which is a list-or-tuple of lists-or-tuples-or ndarrays with different lengths or shapes) is deprecated. If you meant to do this, you must specify 'dtype=object' when creating the ndarray.\n",
      "  return array(a, dtype, copy=False, order=order)\n",
      "Graph: torch.Size([13, 13]) \n",
      "AtomFeat: torch.Size([13, 169]) \n",
      "BondFeat: torch.Size([13, 13, 17])\n"
     ]
    }
   ],
   "source": [
    "features, ids = adj_trans(data.smiles[:10], ignore_errors=True)\n",
    "graph, atom_x, bond_x = features[0]\n",
    "print(\"Graph:\", graph.shape, \"\\nAtomFeat:\", atom_x.shape, \"\\nBondFeat:\", bond_x.shape)"
   ]
  },
  {
   "cell_type": "code",
   "execution_count": 26,
   "metadata": {},
   "outputs": [],
   "source": [
    "# atom featurizer when not provided will fallback to the default\n",
    "# if a bond featurizer is not provided, none will be used\n",
    "from molfeat.utils.callbacks import ConformerCallback\n",
    "\n",
    "dist_trans = DistGraphTransformer3D(\n",
    "    explicit_hydrogens=False,\n",
    "    canonical_atom_order=True,\n",
    "    dtype=torch.float,\n",
    "    callbacks=ConformerCallback(verbose=False),\n",
    ")"
   ]
  },
  {
   "cell_type": "code",
   "execution_count": 27,
   "metadata": {},
   "outputs": [
    {
     "output_type": "stream",
     "name": "stdout",
     "text": [
      "Atom dim: 82 \n",
      "Bond dim: 0\n"
     ]
    }
   ],
   "source": [
    "print(\"Atom dim:\", dist_trans.atom_dim, \"\\nBond dim:\", dist_trans.bond_dim)"
   ]
  },
  {
   "cell_type": "code",
   "execution_count": 28,
   "metadata": {},
   "outputs": [
    {
     "output_type": "stream",
     "name": "stdout",
     "text": [
      "Graph: torch.Size([13, 13]) \n",
      "AtomFeat: torch.Size([13, 82])\n"
     ]
    }
   ],
   "source": [
    "# we don't have bond feature here\n",
    "features, ids = dist_trans(data.smiles[:10], ignore_errors=True)\n",
    "graph, atom_x = features[0]\n",
    "print(\"Graph:\", graph.shape, \"\\nAtomFeat:\", atom_x.shape)"
   ]
  },
  {
   "cell_type": "code",
   "execution_count": 29,
   "metadata": {},
   "outputs": [
    {
     "output_type": "execute_result",
     "data": {
      "text/plain": [
       "tensor([[0.0000, 1.4630, 2.5259, 2.5053, 2.8658, 3.8022, 4.9971, 6.2226, 6.4984,\n",
       "         5.6259, 4.2298, 7.8803, 8.5878],\n",
       "        [1.4630, 0.0000, 1.4651, 1.4408, 2.3328, 2.5534, 3.7730, 4.9470, 5.2164,\n",
       "         4.4104, 3.0339, 6.5963, 7.3484],\n",
       "        [2.5259, 1.4651, 0.0000, 2.5349, 3.5949, 3.0956, 4.2685, 5.2236, 5.2866,\n",
       "         4.3933, 3.1974, 6.5679, 7.1769],\n",
       "        [2.5053, 1.4408, 2.5349, 0.0000, 1.2615, 1.4819, 2.5019, 3.7874, 4.3030,\n",
       "         3.7940, 2.5106, 5.7050, 6.6431],\n",
       "        [2.8658, 2.3328, 3.5949, 1.2615, 0.0000, 2.3665, 2.8667, 4.2408, 5.0286,\n",
       "         4.7543, 3.5823, 6.3956, 7.4611],\n",
       "        [3.8022, 2.5534, 3.0956, 1.4819, 2.3665, 0.0000, 1.4045, 2.4322, 2.8212,\n",
       "         2.4335, 1.4050, 4.2233, 5.1855],\n",
       "        [4.9971, 3.7730, 4.2685, 2.5019, 2.8667, 1.4045, 0.0000, 1.3978, 2.4292,\n",
       "         2.7960, 2.4210, 3.6951, 4.9264],\n",
       "        [6.2226, 4.9470, 5.2236, 3.7874, 4.2408, 2.4322, 1.3978, 0.0000, 1.3990,\n",
       "         2.4200, 2.7943, 2.4065, 3.7465],\n",
       "        [6.4984, 5.2164, 5.2866, 4.3030, 5.0286, 2.8212, 2.4292, 1.3990, 0.0000,\n",
       "         1.4074, 2.4333, 1.4028, 2.5000],\n",
       "        [5.6259, 4.4104, 4.3933, 3.7940, 4.7543, 2.4335, 2.7960, 2.4200, 1.4074,\n",
       "         0.0000, 1.3981, 2.4633, 2.9619],\n",
       "        [4.2298, 3.0339, 3.1974, 2.5106, 3.5823, 1.4050, 2.4210, 2.7943, 2.4333,\n",
       "         1.3981, 0.0000, 3.7320, 4.3591],\n",
       "        [7.8803, 6.5963, 6.5679, 5.7050, 6.3956, 4.2233, 3.6951, 2.4065, 1.4028,\n",
       "         2.4633, 3.7320, 0.0000, 1.4239],\n",
       "        [8.5878, 7.3484, 7.1769, 6.6431, 7.4611, 5.1855, 4.9264, 3.7465, 2.5000,\n",
       "         2.9619, 4.3591, 1.4239, 0.0000]])"
      ]
     },
     "metadata": {},
     "execution_count": 29
    }
   ],
   "source": [
    "graph"
   ]
  },
  {
   "cell_type": "markdown",
   "metadata": {},
   "source": [
    "Let's show a last example with the DGLfeaturizer. One using the default featurizer and another using some `dgllife` featurizers"
   ]
  },
  {
   "cell_type": "code",
   "execution_count": 30,
   "metadata": {},
   "outputs": [],
   "source": [
    "# we need the bond featurizer to include self_loop if the featurizer is supposed too\n",
    "dgl_trans = DGLGraphTransformer(\n",
    "    self_loop=True,\n",
    "    bond_featurizer=BondCalculator(self_loop=True),\n",
    "    canonical_atom_order=True,\n",
    "    dtype=torch.float,\n",
    ")"
   ]
  },
  {
   "cell_type": "code",
   "execution_count": 31,
   "metadata": {},
   "outputs": [
    {
     "output_type": "stream",
     "name": "stdout",
     "text": [
      "Atom dim: 82 \n",
      "Bond dim: 16\n"
     ]
    }
   ],
   "source": [
    "print(\"Atom dim:\", dgl_trans.atom_dim, \"\\nBond dim:\", dgl_trans.bond_dim)"
   ]
  },
  {
   "cell_type": "code",
   "execution_count": 33,
   "metadata": {},
   "outputs": [
    {
     "output_type": "stream",
     "name": "stderr",
     "text": [
      "/Users/manu/.miniconda/envs/molfeat/lib/python3.7/site-packages/dgl/base.py:45: DGLWarning: DGLGraph.__len__ is deprecated.Please directly call DGLGraph.number_of_nodes.\n  return warnings.warn(message, category=category, stacklevel=1)\n"
     ]
    },
    {
     "output_type": "execute_result",
     "data": {
      "text/plain": [
       "Graph(num_nodes=13, num_edges=39,\n",
       "      ndata_schemes={'hv': Scheme(shape=(82,), dtype=torch.float32)}\n",
       "      edata_schemes={'he': Scheme(shape=(16,), dtype=torch.float32)})"
      ]
     },
     "metadata": {},
     "execution_count": 33
    }
   ],
   "source": [
    "# we don't have bond feature here\n",
    "features, ids = dgl_trans(data.smiles[:10], ignore_errors=True)\n",
    "features[0]"
   ]
  },
  {
   "cell_type": "code",
   "execution_count": 34,
   "metadata": {},
   "outputs": [],
   "source": [
    "# let's use some dgllife featurizer"
   ]
  },
  {
   "cell_type": "code",
   "execution_count": 35,
   "metadata": {},
   "outputs": [],
   "source": [
    "from dgllife.utils.featurizers import WeaveEdgeFeaturizer\n",
    "from dgllife.utils.featurizers import WeaveAtomFeaturizer"
   ]
  },
  {
   "cell_type": "code",
   "execution_count": 36,
   "metadata": {},
   "outputs": [],
   "source": [
    "# here we set complete graph to True, which requires compatibility from the atom and bond featurizer\n",
    "dgl_trans = DGLGraphTransformer(\n",
    "    self_loop=True,\n",
    "    atom_featurizer=WeaveAtomFeaturizer(),\n",
    "    bond_featurizer=WeaveEdgeFeaturizer(),\n",
    "    canonical_atom_order=True,\n",
    "    complete_graph=True,\n",
    "    verbose=True,\n",
    "    dtype=torch.float,\n",
    ")"
   ]
  },
  {
   "cell_type": "code",
   "execution_count": 37,
   "metadata": {},
   "outputs": [
    {
     "output_type": "stream",
     "name": "stdout",
     "text": [
      "Atom dim: 27 \n",
      "Bond dim: 12\n"
     ]
    }
   ],
   "source": [
    "print(\"Atom dim:\", dgl_trans.atom_dim, \"\\nBond dim:\", dgl_trans.bond_dim)"
   ]
  },
  {
   "cell_type": "code",
   "execution_count": 40,
   "metadata": {},
   "outputs": [
    {
     "output_type": "stream",
     "name": "stderr",
     "text": [
      "/Users/manu/.miniconda/envs/molfeat/lib/python3.7/site-packages/dgl/base.py:45: DGLWarning: DGLGraph.__len__ is deprecated.Please directly call DGLGraph.number_of_nodes.\n  return warnings.warn(message, category=category, stacklevel=1)\n"
     ]
    }
   ],
   "source": [
    "features, ids = dgl_trans(data.smiles[:10], ignore_errors=True)"
   ]
  },
  {
   "cell_type": "code",
   "execution_count": 41,
   "metadata": {},
   "outputs": [
    {
     "output_type": "execute_result",
     "data": {
      "text/plain": [
       "Graph(num_nodes=13, num_edges=169,\n",
       "      ndata_schemes={'h': Scheme(shape=(27,), dtype=torch.float32)}\n",
       "      edata_schemes={'e': Scheme(shape=(12,), dtype=torch.float32)})"
      ]
     },
     "metadata": {},
     "execution_count": 41
    }
   ],
   "source": [
    "features[0]"
   ]
  },
  {
   "cell_type": "markdown",
   "metadata": {},
   "source": [
    "## Tree Calculator\n",
    "The tree calculator is pretty straightforward and only a dgl datatype is supported"
   ]
  },
  {
   "cell_type": "code",
   "execution_count": 42,
   "metadata": {},
   "outputs": [],
   "source": [
    "from molfeat.trans.graph import MolTreeDecompositionTransformer"
   ]
  },
  {
   "cell_type": "code",
   "execution_count": 43,
   "metadata": {},
   "outputs": [],
   "source": [
    "# we start with an unknown vocab that will be built on fit\n",
    "tree_trans = MolTreeDecompositionTransformer()"
   ]
  },
  {
   "cell_type": "code",
   "execution_count": 44,
   "metadata": {},
   "outputs": [
    {
     "output_type": "stream",
     "name": "stderr",
     "text": [
      "2021-07-16 17:24:33.477 | DEBUG    | molfeat.calc.tree:get_vocab:195 - A vocab of 101 elements has been generated\n"
     ]
    },
    {
     "output_type": "execute_result",
     "data": {
      "text/plain": [
       "MolTreeDecompositionTransformer(featurizer=<molfeat.calc.tree.TreeDecomposer object at 0x7fd8316d24d0>,\n",
       "                                n_jobs=1, verbose=True)"
      ]
     },
     "metadata": {},
     "execution_count": 44
    }
   ],
   "source": [
    "tree_trans.fit(data.smiles)"
   ]
  },
  {
   "cell_type": "code",
   "execution_count": 47,
   "metadata": {},
   "outputs": [
    {
     "output_type": "execute_result",
     "data": {
      "text/plain": [
       "Graph(num_nodes=10, num_edges=18,\n",
       "      ndata_schemes={'hv': Scheme(shape=(), dtype=torch.int64)}\n",
       "      edata_schemes={})"
      ]
     },
     "metadata": {},
     "execution_count": 47
    }
   ],
   "source": [
    "features, ids = tree_trans(data.smiles[:10], ignore_errors=True)\n",
    "features[0]"
   ]
  }
 ],
 "metadata": {
  "kernelspec": {
   "name": "python3",
   "display_name": "Python 3.7.10 64-bit (conda)"
  },
  "language_info": {
   "codemirror_mode": {
    "name": "ipython",
    "version": 3
   },
   "file_extension": ".py",
   "mimetype": "text/x-python",
   "name": "python",
   "nbconvert_exporter": "python",
   "pygments_lexer": "ipython3",
   "version": "3.7.10"
  },
  "interpreter": {
   "hash": "4c96cf3fad8b1d12df3e2b8c5ffc5fe9bd56815b225365ae05bb8eb0616dbb51"
  }
 },
 "nbformat": 4,
 "nbformat_minor": 4
}