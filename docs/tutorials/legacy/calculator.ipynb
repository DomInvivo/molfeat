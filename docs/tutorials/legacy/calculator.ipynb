{
 "cells": [
  {
   "cell_type": "code",
   "execution_count": 1,
   "metadata": {},
   "outputs": [],
   "source": [
    "%load_ext autoreload\n",
    "%autoreload 2"
   ]
  },
  {
   "cell_type": "markdown",
   "metadata": {},
   "source": [
    "### Setup"
   ]
  },
  {
   "cell_type": "code",
   "execution_count": 2,
   "metadata": {},
   "outputs": [],
   "source": [
    "import datamol as dm\n",
    "import random\n",
    "import numpy as np\n",
    "from loguru import logger\n",
    "\n",
    "# set printing option\n",
    "np.set_printoptions(threshold=10)\n",
    "\n",
    "# set random list\n",
    "np.random.seed(10)\n",
    "random.seed(10)\n",
    "\n",
    "\n",
    "def check_value_error(fn, mol):\n",
    "    value_error = False\n",
    "    try:\n",
    "        fn(mol)\n",
    "    except ValueError as e:\n",
    "        logger.error(e)\n",
    "        value_error = True\n",
    "    finally:\n",
    "        if not value_error:\n",
    "            raise AssertionError(\"Error not raised\")\n",
    "    return value_error\n",
    "\n",
    "\n",
    "#### 2D Pharmacophores\n",
    "\n",
    "data = dm.data.freesolv().sample(500).smiles.values\n",
    "mol2d = data[83]\n",
    "mol3d = dm.conformers.generate(dm.to_mol(mol2d))"
   ]
  },
  {
   "cell_type": "markdown",
   "metadata": {},
   "source": [
    "### Dealing the calc module of `molfeat`"
   ]
  },
  {
   "cell_type": "code",
   "execution_count": 3,
   "metadata": {},
   "outputs": [
    {
     "name": "stderr",
     "output_type": "stream",
     "text": [
      "Using backend: pytorch\n"
     ]
    }
   ],
   "source": [
    "from molfeat.calc import get_calculator\n",
    "from molfeat.calc import CATS2D\n",
    "from molfeat.calc import CATS3D\n",
    "from molfeat.calc import RDKitDescriptors2D\n",
    "from molfeat.calc import RDKitDescriptors3D\n",
    "from molfeat.calc import MordredDescriptors\n",
    "from molfeat.calc import FPCalculator\n",
    "from molfeat.calc import Pharmacophore\n",
    "from molfeat.calc import PMapper3D\n",
    "from molfeat.calc import ScaffoldKeyCalculator"
   ]
  },
  {
   "cell_type": "markdown",
   "metadata": {},
   "source": [
    "#### CATS Descriptors"
   ]
  },
  {
   "cell_type": "code",
   "execution_count": 4,
   "metadata": {},
   "outputs": [],
   "source": [
    "cats_calc = CATS2D(scale=\"num\", max_dist=5, bins=[0, 3, 5, 7])"
   ]
  },
  {
   "cell_type": "code",
   "execution_count": 5,
   "metadata": {},
   "outputs": [
    {
     "name": "stdout",
     "output_type": "stream",
     "text": [
      "63\n"
     ]
    },
    {
     "data": {
      "text/plain": [
       "array([0., 0., 0., ..., 0., 0., 0.])"
      ]
     },
     "execution_count": 5,
     "metadata": {},
     "output_type": "execute_result"
    }
   ],
   "source": [
    "print(len(cats_calc))\n",
    "cats_calc(mol2d)"
   ]
  },
  {
   "cell_type": "code",
   "execution_count": 6,
   "metadata": {},
   "outputs": [],
   "source": [
    "cats3d_calc = CATS3D(scale=\"num\", max_dist=5, bins=[0, 3, 5, 7])"
   ]
  },
  {
   "cell_type": "code",
   "execution_count": 7,
   "metadata": {},
   "outputs": [
    {
     "name": "stderr",
     "output_type": "stream",
     "text": [
      "2021-07-16 17:54:05.911 | ERROR    | __main__:check_value_error:18 - Expected a molecule with conformers information.\n"
     ]
    },
    {
     "data": {
      "text/plain": [
       "True"
      ]
     },
     "execution_count": 7,
     "metadata": {},
     "output_type": "execute_result"
    }
   ],
   "source": [
    "# we expect and error on molecules without conformer\n",
    "check_value_error(cats3d_calc, mol2d)"
   ]
  },
  {
   "cell_type": "code",
   "execution_count": 8,
   "metadata": {},
   "outputs": [
    {
     "data": {
      "text/plain": [
       "array([0., 0., 0., ..., 0., 0., 0.])"
      ]
     },
     "execution_count": 8,
     "metadata": {},
     "output_type": "execute_result"
    }
   ],
   "source": [
    "# should work if we compute the conformer\n",
    "cats3d_calc(mol3d)"
   ]
  },
  {
   "cell_type": "markdown",
   "metadata": {},
   "source": [
    "#### RDKit molecule descriptors"
   ]
  },
  {
   "cell_type": "code",
   "execution_count": 9,
   "metadata": {},
   "outputs": [
    {
     "data": {
      "text/plain": [
       "array([ 6.82415895, -1.37469136,  6.82415895, ...,  0.        ,\n",
       "        0.        ,  3.        ])"
      ]
     },
     "execution_count": 9,
     "metadata": {},
     "output_type": "execute_result"
    }
   ],
   "source": [
    "rdkit_desc = RDKitDescriptors2D(replace_nan=False, augment=True)\n",
    "rdkit_desc(mol2d)"
   ]
  },
  {
   "cell_type": "code",
   "execution_count": 10,
   "metadata": {},
   "outputs": [],
   "source": [
    "rdkit3d_desc = RDKitDescriptors3D(replace_nan=False)\n",
    "# check that we get different vector for different conformers\n",
    "conf1_out = rdkit3d_desc(mol3d, conformer_id=2)\n",
    "conf_out = rdkit3d_desc(mol3d, conformer_id=-1)\n",
    "assert np.any(conf1_out != conf_out)"
   ]
  },
  {
   "cell_type": "code",
   "execution_count": 11,
   "metadata": {},
   "outputs": [
    {
     "name": "stdout",
     "output_type": "stream",
     "text": [
      "['CalcAsphericity', 'CalcEccentricity', 'CalcInertialShapeFactor', 'CalcNPR1', 'CalcNPR2', 'CalcPMI1', 'CalcPMI2', 'CalcPMI3', 'CalcRadiusOfGyration', 'CalcSpherocityIndex']\n"
     ]
    }
   ],
   "source": [
    "# show the name of the descriptors\n",
    "# Most calculators have the columns attributes\n",
    "print(rdkit3d_desc.columns[:10])"
   ]
  },
  {
   "cell_type": "markdown",
   "metadata": {},
   "source": [
    "#### Mordred descriptors\n",
    "\n",
    "Mordred descriptors can results in nan values. The default behaviour is to keep the nan values as is. If you do no plan to perform imputation, specify `replace_nan=True`. "
   ]
  },
  {
   "cell_type": "code",
   "execution_count": 12,
   "metadata": {},
   "outputs": [
    {
     "name": "stdout",
     "output_type": "stream",
     "text": [
      "2D only 1613 2D+3D 1826\n"
     ]
    }
   ],
   "source": [
    "mrd_desc = MordredDescriptors(ignore_3D=True, replace_nan=True)\n",
    "mrd3d_desc = MordredDescriptors(ignore_3D=False, replace_nan=False)\n",
    "print(\"2D only\", len(mrd_desc), \"2D+3D\", len(mrd3d_desc))"
   ]
  },
  {
   "cell_type": "code",
   "execution_count": 13,
   "metadata": {},
   "outputs": [
    {
     "data": {
      "text/plain": [
       "True"
      ]
     },
     "execution_count": 13,
     "metadata": {},
     "output_type": "execute_result"
    }
   ],
   "source": [
    "# 2D descriptors should not differentiate between presence of conformers\n",
    "np.all(mrd_desc(mol2d) == mrd_desc(mol3d))"
   ]
  },
  {
   "cell_type": "code",
   "execution_count": 14,
   "metadata": {},
   "outputs": [],
   "source": [
    "# we expect to have more nan values on the mol2d with 3D descriptors\n",
    "assert np.isnan(mrd3d_desc(mol2d)).sum() >= np.isnan(mrd3d_desc(mol3d)).sum()"
   ]
  },
  {
   "cell_type": "markdown",
   "metadata": {},
   "source": [
    "#### Fingerprints "
   ]
  },
  {
   "cell_type": "code",
   "execution_count": 15,
   "metadata": {},
   "outputs": [
    {
     "data": {
      "text/plain": [
       "array([0, 0, 0, ..., 1, 1, 0], dtype=uint8)"
      ]
     },
     "execution_count": 15,
     "metadata": {},
     "output_type": "execute_result"
    }
   ],
   "source": [
    "maccs_calc = FPCalculator(\"maccs\")\n",
    "maccs_calc(mol2d)"
   ]
  },
  {
   "cell_type": "code",
   "execution_count": 16,
   "metadata": {},
   "outputs": [
    {
     "data": {
      "text/plain": [
       "33"
      ]
     },
     "execution_count": 16,
     "metadata": {},
     "output_type": "execute_result"
    }
   ],
   "source": [
    "secfp_cal = FPCalculator(\"secfp\", length=1024)\n",
    "# check that we have activated bits\n",
    "np.sum(secfp_cal(mol2d))"
   ]
  },
  {
   "cell_type": "code",
   "execution_count": 17,
   "metadata": {},
   "outputs": [
    {
     "name": "stdout",
     "output_type": "stream",
     "text": [
      "1024\n"
     ]
    }
   ],
   "source": [
    "# check the fingerprinter length\n",
    "print(len(secfp_cal))"
   ]
  },
  {
   "cell_type": "code",
   "execution_count": 18,
   "metadata": {},
   "outputs": [
    {
     "data": {
      "text/plain": [
       "array([0, 0, 0, ..., 1, 0, 0])"
      ]
     },
     "execution_count": 18,
     "metadata": {},
     "output_type": "execute_result"
    }
   ],
   "source": [
    "# count vector are folded to the desired length\n",
    "morgan_count_calc = FPCalculator(\n",
    "    \"ecfp-count\", length=256, radius=3, useChirality=True, includeRedundantEnvironments=True\n",
    ")\n",
    "val = morgan_count_calc(mol2d)\n",
    "val"
   ]
  },
  {
   "cell_type": "code",
   "execution_count": 19,
   "metadata": {},
   "outputs": [
    {
     "data": {
      "text/plain": [
       "True"
      ]
     },
     "execution_count": 19,
     "metadata": {},
     "output_type": "execute_result"
    }
   ],
   "source": [
    "# checking that changing the parameters does change the fingerprint\n",
    "morgan_count_calc2 = FPCalculator(\"ecfp-count\", length=256, radius=2)\n",
    "np.any(morgan_count_calc2(mol2d) != val)"
   ]
  },
  {
   "cell_type": "code",
   "execution_count": 20,
   "metadata": {},
   "outputs": [
    {
     "data": {
      "text/plain": [
       "138"
      ]
     },
     "execution_count": 20,
     "metadata": {},
     "output_type": "execute_result"
    }
   ],
   "source": [
    "# checking that we can return the original vector type\n",
    "rdkit_calc = FPCalculator(\"rdkit-count\", length=512)\n",
    "np.asarray(list(rdkit_calc(mol2d, raw=False))).max()"
   ]
  },
  {
   "cell_type": "markdown",
   "metadata": {},
   "source": [
    "#### 2D Pharmacophores"
   ]
  },
  {
   "cell_type": "code",
   "execution_count": 21,
   "metadata": {},
   "outputs": [
    {
     "name": "stdout",
     "output_type": "stream",
     "text": [
      "19355\n"
     ]
    }
   ],
   "source": [
    "pharm_calc = Pharmacophore(factory=\"pmapper\")\n",
    "print(len(pharm_calc))"
   ]
  },
  {
   "cell_type": "code",
   "execution_count": 22,
   "metadata": {},
   "outputs": [
    {
     "name": "stdout",
     "output_type": "stream",
     "text": [
      "1024\n"
     ]
    }
   ],
   "source": [
    "# check case where we provide a max length\n",
    "pharm_calc_1024 = Pharmacophore(factory=\"pmapper\", max_length=1024, useCounts=True)\n",
    "print(len(pharm_calc_1024))"
   ]
  },
  {
   "cell_type": "code",
   "execution_count": 23,
   "metadata": {},
   "outputs": [
    {
     "name": "stdout",
     "output_type": "stream",
     "text": [
      "(array([  14,   15,   16, ...,  995, 1016, 1018]),)\n"
     ]
    }
   ],
   "source": [
    "# check the folding into 1024 bits and count info used\n",
    "arr = pharm_calc_1024(mol2d)\n",
    "print(arr.nonzero())"
   ]
  },
  {
   "cell_type": "code",
   "execution_count": 24,
   "metadata": {},
   "outputs": [
    {
     "name": "stdout",
     "output_type": "stream",
     "text": [
      "(array([   14,    15,    16, ..., 12600, 12601, 12608]),)\n"
     ]
    }
   ],
   "source": [
    "arr = pharm_calc(mol2d)\n",
    "print(arr.nonzero())"
   ]
  },
  {
   "cell_type": "markdown",
   "metadata": {},
   "source": [
    "#### 3D Pharmacophores aka PMapper3D"
   ]
  },
  {
   "cell_type": "code",
   "execution_count": 25,
   "metadata": {},
   "outputs": [],
   "source": [
    "pmap_calc = PMapper3D(min_features=2, max_features=3, length=512, tol=5, use_modulo=False)"
   ]
  },
  {
   "cell_type": "code",
   "execution_count": 26,
   "metadata": {},
   "outputs": [
    {
     "name": "stderr",
     "output_type": "stream",
     "text": [
      "2021-07-16 17:54:08.550 | ERROR    | __main__:check_value_error:18 - Expected a molecule with conformers information.\n"
     ]
    },
    {
     "data": {
      "text/plain": [
       "True"
      ]
     },
     "execution_count": 26,
     "metadata": {},
     "output_type": "execute_result"
    }
   ],
   "source": [
    "# Expect error here\n",
    "check_value_error(pmap_calc, mol2d)"
   ]
  },
  {
   "cell_type": "code",
   "execution_count": 27,
   "metadata": {},
   "outputs": [
    {
     "name": "stdout",
     "output_type": "stream",
     "text": [
      "(array([ 16,  24,  32, ..., 482, 483, 492]),)\n"
     ]
    }
   ],
   "source": [
    "val = pmap_calc(mol3d, conformer_id=0)\n",
    "print(val.nonzero())"
   ]
  },
  {
   "cell_type": "code",
   "execution_count": 28,
   "metadata": {},
   "outputs": [],
   "source": [
    "## check that the new fingerprint is the same as the original pmapper get_fp\n",
    "from pmapper.pharmacophore import Pharmacophore as P\n",
    "\n",
    "p = P()\n",
    "p.load_from_mol(mol3d)\n",
    "# generate 3D pharmacophore fingerprint which takes into account stereoconfiguration\n",
    "b = p.get_fp(min_features=2, max_features=3, tol=5, nbits=512)  # set of activated bits\n",
    "assert set(val.nonzero()[0]) == b"
   ]
  },
  {
   "cell_type": "markdown",
   "metadata": {},
   "source": [
    "#### Scaffold keys"
   ]
  },
  {
   "cell_type": "code",
   "execution_count": 29,
   "metadata": {},
   "outputs": [
    {
     "data": {
      "text/plain": [
       "array([13,  0, 23, ...,  0,  0,  0])"
      ]
     },
     "execution_count": 29,
     "metadata": {},
     "output_type": "execute_result"
    }
   ],
   "source": [
    "skey = ScaffoldKeyCalculator()\n",
    "skey(mol2d)"
   ]
  },
  {
   "cell_type": "markdown",
   "metadata": {},
   "source": [
    "#### Test `get_calculator`"
   ]
  },
  {
   "cell_type": "code",
   "execution_count": 30,
   "metadata": {},
   "outputs": [
    {
     "data": {
      "text/plain": [
       "array([0., 0., 0., ..., 0., 0., 0.])"
      ]
     },
     "execution_count": 30,
     "metadata": {},
     "output_type": "execute_result"
    }
   ],
   "source": [
    "calc = get_calculator(\"pmapper\", min_features=1)\n",
    "calc(mol3d)"
   ]
  }
 ],
 "metadata": {
  "interpreter": {
   "hash": "4c96cf3fad8b1d12df3e2b8c5ffc5fe9bd56815b225365ae05bb8eb0616dbb51"
  },
  "kernelspec": {
   "display_name": "Python 3.7.10 64-bit (conda)",
   "name": "python3"
  },
  "language_info": {
   "codemirror_mode": {
    "name": "ipython",
    "version": 3
   },
   "file_extension": ".py",
   "mimetype": "text/x-python",
   "name": "python",
   "nbconvert_exporter": "python",
   "pygments_lexer": "ipython3",
   "version": "3.7.10"
  }
 },
 "nbformat": 4,
 "nbformat_minor": 4
}
