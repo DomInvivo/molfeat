{
 "cells": [
  {
   "cell_type": "markdown",
   "source": [
    "All featurizers in Molfeat inherit from at least one of three classes:\n",
    "1. `molfeat.calc.SerializableCalculator`: A calculator is a Callable that featurizes a single molecule.\n",
    "2. `molfeat.trans.MoleculeTransformer`: A transformer is a class that wraps a calculator in a featurization pipeline.\n",
    "3. `molfeat.trans."
   ],
   "metadata": {
    "collapsed": false
   }
  },
  {
   "cell_type": "code",
   "execution_count": null,
   "metadata": {
    "collapsed": true
   },
   "outputs": [],
   "source": []
  }
 ],
 "metadata": {
  "kernelspec": {
   "display_name": "Python 3",
   "language": "python",
   "name": "python3"
  },
  "language_info": {
   "codemirror_mode": {
    "name": "ipython",
    "version": 2
   },
   "file_extension": ".py",
   "mimetype": "text/x-python",
   "name": "python",
   "nbconvert_exporter": "python",
   "pygments_lexer": "ipython2",
   "version": "2.7.6"
  }
 },
 "nbformat": 4,
 "nbformat_minor": 0
}
